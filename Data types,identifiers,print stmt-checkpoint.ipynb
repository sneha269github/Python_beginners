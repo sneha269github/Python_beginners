{
 "cells": [
  {
   "cell_type": "markdown",
   "id": "1858840c-8486-4021-9990-1391b1a9a470",
   "metadata": {},
   "source": [
    "# Data Types\n",
    "- int : no. without decimal point.\n",
    "- float : no. with decimal point.\n",
    "- str : text enclosed in ' ', \" \", ''' '''. (single,double or triple quotes).\n",
    "- complex : real part+imaginary part.\n",
    "- bool : True or False."
   ]
  },
  {
   "cell_type": "code",
   "execution_count": 48,
   "id": "92c0b7b7-0114-4bf3-9e50-55125c8edd26",
   "metadata": {},
   "outputs": [],
   "source": [
    "import sys\n",
    "import keyword\n",
    "import operator\n",
    "from datetime import datetime\n",
    "import os"
   ]
  },
  {
   "cell_type": "markdown",
   "id": "db9adf6a-3541-4cd1-8b1f-d7b796112cf0",
   "metadata": {},
   "source": [
    "# int :"
   ]
  },
  {
   "cell_type": "code",
   "execution_count": 51,
   "id": "8a555eb3-2959-4d82-ba2f-d3f987cd5b94",
   "metadata": {},
   "outputs": [
    {
     "data": {
      "text/plain": [
       "4"
      ]
     },
     "execution_count": 51,
     "metadata": {},
     "output_type": "execute_result"
    }
   ],
   "source": [
    "i=4\n",
    "i"
   ]
  },
  {
   "cell_type": "code",
   "execution_count": 53,
   "id": "6595a571-72ad-468b-ac20-c5760c1c565d",
   "metadata": {},
   "outputs": [
    {
     "name": "stdout",
     "output_type": "stream",
     "text": [
      "<class 'int'>\n"
     ]
    }
   ],
   "source": [
    "print(type(i))"
   ]
  },
  {
   "cell_type": "code",
   "execution_count": 55,
   "id": "688733c7-74a4-4e60-9cfa-9caa3b5f4108",
   "metadata": {},
   "outputs": [
    {
     "name": "stdout",
     "output_type": "stream",
     "text": [
      "9\n",
      "<class 'int'>\n"
     ]
    }
   ],
   "source": [
    "x=9\n",
    "print(x)\n",
    "print(type(x))"
   ]
  },
  {
   "cell_type": "code",
   "execution_count": 117,
   "id": "227d9bb7-24b4-4171-bf2e-b0b54be7fbb3",
   "metadata": {},
   "outputs": [
    {
     "name": "stdout",
     "output_type": "stream",
     "text": [
      "10\n",
      "<class 'int'>\n",
      "28\n",
      "10  is Integer? True\n"
     ]
    }
   ],
   "source": [
    "val1=10\n",
    "print(val1)\n",
    "print(type(val1))     #prints type of variable\n",
    "print(sys.getsizeof(val1))    #size of int in bytes  \n",
    "print(val1, \" is Integer?\", isinstance(val1,int))  #checks val1 is instance of int"
   ]
  },
  {
   "cell_type": "code",
   "execution_count": 63,
   "id": "087a47b1-494a-4de1-89bb-b5a94629cb7a",
   "metadata": {},
   "outputs": [
    {
     "data": {
      "text/plain": [
       "28"
      ]
     },
     "execution_count": 63,
     "metadata": {},
     "output_type": "execute_result"
    }
   ],
   "source": [
    "sys.getsizeof(int())"
   ]
  },
  {
   "cell_type": "markdown",
   "id": "68a4f93d-e1aa-4c36-b223-39b9cfc9d51b",
   "metadata": {},
   "source": [
    "# float"
   ]
  },
  {
   "cell_type": "code",
   "execution_count": 12,
   "id": "b44eda86-b88b-48e8-acd4-eccbbe6905cc",
   "metadata": {},
   "outputs": [
    {
     "name": "stdout",
     "output_type": "stream",
     "text": [
      "110.78\n",
      "<class 'float'>\n"
     ]
    }
   ],
   "source": [
    "f=110.78\n",
    "print(f)\n",
    "print(type(f))"
   ]
  },
  {
   "cell_type": "code",
   "execution_count": 8,
   "id": "5175d211-f7b3-457f-92aa-b052f51c9360",
   "metadata": {},
   "outputs": [
    {
     "data": {
      "text/plain": [
       "3.0"
      ]
     },
     "execution_count": 8,
     "metadata": {},
     "output_type": "execute_result"
    }
   ],
   "source": [
    "f1=3e0    #Here, e is exponential.\n",
    "f1"
   ]
  },
  {
   "cell_type": "code",
   "execution_count": 16,
   "id": "2d3cb32a-803f-4b9e-81a1-647705ec5642",
   "metadata": {},
   "outputs": [
    {
     "data": {
      "text/plain": [
       "30.0"
      ]
     },
     "execution_count": 16,
     "metadata": {},
     "output_type": "execute_result"
    }
   ],
   "source": [
    "f2=3e1\n",
    "f2"
   ]
  },
  {
   "cell_type": "code",
   "execution_count": 18,
   "id": "901d30d4-284d-4f07-be45-0efed30ff7a8",
   "metadata": {},
   "outputs": [
    {
     "data": {
      "text/plain": [
       "2300.0"
      ]
     },
     "execution_count": 18,
     "metadata": {},
     "output_type": "execute_result"
    }
   ],
   "source": [
    "f3=2.3e3\n",
    "f3"
   ]
  },
  {
   "cell_type": "code",
   "execution_count": 59,
   "id": "032ce49e-b471-471c-880e-13a21ef07f6f",
   "metadata": {},
   "outputs": [
    {
     "name": "stdout",
     "output_type": "stream",
     "text": [
      "89.45\n",
      "<class 'float'>\n",
      "24\n",
      "89.45  is float? True\n"
     ]
    }
   ],
   "source": [
    "val1=89.45\n",
    "print(val1)\n",
    "print(type(val1))\n",
    "print(sys.getsizeof(val1))\n",
    "print(val1, \" is float?\", isinstance(val1,float))"
   ]
  },
  {
   "cell_type": "code",
   "execution_count": 65,
   "id": "0a4f3ea9-7c8b-4aa1-879e-ed32a5adbb2d",
   "metadata": {},
   "outputs": [
    {
     "data": {
      "text/plain": [
       "24"
      ]
     },
     "execution_count": 65,
     "metadata": {},
     "output_type": "execute_result"
    }
   ],
   "source": [
    "sys.getsizeof(float())"
   ]
  },
  {
   "cell_type": "markdown",
   "id": "41320a68-01a2-4264-b07a-ac83644c2824",
   "metadata": {},
   "source": [
    "# Boolean"
   ]
  },
  {
   "cell_type": "code",
   "execution_count": 26,
   "id": "05cc76e9-6760-4231-9e21-381fae6ee080",
   "metadata": {},
   "outputs": [
    {
     "data": {
      "text/plain": [
       "True"
      ]
     },
     "execution_count": 26,
     "metadata": {},
     "output_type": "execute_result"
    }
   ],
   "source": [
    "True  "
   ]
  },
  {
   "cell_type": "code",
   "execution_count": 12,
   "id": "6074faa0-5c3d-4242-9c5a-4aadf9d4fdc6",
   "metadata": {},
   "outputs": [
    {
     "data": {
      "text/plain": [
       "False"
      ]
     },
     "execution_count": 12,
     "metadata": {},
     "output_type": "execute_result"
    }
   ],
   "source": [
    "False"
   ]
  },
  {
   "cell_type": "code",
   "execution_count": 121,
   "id": "45aebe25-8eff-4a5f-9075-c2261a6d5250",
   "metadata": {},
   "outputs": [
    {
     "data": {
      "text/plain": [
       "1"
      ]
     },
     "execution_count": 121,
     "metadata": {},
     "output_type": "execute_result"
    }
   ],
   "source": [
    "True+False  #True : 1 False : 0"
   ]
  },
  {
   "cell_type": "code",
   "execution_count": 36,
   "id": "c3965090-3c39-416a-9e96-61cbb5c352e3",
   "metadata": {},
   "outputs": [
    {
     "data": {
      "text/plain": [
       "2"
      ]
     },
     "execution_count": 36,
     "metadata": {},
     "output_type": "execute_result"
    }
   ],
   "source": [
    "True+True"
   ]
  },
  {
   "cell_type": "code",
   "execution_count": 38,
   "id": "45617c7d-6d16-48d6-834b-23d7866ac692",
   "metadata": {},
   "outputs": [
    {
     "data": {
      "text/plain": [
       "1"
      ]
     },
     "execution_count": 38,
     "metadata": {},
     "output_type": "execute_result"
    }
   ],
   "source": [
    "True+False*True-False"
   ]
  },
  {
   "cell_type": "code",
   "execution_count": 40,
   "id": "316bac56-b2c0-444b-ae31-c01734b46da5",
   "metadata": {},
   "outputs": [
    {
     "data": {
      "text/plain": [
       "1"
      ]
     },
     "execution_count": 40,
     "metadata": {},
     "output_type": "execute_result"
    }
   ],
   "source": [
    "True+(False*True)-False"
   ]
  },
  {
   "cell_type": "code",
   "execution_count": 44,
   "id": "eb8cd217-1d1f-4089-b18e-97f9deb950b9",
   "metadata": {},
   "outputs": [
    {
     "data": {
      "text/plain": [
       "0"
      ]
     },
     "execution_count": 44,
     "metadata": {},
     "output_type": "execute_result"
    }
   ],
   "source": [
    "b=True+(False*True)-True\n",
    "b"
   ]
  },
  {
   "cell_type": "code",
   "execution_count": 19,
   "id": "22e9cc6c-ac18-4376-9a0b-95777c7adfb2",
   "metadata": {},
   "outputs": [],
   "source": [
    "bool1=True"
   ]
  },
  {
   "cell_type": "code",
   "execution_count": 21,
   "id": "e1952d5f-bfe4-44c1-ac0a-bebe99ea88d4",
   "metadata": {},
   "outputs": [],
   "source": [
    "bool2=False"
   ]
  },
  {
   "cell_type": "code",
   "execution_count": 123,
   "id": "040b9904-26e7-4cf8-950e-4932eef84c8c",
   "metadata": {},
   "outputs": [
    {
     "name": "stdout",
     "output_type": "stream",
     "text": [
      "<class 'bool'>\n"
     ]
    }
   ],
   "source": [
    "print(type(bool1))"
   ]
  },
  {
   "cell_type": "code",
   "execution_count": 125,
   "id": "799f90f2-679d-4c2c-aa1e-a3a71fa2a5d9",
   "metadata": {},
   "outputs": [
    {
     "name": "stdout",
     "output_type": "stream",
     "text": [
      "<class 'bool'>\n"
     ]
    }
   ],
   "source": [
    "print(type(bool2))"
   ]
  },
  {
   "cell_type": "code",
   "execution_count": 127,
   "id": "a39fcdf8-2c41-41c6-938a-da69521ec815",
   "metadata": {},
   "outputs": [
    {
     "data": {
      "text/plain": [
       "True"
      ]
     },
     "execution_count": 127,
     "metadata": {},
     "output_type": "execute_result"
    }
   ],
   "source": [
    "isinstance(bool1,bool)"
   ]
  },
  {
   "cell_type": "code",
   "execution_count": 129,
   "id": "9839caa1-b351-47ce-8cd2-f4c7422d1316",
   "metadata": {},
   "outputs": [
    {
     "data": {
      "text/plain": [
       "False"
      ]
     },
     "execution_count": 129,
     "metadata": {},
     "output_type": "execute_result"
    }
   ],
   "source": [
    "bool(0)"
   ]
  },
  {
   "cell_type": "code",
   "execution_count": 131,
   "id": "adc67445-863f-431c-8548-3c4e1c24c61c",
   "metadata": {},
   "outputs": [
    {
     "data": {
      "text/plain": [
       "True"
      ]
     },
     "execution_count": 131,
     "metadata": {},
     "output_type": "execute_result"
    }
   ],
   "source": [
    "bool(1)"
   ]
  },
  {
   "cell_type": "code",
   "execution_count": 133,
   "id": "6d754f17-e835-49f0-9ed3-e1b94ce8724e",
   "metadata": {},
   "outputs": [
    {
     "data": {
      "text/plain": [
       "False"
      ]
     },
     "execution_count": 133,
     "metadata": {},
     "output_type": "execute_result"
    }
   ],
   "source": [
    "bool(None)"
   ]
  },
  {
   "cell_type": "code",
   "execution_count": 135,
   "id": "c6faa03a-844b-4b81-be94-5a5f665fb836",
   "metadata": {},
   "outputs": [
    {
     "data": {
      "text/plain": [
       "False"
      ]
     },
     "execution_count": 135,
     "metadata": {},
     "output_type": "execute_result"
    }
   ],
   "source": [
    "bool(False)"
   ]
  },
  {
   "cell_type": "markdown",
   "id": "71271018-b3c9-474b-bc23-ed93c4348bc1",
   "metadata": {},
   "source": [
    "# complex"
   ]
  },
  {
   "cell_type": "code",
   "execution_count": 9,
   "id": "59292666-c064-4667-9836-b28020b59f5c",
   "metadata": {},
   "outputs": [
    {
     "data": {
      "text/plain": [
       "(10+20j)"
      ]
     },
     "execution_count": 9,
     "metadata": {},
     "output_type": "execute_result"
    }
   ],
   "source": [
    "c=10+20j\n",
    "c"
   ]
  },
  {
   "cell_type": "code",
   "execution_count": 11,
   "id": "34f49496-9ebc-4ac2-9aae-5e3025986bf0",
   "metadata": {},
   "outputs": [
    {
     "data": {
      "text/plain": [
       "complex"
      ]
     },
     "execution_count": 11,
     "metadata": {},
     "output_type": "execute_result"
    }
   ],
   "source": [
    "type(c)"
   ]
  },
  {
   "cell_type": "code",
   "execution_count": 13,
   "id": "8503718e-5cf7-45ab-a3a0-03aafa78d34a",
   "metadata": {},
   "outputs": [
    {
     "data": {
      "text/plain": [
       "(30+40j)"
      ]
     },
     "execution_count": 13,
     "metadata": {},
     "output_type": "execute_result"
    }
   ],
   "source": [
    "d=30+40j\n",
    "d"
   ]
  },
  {
   "cell_type": "code",
   "execution_count": 15,
   "id": "f3b65b90-ba92-4540-9c93-8095e0dfb4f7",
   "metadata": {},
   "outputs": [
    {
     "data": {
      "text/plain": [
       "complex"
      ]
     },
     "execution_count": 15,
     "metadata": {},
     "output_type": "execute_result"
    }
   ],
   "source": [
    "type(d)"
   ]
  },
  {
   "cell_type": "code",
   "execution_count": 17,
   "id": "040f1b95-1a5c-4f2d-a85f-6ee49bfb4917",
   "metadata": {},
   "outputs": [
    {
     "name": "stdout",
     "output_type": "stream",
     "text": [
      "(10+20j)\n",
      "(30+40j)\n"
     ]
    }
   ],
   "source": [
    "print(c)\n",
    "print(d)"
   ]
  },
  {
   "cell_type": "code",
   "execution_count": 56,
   "id": "a776c8c5-7d34-4c36-baff-eac98f3d062f",
   "metadata": {},
   "outputs": [
    {
     "data": {
      "text/plain": [
       "(40+60j)"
      ]
     },
     "execution_count": 56,
     "metadata": {},
     "output_type": "execute_result"
    }
   ],
   "source": [
    "c+d"
   ]
  },
  {
   "cell_type": "code",
   "execution_count": 58,
   "id": "1fd76207-3010-4bdf-beeb-59c1778a0404",
   "metadata": {},
   "outputs": [
    {
     "data": {
      "text/plain": [
       "(-20-20j)"
      ]
     },
     "execution_count": 58,
     "metadata": {},
     "output_type": "execute_result"
    }
   ],
   "source": [
    "c-d"
   ]
  },
  {
   "cell_type": "code",
   "execution_count": 62,
   "id": "d05f5ba8-ce85-4def-ba9a-1c938ff10e6f",
   "metadata": {},
   "outputs": [
    {
     "data": {
      "text/plain": [
       "10.0"
      ]
     },
     "execution_count": 62,
     "metadata": {},
     "output_type": "execute_result"
    }
   ],
   "source": [
    "c.real"
   ]
  },
  {
   "cell_type": "code",
   "execution_count": 66,
   "id": "e04b94a8-cac8-4a06-b0a6-f5ffbc44e141",
   "metadata": {},
   "outputs": [
    {
     "data": {
      "text/plain": [
       "20.0"
      ]
     },
     "execution_count": 66,
     "metadata": {},
     "output_type": "execute_result"
    }
   ],
   "source": [
    "c.imag"
   ]
  },
  {
   "cell_type": "code",
   "execution_count": 61,
   "id": "4bdbc6f3-e6d8-48b4-b84e-cd39f3d9fc83",
   "metadata": {},
   "outputs": [
    {
     "name": "stdout",
     "output_type": "stream",
     "text": [
      "(23+5j)\n",
      "<class 'complex'>\n",
      "32\n",
      "(23+5j)  is complex? True\n"
     ]
    }
   ],
   "source": [
    "val1=23+5j\n",
    "print(val1)\n",
    "print(type(val1))\n",
    "print(sys.getsizeof(val1))\n",
    "print(val1, \" is complex?\", isinstance(val1,complex))"
   ]
  },
  {
   "cell_type": "code",
   "execution_count": 67,
   "id": "ce6d606e-64cc-438e-90ec-9e22edab5cfa",
   "metadata": {},
   "outputs": [
    {
     "data": {
      "text/plain": [
       "32"
      ]
     },
     "execution_count": 67,
     "metadata": {},
     "output_type": "execute_result"
    }
   ],
   "source": [
    "sys.getsizeof(complex())"
   ]
  },
  {
   "cell_type": "markdown",
   "id": "52fa3b6f-78f8-4912-aa36-490678423e6e",
   "metadata": {},
   "source": [
    "# String"
   ]
  },
  {
   "cell_type": "code",
   "execution_count": 30,
   "id": "09ce7443-de6c-4bab-8306-19296c99860e",
   "metadata": {},
   "outputs": [
    {
     "data": {
      "text/plain": [
       "'abc'"
      ]
     },
     "execution_count": 30,
     "metadata": {},
     "output_type": "execute_result"
    }
   ],
   "source": [
    "a='abc'    #using single quotes\n",
    "a"
   ]
  },
  {
   "cell_type": "code",
   "execution_count": 39,
   "id": "1a844f37-8381-4a3f-8bfb-9882ce62baa6",
   "metadata": {},
   "outputs": [
    {
     "data": {
      "text/plain": [
       "'abc'"
      ]
     },
     "execution_count": 39,
     "metadata": {},
     "output_type": "execute_result"
    }
   ],
   "source": [
    "a=\"abc\"     #using double quotes\n",
    "a"
   ]
  },
  {
   "cell_type": "code",
   "execution_count": 37,
   "id": "5e9ffcc5-5188-47e7-a56b-897a3290aea5",
   "metadata": {},
   "outputs": [
    {
     "data": {
      "text/plain": [
       "'abc'"
      ]
     },
     "execution_count": 37,
     "metadata": {},
     "output_type": "execute_result"
    }
   ],
   "source": [
    "a='''abc'''     #using triple quotes\n",
    "a"
   ]
  },
  {
   "cell_type": "code",
   "execution_count": 41,
   "id": "76e8fc02-d4b1-4ed9-b295-370c837e7abe",
   "metadata": {},
   "outputs": [
    {
     "name": "stdout",
     "output_type": "stream",
     "text": [
      "Hello Python\n"
     ]
    }
   ],
   "source": [
    "str1='Hello Python'\n",
    "print(str1)"
   ]
  },
  {
   "cell_type": "code",
   "execution_count": 43,
   "id": "5ca59b5e-6171-4464-9c5a-b6331bdd3b20",
   "metadata": {},
   "outputs": [
    {
     "name": "stdout",
     "output_type": "stream",
     "text": [
      "Hello Python\n"
     ]
    }
   ],
   "source": [
    "str=\"Hello Python\"\n",
    "print(str)"
   ]
  },
  {
   "cell_type": "code",
   "execution_count": 45,
   "id": "cab7ab47-120a-4aca-8415-6a01aecbc3f1",
   "metadata": {},
   "outputs": [
    {
     "name": "stdout",
     "output_type": "stream",
     "text": [
      "Hello\n",
      "        World\n"
     ]
    }
   ],
   "source": [
    "str='''Hello\n",
    "        World'''\n",
    "print(str)"
   ]
  },
  {
   "cell_type": "code",
   "execution_count": 47,
   "id": "77488407-b6f3-48b5-b036-a95fa8bf0a9b",
   "metadata": {},
   "outputs": [
    {
     "name": "stdout",
     "output_type": "stream",
     "text": [
      "Hello\n",
      "        World\n"
     ]
    }
   ],
   "source": [
    "str=\"\"\"Hello\n",
    "        World\"\"\"\n",
    "print(str)"
   ]
  },
  {
   "cell_type": "code",
   "execution_count": 49,
   "id": "82d953f7-7aaa-49cb-8fec-1249ecebe0f9",
   "metadata": {},
   "outputs": [
    {
     "name": "stdout",
     "output_type": "stream",
     "text": [
      "Happy Monday Everyone\n"
     ]
    }
   ],
   "source": [
    "str=('Happy '\n",
    "     'Monday '\n",
    "     'Everyone')\n",
    "print(str)"
   ]
  },
  {
   "cell_type": "code",
   "execution_count": 19,
   "id": "7e922761-ba72-4484-96cc-b778aa1753d2",
   "metadata": {},
   "outputs": [
    {
     "data": {
      "text/plain": [
       "'Hello Hello Hello Hello Hello '"
      ]
     },
     "execution_count": 19,
     "metadata": {},
     "output_type": "execute_result"
    }
   ],
   "source": [
    "str='Hello '       #printing single string for multiple times\n",
    "str=str*5\n",
    "str"
   ]
  },
  {
   "cell_type": "code",
   "execution_count": 32,
   "id": "ed8a98fd-5839-4b5f-bd7e-54fed3956699",
   "metadata": {},
   "outputs": [
    {
     "data": {
      "text/plain": [
       "30"
      ]
     },
     "execution_count": 32,
     "metadata": {},
     "output_type": "execute_result"
    }
   ],
   "source": [
    "len(str)     #calculating length of string"
   ]
  },
  {
   "cell_type": "markdown",
   "id": "f40fc551-19ed-45db-945d-94a16307e36f",
   "metadata": {},
   "source": [
    "# String indexing\n",
    "- Forward indexing\n",
    "- Backward indexing"
   ]
  },
  {
   "cell_type": "code",
   "execution_count": 39,
   "id": "5da33839-8da2-4009-8a45-c7571c096b28",
   "metadata": {},
   "outputs": [
    {
     "data": {
      "text/plain": [
       "'HELLO PYTHON'"
      ]
     },
     "execution_count": 39,
     "metadata": {},
     "output_type": "execute_result"
    }
   ],
   "source": [
    "str1='HELLO PYTHON'\n",
    "str1"
   ]
  },
  {
   "cell_type": "code",
   "execution_count": 41,
   "id": "5b5a2baa-12c1-48a7-8c45-220cf2578c54",
   "metadata": {},
   "outputs": [
    {
     "data": {
      "text/plain": [
       "'H'"
      ]
     },
     "execution_count": 41,
     "metadata": {},
     "output_type": "execute_result"
    }
   ],
   "source": [
    "str[0]   #1st character in string"
   ]
  },
  {
   "cell_type": "code",
   "execution_count": 47,
   "id": "809fdab1-5348-49fe-a37f-fac2f9358ece",
   "metadata": {},
   "outputs": [
    {
     "data": {
      "text/plain": [
       "'N'"
      ]
     },
     "execution_count": 47,
     "metadata": {},
     "output_type": "execute_result"
    }
   ],
   "source": [
    "str1[len(str1)-1]     #last character using len function"
   ]
  },
  {
   "cell_type": "code",
   "execution_count": 49,
   "id": "cd88516b-9543-4608-b5b6-f879ca1eae18",
   "metadata": {},
   "outputs": [
    {
     "data": {
      "text/plain": [
       "'N'"
      ]
     },
     "execution_count": 49,
     "metadata": {},
     "output_type": "execute_result"
    }
   ],
   "source": [
    "str1[-1]  #last character using backward indexing"
   ]
  },
  {
   "cell_type": "code",
   "execution_count": 51,
   "id": "db5a6c51-4dab-4d77-8777-1da76b8e4fb7",
   "metadata": {},
   "outputs": [
    {
     "data": {
      "text/plain": [
       "'P'"
      ]
     },
     "execution_count": 51,
     "metadata": {},
     "output_type": "execute_result"
    }
   ],
   "source": [
    "str1[6]    #7th character"
   ]
  },
  {
   "cell_type": "code",
   "execution_count": 66,
   "id": "f9d37e58-5d0e-477c-b21d-40c0409d8045",
   "metadata": {},
   "outputs": [
    {
     "data": {
      "text/plain": [
       "' '"
      ]
     },
     "execution_count": 66,
     "metadata": {},
     "output_type": "execute_result"
    }
   ],
   "source": [
    "str1[5]"
   ]
  },
  {
   "cell_type": "markdown",
   "id": "9eb7e21e-be0d-48ae-81b5-26b462d0103d",
   "metadata": {},
   "source": [
    "# String Slicing"
   ]
  },
  {
   "cell_type": "code",
   "execution_count": 58,
   "id": "c5d15ca3-b2a6-4eae-bffc-3360402b2a55",
   "metadata": {},
   "outputs": [
    {
     "data": {
      "text/plain": [
       "'HELLO'"
      ]
     },
     "execution_count": 58,
     "metadata": {},
     "output_type": "execute_result"
    }
   ],
   "source": [
    "str1[0:5]  #fetch all characters from 0 to 5index location"
   ]
  },
  {
   "cell_type": "code",
   "execution_count": 60,
   "id": "706c9b08-7dda-4566-bcac-41f841361a4a",
   "metadata": {},
   "outputs": [
    {
     "data": {
      "text/plain": [
       "'Hello '"
      ]
     },
     "execution_count": 60,
     "metadata": {},
     "output_type": "execute_result"
    }
   ],
   "source": [
    "str[6:12]  #bet^n 6 to 12"
   ]
  },
  {
   "cell_type": "code",
   "execution_count": 64,
   "id": "27fd0e98-be5a-45b5-b70d-9c8330d8f3f4",
   "metadata": {},
   "outputs": [
    {
     "data": {
      "text/plain": [
       "'THON'"
      ]
     },
     "execution_count": 64,
     "metadata": {},
     "output_type": "execute_result"
    }
   ],
   "source": [
    "str1[-4:]   #last 4 characters"
   ]
  },
  {
   "cell_type": "code",
   "execution_count": 66,
   "id": "ba9ff64e-872c-478a-9fb4-1f5dd07c42c7",
   "metadata": {},
   "outputs": [
    {
     "data": {
      "text/plain": [
       "'PYTHON'"
      ]
     },
     "execution_count": 66,
     "metadata": {},
     "output_type": "execute_result"
    }
   ],
   "source": [
    "str1[-6:]     #last 6 characters"
   ]
  },
  {
   "cell_type": "code",
   "execution_count": 68,
   "id": "9572aa78-fc6e-45da-b97f-731d573bca77",
   "metadata": {},
   "outputs": [
    {
     "data": {
      "text/plain": [
       "'HELL'"
      ]
     },
     "execution_count": 68,
     "metadata": {},
     "output_type": "execute_result"
    }
   ],
   "source": [
    "str1[:4]     #1st 4 characters"
   ]
  },
  {
   "cell_type": "code",
   "execution_count": 70,
   "id": "11885816-8789-465c-b4bd-26a60825086e",
   "metadata": {},
   "outputs": [
    {
     "data": {
      "text/plain": [
       "'HELLO '"
      ]
     },
     "execution_count": 70,
     "metadata": {},
     "output_type": "execute_result"
    }
   ],
   "source": [
    "str1[:6]     #1st 6 characters"
   ]
  },
  {
   "cell_type": "code",
   "execution_count": 72,
   "id": "99df6b0d-859c-455c-bf74-e739b8e49501",
   "metadata": {},
   "outputs": [
    {
     "data": {
      "text/plain": [
       "'HELLO PYTHON'"
      ]
     },
     "execution_count": 72,
     "metadata": {},
     "output_type": "execute_result"
    }
   ],
   "source": [
    "str1  "
   ]
  },
  {
   "cell_type": "code",
   "execution_count": 74,
   "id": "a434bb46-bc4b-41a2-9844-f4fd9120c339",
   "metadata": {},
   "outputs": [],
   "source": [
    "#Strings are immutable : a string cannot be changed once defined."
   ]
  },
  {
   "cell_type": "code",
   "execution_count": 76,
   "id": "f9ac2951-a6bf-4f03-ba58-e15e2fb2dba8",
   "metadata": {},
   "outputs": [],
   "source": [
    "del str1   #delete a string"
   ]
  },
  {
   "cell_type": "markdown",
   "id": "4b3690cc-f463-498e-8b7f-7efc7edcf61d",
   "metadata": {},
   "source": [
    "# String Concatenation"
   ]
  },
  {
   "cell_type": "code",
   "execution_count": 17,
   "id": "fe70fde1-c198-4209-bf1c-99fb5684947d",
   "metadata": {},
   "outputs": [
    {
     "name": "stdout",
     "output_type": "stream",
     "text": [
      "snehashinde\n"
     ]
    }
   ],
   "source": [
    "s1='sneha'\n",
    "s2='shinde'\n",
    "s3=s1+s2\n",
    "print(s3)"
   ]
  },
  {
   "cell_type": "markdown",
   "id": "3deeb427-c9f0-4ebe-9cc7-08e3378334fe",
   "metadata": {},
   "source": [
    "# print statement"
   ]
  },
  {
   "cell_type": "code",
   "execution_count": 86,
   "id": "85c98299-2f3b-4712-8fec-dedececd54e2",
   "metadata": {},
   "outputs": [
    {
     "data": {
      "text/plain": [
       "20"
      ]
     },
     "execution_count": 86,
     "metadata": {},
     "output_type": "execute_result"
    }
   ],
   "source": [
    "a=10\n",
    "b=20\n",
    "a\n",
    "b"
   ]
  },
  {
   "cell_type": "code",
   "execution_count": 88,
   "id": "8bfb292c-f0a4-43d9-bdda-caa50d01fd97",
   "metadata": {},
   "outputs": [
    {
     "name": "stdout",
     "output_type": "stream",
     "text": [
      "10\n",
      "20\n"
     ]
    }
   ],
   "source": [
    "a=10\n",
    "b=20\n",
    "print(a)\n",
    "print(b)"
   ]
  },
  {
   "cell_type": "code",
   "execution_count": 90,
   "id": "7bc71dc0-a9d5-4469-aacb-9c333acc8094",
   "metadata": {},
   "outputs": [
    {
     "name": "stdout",
     "output_type": "stream",
     "text": [
      "10\n",
      "10 20\n",
      "python\n",
      "10 20 python\n"
     ]
    }
   ],
   "source": [
    "print(10)\n",
    "print(10,20)\n",
    "print('python')\n",
    "print(10,20,'python')"
   ]
  },
  {
   "cell_type": "code",
   "execution_count": 92,
   "id": "f6f7fa84-507c-48bf-a6f6-feb243b68086",
   "metadata": {},
   "outputs": [
    {
     "name": "stdout",
     "output_type": "stream",
     "text": [
      "50\n"
     ]
    }
   ],
   "source": [
    "num1=20\n",
    "num2=30\n",
    "add=num1+num2\n",
    "print(add)"
   ]
  },
  {
   "cell_type": "markdown",
   "id": "aa3838e6-8990-4315-aed2-c28e4d606790",
   "metadata": {},
   "source": [
    "# print result with string"
   ]
  },
  {
   "cell_type": "code",
   "execution_count": 98,
   "id": "6e456b18-3a80-4f4a-beec-9a3862ea39a0",
   "metadata": {},
   "outputs": [
    {
     "name": "stdout",
     "output_type": "stream",
     "text": [
      "The addition of 20 and 30 is = 50\n"
     ]
    }
   ],
   "source": [
    "num1=20\n",
    "num2=30\n",
    "add=num1+num2\n",
    "print('The addition of',num1,'and',num2,'is =',add)"
   ]
  },
  {
   "cell_type": "code",
   "execution_count": 100,
   "id": "b09fa050-7c28-4dea-b06c-5c4ab8330a99",
   "metadata": {},
   "outputs": [
    {
     "name": "stdout",
     "output_type": "stream",
     "text": [
      "Hello! my name is python and i am 20 years old from hyd .\n"
     ]
    }
   ],
   "source": [
    "name='python'\n",
    "age=20\n",
    "city='hyd'\n",
    "print(\"Hello! my name is\", name, \"and i am\", age, \"years old from\",city,\".\")"
   ]
  },
  {
   "cell_type": "code",
   "execution_count": 104,
   "id": "88ca4402-af91-4242-9ee1-3607f4617cc8",
   "metadata": {},
   "outputs": [
    {
     "name": "stdout",
     "output_type": "stream",
     "text": [
      "The addition of 20 and 30 is = 50\n"
     ]
    }
   ],
   "source": [
    "num1=20\n",
    "num2=30\n",
    "add=num1+num2\n",
    "print('The addition of {} and {} is = {}'.format(num1,num2,add))"
   ]
  },
  {
   "cell_type": "markdown",
   "id": "e335406c-d7be-4b59-afd3-b2b066b5ea92",
   "metadata": {},
   "source": [
    "# 2nd method"
   ]
  },
  {
   "cell_type": "code",
   "execution_count": 108,
   "id": "4bcee29e-ff44-4c62-830e-8cda5e8d7a8e",
   "metadata": {},
   "outputs": [
    {
     "name": "stdout",
     "output_type": "stream",
     "text": [
      "The addition of 20 and 30 is 50.\n"
     ]
    }
   ],
   "source": [
    "num1=20\n",
    "num2=30\n",
    "add=num1+num2\n",
    "print(f'The addition of {num1} and {num2} is {add}.')"
   ]
  },
  {
   "cell_type": "markdown",
   "id": "fefa7b6f-ec65-4e2b-9d27-9fc93bcf1911",
   "metadata": {},
   "source": [
    "# end statement"
   ]
  },
  {
   "cell_type": "code",
   "execution_count": 112,
   "id": "5ac8f80f-d154-4bb4-b9f0-f5e7d54d3c75",
   "metadata": {},
   "outputs": [
    {
     "name": "stdout",
     "output_type": "stream",
     "text": [
      "hello\n",
      "good morning\n"
     ]
    }
   ],
   "source": [
    "print('hello')\n",
    "print('good morning')"
   ]
  },
  {
   "cell_type": "code",
   "execution_count": 114,
   "id": "66ec7ba4-f547-4471-be91-a34f690ef036",
   "metadata": {},
   "outputs": [
    {
     "name": "stdout",
     "output_type": "stream",
     "text": [
      "hello good morning\n"
     ]
    }
   ],
   "source": [
    "print('hello',end=' ')\n",
    "print('good morning')"
   ]
  },
  {
   "cell_type": "markdown",
   "id": "53d37cc3-ff54-419c-bd2c-16d778e2f870",
   "metadata": {},
   "source": [
    "# seprator"
   ]
  },
  {
   "cell_type": "code",
   "execution_count": 118,
   "id": "8c05844d-7691-4d5f-9f84-ff7872cc8c4c",
   "metadata": {},
   "outputs": [
    {
     "name": "stdout",
     "output_type": "stream",
     "text": [
      "hello--->hi--->how are you\n"
     ]
    }
   ],
   "source": [
    "print('hello','hi','how are you',sep='--->')"
   ]
  },
  {
   "cell_type": "code",
   "execution_count": 120,
   "id": "6f977725-198c-46f8-b90d-d348456ff58f",
   "metadata": {},
   "outputs": [
    {
     "name": "stdout",
     "output_type": "stream",
     "text": [
      "hello&hi&how are you\n"
     ]
    }
   ],
   "source": [
    "print('hello','hi','how are you',sep='&')"
   ]
  },
  {
   "cell_type": "markdown",
   "id": "7fe136ee-d455-40e1-866f-d4042e192d51",
   "metadata": {},
   "source": [
    "print('hello','hi','how are you',sep=' @ ')"
   ]
  },
  {
   "cell_type": "code",
   "execution_count": 124,
   "id": "8c0fc2d7-7335-4824-ba5b-8f789ca26e79",
   "metadata": {},
   "outputs": [
    {
     "name": "stdout",
     "output_type": "stream",
     "text": [
      "hello hi how are you\n"
     ]
    }
   ],
   "source": [
    "print('hello','hi','how are you',sep=' ' )"
   ]
  },
  {
   "cell_type": "code",
   "execution_count": 126,
   "id": "1ad852b8-8685-4757-a716-f22bc97244dc",
   "metadata": {},
   "outputs": [
    {
     "name": "stdout",
     "output_type": "stream",
     "text": [
      "3 .\n"
     ]
    }
   ],
   "source": [
    "print(3, '.')"
   ]
  },
  {
   "cell_type": "code",
   "execution_count": 128,
   "id": "bbb933ea-7bc9-4cc0-8253-e2c8c74b92b8",
   "metadata": {},
   "outputs": [
    {
     "name": "stdout",
     "output_type": "stream",
     "text": [
      "3.\n"
     ]
    }
   ],
   "source": [
    "print(3, '.',sep='')"
   ]
  },
  {
   "cell_type": "code",
   "execution_count": 130,
   "id": "b43abfe9-dd18-45a4-82be-bfb4f53b8f14",
   "metadata": {},
   "outputs": [
    {
     "name": "stdout",
     "output_type": "stream",
     "text": [
      "1 2 3.\n"
     ]
    }
   ],
   "source": [
    "print(1,2,end=' ')\n",
    "print(3,'.',sep='')"
   ]
  },
  {
   "cell_type": "markdown",
   "id": "4ff4ebba-34cb-4b70-b1f3-d99440f18054",
   "metadata": {},
   "source": [
    "# Identifiers\n",
    "- name given to any variable,class,module,object.\n"
   ]
  },
  {
   "cell_type": "markdown",
   "id": "c0e783b3-2bc0-4cd8-b768-2eddc1321680",
   "metadata": {},
   "source": [
    "# Rules for naming identifiers\n",
    "- Starts with a letter or underscore.\n",
    "- contains letters,digits & underscore(_) only.\n",
    "- cannot be a keyword.\n",
    "- cannot contain spaces.\n",
    "- case-sensitive."
   ]
  },
  {
   "cell_type": "code",
   "execution_count": 86,
   "id": "6af38898-8714-479c-ac7a-88765d2ea5f7",
   "metadata": {},
   "outputs": [],
   "source": [
    "# 1var=10  #can't start with a digit"
   ]
  },
  {
   "cell_type": "code",
   "execution_count": 88,
   "id": "6c9f6939-64e0-4a68-97a5-f0b999c94f38",
   "metadata": {},
   "outputs": [],
   "source": [
    "#val2@=35  #can't use special symbols"
   ]
  },
  {
   "cell_type": "code",
   "execution_count": 90,
   "id": "92fc3bc4-4188-4982-bf6e-92a0c392a6eb",
   "metadata": {},
   "outputs": [],
   "source": [
    "#import=125   #keywords can't be used as identifiers"
   ]
  },
  {
   "cell_type": "code",
   "execution_count": 94,
   "id": "576d5677-3e49-469d-bef5-def2579e4da6",
   "metadata": {},
   "outputs": [],
   "source": [
    "val_2=10    "
   ]
  },
  {
   "cell_type": "markdown",
   "id": "55b03709-54cc-4577-a7e6-f8a767a4ae78",
   "metadata": {},
   "source": [
    "# Comments"
   ]
  },
  {
   "cell_type": "code",
   "execution_count": 146,
   "id": "e89e52ef-80ef-4fa9-ac12-c6da729044e9",
   "metadata": {},
   "outputs": [],
   "source": [
    "#single line comment\n",
    "val1=10"
   ]
  },
  {
   "cell_type": "code",
   "execution_count": 150,
   "id": "5a7ab0f1-027f-48b5-9aae-6f3a5d971c5e",
   "metadata": {},
   "outputs": [],
   "source": [
    "#multiple\n",
    "#line\n",
    "#comment\n",
    "val1=10"
   ]
  },
  {
   "cell_type": "code",
   "execution_count": 152,
   "id": "435443db-b2a9-4a89-b460-7998748a6e95",
   "metadata": {},
   "outputs": [],
   "source": [
    "'''\n",
    "Multiple\n",
    "line\n",
    "comment\n",
    "'''\n",
    "val1=10"
   ]
  },
  {
   "cell_type": "code",
   "execution_count": 156,
   "id": "077a6946-4876-4e6a-a024-db77c4b77ec7",
   "metadata": {},
   "outputs": [],
   "source": [
    "\"\"\"\n",
    "multiple\n",
    "line \n",
    "comment\n",
    "\"\"\"\n",
    "val1=10"
   ]
  },
  {
   "cell_type": "markdown",
   "id": "4a3f63f3-c45d-4927-9778-debf1c73cbda",
   "metadata": {},
   "source": [
    "# Statements"
   ]
  },
  {
   "cell_type": "code",
   "execution_count": 161,
   "id": "d0089460-0219-4076-80f2-917107a4e5d6",
   "metadata": {},
   "outputs": [
    {
     "data": {
      "text/plain": [
       "(20, int, '0x7ff899163c18')"
      ]
     },
     "execution_count": 161,
     "metadata": {},
     "output_type": "execute_result"
    }
   ],
   "source": [
    "q,type(q),hex(id(q))"
   ]
  },
  {
   "cell_type": "code",
   "execution_count": 159,
   "id": "d2c96a9b-7870-42d2-85e8-a15a1a9bc58f",
   "metadata": {},
   "outputs": [
    {
     "data": {
      "text/plain": [
       "(20, int, '0x7ff899163c18')"
      ]
     },
     "execution_count": 159,
     "metadata": {},
     "output_type": "execute_result"
    }
   ],
   "source": [
    "p=20\n",
    "q=20\n",
    "r=q\n",
    "p,type(p),hex(id(p))"
   ]
  },
  {
   "cell_type": "code",
   "execution_count": 163,
   "id": "8d077f33-7a96-47d6-8e18-ad38b6483bb7",
   "metadata": {},
   "outputs": [
    {
     "data": {
      "text/plain": [
       "(20, int, '0x7ff899163c18')"
      ]
     },
     "execution_count": 163,
     "metadata": {},
     "output_type": "execute_result"
    }
   ],
   "source": [
    "r,type(r),hex(id(r))"
   ]
  },
  {
   "cell_type": "code",
   "execution_count": 165,
   "id": "f9a142ed-fdd5-491d-b7b8-6edb797434e2",
   "metadata": {},
   "outputs": [
    {
     "data": {
      "text/plain": [
       "30"
      ]
     },
     "execution_count": 165,
     "metadata": {},
     "output_type": "execute_result"
    }
   ],
   "source": [
    "p=20\n",
    "p=p+10\n",
    "p"
   ]
  },
  {
   "cell_type": "code",
   "execution_count": 167,
   "id": "f557369e-bb26-4f5c-9b0c-3f8ff0d58987",
   "metadata": {},
   "outputs": [
    {
     "name": "stdout",
     "output_type": "stream",
     "text": [
      "10\n",
      "2.57\n",
      "Python\n"
     ]
    }
   ],
   "source": [
    "intvar,floatvar,strvar=10,2.57,'Python'\n",
    "print(intvar)\n",
    "print(floatvar)\n",
    "print(strvar)"
   ]
  },
  {
   "cell_type": "code",
   "execution_count": 169,
   "id": "1b6905e3-3b68-42fb-a2fb-13cfc789357d",
   "metadata": {},
   "outputs": [
    {
     "name": "stdout",
     "output_type": "stream",
     "text": [
      "44 44 44 44\n"
     ]
    }
   ],
   "source": [
    "p1=p2=p3=p4=44\n",
    "print(p1,p2,p3,p4)"
   ]
  },
  {
   "cell_type": "markdown",
   "id": "aeb50fd2-c394-4cba-92e4-6aa113484fab",
   "metadata": {},
   "source": [
    "# Data Types\n",
    "- list : enclosed in square brackets[] seprated by commas [ , , , ]. \n",
    "- dict : enclosed in curly brackets{} seprated by commas {' ' : ' ' , ' ' : ' '}.\n",
    "- set  : enclosed in curly brackets seprated by commas { , , , }.\n",
    "- tuple : enclosed in curly brackets seprated by commas ( , , , ).\n",
    "  "
   ]
  },
  {
   "cell_type": "code",
   "execution_count": 11,
   "id": "3a8d743f-5846-457a-ae6e-67649985b326",
   "metadata": {},
   "outputs": [
    {
     "name": "stdout",
     "output_type": "stream",
     "text": [
      "<class 'list'>\n"
     ]
    }
   ],
   "source": [
    "print(type([1,2,3]))"
   ]
  },
  {
   "cell_type": "code",
   "execution_count": 13,
   "id": "161ab7ba-9c99-4c3a-89ec-411a09f4b842",
   "metadata": {},
   "outputs": [
    {
     "name": "stdout",
     "output_type": "stream",
     "text": [
      "<class 'dict'>\n"
     ]
    }
   ],
   "source": [
    "print(type({'name':'sneha'}))"
   ]
  },
  {
   "cell_type": "code",
   "execution_count": 15,
   "id": "f2ddc9fc-2f1f-4018-a7e2-3abbb641e2f8",
   "metadata": {},
   "outputs": [
    {
     "name": "stdout",
     "output_type": "stream",
     "text": [
      "<class 'set'>\n"
     ]
    }
   ],
   "source": [
    "print(type({9.8,3.14,2.7}))"
   ]
  },
  {
   "cell_type": "code",
   "execution_count": 19,
   "id": "1384eada-0e6e-4c2c-b9b6-93c4461ce33d",
   "metadata": {},
   "outputs": [
    {
     "name": "stdout",
     "output_type": "stream",
     "text": [
      "<class 'tuple'>\n"
     ]
    }
   ],
   "source": [
    "print(type((9.8,3.14,2.7)))"
   ]
  },
  {
   "cell_type": "code",
   "execution_count": 21,
   "id": "6d4896a6-f6a5-477c-aad4-44ead5ad6859",
   "metadata": {},
   "outputs": [
    {
     "name": "stdout",
     "output_type": "stream",
     "text": [
      "<class 'bool'>\n"
     ]
    }
   ],
   "source": [
    "print(type(3==3))"
   ]
  },
  {
   "cell_type": "code",
   "execution_count": 23,
   "id": "db07d9bb-7728-430c-95da-ce22fd524069",
   "metadata": {},
   "outputs": [
    {
     "name": "stdout",
     "output_type": "stream",
     "text": [
      "<class 'bool'>\n"
     ]
    }
   ],
   "source": [
    "print(type(3>=3))"
   ]
  },
  {
   "cell_type": "code",
   "execution_count": 25,
   "id": "aa177279-8bf6-4606-b740-441cf2a2e50c",
   "metadata": {},
   "outputs": [
    {
     "name": "stdout",
     "output_type": "stream",
     "text": [
      "sneha shinde\n"
     ]
    }
   ],
   "source": [
    "first_name='sneha'\n",
    "last_name='shinde'\n",
    "space=' '\n",
    "full_name=first_name+space+last_name\n",
    "print(full_name)"
   ]
  },
  {
   "cell_type": "markdown",
   "id": "a0dd0740-dce4-4b33-a092-9d098536d5cd",
   "metadata": {},
   "source": [
    "# calculating length of a string"
   ]
  },
  {
   "cell_type": "code",
   "execution_count": 27,
   "id": "86edebbe-9923-48e1-ba38-6652481e3928",
   "metadata": {},
   "outputs": [
    {
     "name": "stdout",
     "output_type": "stream",
     "text": [
      "12\n"
     ]
    }
   ],
   "source": [
    "print(len(full_name))"
   ]
  },
  {
   "cell_type": "code",
   "execution_count": 29,
   "id": "75c7efc4-5b22-4830-9cb5-695af3551966",
   "metadata": {},
   "outputs": [
    {
     "name": "stdout",
     "output_type": "stream",
     "text": [
      "6\n"
     ]
    }
   ],
   "source": [
    "print(len(last_name))"
   ]
  },
  {
   "cell_type": "code",
   "execution_count": 101,
   "id": "dbfdbd69-6f8f-4eb9-8474-c0b3277086b7",
   "metadata": {},
   "outputs": [
    {
     "name": "stdout",
     "output_type": "stream",
     "text": [
      "t\n"
     ]
    }
   ],
   "source": [
    "language='Python'\n",
    "a,b,c,d,e,f=language\n",
    "print(c)"
   ]
  },
  {
   "cell_type": "code",
   "execution_count": 103,
   "id": "be82fecb-f4cd-4e93-91c2-6f9989ab2c0a",
   "metadata": {},
   "outputs": [
    {
     "name": "stdout",
     "output_type": "stream",
     "text": [
      "n\n"
     ]
    }
   ],
   "source": [
    "print(f)"
   ]
  },
  {
   "cell_type": "code",
   "execution_count": 105,
   "id": "f574094d-93f2-4580-86cd-9c2ebdb47056",
   "metadata": {},
   "outputs": [
    {
     "name": "stdout",
     "output_type": "stream",
     "text": [
      "n\n"
     ]
    }
   ],
   "source": [
    "last_letter=language[-1]    #prints last letter of a string\n",
    "print(last_letter)"
   ]
  },
  {
   "cell_type": "code",
   "execution_count": 109,
   "id": "26ae8b18-9cde-4cb4-a737-0683c83f4c9e",
   "metadata": {},
   "outputs": [
    {
     "name": "stdout",
     "output_type": "stream",
     "text": [
      "hon\n"
     ]
    }
   ],
   "source": [
    "last_three=language[3:]   #prints last 3 characters of string\n",
    "print(last_three)"
   ]
  },
  {
   "cell_type": "code",
   "execution_count": 113,
   "id": "f6aec96c-956f-474e-967f-c0fb94c1f89d",
   "metadata": {},
   "outputs": [
    {
     "name": "stdout",
     "output_type": "stream",
     "text": [
      "Pto\n"
     ]
    }
   ],
   "source": [
    "x=language[0:6:2]    #start - 0 index i.e. 'P' end - 6th index i.e. 'n' and print with the gap of 2\n",
    "print(x)"
   ]
  },
  {
   "cell_type": "code",
   "execution_count": 45,
   "id": "fbcf59c3-9c0d-48f9-aa90-8e3ef60e53dc",
   "metadata": {},
   "outputs": [
    {
     "name": "stdout",
     "output_type": "stream",
     "text": [
      "I hope every one enjoying the python challenge.\n",
      "Do you ?\n",
      "Days\tTopics\tExercises\n",
      "Day1\t3\t5\n",
      "Day2\t3\t5\n",
      "Day3\t3\t5\n",
      "Day4\t3\t5\n",
      "This is back slash symbol(\\)\n",
      "In every programming language it starts with \"Hello, World!\"\n"
     ]
    }
   ],
   "source": [
    "print('I hope every one enjoying the python challenge.\\nDo you ?')\n",
    "print('Days\\tTopics\\tExercises')\n",
    "print('Day1\\t3\\t5')\n",
    "print('Day2\\t3\\t5')\n",
    "print('Day3\\t3\\t5')\n",
    "print('Day4\\t3\\t5')\n",
    "print('This is back slash symbol(\\\\)')\n",
    "print('In every programming language it starts with \\\"Hello, World!\\\"')"
   ]
  },
  {
   "cell_type": "markdown",
   "id": "23cadb84-fa5b-4c14-b7d8-805c7fa61b69",
   "metadata": {},
   "source": [
    "# String Methods"
   ]
  },
  {
   "cell_type": "markdown",
   "id": "f689eb0a-0af6-43a4-a4fe-e8eec83a589e",
   "metadata": {},
   "source": [
    "- capitalize() : converts first character of string to capital letter"
   ]
  },
  {
   "cell_type": "code",
   "execution_count": 49,
   "id": "4c0a7a6b-dcc3-4da4-a38b-6254974b4c09",
   "metadata": {},
   "outputs": [
    {
     "name": "stdout",
     "output_type": "stream",
     "text": [
      "Thirty days of python\n"
     ]
    }
   ],
   "source": [
    "x='thirty days of python'\n",
    "print(x.capitalize())"
   ]
  },
  {
   "cell_type": "markdown",
   "id": "7d813a37-e621-46bd-986f-171082859a4f",
   "metadata": {},
   "source": [
    "- count() : returns occurences of substring in string, count(substring,start=..,end=..)"
   ]
  },
  {
   "cell_type": "code",
   "execution_count": 54,
   "id": "abdf808b-a066-4203-ab7a-3f0b6a3828a5",
   "metadata": {},
   "outputs": [
    {
     "name": "stdout",
     "output_type": "stream",
     "text": [
      "3\n"
     ]
    }
   ],
   "source": [
    "print(x.count('y'))"
   ]
  },
  {
   "cell_type": "code",
   "execution_count": 56,
   "id": "0814bcdd-d771-4b74-8ca6-dd2d3aa1b663",
   "metadata": {},
   "outputs": [
    {
     "name": "stdout",
     "output_type": "stream",
     "text": [
      "3\n"
     ]
    }
   ],
   "source": [
    "print(x.count('t'))"
   ]
  },
  {
   "cell_type": "code",
   "execution_count": 58,
   "id": "58ff2870-dd81-4b20-82b2-966872eadb0c",
   "metadata": {},
   "outputs": [
    {
     "name": "stdout",
     "output_type": "stream",
     "text": [
      "2\n"
     ]
    }
   ],
   "source": [
    "print(x.count('th'))"
   ]
  },
  {
   "cell_type": "markdown",
   "id": "23ff7936-f8dc-426e-bb3c-86cdd8db0d81",
   "metadata": {},
   "source": [
    "- endswith() : checks if a string ends with a specified ending"
   ]
  },
  {
   "cell_type": "code",
   "execution_count": 63,
   "id": "e6413de4-7bff-48ef-b980-0a471800c221",
   "metadata": {},
   "outputs": [
    {
     "name": "stdout",
     "output_type": "stream",
     "text": [
      "True\n"
     ]
    }
   ],
   "source": [
    "print(x.endswith('on'))"
   ]
  },
  {
   "cell_type": "code",
   "execution_count": 65,
   "id": "c53e7c38-6212-41ea-83be-399ebd0af9f0",
   "metadata": {},
   "outputs": [
    {
     "name": "stdout",
     "output_type": "stream",
     "text": [
      "False\n"
     ]
    }
   ],
   "source": [
    "print(x.endswith('tion'))"
   ]
  },
  {
   "cell_type": "markdown",
   "id": "e28115ac-541a-4ba0-9aa7-1114ab3f15ab",
   "metadata": {},
   "source": [
    "- expandtabs() : Replaces tab character with spaces,default tab size is 8.It takes tab size argument."
   ]
  },
  {
   "cell_type": "code",
   "execution_count": 72,
   "id": "98f38892-2c1e-40a2-8538-0ccce06f6817",
   "metadata": {},
   "outputs": [
    {
     "name": "stdout",
     "output_type": "stream",
     "text": [
      "thirty  days    of      python\n"
     ]
    }
   ],
   "source": [
    "x='thirty\\tdays\\tof\\tpython'\n",
    "print(x.expandtabs())"
   ]
  },
  {
   "cell_type": "code",
   "execution_count": 74,
   "id": "b35bd15a-e7ca-4ba3-8d8f-3ec2b98a6367",
   "metadata": {},
   "outputs": [
    {
     "name": "stdout",
     "output_type": "stream",
     "text": [
      "thirty    days      of        python\n"
     ]
    }
   ],
   "source": [
    "print(x.expandtabs(10))"
   ]
  },
  {
   "cell_type": "markdown",
   "id": "81ac6102-1ac9-4513-9270-3a5772fea2e0",
   "metadata": {},
   "source": [
    "- find() : returns index of first occurrence of substring"
   ]
  },
  {
   "cell_type": "code",
   "execution_count": 79,
   "id": "dee64d2b-2e26-4509-8c1f-f22402166269",
   "metadata": {},
   "outputs": [
    {
     "name": "stdout",
     "output_type": "stream",
     "text": [
      "5\n"
     ]
    }
   ],
   "source": [
    "print(x.find('y'))"
   ]
  },
  {
   "cell_type": "code",
   "execution_count": 81,
   "id": "223afb60-7ef9-4c94-b161-2aa25eaa8c30",
   "metadata": {},
   "outputs": [
    {
     "name": "stdout",
     "output_type": "stream",
     "text": [
      "0\n"
     ]
    }
   ],
   "source": [
    "print(x.find('th'))"
   ]
  },
  {
   "cell_type": "markdown",
   "id": "6f79d8aa-3feb-4931-814a-bddd775cd3e4",
   "metadata": {},
   "source": [
    "- format() : formats string into nicer output"
   ]
  },
  {
   "cell_type": "code",
   "execution_count": 86,
   "id": "04a1332e-949f-44ad-8f25-62d4c23b5168",
   "metadata": {},
   "outputs": [
    {
     "name": "stdout",
     "output_type": "stream",
     "text": [
      "I am Asabeneh Yetayeh.I am a teacher. I live in Finland.\n"
     ]
    }
   ],
   "source": [
    "first_name = 'Asabeneh'\n",
    "last_name = 'Yetayeh'\n",
    "job = 'teacher'\n",
    "country = 'Finland'\n",
    "sentence='I am {} {}.I am a {}. I live in {}.'.format(first_name,last_name,job,country)\n",
    "print(sentence)"
   ]
  },
  {
   "cell_type": "markdown",
   "id": "1db4b2b3-16cb-4082-be7e-61b53d5cc5ea",
   "metadata": {},
   "source": [
    "- index() : returns index of substring"
   ]
  },
  {
   "cell_type": "code",
   "execution_count": 91,
   "id": "e612dbb5-e5ab-4ef7-a5a1-457e8fb35086",
   "metadata": {},
   "outputs": [
    {
     "name": "stdout",
     "output_type": "stream",
     "text": [
      "5\n"
     ]
    }
   ],
   "source": [
    "print(x.find('y'))"
   ]
  },
  {
   "cell_type": "markdown",
   "id": "8188bafc-03c1-4158-9eb1-da59a86ea905",
   "metadata": {},
   "source": [
    "- isalnum() : checks alphanumeric character"
   ]
  },
  {
   "cell_type": "code",
   "execution_count": 99,
   "id": "b91bc3f9-b34e-4124-ae68-b237ae60c3b4",
   "metadata": {},
   "outputs": [
    {
     "name": "stdout",
     "output_type": "stream",
     "text": [
      "True\n"
     ]
    }
   ],
   "source": [
    "x='ThirtyDaysPython'\n",
    "print(x.isalnum())"
   ]
  },
  {
   "cell_type": "code",
   "execution_count": 101,
   "id": "e497fb2d-b93d-49db-bf16-c61128c40018",
   "metadata": {},
   "outputs": [
    {
     "name": "stdout",
     "output_type": "stream",
     "text": [
      "False\n"
     ]
    }
   ],
   "source": [
    "x='thirty days python'\n",
    "print(x.isalnum())"
   ]
  },
  {
   "cell_type": "markdown",
   "id": "436c1679-9a9f-4223-bb19-8d43c0382f55",
   "metadata": {},
   "source": [
    "- isalpha : checks if all characters are alphabets"
   ]
  },
  {
   "cell_type": "code",
   "execution_count": 13,
   "id": "7af79807-3547-4e77-be43-7d59b4ff5586",
   "metadata": {},
   "outputs": [
    {
     "name": "stdout",
     "output_type": "stream",
     "text": [
      "True\n"
     ]
    }
   ],
   "source": [
    "x='thirtyDaysOfPython'\n",
    "print(x.isalpha())"
   ]
  },
  {
   "cell_type": "code",
   "execution_count": 7,
   "id": "76954b6a-5608-4290-a5b7-4e6b7fcd7208",
   "metadata": {},
   "outputs": [
    {
     "name": "stdout",
     "output_type": "stream",
     "text": [
      "False\n"
     ]
    }
   ],
   "source": [
    "num='123'\n",
    "print(num.isalpha())"
   ]
  },
  {
   "cell_type": "markdown",
   "id": "d205abef-7438-426d-a8ca-90d301859de9",
   "metadata": {},
   "source": [
    "- isdecimal() : checks decimal characters"
   ]
  },
  {
   "cell_type": "code",
   "execution_count": 21,
   "id": "1cf3ec32-b00c-4926-8670-1c2aef56bd20",
   "metadata": {},
   "outputs": [
    {
     "name": "stdout",
     "output_type": "stream",
     "text": [
      "True\n"
     ]
    }
   ],
   "source": [
    "num='10'\n",
    "print(num.isdecimal())"
   ]
  },
  {
   "cell_type": "markdown",
   "id": "9dd74d47-d7bb-4517-a67e-c054fe55a32b",
   "metadata": {},
   "source": [
    "- isdigit() : checks digit characters"
   ]
  },
  {
   "cell_type": "code",
   "execution_count": 26,
   "id": "af786390-6297-4fed-b8f4-50527f4b6171",
   "metadata": {},
   "outputs": [
    {
     "name": "stdout",
     "output_type": "stream",
     "text": [
      "False\n"
     ]
    }
   ],
   "source": [
    "x='thirty'\n",
    "print(x.isdigit())"
   ]
  },
  {
   "cell_type": "code",
   "execution_count": 28,
   "id": "cf6ac6bf-e69e-4c31-a31c-b29dd0fd1190",
   "metadata": {},
   "outputs": [
    {
     "name": "stdout",
     "output_type": "stream",
     "text": [
      "True\n"
     ]
    }
   ],
   "source": [
    "x='30'\n",
    "print(x.isdigit())"
   ]
  },
  {
   "cell_type": "markdown",
   "id": "6909e2a0-355d-4287-9ccd-2887af2095c6",
   "metadata": {},
   "source": [
    "- isidentifier() : checks if a string is a valid variable name"
   ]
  },
  {
   "cell_type": "code",
   "execution_count": 31,
   "id": "24f345a5-0325-413c-aa6c-064e1159ff27",
   "metadata": {},
   "outputs": [
    {
     "name": "stdout",
     "output_type": "stream",
     "text": [
      "False\n"
     ]
    }
   ],
   "source": [
    "x='30daysofpython'\n",
    "print(x.isidentifier())"
   ]
  },
  {
   "cell_type": "code",
   "execution_count": 33,
   "id": "e267588a-4343-4b16-9aff-680ef6335710",
   "metadata": {},
   "outputs": [
    {
     "name": "stdout",
     "output_type": "stream",
     "text": [
      "True\n"
     ]
    }
   ],
   "source": [
    "x='thirty_days_of_python'\n",
    "print(x.isidentifier())"
   ]
  },
  {
   "cell_type": "markdown",
   "id": "87f0f1f5-8944-4add-a71a-69d79082dadd",
   "metadata": {},
   "source": [
    "- islower() : checks all alphabets are in lowercase"
   ]
  },
  {
   "cell_type": "code",
   "execution_count": 36,
   "id": "05422cd8-34f8-43e4-8c10-0ee6a5bdf26d",
   "metadata": {},
   "outputs": [
    {
     "name": "stdout",
     "output_type": "stream",
     "text": [
      "True\n"
     ]
    }
   ],
   "source": [
    "x='thirty'\n",
    "print(x.islower())"
   ]
  },
  {
   "cell_type": "markdown",
   "id": "68eda93e-e76d-4d5a-9002-c0ceeede84d7",
   "metadata": {},
   "source": [
    "- isupper() : returns all alphabets in uppercase"
   ]
  },
  {
   "cell_type": "code",
   "execution_count": 39,
   "id": "5e19c0ce-a521-4bca-9ef5-20cefb793ab1",
   "metadata": {},
   "outputs": [
    {
     "name": "stdout",
     "output_type": "stream",
     "text": [
      "True\n"
     ]
    }
   ],
   "source": [
    "x='THIRRTY'\n",
    "print(x.isupper())"
   ]
  },
  {
   "cell_type": "markdown",
   "id": "139c5b0d-60e9-4809-87fd-df771961d5d0",
   "metadata": {},
   "source": [
    "- isnumeric() : checks numeric characters"
   ]
  },
  {
   "cell_type": "code",
   "execution_count": 42,
   "id": "3730b728-f76d-4237-85e7-c961297dfff8",
   "metadata": {},
   "outputs": [
    {
     "name": "stdout",
     "output_type": "stream",
     "text": [
      "True\n"
     ]
    }
   ],
   "source": [
    "num='10'\n",
    "print(num.isnumeric())"
   ]
  },
  {
   "cell_type": "markdown",
   "id": "ffc8e8d1-2005-45d6-9008-305ba38b3532",
   "metadata": {},
   "source": [
    "- join : returns concatenated string"
   ]
  },
  {
   "cell_type": "code",
   "execution_count": 49,
   "id": "4e237f25-52b9-4de9-a1f1-a4c2ac0abe89",
   "metadata": {},
   "outputs": [
    {
     "name": "stdout",
     "output_type": "stream",
     "text": [
      "HTML#, CSS#, JavaScript#, React\n"
     ]
    }
   ],
   "source": [
    "web_tech=['HTML','CSS','JavaScript','React']\n",
    "result='#, '.join(web_tech)\n",
    "print(result)"
   ]
  },
  {
   "cell_type": "markdown",
   "id": "a97f2ad9-2bd4-4d62-960c-6ee520faf05b",
   "metadata": {},
   "source": [
    "- strip : removes both leading and trailing characters"
   ]
  },
  {
   "cell_type": "code",
   "execution_count": 54,
   "id": "fe573ea6-92db-40f8-a78b-e241c7ba6b61",
   "metadata": {},
   "outputs": [
    {
     "name": "stdout",
     "output_type": "stream",
     "text": [
      "HIRRTY\n"
     ]
    }
   ],
   "source": [
    "print(x.strip('T'))"
   ]
  },
  {
   "cell_type": "markdown",
   "id": "5b6dcafa-2bc4-463c-a580-792644e8c478",
   "metadata": {},
   "source": [
    "- replace() : replaces substring inside"
   ]
  },
  {
   "cell_type": "code",
   "execution_count": 57,
   "id": "ad058d7e-5cc8-4a2d-87d7-0b484541288c",
   "metadata": {},
   "outputs": [
    {
     "name": "stdout",
     "output_type": "stream",
     "text": [
      "pathon\n"
     ]
    }
   ],
   "source": [
    "x='python'\n",
    "print(x.replace('y','a'))"
   ]
  },
  {
   "cell_type": "markdown",
   "id": "de055074-ab8b-4f4f-b407-3b9fe5396ff1",
   "metadata": {},
   "source": [
    "- split() : splits string from left"
   ]
  },
  {
   "cell_type": "code",
   "execution_count": 60,
   "id": "652580c3-0014-45fd-b342-f9726291169c",
   "metadata": {},
   "outputs": [
    {
     "name": "stdout",
     "output_type": "stream",
     "text": [
      "['thirty', 'days', 'of', 'python']\n"
     ]
    }
   ],
   "source": [
    "x='thirty days of python'\n",
    "print(x.split())"
   ]
  },
  {
   "cell_type": "markdown",
   "id": "c0cafd83-9491-4426-bb54-9988dfcb3598",
   "metadata": {},
   "source": [
    "- title() : returns a title cased string"
   ]
  },
  {
   "cell_type": "code",
   "execution_count": 63,
   "id": "fb39b20d-b619-49f0-b276-43c7fe3ef363",
   "metadata": {},
   "outputs": [
    {
     "name": "stdout",
     "output_type": "stream",
     "text": [
      "Thirty Days Of Python\n"
     ]
    }
   ],
   "source": [
    "print(x.title())"
   ]
  },
  {
   "cell_type": "markdown",
   "id": "1eec8a40-0fc4-4819-8f94-e5a09010b747",
   "metadata": {},
   "source": [
    "- swapcase() : "
   ]
  },
  {
   "cell_type": "code",
   "execution_count": 66,
   "id": "3139a73d-d1b2-4865-87ac-f456e73dbea5",
   "metadata": {},
   "outputs": [
    {
     "name": "stdout",
     "output_type": "stream",
     "text": [
      "THIRTY DAYS OF PYTHON\n"
     ]
    }
   ],
   "source": [
    "print(x.swapcase())"
   ]
  },
  {
   "cell_type": "markdown",
   "id": "7c86c9a1-a8a9-4911-9a9d-f53a847cd9c5",
   "metadata": {},
   "source": [
    "- startswith() : checks if string starts with a specified string"
   ]
  },
  {
   "cell_type": "code",
   "execution_count": 69,
   "id": "87c6066c-9df3-4139-9e9a-bb9128aa2861",
   "metadata": {},
   "outputs": [
    {
     "name": "stdout",
     "output_type": "stream",
     "text": [
      "True\n"
     ]
    }
   ],
   "source": [
    "print(x.startswith('thirty'))"
   ]
  },
  {
   "cell_type": "code",
   "execution_count": 71,
   "id": "ef688adb-b8ef-442d-af80-d748d84efe2a",
   "metadata": {},
   "outputs": [
    {
     "name": "stdout",
     "output_type": "stream",
     "text": [
      "False\n"
     ]
    }
   ],
   "source": [
    "print(x.startswith('days'))"
   ]
  },
  {
   "cell_type": "code",
   "execution_count": null,
   "id": "ed7571ff-82b4-4c27-a3e5-95f60025b0f8",
   "metadata": {},
   "outputs": [],
   "source": []
  }
 ],
 "metadata": {
  "kernelspec": {
   "display_name": "Python 3 (ipykernel)",
   "language": "python",
   "name": "python3"
  },
  "language_info": {
   "codemirror_mode": {
    "name": "ipython",
    "version": 3
   },
   "file_extension": ".py",
   "mimetype": "text/x-python",
   "name": "python",
   "nbconvert_exporter": "python",
   "pygments_lexer": "ipython3",
   "version": "3.12.4"
  }
 },
 "nbformat": 4,
 "nbformat_minor": 5
}
