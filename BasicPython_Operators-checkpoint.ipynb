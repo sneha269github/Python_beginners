{
 "cells": [
  {
   "cell_type": "code",
   "execution_count": 4,
   "id": "fe91227c-b288-4728-aea5-460894ac77d1",
   "metadata": {},
   "outputs": [
    {
     "data": {
      "text/plain": [
       "2"
      ]
     },
     "execution_count": 4,
     "metadata": {},
     "output_type": "execute_result"
    }
   ],
   "source": [
    "1+1   #Addition"
   ]
  },
  {
   "cell_type": "code",
   "execution_count": 6,
   "id": "1835ca4f-6251-4e23-9f14-5e244108f32d",
   "metadata": {},
   "outputs": [
    {
     "data": {
      "text/plain": [
       "1"
      ]
     },
     "execution_count": 6,
     "metadata": {},
     "output_type": "execute_result"
    }
   ],
   "source": [
    "2-1   #Subtraction"
   ]
  },
  {
   "cell_type": "code",
   "execution_count": 9,
   "id": "f75eafd8-b50f-40dc-901e-ebc34fa749c4",
   "metadata": {},
   "outputs": [
    {
     "data": {
      "text/plain": [
       "12"
      ]
     },
     "execution_count": 9,
     "metadata": {},
     "output_type": "execute_result"
    }
   ],
   "source": [
    "3*4    #Multiplication"
   ]
  },
  {
   "cell_type": "code",
   "execution_count": 11,
   "id": "290f79bd-fa52-4853-9d5e-26d278f3b5d9",
   "metadata": {},
   "outputs": [
    {
     "data": {
      "text/plain": [
       "2.0"
      ]
     },
     "execution_count": 11,
     "metadata": {},
     "output_type": "execute_result"
    }
   ],
   "source": [
    "8/4   #Division  float"
   ]
  },
  {
   "cell_type": "code",
   "execution_count": 13,
   "id": "f9aa8457-5b9f-49ab-b953-25c2c815c784",
   "metadata": {},
   "outputs": [
    {
     "data": {
      "text/plain": [
       "1.6"
      ]
     },
     "execution_count": 13,
     "metadata": {},
     "output_type": "execute_result"
    }
   ],
   "source": [
    "8/5"
   ]
  },
  {
   "cell_type": "code",
   "execution_count": 15,
   "id": "f60233f1-3d97-4a91-a1d4-db810411f6e8",
   "metadata": {},
   "outputs": [
    {
     "data": {
      "text/plain": [
       "2"
      ]
     },
     "execution_count": 15,
     "metadata": {},
     "output_type": "execute_result"
    }
   ],
   "source": [
    "8//4    #Division  integer"
   ]
  },
  {
   "cell_type": "code",
   "execution_count": 17,
   "id": "650b092c-4b74-4fc8-8521-24148c9a33d8",
   "metadata": {},
   "outputs": [
    {
     "data": {
      "text/plain": [
       "10"
      ]
     },
     "execution_count": 17,
     "metadata": {},
     "output_type": "execute_result"
    }
   ],
   "source": [
    "8+9-7"
   ]
  },
  {
   "cell_type": "code",
   "execution_count": 19,
   "id": "69b0d9c9-db72-440c-949a-e5c2e278ac3f",
   "metadata": {},
   "outputs": [
    {
     "data": {
      "text/plain": [
       "16"
      ]
     },
     "execution_count": 19,
     "metadata": {},
     "output_type": "execute_result"
    }
   ],
   "source": [
    "8+8"
   ]
  },
  {
   "cell_type": "code",
   "execution_count": 21,
   "id": "c0058d43-3fb7-4e3c-82e0-c4cfd71fdda8",
   "metadata": {},
   "outputs": [
    {
     "data": {
      "text/plain": [
       "30"
      ]
     },
     "execution_count": 21,
     "metadata": {},
     "output_type": "execute_result"
    }
   ],
   "source": [
    "5+5*5    # BODMAS (Bracket || Orders || Divide || Multiply || Add || Substact)"
   ]
  },
  {
   "cell_type": "code",
   "execution_count": 23,
   "id": "b7b62bf8-60af-4418-8a57-080145b04526",
   "metadata": {},
   "outputs": [
    {
     "data": {
      "text/plain": [
       "64"
      ]
     },
     "execution_count": 23,
     "metadata": {},
     "output_type": "execute_result"
    }
   ],
   "source": [
    "2*2*2*2*2*2  #exponentation"
   ]
  },
  {
   "cell_type": "code",
   "execution_count": 145,
   "id": "f51d2e3f-d875-4062-ac1b-a15040fddcf9",
   "metadata": {},
   "outputs": [
    {
     "data": {
      "text/plain": [
       "1"
      ]
     },
     "execution_count": 145,
     "metadata": {},
     "output_type": "execute_result"
    }
   ],
   "source": [
    "15%2   #Modulus"
   ]
  },
  {
   "cell_type": "code",
   "execution_count": 25,
   "id": "8328fc5f-9d51-44a7-bbd8-d7d3deac4de4",
   "metadata": {},
   "outputs": [
    {
     "data": {
      "text/plain": [
       "10"
      ]
     },
     "execution_count": 25,
     "metadata": {},
     "output_type": "execute_result"
    }
   ],
   "source": [
    "2*5"
   ]
  },
  {
   "cell_type": "code",
   "execution_count": 27,
   "id": "55a07b4c-eb64-4b99-913b-60054d27b0dc",
   "metadata": {},
   "outputs": [
    {
     "data": {
      "text/plain": [
       "32"
      ]
     },
     "execution_count": 27,
     "metadata": {},
     "output_type": "execute_result"
    }
   ],
   "source": [
    "2**5"
   ]
  },
  {
   "cell_type": "code",
   "execution_count": 29,
   "id": "b3f24bb3-e555-4b96-8926-19765623b344",
   "metadata": {},
   "outputs": [
    {
     "name": "stdout",
     "output_type": "stream",
     "text": [
      "15\n",
      "7.8\n",
      "nit\n",
      "(8+9j)\n",
      "True\n"
     ]
    }
   ],
   "source": [
    "a,b,c,d,e=15,7.8,'nit',8+9j,True\n",
    "print(a)\n",
    "print(b)\n",
    "print(c)\n",
    "print(d)\n",
    "print(e)"
   ]
  },
  {
   "cell_type": "code",
   "execution_count": 31,
   "id": "2b0a804f-9df5-4c76-8cb8-f5b3fbaf3bdd",
   "metadata": {},
   "outputs": [
    {
     "name": "stdout",
     "output_type": "stream",
     "text": [
      "<class 'int'>\n",
      "<class 'float'>\n",
      "<class 'str'>\n",
      "<class 'complex'>\n",
      "<class 'bool'>\n"
     ]
    }
   ],
   "source": [
    "print(type(a))\n",
    "print(type(b))\n",
    "print(type(c))\n",
    "print(type(d))\n",
    "print(type(e))"
   ]
  },
  {
   "cell_type": "code",
   "execution_count": 156,
   "id": "9200b84b-7a6a-4069-95cf-cc3f9509bdf9",
   "metadata": {},
   "outputs": [
    {
     "name": "stdout",
     "output_type": "stream",
     "text": [
      "Max IT\n"
     ]
    }
   ],
   "source": [
    "print('Max IT')"
   ]
  },
  {
   "cell_type": "code",
   "execution_count": 33,
   "id": "1be18634-103d-4deb-bb2f-af6ebb1075b8",
   "metadata": {},
   "outputs": [
    {
     "data": {
      "text/plain": [
       "'max it technology'"
      ]
     },
     "execution_count": 33,
     "metadata": {},
     "output_type": "execute_result"
    }
   ],
   "source": [
    "s1='max it technology'\n",
    "s1"
   ]
  },
  {
   "cell_type": "code",
   "execution_count": 35,
   "id": "a19be01f-3263-4dc2-aa8a-c91a4821cb1f",
   "metadata": {},
   "outputs": [
    {
     "data": {
      "text/plain": [
       "5"
      ]
     },
     "execution_count": 35,
     "metadata": {},
     "output_type": "execute_result"
    }
   ],
   "source": [
    "a=2\n",
    "b=3\n",
    "a+b"
   ]
  },
  {
   "cell_type": "code",
   "execution_count": 37,
   "id": "90c1bfd3-785e-4e5c-8124-5bdb6e058e03",
   "metadata": {},
   "outputs": [
    {
     "data": {
      "text/plain": [
       "5"
      ]
     },
     "execution_count": 37,
     "metadata": {},
     "output_type": "execute_result"
    }
   ],
   "source": [
    "c=a+b\n",
    "c"
   ]
  },
  {
   "cell_type": "code",
   "execution_count": null,
   "id": "9d3264a0-bbac-4963-8012-8ae535cbcbd8",
   "metadata": {},
   "outputs": [],
   "source": [
    "#3+'nit' #cannot add integer with string"
   ]
  },
  {
   "cell_type": "code",
   "execution_count": 39,
   "id": "630d9ac3-b638-438d-95f5-9a0e2f0a0529",
   "metadata": {},
   "outputs": [
    {
     "data": {
      "text/plain": [
       "str"
      ]
     },
     "execution_count": 39,
     "metadata": {},
     "output_type": "execute_result"
    }
   ],
   "source": [
    "a=3\n",
    "b='hi'\n",
    "type(b)"
   ]
  },
  {
   "cell_type": "code",
   "execution_count": 164,
   "id": "a4218309-3ad3-43a0-9c8a-2ce6948c9785",
   "metadata": {},
   "outputs": [
    {
     "name": "stdout",
     "output_type": "stream",
     "text": [
      "It's Naresh IT Technology\n"
     ]
    }
   ],
   "source": [
    "print(\"It's Naresh IT Technology\")"
   ]
  },
  {
   "cell_type": "code",
   "execution_count": 166,
   "id": "c3fb00f2-7f3d-4156-8c26-74e805533534",
   "metadata": {},
   "outputs": [
    {
     "name": "stdout",
     "output_type": "stream",
     "text": [
      "It's Naresh IT Technology\n"
     ]
    }
   ],
   "source": [
    "print('It\\'s Naresh IT Technology')   #\\ has some special meaning to ignore"
   ]
  },
  {
   "cell_type": "code",
   "execution_count": 168,
   "id": "295d1052-47a3-4dbd-9b22-afae692de891",
   "metadata": {},
   "outputs": [
    {
     "name": "stdout",
     "output_type": "stream",
     "text": [
      "max it Technology\n"
     ]
    }
   ],
   "source": [
    "print('max it', 'Technology')"
   ]
  },
  {
   "cell_type": "code",
   "execution_count": 170,
   "id": "0c9d36b8-b56a-4c18-8c4a-005b87014d61",
   "metadata": {},
   "outputs": [
    {
     "name": "stdout",
     "output_type": "stream",
     "text": [
      "max it', 'Technology\n"
     ]
    }
   ],
   "source": [
    "print(\"max it', 'Technology\")"
   ]
  },
  {
   "cell_type": "code",
   "execution_count": 51,
   "id": "a7f93007-1129-472f-aff7-4338f4c5145e",
   "metadata": {},
   "outputs": [
    {
     "data": {
      "text/plain": [
       "'nit nit'"
      ]
     },
     "execution_count": 51,
     "metadata": {},
     "output_type": "execute_result"
    }
   ],
   "source": [
    "'nit'+' nit'"
   ]
  },
  {
   "cell_type": "code",
   "execution_count": 172,
   "id": "cc9373a4-0034-4173-97bf-8463ec81b3ef",
   "metadata": {},
   "outputs": [
    {
     "data": {
      "text/plain": [
       "'nitnit'"
      ]
     },
     "execution_count": 172,
     "metadata": {},
     "output_type": "execute_result"
    }
   ],
   "source": [
    "'nit' 'nit'"
   ]
  },
  {
   "cell_type": "code",
   "execution_count": 53,
   "id": "1fdd2830-b92d-4b15-be86-e165c6527c8e",
   "metadata": {},
   "outputs": [
    {
     "data": {
      "text/plain": [
       "'nitnitnitnitnit'"
      ]
     },
     "execution_count": 53,
     "metadata": {},
     "output_type": "execute_result"
    }
   ],
   "source": [
    "5* 'nit'"
   ]
  },
  {
   "cell_type": "code",
   "execution_count": 55,
   "id": "dc0b5150-a96d-4a87-ae33-967fd7547817",
   "metadata": {},
   "outputs": [
    {
     "data": {
      "text/plain": [
       "' nit nit nit nit nit'"
      ]
     },
     "execution_count": 55,
     "metadata": {},
     "output_type": "execute_result"
    }
   ],
   "source": [
    "5 * ' nit'"
   ]
  },
  {
   "cell_type": "code",
   "execution_count": 57,
   "id": "9c594a04-8192-40e2-b587-d07010847d88",
   "metadata": {},
   "outputs": [
    {
     "name": "stdout",
     "output_type": "stream",
     "text": [
      "c:\n",
      "it\n"
     ]
    }
   ],
   "source": [
    "print('c:\\nit')    #\\n : new line"
   ]
  },
  {
   "cell_type": "code",
   "execution_count": 59,
   "id": "9120ae1b-40e8-43c1-81a0-06c29d8790fc",
   "metadata": {},
   "outputs": [
    {
     "name": "stdout",
     "output_type": "stream",
     "text": [
      "c:\\nit\n"
     ]
    }
   ],
   "source": [
    "print(r'c:\\nit')    #raw string"
   ]
  },
  {
   "cell_type": "markdown",
   "id": "a2f4ede0-e062-4653-97e5-467a4d422680",
   "metadata": {},
   "source": [
    "# Variable || Identifier || Object"
   ]
  },
  {
   "cell_type": "code",
   "execution_count": 178,
   "id": "ab04f398-ca4b-4787-b803-6a944a3f4047",
   "metadata": {},
   "outputs": [
    {
     "data": {
      "text/plain": [
       "10"
      ]
     },
     "execution_count": 178,
     "metadata": {},
     "output_type": "execute_result"
    }
   ],
   "source": [
    "x=10  # here x is variable/identifier/object & 10 is value\n",
    "x"
   ]
  },
  {
   "cell_type": "code",
   "execution_count": 180,
   "id": "96e8a249-1b80-4106-a8be-c5c491217401",
   "metadata": {},
   "outputs": [
    {
     "data": {
      "text/plain": [
       "13"
      ]
     },
     "execution_count": 180,
     "metadata": {},
     "output_type": "execute_result"
    }
   ],
   "source": [
    "x+3"
   ]
  },
  {
   "cell_type": "code",
   "execution_count": 184,
   "id": "f384dbb5-2803-4ae1-b6dc-298395115202",
   "metadata": {},
   "outputs": [
    {
     "data": {
      "text/plain": [
       "3"
      ]
     },
     "execution_count": 184,
     "metadata": {},
     "output_type": "execute_result"
    }
   ],
   "source": [
    "y=3\n",
    "y"
   ]
  },
  {
   "cell_type": "code",
   "execution_count": 186,
   "id": "cd794ac2-4773-4bfc-8e92-876268bf0156",
   "metadata": {},
   "outputs": [
    {
     "data": {
      "text/plain": [
       "13"
      ]
     },
     "execution_count": 186,
     "metadata": {},
     "output_type": "execute_result"
    }
   ],
   "source": [
    "x+y"
   ]
  },
  {
   "cell_type": "code",
   "execution_count": 188,
   "id": "b73e4153-ccc4-43a7-811b-dd27dbcb685c",
   "metadata": {},
   "outputs": [
    {
     "data": {
      "text/plain": [
       "-3"
      ]
     },
     "execution_count": 188,
     "metadata": {},
     "output_type": "execute_result"
    }
   ],
   "source": [
    "-+y "
   ]
  },
  {
   "cell_type": "code",
   "execution_count": 190,
   "id": "60e874b5-c6c4-4fde-a18e-2d704a671fcb",
   "metadata": {},
   "outputs": [
    {
     "data": {
      "text/plain": [
       "-3"
      ]
     },
     "execution_count": 190,
     "metadata": {},
     "output_type": "execute_result"
    }
   ],
   "source": [
    "-+y"
   ]
  },
  {
   "cell_type": "code",
   "execution_count": 192,
   "id": "7a035143-3297-4a23-82af-b2489836035e",
   "metadata": {},
   "outputs": [
    {
     "data": {
      "text/plain": [
       "-3"
      ]
     },
     "execution_count": 192,
     "metadata": {},
     "output_type": "execute_result"
    }
   ],
   "source": [
    "-+y"
   ]
  },
  {
   "cell_type": "code",
   "execution_count": 61,
   "id": "d1c5177e-eda3-4fa0-8c86-6bface3c8805",
   "metadata": {},
   "outputs": [
    {
     "data": {
      "text/plain": [
       "5"
      ]
     },
     "execution_count": 61,
     "metadata": {},
     "output_type": "execute_result"
    }
   ],
   "source": [
    "x=2\n",
    "y=3\n",
    "x+y"
   ]
  },
  {
   "cell_type": "code",
   "execution_count": 63,
   "id": "c3ce5dd8-a068-4d3c-bea4-971cb446beee",
   "metadata": {},
   "outputs": [
    {
     "data": {
      "text/plain": [
       "9"
      ]
     },
     "execution_count": 63,
     "metadata": {},
     "output_type": "execute_result"
    }
   ],
   "source": [
    "x=9\n",
    "x"
   ]
  },
  {
   "cell_type": "code",
   "execution_count": 65,
   "id": "08a87b66-8733-4fbb-8548-076db812ccc4",
   "metadata": {},
   "outputs": [
    {
     "data": {
      "text/plain": [
       "3"
      ]
     },
     "execution_count": 65,
     "metadata": {},
     "output_type": "execute_result"
    }
   ],
   "source": [
    "  + y "
   ]
  },
  {
   "cell_type": "code",
   "execution_count": 67,
   "id": "b6a15956-a067-423c-9b9b-8f6d7933de22",
   "metadata": {},
   "outputs": [
    {
     "data": {
      "text/plain": [
       "3"
      ]
     },
     "execution_count": 67,
     "metadata": {},
     "output_type": "execute_result"
    }
   ],
   "source": [
    "  + y"
   ]
  },
  {
   "cell_type": "markdown",
   "id": "8b04ed8d-922e-4bd3-a694-a1e924688e69",
   "metadata": {},
   "source": [
    "# String variables"
   ]
  },
  {
   "cell_type": "code",
   "execution_count": 70,
   "id": "c86eae76-2c0d-4004-8614-5863f9b67cdb",
   "metadata": {},
   "outputs": [
    {
     "data": {
      "text/plain": [
       "'mit'"
      ]
     },
     "execution_count": 70,
     "metadata": {},
     "output_type": "execute_result"
    }
   ],
   "source": [
    "name='mit'\n",
    "name"
   ]
  },
  {
   "cell_type": "code",
   "execution_count": 72,
   "id": "600be4f8-6880-4a3b-9fcb-044b94627089",
   "metadata": {},
   "outputs": [
    {
     "data": {
      "text/plain": [
       "'mittechnology'"
      ]
     },
     "execution_count": 72,
     "metadata": {},
     "output_type": "execute_result"
    }
   ],
   "source": [
    "name + 'technology'"
   ]
  },
  {
   "cell_type": "code",
   "execution_count": 74,
   "id": "f6338143-2dd1-419c-a195-675811d5e68f",
   "metadata": {},
   "outputs": [
    {
     "data": {
      "text/plain": [
       "'mit technology'"
      ]
     },
     "execution_count": 74,
     "metadata": {},
     "output_type": "execute_result"
    }
   ],
   "source": [
    "name + ' technology'"
   ]
  },
  {
   "cell_type": "code",
   "execution_count": 76,
   "id": "19a501a8-97fd-4b48-8dbb-9541e859d831",
   "metadata": {},
   "outputs": [
    {
     "data": {
      "text/plain": [
       "3"
      ]
     },
     "execution_count": 76,
     "metadata": {},
     "output_type": "execute_result"
    }
   ],
   "source": [
    "len(name)"
   ]
  },
  {
   "cell_type": "code",
   "execution_count": 78,
   "id": "81414de9-0a4b-4f14-890b-8fe2c42abde5",
   "metadata": {},
   "outputs": [
    {
     "data": {
      "text/plain": [
       "'m'"
      ]
     },
     "execution_count": 78,
     "metadata": {},
     "output_type": "execute_result"
    }
   ],
   "source": [
    "name[0]"
   ]
  },
  {
   "cell_type": "code",
   "execution_count": 86,
   "id": "e5384e76-d3fa-4940-bb13-a392d87f3fd1",
   "metadata": {},
   "outputs": [
    {
     "data": {
      "text/plain": [
       "'t'"
      ]
     },
     "execution_count": 86,
     "metadata": {},
     "output_type": "execute_result"
    }
   ],
   "source": [
    "name[2]"
   ]
  },
  {
   "cell_type": "code",
   "execution_count": 88,
   "id": "1418664b-cf68-45ec-a185-3aebddc9657d",
   "metadata": {},
   "outputs": [
    {
     "data": {
      "text/plain": [
       "'m'"
      ]
     },
     "execution_count": 88,
     "metadata": {},
     "output_type": "execute_result"
    }
   ],
   "source": [
    "name[-3]"
   ]
  },
  {
   "cell_type": "markdown",
   "id": "1bdc963b-319e-4269-82de-12a66c7bb2f3",
   "metadata": {},
   "source": [
    "# slicing"
   ]
  },
  {
   "cell_type": "code",
   "execution_count": 91,
   "id": "41750f5c-d8a5-4349-917d-e2fa382e1206",
   "metadata": {},
   "outputs": [
    {
     "data": {
      "text/plain": [
       "'m'"
      ]
     },
     "execution_count": 91,
     "metadata": {},
     "output_type": "execute_result"
    }
   ],
   "source": [
    "name[0:1]"
   ]
  },
  {
   "cell_type": "code",
   "execution_count": 93,
   "id": "181265a9-1d9c-44c3-92f8-5f20a4374f96",
   "metadata": {},
   "outputs": [
    {
     "data": {
      "text/plain": [
       "'it'"
      ]
     },
     "execution_count": 93,
     "metadata": {},
     "output_type": "execute_result"
    }
   ],
   "source": [
    "name[1:4]"
   ]
  },
  {
   "cell_type": "code",
   "execution_count": 95,
   "id": "b64d60bf-f2ff-42ce-8133-7217fbb16f56",
   "metadata": {},
   "outputs": [
    {
     "data": {
      "text/plain": [
       "'it'"
      ]
     },
     "execution_count": 95,
     "metadata": {},
     "output_type": "execute_result"
    }
   ],
   "source": [
    "name[1:]"
   ]
  },
  {
   "cell_type": "code",
   "execution_count": 97,
   "id": "eaef4607-8eac-4df6-8f84-beaa0d71bd9a",
   "metadata": {},
   "outputs": [
    {
     "data": {
      "text/plain": [
       "'mit'"
      ]
     },
     "execution_count": 97,
     "metadata": {},
     "output_type": "execute_result"
    }
   ],
   "source": [
    "name[:4]"
   ]
  },
  {
   "cell_type": "code",
   "execution_count": 99,
   "id": "e8740f4d-e4f0-40ea-9f25-f09db091702f",
   "metadata": {},
   "outputs": [
    {
     "data": {
      "text/plain": [
       "''"
      ]
     },
     "execution_count": 99,
     "metadata": {},
     "output_type": "execute_result"
    }
   ],
   "source": [
    "name[3:9]"
   ]
  },
  {
   "cell_type": "markdown",
   "id": "d7701156-a3ca-4cf8-a991-fd5cb08a6ffd",
   "metadata": {},
   "source": [
    "# Convert string Fine to Dine"
   ]
  },
  {
   "cell_type": "code",
   "execution_count": 103,
   "id": "6fe33248-763b-4bde-8b73-067c4c82bc8f",
   "metadata": {},
   "outputs": [
    {
     "data": {
      "text/plain": [
       "'fine'"
      ]
     },
     "execution_count": 103,
     "metadata": {},
     "output_type": "execute_result"
    }
   ],
   "source": [
    "name1='fine'\n",
    "name1"
   ]
  },
  {
   "cell_type": "code",
   "execution_count": 197,
   "id": "10f60815-663f-4902-8502-e5bb91cda1b4",
   "metadata": {},
   "outputs": [
    {
     "data": {
      "text/plain": [
       "'ine'"
      ]
     },
     "execution_count": 197,
     "metadata": {},
     "output_type": "execute_result"
    }
   ],
   "source": [
    "name1[1:]"
   ]
  },
  {
   "cell_type": "code",
   "execution_count": 201,
   "id": "20385f82-a7df-43f8-a6dc-c9415919df66",
   "metadata": {},
   "outputs": [
    {
     "data": {
      "text/plain": [
       "'Dine'"
      ]
     },
     "execution_count": 201,
     "metadata": {},
     "output_type": "execute_result"
    }
   ],
   "source": [
    "name2='D' + name1[1:]\n",
    "name2"
   ]
  },
  {
   "cell_type": "code",
   "execution_count": 203,
   "id": "1458c932-f485-40e4-9fca-dcdb687f985e",
   "metadata": {},
   "outputs": [
    {
     "name": "stdout",
     "output_type": "stream",
     "text": [
      "fine\n",
      "Dine\n"
     ]
    }
   ],
   "source": [
    "print(name1)\n",
    "print(name2)"
   ]
  },
  {
   "cell_type": "code",
   "execution_count": 227,
   "id": "96c7c110-503a-4449-bebb-0b2dddad938d",
   "metadata": {},
   "outputs": [
    {
     "name": "stdout",
     "output_type": "stream",
     "text": [
      "Help\n",
      "Hell\n"
     ]
    }
   ],
   "source": [
    "#Convert string Help to Hell\n",
    "str1= 'Help'\n",
    "str2=str1[0:3]+ 'l'\n",
    "print(str1)\n",
    "print(str2)"
   ]
  },
  {
   "cell_type": "code",
   "execution_count": 241,
   "id": "04c33198-2d4c-43f9-9584-e515e9bde98a",
   "metadata": {},
   "outputs": [],
   "source": [
    "num1=[1,2,'Academy',50]"
   ]
  },
  {
   "cell_type": "code",
   "execution_count": 243,
   "id": "00cd23d1-0ce3-4f43-9f2f-0a63b8eca7ec",
   "metadata": {},
   "outputs": [
    {
     "data": {
      "text/plain": [
       "[1, 2, 'Academy', 50]"
      ]
     },
     "execution_count": 243,
     "metadata": {},
     "output_type": "execute_result"
    }
   ],
   "source": [
    "num1"
   ]
  },
  {
   "cell_type": "code",
   "execution_count": 245,
   "id": "577832c2-cf30-4155-8b68-ff13853798ad",
   "metadata": {},
   "outputs": [
    {
     "data": {
      "text/plain": [
       "[1, 2, 'Academy', 'nit', 50]"
      ]
     },
     "execution_count": 245,
     "metadata": {},
     "output_type": "execute_result"
    }
   ],
   "source": [
    "num1.insert(3,'nit')  #insert value at 2nd index (started from 0)\n",
    "num1"
   ]
  },
  {
   "cell_type": "code",
   "execution_count": 247,
   "id": "67e445f3-9bb9-45c4-928a-21df0ce46e82",
   "metadata": {},
   "outputs": [
    {
     "data": {
      "text/plain": [
       "[]"
      ]
     },
     "execution_count": 247,
     "metadata": {},
     "output_type": "execute_result"
    }
   ],
   "source": [
    "num1.clear()\n",
    "num1"
   ]
  },
  {
   "cell_type": "code",
   "execution_count": 105,
   "id": "26a2592c-143d-4fa9-99a8-60f92a46c211",
   "metadata": {},
   "outputs": [
    {
     "data": {
      "text/plain": [
       "'m'"
      ]
     },
     "execution_count": 105,
     "metadata": {},
     "output_type": "execute_result"
    }
   ],
   "source": [
    "name[0:1]"
   ]
  },
  {
   "cell_type": "code",
   "execution_count": 111,
   "id": "6566d8a7-4cae-4446-9942-572646c8205f",
   "metadata": {},
   "outputs": [],
   "source": [
    "#name[0] ='d' #strings in python are immutable"
   ]
  },
  {
   "cell_type": "code",
   "execution_count": 113,
   "id": "1ce68e83-de07-4fd1-b27e-03a29926a1d7",
   "metadata": {},
   "outputs": [
    {
     "data": {
      "text/plain": [
       "'ine'"
      ]
     },
     "execution_count": 113,
     "metadata": {},
     "output_type": "execute_result"
    }
   ],
   "source": [
    "name1[1:]"
   ]
  },
  {
   "cell_type": "markdown",
   "id": "54afc74a-8c6a-4f07-8ab2-20dea45bb02f",
   "metadata": {},
   "source": [
    "# ID"
   ]
  },
  {
   "cell_type": "code",
   "execution_count": 117,
   "id": "c18b87b6-ef1c-4803-8c3c-4a26cd6942d6",
   "metadata": {},
   "outputs": [
    {
     "data": {
      "text/plain": [
       "140733958535736"
      ]
     },
     "execution_count": 117,
     "metadata": {},
     "output_type": "execute_result"
    }
   ],
   "source": [
    "num=5\n",
    "id(num)"
   ]
  },
  {
   "cell_type": "code",
   "execution_count": 121,
   "id": "387c6b49-1b7a-4b7f-bafa-3558d6f598da",
   "metadata": {},
   "outputs": [
    {
     "data": {
      "text/plain": [
       "2307905901440"
      ]
     },
     "execution_count": 121,
     "metadata": {},
     "output_type": "execute_result"
    }
   ],
   "source": [
    "name='nit'\n",
    "id(name)"
   ]
  },
  {
   "cell_type": "code",
   "execution_count": 123,
   "id": "20c3f271-1786-46bf-ac03-59b30cb2d7ab",
   "metadata": {},
   "outputs": [
    {
     "data": {
      "text/plain": [
       "140733958535896"
      ]
     },
     "execution_count": 123,
     "metadata": {},
     "output_type": "execute_result"
    }
   ],
   "source": [
    "a=10\n",
    "id(a)"
   ]
  },
  {
   "cell_type": "code",
   "execution_count": 125,
   "id": "230298b3-eb54-475b-b6a5-f1f576dc98c9",
   "metadata": {},
   "outputs": [],
   "source": [
    "b=a #i.e why python is more memory efficient"
   ]
  },
  {
   "cell_type": "code",
   "execution_count": 127,
   "id": "ce2c92b9-6ca2-4324-9c17-efbdf65269a1",
   "metadata": {},
   "outputs": [
    {
     "data": {
      "text/plain": [
       "140733958535896"
      ]
     },
     "execution_count": 127,
     "metadata": {},
     "output_type": "execute_result"
    }
   ],
   "source": [
    "id(b)"
   ]
  },
  {
   "cell_type": "code",
   "execution_count": 129,
   "id": "7649d735-71d5-4bc9-a30c-3a15089b7ce4",
   "metadata": {},
   "outputs": [
    {
     "data": {
      "text/plain": [
       "140733958535896"
      ]
     },
     "execution_count": 129,
     "metadata": {},
     "output_type": "execute_result"
    }
   ],
   "source": [
    "id(10) "
   ]
  },
  {
   "cell_type": "code",
   "execution_count": 131,
   "id": "5d06cdb3-af98-4fc6-b7b2-22e1dd1fdd38",
   "metadata": {},
   "outputs": [
    {
     "data": {
      "text/plain": [
       "140733958535896"
      ]
     },
     "execution_count": 131,
     "metadata": {},
     "output_type": "execute_result"
    }
   ],
   "source": [
    "k=10\n",
    "id(k)"
   ]
  },
  {
   "cell_type": "code",
   "execution_count": 133,
   "id": "740ca19b-f071-42f6-a103-6d73a33f7190",
   "metadata": {},
   "outputs": [
    {
     "data": {
      "text/plain": [
       "140733958536216"
      ]
     },
     "execution_count": 133,
     "metadata": {},
     "output_type": "execute_result"
    }
   ],
   "source": [
    "a=20\n",
    "id(a) # as we change value then address will also change"
   ]
  },
  {
   "cell_type": "code",
   "execution_count": 137,
   "id": "7295f58e-5404-429f-baaa-0728f2f7a40b",
   "metadata": {},
   "outputs": [
    {
     "data": {
      "text/plain": [
       "3.14"
      ]
     },
     "execution_count": 137,
     "metadata": {},
     "output_type": "execute_result"
    }
   ],
   "source": [
    "PI =3.14 # in math this is always constant but python we can change it\n",
    "PI"
   ]
  },
  {
   "cell_type": "code",
   "execution_count": 141,
   "id": "da7cf8c4-671e-4849-ae22-4e9959ac93bb",
   "metadata": {},
   "outputs": [
    {
     "data": {
      "text/plain": [
       "3.15"
      ]
     },
     "execution_count": 141,
     "metadata": {},
     "output_type": "execute_result"
    }
   ],
   "source": [
    "PI=3.15\n",
    "PI"
   ]
  },
  {
   "cell_type": "code",
   "execution_count": 143,
   "id": "bd0ad812-4ec7-4743-b3a3-8fed3b579f45",
   "metadata": {},
   "outputs": [
    {
     "data": {
      "text/plain": [
       "float"
      ]
     },
     "execution_count": 143,
     "metadata": {},
     "output_type": "execute_result"
    }
   ],
   "source": [
    "type(PI)"
   ]
  },
  {
   "cell_type": "raw",
   "id": "66017a3d-db18-476e-b008-f239e3000741",
   "metadata": {},
   "source": [
    "# Variable \n",
    "- we can change values\n",
    "# CONSTANT\n",
    "- we cannot change the value \n",
    "- but cannot make variable as constant "
   ]
  },
  {
   "cell_type": "code",
   "execution_count": 1,
   "id": "1167be4b-262c-4f67-b321-e2b88f3f60ab",
   "metadata": {},
   "outputs": [
    {
     "name": "stdout",
     "output_type": "stream",
     "text": [
      "Addition: 3\n"
     ]
    }
   ],
   "source": [
    "add=1+2\n",
    "print('Addition:',add)"
   ]
  },
  {
   "cell_type": "code",
   "execution_count": 296,
   "id": "df37a318-cacf-41d9-a000-11b774ea1a34",
   "metadata": {},
   "outputs": [
    {
     "name": "stdout",
     "output_type": "stream",
     "text": [
      "Subtraction: 2\n"
     ]
    }
   ],
   "source": [
    "sub=3-1\n",
    "print('Subtraction:',sub)"
   ]
  },
  {
   "cell_type": "code",
   "execution_count": 298,
   "id": "b7e38758-571b-496f-9f3b-8d00166fa757",
   "metadata": {},
   "outputs": [
    {
     "name": "stdout",
     "output_type": "stream",
     "text": [
      "Multiplication: 6\n"
     ]
    }
   ],
   "source": [
    "mul=3*2\n",
    "print('Multiplication:',mul)"
   ]
  },
  {
   "cell_type": "code",
   "execution_count": 302,
   "id": "d6cdb0ec-897d-43e3-b434-3c5d93d83f5d",
   "metadata": {},
   "outputs": [
    {
     "name": "stdout",
     "output_type": "stream",
     "text": [
      "Division: 2.0\n"
     ]
    }
   ],
   "source": [
    "div=4/2\n",
    "print('Division:',div)    #division gives a floating no"
   ]
  },
  {
   "cell_type": "code",
   "execution_count": 304,
   "id": "eea6c07f-6e3d-4398-be99-d5b65ddbb18a",
   "metadata": {},
   "outputs": [
    {
     "name": "stdout",
     "output_type": "stream",
     "text": [
      "Division: 3.5\n"
     ]
    }
   ],
   "source": [
    "div=7/2\n",
    "print('Division:',div)"
   ]
  },
  {
   "cell_type": "code",
   "execution_count": 306,
   "id": "74ff8ece-4a5c-402d-a598-9846236c95e1",
   "metadata": {},
   "outputs": [
    {
     "name": "stdout",
     "output_type": "stream",
     "text": [
      "Floor div: 3\n"
     ]
    }
   ],
   "source": [
    "floor=7//2\n",
    "print('Floor div:',floor)"
   ]
  },
  {
   "cell_type": "code",
   "execution_count": 310,
   "id": "8e164700-fa24-42a6-8378-db2a31959921",
   "metadata": {},
   "outputs": [
    {
     "name": "stdout",
     "output_type": "stream",
     "text": [
      "Modulus: 1\n"
     ]
    }
   ],
   "source": [
    "mod=3%2\n",
    "print('Modulus:',mod)"
   ]
  },
  {
   "cell_type": "code",
   "execution_count": 314,
   "id": "d331129c-cc8d-425c-b206-5e938b27cf99",
   "metadata": {},
   "outputs": [
    {
     "name": "stdout",
     "output_type": "stream",
     "text": [
      "Exponential: 9\n"
     ]
    }
   ],
   "source": [
    "exp=3**2\n",
    "print('Exponential:',exp)  #3*3"
   ]
  },
  {
   "cell_type": "code",
   "execution_count": 316,
   "id": "430e6869-fff3-47ed-b469-001775319d1b",
   "metadata": {},
   "outputs": [
    {
     "name": "stdout",
     "output_type": "stream",
     "text": [
      "Floating number,PI 3.14\n",
      "Floating number,gravity 9.81\n"
     ]
    }
   ],
   "source": [
    "print('Floating number,PI',3.14)\n",
    "print('Floating number,gravity',9.81)"
   ]
  },
  {
   "cell_type": "code",
   "execution_count": 318,
   "id": "bbeb2477-8911-4887-bb15-a6ca4b53a49d",
   "metadata": {},
   "outputs": [
    {
     "name": "stdout",
     "output_type": "stream",
     "text": [
      "Complex number:  (1+1j)\n",
      "Multiplying complex number:  (2+0j)\n"
     ]
    }
   ],
   "source": [
    "print('Complex number: ',1+1j)\n",
    "print('Multiplying complex number: ',(1+1j)*(1-1j))"
   ]
  },
  {
   "cell_type": "code",
   "execution_count": 320,
   "id": "d0f05b60-1c26-435f-80b7-2928864a3597",
   "metadata": {},
   "outputs": [],
   "source": [
    "a=3\n",
    "b=2"
   ]
  },
  {
   "cell_type": "markdown",
   "id": "3413f439-bd1e-42c6-b71f-3fce84a9ca62",
   "metadata": {},
   "source": [
    "# Arithmetic Operators \n",
    "- Addition +\n",
    "- Subtraction -\n",
    "- Multiplication *\n",
    "- Division /\n",
    "- Floor division //\n",
    "- Modulus %\n",
    "- Exponential **"
   ]
  },
  {
   "cell_type": "code",
   "execution_count": 322,
   "id": "403a05c8-9981-498d-becb-597c4b3d1dce",
   "metadata": {},
   "outputs": [
    {
     "name": "stdout",
     "output_type": "stream",
     "text": [
      "a + b =  5\n"
     ]
    }
   ],
   "source": [
    "total=a+b\n",
    "print('a + b = ',total)"
   ]
  },
  {
   "cell_type": "code",
   "execution_count": 326,
   "id": "7d227849-7021-4c08-936e-1f34acf6efc9",
   "metadata": {},
   "outputs": [
    {
     "name": "stdout",
     "output_type": "stream",
     "text": [
      "a - b =  1\n"
     ]
    }
   ],
   "source": [
    "print('a - b = ',a-b)"
   ]
  },
  {
   "cell_type": "code",
   "execution_count": 328,
   "id": "11366ba0-aeaa-429d-9b34-419ecf092777",
   "metadata": {},
   "outputs": [
    {
     "name": "stdout",
     "output_type": "stream",
     "text": [
      "a * b =  6\n"
     ]
    }
   ],
   "source": [
    "print('a * b = ',a*b)"
   ]
  },
  {
   "cell_type": "code",
   "execution_count": 330,
   "id": "ab66a88f-7af7-4a59-aaed-5975efc6e585",
   "metadata": {},
   "outputs": [
    {
     "name": "stdout",
     "output_type": "stream",
     "text": [
      "a / b =  1.5\n"
     ]
    }
   ],
   "source": [
    "print('a / b = ',a/b)"
   ]
  },
  {
   "cell_type": "code",
   "execution_count": 332,
   "id": "7ee7258f-6ec4-45e0-813e-17b8789d09bf",
   "metadata": {},
   "outputs": [
    {
     "name": "stdout",
     "output_type": "stream",
     "text": [
      "a % b =  1\n"
     ]
    }
   ],
   "source": [
    "print('a % b = ',a%b)"
   ]
  },
  {
   "cell_type": "code",
   "execution_count": 334,
   "id": "8de57541-ebc7-41ea-9d2f-a3e57ad5cb5d",
   "metadata": {},
   "outputs": [
    {
     "name": "stdout",
     "output_type": "stream",
     "text": [
      "a // b =  1\n"
     ]
    }
   ],
   "source": [
    "print('a // b = ',a//b)"
   ]
  },
  {
   "cell_type": "code",
   "execution_count": 336,
   "id": "7dbc92f3-1412-4e8d-b410-9f641129c4c7",
   "metadata": {},
   "outputs": [
    {
     "name": "stdout",
     "output_type": "stream",
     "text": [
      "a ** b =  9\n"
     ]
    }
   ],
   "source": [
    "print('a ** b = ',a**b)"
   ]
  },
  {
   "cell_type": "code",
   "execution_count": 341,
   "id": "43a6076f-42eb-43af-aa92-b696a2fb73f4",
   "metadata": {},
   "outputs": [
    {
     "name": "stdout",
     "output_type": "stream",
     "text": [
      "Area of circle:  314.0\n"
     ]
    }
   ],
   "source": [
    "radius=10\n",
    "area=3.14 * radius ** 2\n",
    "print('Area of circle: ',area)"
   ]
  },
  {
   "cell_type": "code",
   "execution_count": 343,
   "id": "0084b962-557b-421d-87aa-e72912180f69",
   "metadata": {},
   "outputs": [
    {
     "name": "stdout",
     "output_type": "stream",
     "text": [
      "Area of rectangle:  200\n"
     ]
    }
   ],
   "source": [
    "len=10\n",
    "wid=20\n",
    "area=len*wid\n",
    "print('Area of rectangle: ',area)"
   ]
  },
  {
   "cell_type": "markdown",
   "id": "0592a594-ab2a-467f-95ed-7f860917eca5",
   "metadata": {},
   "source": [
    "# Boolean Comparison"
   ]
  },
  {
   "cell_type": "code",
   "execution_count": 365,
   "id": "f82913cf-8b30-4bb0-96ae-3907ed5a7c93",
   "metadata": {},
   "outputs": [
    {
     "name": "stdout",
     "output_type": "stream",
     "text": [
      "True ==  True:  True\n"
     ]
    }
   ],
   "source": [
    "print('True ==  True: ', True==True)"
   ]
  },
  {
   "cell_type": "code",
   "execution_count": 367,
   "id": "096ca3d3-e549-41d7-ae30-4033dcffb92c",
   "metadata": {},
   "outputs": [
    {
     "name": "stdout",
     "output_type": "stream",
     "text": [
      "False\n"
     ]
    }
   ],
   "source": [
    "print(True==False)"
   ]
  },
  {
   "cell_type": "code",
   "execution_count": 369,
   "id": "7b6dbf7b-9522-4f68-a8d7-e76b8bdececd",
   "metadata": {},
   "outputs": [
    {
     "name": "stdout",
     "output_type": "stream",
     "text": [
      "True\n"
     ]
    }
   ],
   "source": [
    "print(False==False)"
   ]
  },
  {
   "cell_type": "code",
   "execution_count": 371,
   "id": "440296e6-05c7-4cf2-8b39-0f83230ee970",
   "metadata": {},
   "outputs": [
    {
     "name": "stdout",
     "output_type": "stream",
     "text": [
      "True\n"
     ]
    }
   ],
   "source": [
    "print(True and True)"
   ]
  },
  {
   "cell_type": "code",
   "execution_count": 373,
   "id": "a17f9a91-f7c1-4855-b76d-47a9a06706df",
   "metadata": {},
   "outputs": [
    {
     "name": "stdout",
     "output_type": "stream",
     "text": [
      "True\n"
     ]
    }
   ],
   "source": [
    "print(True or False)"
   ]
  },
  {
   "cell_type": "code",
   "execution_count": 383,
   "id": "60e8984f-afc3-46cd-8388-7fbd3e8e207a",
   "metadata": {},
   "outputs": [],
   "source": [
    "#print( 1 is not 2)"
   ]
  },
  {
   "cell_type": "code",
   "execution_count": 385,
   "id": "2ef7cb19-c574-4728-8478-840f13e92ffc",
   "metadata": {},
   "outputs": [
    {
     "name": "stdout",
     "output_type": "stream",
     "text": [
      "True\n"
     ]
    }
   ],
   "source": [
    "print(3>2 and 4>3)"
   ]
  },
  {
   "cell_type": "code",
   "execution_count": 387,
   "id": "27593cf7-4868-4151-a0e2-0b7eaef616d2",
   "metadata": {},
   "outputs": [
    {
     "name": "stdout",
     "output_type": "stream",
     "text": [
      "True\n"
     ]
    }
   ],
   "source": [
    "print(3>2 or 4>3)"
   ]
  },
  {
   "cell_type": "code",
   "execution_count": 389,
   "id": "343ac832-7610-43f1-aa92-0f1e9dab1415",
   "metadata": {},
   "outputs": [
    {
     "name": "stdout",
     "output_type": "stream",
     "text": [
      "True\n"
     ]
    }
   ],
   "source": [
    "print(3>2 or 4<3)"
   ]
  },
  {
   "cell_type": "code",
   "execution_count": 391,
   "id": "1603a65c-b3c4-4224-850b-bf4df5a6e47e",
   "metadata": {},
   "outputs": [
    {
     "name": "stdout",
     "output_type": "stream",
     "text": [
      "False\n"
     ]
    }
   ],
   "source": [
    "print(not 3>2)"
   ]
  },
  {
   "cell_type": "code",
   "execution_count": 393,
   "id": "70e3594b-de3b-48d5-81e0-848df5b12141",
   "metadata": {},
   "outputs": [
    {
     "name": "stdout",
     "output_type": "stream",
     "text": [
      "False\n"
     ]
    }
   ],
   "source": [
    "print(not True)"
   ]
  },
  {
   "cell_type": "code",
   "execution_count": 395,
   "id": "1b482ec8-0b59-41f6-b889-60a80a07b967",
   "metadata": {},
   "outputs": [
    {
     "name": "stdout",
     "output_type": "stream",
     "text": [
      "True\n"
     ]
    }
   ],
   "source": [
    "print(not not True)"
   ]
  },
  {
   "cell_type": "code",
   "execution_count": 397,
   "id": "3755c829-6c9a-4169-a563-2c4f6fe0121d",
   "metadata": {},
   "outputs": [
    {
     "name": "stdout",
     "output_type": "stream",
     "text": [
      "False\n"
     ]
    }
   ],
   "source": [
    "print(not not False)"
   ]
  },
  {
   "cell_type": "markdown",
   "id": "75f7d784-6220-4a59-a7a5-a48382f7effe",
   "metadata": {},
   "source": [
    "# Assignment Operators\n",
    "- += : Add & assign\n",
    "- -= : Subtract & assign\n",
    "- *= : Multiply & assign\n",
    "- /= : Divide & assign\n",
    "- //= : floor division & assign\n",
    "- %= : Modulus & assign\n",
    "- **= : Exponent & assign"
   ]
  },
  {
   "cell_type": "code",
   "execution_count": 1,
   "id": "82e6424b-8c05-49db-8285-685801a4865e",
   "metadata": {},
   "outputs": [],
   "source": [
    "x=2"
   ]
  },
  {
   "cell_type": "code",
   "execution_count": 3,
   "id": "f3bd13cd-96a5-4223-a2a6-11c7de240ddc",
   "metadata": {},
   "outputs": [
    {
     "data": {
      "text/plain": [
       "4"
      ]
     },
     "execution_count": 3,
     "metadata": {},
     "output_type": "execute_result"
    }
   ],
   "source": [
    "x=x+2\n",
    "x"
   ]
  },
  {
   "cell_type": "code",
   "execution_count": 4,
   "id": "01a2c678-d6d5-4b58-958e-b7f077078019",
   "metadata": {},
   "outputs": [
    {
     "data": {
      "text/plain": [
       "6"
      ]
     },
     "execution_count": 4,
     "metadata": {},
     "output_type": "execute_result"
    }
   ],
   "source": [
    "x+=2\n",
    "x"
   ]
  },
  {
   "cell_type": "code",
   "execution_count": 7,
   "id": "9ab8d6b7-5e98-4f8b-9d74-083010a20325",
   "metadata": {},
   "outputs": [
    {
     "data": {
      "text/plain": [
       "8"
      ]
     },
     "execution_count": 7,
     "metadata": {},
     "output_type": "execute_result"
    }
   ],
   "source": [
    "x+=2\n",
    "x"
   ]
  },
  {
   "cell_type": "code",
   "execution_count": 9,
   "id": "91339aeb-587c-41a3-b3a7-eac58659d693",
   "metadata": {},
   "outputs": [
    {
     "data": {
      "text/plain": [
       "16"
      ]
     },
     "execution_count": 9,
     "metadata": {},
     "output_type": "execute_result"
    }
   ],
   "source": [
    "x*=2\n",
    "x"
   ]
  },
  {
   "cell_type": "code",
   "execution_count": 11,
   "id": "11a94dbc-bc98-4142-bb38-bb170fec6180",
   "metadata": {},
   "outputs": [
    {
     "data": {
      "text/plain": [
       "14"
      ]
     },
     "execution_count": 11,
     "metadata": {},
     "output_type": "execute_result"
    }
   ],
   "source": [
    "x-=2\n",
    "x"
   ]
  },
  {
   "cell_type": "code",
   "execution_count": 19,
   "id": "4f34dd51-81fc-4568-9697-8b52655f81c1",
   "metadata": {},
   "outputs": [
    {
     "data": {
      "text/plain": [
       "11.0"
      ]
     },
     "execution_count": 19,
     "metadata": {},
     "output_type": "execute_result"
    }
   ],
   "source": [
    "x/=2\n",
    "x"
   ]
  },
  {
   "cell_type": "code",
   "execution_count": 21,
   "id": "8d53b13b-04b1-428c-b32f-47eb9e778822",
   "metadata": {},
   "outputs": [
    {
     "data": {
      "text/plain": [
       "5.0"
      ]
     },
     "execution_count": 21,
     "metadata": {},
     "output_type": "execute_result"
    }
   ],
   "source": [
    "x//=2\n",
    "x"
   ]
  },
  {
   "cell_type": "code",
   "execution_count": 23,
   "id": "6035ead6-2baf-427f-b7d4-29ec37e6b13c",
   "metadata": {},
   "outputs": [],
   "source": [
    "a,b=5,6"
   ]
  },
  {
   "cell_type": "code",
   "execution_count": 25,
   "id": "22e14126-2411-402d-8e5d-d1ad006be172",
   "metadata": {},
   "outputs": [
    {
     "data": {
      "text/plain": [
       "5"
      ]
     },
     "execution_count": 25,
     "metadata": {},
     "output_type": "execute_result"
    }
   ],
   "source": [
    "a"
   ]
  },
  {
   "cell_type": "code",
   "execution_count": 27,
   "id": "c6b15015-4a11-4e71-8483-23cc22ff09af",
   "metadata": {},
   "outputs": [
    {
     "data": {
      "text/plain": [
       "6"
      ]
     },
     "execution_count": 27,
     "metadata": {},
     "output_type": "execute_result"
    }
   ],
   "source": [
    "b"
   ]
  },
  {
   "cell_type": "markdown",
   "id": "327e11aa-cf60-485e-b49e-d4e43470d10b",
   "metadata": {},
   "source": [
    "# Unary Operator\n",
    "- operators that operate on only one operand.\n",
    "- Unary means 1 || binary means 2\n",
    "- Here we are applying unary minus operator(-) on operand n;\n",
    "- the value of m becomes -7,which indicates as a negative value."
   ]
  },
  {
   "cell_type": "code",
   "execution_count": 14,
   "id": "f3d01774-96ec-4b59-83c7-031ec0977987",
   "metadata": {},
   "outputs": [
    {
     "data": {
      "text/plain": [
       "7"
      ]
     },
     "execution_count": 14,
     "metadata": {},
     "output_type": "execute_result"
    }
   ],
   "source": [
    "n=7  #negation\n",
    "n"
   ]
  },
  {
   "cell_type": "code",
   "execution_count": 35,
   "id": "332cc9fc-bc81-46ed-9e15-c73ef550bd9b",
   "metadata": {},
   "outputs": [
    {
     "data": {
      "text/plain": [
       "-7"
      ]
     },
     "execution_count": 35,
     "metadata": {},
     "output_type": "execute_result"
    }
   ],
   "source": [
    "m=-(n)\n",
    "m"
   ]
  },
  {
   "cell_type": "code",
   "execution_count": 37,
   "id": "afe9046b-01d3-4a6c-b338-541fdd6796c2",
   "metadata": {},
   "outputs": [
    {
     "data": {
      "text/plain": [
       "7"
      ]
     },
     "execution_count": 37,
     "metadata": {},
     "output_type": "execute_result"
    }
   ],
   "source": [
    "n"
   ]
  },
  {
   "cell_type": "code",
   "execution_count": 39,
   "id": "0e1fb948-b9bd-4513-83e4-06a581938a51",
   "metadata": {},
   "outputs": [
    {
     "data": {
      "text/plain": [
       "-7"
      ]
     },
     "execution_count": 39,
     "metadata": {},
     "output_type": "execute_result"
    }
   ],
   "source": [
    "-n"
   ]
  },
  {
   "cell_type": "markdown",
   "id": "8b4ae6a4-e4f6-47f7-a1ec-79b2ad7d7e41",
   "metadata": {},
   "source": [
    "# Relational Operator : for comparing\n",
    "- > : Greater than\n",
    "- < : Less than\n",
    "- >= : Greater than or Equal to\n",
    "- <= : Less than or Equal to\n",
    "- == : Equal to\n",
    "- != : Not Equal to"
   ]
  },
  {
   "cell_type": "code",
   "execution_count": 42,
   "id": "366fcd4c-8f8a-4a19-a498-bc5b52a39566",
   "metadata": {},
   "outputs": [],
   "source": [
    "a=5\n",
    "b=6"
   ]
  },
  {
   "cell_type": "code",
   "execution_count": 44,
   "id": "39b4d86e-6e90-44c6-b13e-b81f7fcb2000",
   "metadata": {},
   "outputs": [
    {
     "data": {
      "text/plain": [
       "True"
      ]
     },
     "execution_count": 44,
     "metadata": {},
     "output_type": "execute_result"
    }
   ],
   "source": [
    "a<b"
   ]
  },
  {
   "cell_type": "code",
   "execution_count": 46,
   "id": "fb1b7cad-794d-4bdc-a523-672ce732f08c",
   "metadata": {},
   "outputs": [
    {
     "data": {
      "text/plain": [
       "False"
      ]
     },
     "execution_count": 46,
     "metadata": {},
     "output_type": "execute_result"
    }
   ],
   "source": [
    "a>b"
   ]
  },
  {
   "cell_type": "code",
   "execution_count": 48,
   "id": "3c288850-8fd1-4d1e-a2fb-aff17a4792b6",
   "metadata": {},
   "outputs": [
    {
     "data": {
      "text/plain": [
       "False"
      ]
     },
     "execution_count": 48,
     "metadata": {},
     "output_type": "execute_result"
    }
   ],
   "source": [
    "a==b"
   ]
  },
  {
   "cell_type": "code",
   "execution_count": 50,
   "id": "3fb24c62-618e-4cc7-abcd-8419bdc53516",
   "metadata": {},
   "outputs": [
    {
     "data": {
      "text/plain": [
       "True"
      ]
     },
     "execution_count": 50,
     "metadata": {},
     "output_type": "execute_result"
    }
   ],
   "source": [
    "a!=b"
   ]
  },
  {
   "cell_type": "code",
   "execution_count": 52,
   "id": "7b48799a-0790-43b1-9fe5-9b2bb4197903",
   "metadata": {},
   "outputs": [],
   "source": [
    "b=5"
   ]
  },
  {
   "cell_type": "code",
   "execution_count": 54,
   "id": "2be5e25c-1835-4e37-9742-e888c9bf32e2",
   "metadata": {},
   "outputs": [
    {
     "data": {
      "text/plain": [
       "True"
      ]
     },
     "execution_count": 54,
     "metadata": {},
     "output_type": "execute_result"
    }
   ],
   "source": [
    "a==b"
   ]
  },
  {
   "cell_type": "code",
   "execution_count": 56,
   "id": "16a4551b-1ef4-4bb2-8f61-103c70d6399d",
   "metadata": {},
   "outputs": [
    {
     "data": {
      "text/plain": [
       "True"
      ]
     },
     "execution_count": 56,
     "metadata": {},
     "output_type": "execute_result"
    }
   ],
   "source": [
    "a>=b"
   ]
  },
  {
   "cell_type": "code",
   "execution_count": 58,
   "id": "2eb537c5-8fac-4352-bc36-b72dedea14ae",
   "metadata": {},
   "outputs": [
    {
     "data": {
      "text/plain": [
       "True"
      ]
     },
     "execution_count": 58,
     "metadata": {},
     "output_type": "execute_result"
    }
   ],
   "source": [
    "a<=b"
   ]
  },
  {
   "cell_type": "code",
   "execution_count": 60,
   "id": "a24f746e-d148-47e9-a1b8-e3ffcecbc325",
   "metadata": {},
   "outputs": [
    {
     "data": {
      "text/plain": [
       "False"
      ]
     },
     "execution_count": 60,
     "metadata": {},
     "output_type": "execute_result"
    }
   ],
   "source": [
    "a<b"
   ]
  },
  {
   "cell_type": "code",
   "execution_count": 62,
   "id": "eff3bedf-cc97-4a99-b34a-3759cb4cfe39",
   "metadata": {},
   "outputs": [
    {
     "data": {
      "text/plain": [
       "False"
      ]
     },
     "execution_count": 62,
     "metadata": {},
     "output_type": "execute_result"
    }
   ],
   "source": [
    "a>b"
   ]
  },
  {
   "cell_type": "code",
   "execution_count": 64,
   "id": "edea11d9-f74e-40a0-8493-1e644bccc5cf",
   "metadata": {},
   "outputs": [],
   "source": [
    "b=7"
   ]
  },
  {
   "cell_type": "code",
   "execution_count": 66,
   "id": "b8c4b4c3-feb4-44d7-80ef-051a1fd7abed",
   "metadata": {},
   "outputs": [
    {
     "data": {
      "text/plain": [
       "True"
      ]
     },
     "execution_count": 66,
     "metadata": {},
     "output_type": "execute_result"
    }
   ],
   "source": [
    "a!=b"
   ]
  },
  {
   "cell_type": "markdown",
   "id": "7418df48-0aad-431f-ab54-722aea606e7e",
   "metadata": {},
   "source": [
    "# Logical Operators\n",
    "- And : True and True → True otherwise False\n",
    "- Or : False or False → False otherwise True\n",
    "- Not : not True → False"
   ]
  },
  {
   "cell_type": "code",
   "execution_count": 70,
   "id": "723ee2e9-263f-4f29-b20c-e119dd280602",
   "metadata": {},
   "outputs": [],
   "source": [
    "a=5\n",
    "b=4"
   ]
  },
  {
   "cell_type": "code",
   "execution_count": 72,
   "id": "33fb4c89-6a74-4cad-925a-3d599eed3468",
   "metadata": {},
   "outputs": [
    {
     "data": {
      "text/plain": [
       "True"
      ]
     },
     "execution_count": 72,
     "metadata": {},
     "output_type": "execute_result"
    }
   ],
   "source": [
    "a<8 and b<5"
   ]
  },
  {
   "cell_type": "code",
   "execution_count": 74,
   "id": "623216da-d6d0-4f7b-81cd-9d60cdb166c6",
   "metadata": {},
   "outputs": [
    {
     "data": {
      "text/plain": [
       "False"
      ]
     },
     "execution_count": 74,
     "metadata": {},
     "output_type": "execute_result"
    }
   ],
   "source": [
    "a<8 and b<2"
   ]
  },
  {
   "cell_type": "code",
   "execution_count": 76,
   "id": "cff30615-e71e-468d-85c5-dc9fa53312b0",
   "metadata": {},
   "outputs": [
    {
     "data": {
      "text/plain": [
       "True"
      ]
     },
     "execution_count": 76,
     "metadata": {},
     "output_type": "execute_result"
    }
   ],
   "source": [
    "a<8 or b<2"
   ]
  },
  {
   "cell_type": "code",
   "execution_count": 78,
   "id": "cf29ca4b-e4be-4044-9824-08a1836c5c32",
   "metadata": {},
   "outputs": [
    {
     "data": {
      "text/plain": [
       "False"
      ]
     },
     "execution_count": 78,
     "metadata": {},
     "output_type": "execute_result"
    }
   ],
   "source": [
    "a>8 or b<2"
   ]
  },
  {
   "cell_type": "code",
   "execution_count": 82,
   "id": "6c21a1f7-b15e-45e3-b035-690665363d7d",
   "metadata": {},
   "outputs": [
    {
     "data": {
      "text/plain": [
       "False"
      ]
     },
     "execution_count": 82,
     "metadata": {},
     "output_type": "execute_result"
    }
   ],
   "source": [
    "x=False\n",
    "x"
   ]
  },
  {
   "cell_type": "code",
   "execution_count": 84,
   "id": "849db16d-d443-4f25-b5c5-658bd739c4f8",
   "metadata": {},
   "outputs": [
    {
     "data": {
      "text/plain": [
       "True"
      ]
     },
     "execution_count": 84,
     "metadata": {},
     "output_type": "execute_result"
    }
   ],
   "source": [
    "not x"
   ]
  },
  {
   "cell_type": "markdown",
   "id": "ccc51f3a-2602-4699-ac21-b86f67e3b228",
   "metadata": {},
   "source": [
    "# Swipe 2 variables"
   ]
  },
  {
   "cell_type": "code",
   "execution_count": 258,
   "id": "f28f23a3-689d-48eb-88aa-ceb1478406ce",
   "metadata": {},
   "outputs": [
    {
     "name": "stdout",
     "output_type": "stream",
     "text": [
      "5\n",
      "6\n",
      "6\n",
      "5\n"
     ]
    }
   ],
   "source": [
    "#without 3rd variable\n",
    "a=5\n",
    "b=6\n",
    "print(a)\n",
    "print(b)\n",
    "\n",
    "a,b = b,a \n",
    "print(a)\n",
    "print (b)"
   ]
  },
  {
   "cell_type": "code",
   "execution_count": 260,
   "id": "922f60ae-a4de-4e27-ae1b-3b44ef8e05ae",
   "metadata": {},
   "outputs": [
    {
     "name": "stdout",
     "output_type": "stream",
     "text": [
      "3\n",
      "5\n",
      "5\n",
      "3\n"
     ]
    }
   ],
   "source": [
    "#using 3rd variable\n",
    "x=3\n",
    "y=5\n",
    "print(x)\n",
    "print(y)\n",
    "temp=x\n",
    "x=y\n",
    "y=temp\n",
    "print(x)\n",
    "print(y)"
   ]
  },
  {
   "cell_type": "code",
   "execution_count": null,
   "id": "5ebc6220-4dc6-4350-8503-0f3bde3cbe2c",
   "metadata": {},
   "outputs": [],
   "source": []
  }
 ],
 "metadata": {
  "kernelspec": {
   "display_name": "Python 3 (ipykernel)",
   "language": "python",
   "name": "python3"
  },
  "language_info": {
   "codemirror_mode": {
    "name": "ipython",
    "version": 3
   },
   "file_extension": ".py",
   "mimetype": "text/x-python",
   "name": "python",
   "nbconvert_exporter": "python",
   "pygments_lexer": "ipython3",
   "version": "3.12.4"
  }
 },
 "nbformat": 4,
 "nbformat_minor": 5
}
