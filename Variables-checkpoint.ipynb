{
 "cells": [
  {
   "cell_type": "markdown",
   "id": "1b76925b-2390-41e8-95e5-102bc4174944",
   "metadata": {},
   "source": [
    "# SYNTAX : variable_name : value"
   ]
  },
  {
   "cell_type": "markdown",
   "id": "2a63ed8e-ff6b-421a-9e9f-661469e9a818",
   "metadata": {},
   "source": [
    "- Storing and printing"
   ]
  },
  {
   "cell_type": "code",
   "execution_count": 18,
   "id": "8a95550f-4cfe-4038-9676-e48bf54aeb85",
   "metadata": {},
   "outputs": [
    {
     "data": {
      "text/plain": [
       "5"
      ]
     },
     "execution_count": 18,
     "metadata": {},
     "output_type": "execute_result"
    }
   ],
   "source": [
    "a=5  #Here, a is variable name and 5 is value.\n",
    "a"
   ]
  },
  {
   "cell_type": "code",
   "execution_count": 20,
   "id": "98d6fb5c-7612-439a-8f28-968c705b3f1d",
   "metadata": {},
   "outputs": [
    {
     "data": {
      "text/plain": [
       "int"
      ]
     },
     "execution_count": 20,
     "metadata": {},
     "output_type": "execute_result"
    }
   ],
   "source": [
    "type(a)  #using type() we can find type of variable."
   ]
  },
  {
   "cell_type": "code",
   "execution_count": 7,
   "id": "af2c90a5-b280-4ecf-bc69-7f7e8e32e163",
   "metadata": {},
   "outputs": [
    {
     "data": {
      "text/plain": [
       "140705696987704"
      ]
     },
     "execution_count": 7,
     "metadata": {},
     "output_type": "execute_result"
    }
   ],
   "source": [
    "id(a)"
   ]
  },
  {
   "cell_type": "markdown",
   "id": "bb392ab9-cc59-4c31-9ac1-08ddae8cc560",
   "metadata": {},
   "source": [
    "- Using print() function"
   ]
  },
  {
   "cell_type": "code",
   "execution_count": 3,
   "id": "426fe790-039e-43bc-8cb2-63b47804e811",
   "metadata": {},
   "outputs": [
    {
     "name": "stdout",
     "output_type": "stream",
     "text": [
      "25\n"
     ]
    }
   ],
   "source": [
    "age=25\n",
    "print(age)"
   ]
  },
  {
   "cell_type": "code",
   "execution_count": 1,
   "id": "8b88b869-0421-434e-b5d9-cfec2f1b58de",
   "metadata": {},
   "outputs": [
    {
     "name": "stdout",
     "output_type": "stream",
     "text": [
      "Sneha\n"
     ]
    }
   ],
   "source": [
    "name=\"Sneha\"\n",
    "print(name)"
   ]
  },
  {
   "cell_type": "code",
   "execution_count": 7,
   "id": "21584c8b-ecd8-4f7d-8d4a-57e64d64ec9b",
   "metadata": {},
   "outputs": [
    {
     "name": "stdout",
     "output_type": "stream",
     "text": [
      "19.99\n"
     ]
    }
   ],
   "source": [
    "price=19.99\n",
    "print(price)"
   ]
  },
  {
   "cell_type": "code",
   "execution_count": 9,
   "id": "2e9e998e-eae0-4128-8a60-c7a497445d71",
   "metadata": {},
   "outputs": [
    {
     "name": "stdout",
     "output_type": "stream",
     "text": [
      "True\n"
     ]
    }
   ],
   "source": [
    "is_active=True\n",
    "print(is_active)"
   ]
  },
  {
   "cell_type": "code",
   "execution_count": 11,
   "id": "1d8f98fc-9764-4503-aca6-56abf85536de",
   "metadata": {},
   "outputs": [
    {
     "name": "stdout",
     "output_type": "stream",
     "text": [
      "10\n"
     ]
    }
   ],
   "source": [
    "x=10\n",
    "print(x)"
   ]
  },
  {
   "cell_type": "code",
   "execution_count": 13,
   "id": "ae60836e-467d-497e-84ee-8761c35f7a0a",
   "metadata": {},
   "outputs": [
    {
     "name": "stdout",
     "output_type": "stream",
     "text": [
      "8\n"
     ]
    }
   ],
   "source": [
    "a=5\n",
    "b=3\n",
    "result=a+b\n",
    "print(result)"
   ]
  },
  {
   "cell_type": "code",
   "execution_count": 15,
   "id": "ceec93a4-63bf-4664-a3e3-8bc641719f3d",
   "metadata": {},
   "outputs": [
    {
     "name": "stdout",
     "output_type": "stream",
     "text": [
      "50\n"
     ]
    }
   ],
   "source": [
    "score=50\n",
    "print(score)"
   ]
  },
  {
   "cell_type": "code",
   "execution_count": 17,
   "id": "e813023c-5fd0-4773-ab07-7c98bfd21f2b",
   "metadata": {},
   "outputs": [
    {
     "name": "stdout",
     "output_type": "stream",
     "text": [
      "100\n"
     ]
    }
   ],
   "source": [
    "score=100\n",
    "print(score)"
   ]
  },
  {
   "cell_type": "code",
   "execution_count": 3,
   "id": "8c816d89-a584-4593-b94f-42a6b864f83e",
   "metadata": {},
   "outputs": [
    {
     "name": "stdout",
     "output_type": "stream",
     "text": [
      "Sneha Shinde\n"
     ]
    }
   ],
   "source": [
    "first_name=\"Sneha\"\n",
    "last_name=\"Shinde\"\n",
    "full_name=first_name+\" \"+ last_name\n",
    "print(full_name)"
   ]
  },
  {
   "cell_type": "code",
   "execution_count": 25,
   "id": "11efb266-a069-4d2d-b87e-480798dd303c",
   "metadata": {},
   "outputs": [
    {
     "name": "stdout",
     "output_type": "stream",
     "text": [
      "50\n"
     ]
    }
   ],
   "source": [
    "len=10\n",
    "wid=5\n",
    "area=len*wid\n",
    "print(area)"
   ]
  },
  {
   "cell_type": "code",
   "execution_count": 27,
   "id": "548c9f0a-9b1b-453e-85fd-beeb1c926603",
   "metadata": {},
   "outputs": [
    {
     "name": "stdout",
     "output_type": "stream",
     "text": [
      "10\n"
     ]
    }
   ],
   "source": [
    "x=10\n",
    "print(x)"
   ]
  },
  {
   "cell_type": "code",
   "execution_count": 29,
   "id": "5bc310d8-b4c8-46a2-b107-bf9912de17ba",
   "metadata": {},
   "outputs": [
    {
     "name": "stdout",
     "output_type": "stream",
     "text": [
      "20\n"
     ]
    }
   ],
   "source": [
    "x=20\n",
    "print(x)"
   ]
  },
  {
   "cell_type": "markdown",
   "id": "284f5f2e-91f4-41c6-bcf2-7b6dccd5de1f",
   "metadata": {},
   "source": [
    "# Rules to define python variables\n",
    "- Combination of letters,digits,underscore(_).\n",
    "- Variable name cannot start with a digit.\n",
    "- Keyword is not used as variable name.\n",
    "- It is case-sensitive.\n",
    "- No special symbol is used instead (_).\n",
    "- Variable name can be of any length."
   ]
  },
  {
   "cell_type": "code",
   "execution_count": 10,
   "id": "2b70d908-69d5-44ee-ba26-15b9935164f2",
   "metadata": {},
   "outputs": [
    {
     "data": {
      "text/plain": [
       "23"
      ]
     },
     "execution_count": 10,
     "metadata": {},
     "output_type": "execute_result"
    }
   ],
   "source": [
    "v=23 \n",
    "v"
   ]
  },
  {
   "cell_type": "code",
   "execution_count": 9,
   "id": "e2a49361-a654-469d-9cc5-40f7be8216df",
   "metadata": {},
   "outputs": [],
   "source": [
    "# 1v=34   #cannot start with a digit\n",
    "# 1v"
   ]
  },
  {
   "cell_type": "code",
   "execution_count": 20,
   "id": "35712324-93d1-49a2-b385-14157be6abcb",
   "metadata": {},
   "outputs": [
    {
     "data": {
      "text/plain": [
       "50"
      ]
     },
     "execution_count": 20,
     "metadata": {},
     "output_type": "execute_result"
    }
   ],
   "source": [
    "v_1=50  #combination of digits,letters and underscore\n",
    "v_1"
   ]
  },
  {
   "cell_type": "code",
   "execution_count": 11,
   "id": "b620a8ff-0b56-478c-ad51-d469eaae391d",
   "metadata": {},
   "outputs": [],
   "source": [
    "# def=78   #keyword is not used as variable name\n",
    "# def"
   ]
  },
  {
   "cell_type": "code",
   "execution_count": 22,
   "id": "de048905-9db9-40c2-be64-95ebcb2fa553",
   "metadata": {},
   "outputs": [
    {
     "data": {
      "text/plain": [
       "78"
      ]
     },
     "execution_count": 22,
     "metadata": {},
     "output_type": "execute_result"
    }
   ],
   "source": [
    "Def=78    \n",
    "Def"
   ]
  },
  {
   "cell_type": "code",
   "execution_count": 13,
   "id": "e5304cab-24e6-49db-b8aa-90c76944a35c",
   "metadata": {},
   "outputs": [],
   "source": [
    "# NIT=25   #case-sensitive\n",
    "# nit"
   ]
  },
  {
   "cell_type": "code",
   "execution_count": 30,
   "id": "1f30504f-9202-41c6-966c-08fd4664185a",
   "metadata": {},
   "outputs": [
    {
     "data": {
      "text/plain": [
       "89"
      ]
     },
     "execution_count": 30,
     "metadata": {},
     "output_type": "execute_result"
    }
   ],
   "source": [
    "h_ =89    #no special symbol instead _\n",
    "h_"
   ]
  },
  {
   "cell_type": "code",
   "execution_count": 34,
   "id": "5adbe4be-ff01-4113-b828-ec3d3df8a458",
   "metadata": {},
   "outputs": [
    {
     "data": {
      "text/plain": [
       "2"
      ]
     },
     "execution_count": 34,
     "metadata": {},
     "output_type": "execute_result"
    }
   ],
   "source": [
    "aaaaaaaaaaaaaaaaaaaaaaaaaa=2  #can be of any length\n",
    "aaaaaaaaaaaaaaaaaaaaaaaaaa"
   ]
  },
  {
   "cell_type": "code",
   "execution_count": 36,
   "id": "d2c6fef4-48da-4e97-8096-aabb76fa57ce",
   "metadata": {},
   "outputs": [
    {
     "data": {
      "text/plain": [
       "30"
      ]
     },
     "execution_count": 36,
     "metadata": {},
     "output_type": "execute_result"
    }
   ],
   "source": [
    "a,b,c=10,20,30\n",
    "a\n",
    "b\n",
    "c"
   ]
  },
  {
   "cell_type": "code",
   "execution_count": 38,
   "id": "e8d64e38-527d-4d21-bdab-92fab6acb80a",
   "metadata": {},
   "outputs": [
    {
     "name": "stdout",
     "output_type": "stream",
     "text": [
      "10\n",
      "20\n",
      "30\n"
     ]
    }
   ],
   "source": [
    "print(a)\n",
    "print(b)\n",
    "print(c)"
   ]
  },
  {
   "cell_type": "code",
   "execution_count": 40,
   "id": "be366f0c-6e46-4942-bb34-c2ecb4dc9ab3",
   "metadata": {},
   "outputs": [
    {
     "name": "stdout",
     "output_type": "stream",
     "text": [
      "10 20 30\n"
     ]
    }
   ],
   "source": [
    "print(a,b,c)"
   ]
  },
  {
   "cell_type": "code",
   "execution_count": 1,
   "id": "206c3eef-af10-49f5-a4d0-ad1735f69003",
   "metadata": {},
   "outputs": [],
   "source": [
    "first_name='Sneha'\n",
    "last_name='Shinde'\n",
    "country='india'\n",
    "city='pune'\n",
    "age=20\n",
    "is_married=False\n",
    "skills=['HTML','CSS','Java','Python']\n",
    "personal_info={\n",
    "    'firstname':'sneha',\n",
    "    'lastname':'shinde',\n",
    "    'country':'india',\n",
    "    'city':'pune'\n",
    "}"
   ]
  },
  {
   "cell_type": "code",
   "execution_count": 5,
   "id": "fc91d77f-8a3a-46b6-bc73-173ba5640b9a",
   "metadata": {},
   "outputs": [
    {
     "name": "stdout",
     "output_type": "stream",
     "text": [
      "First name: Sneha\n",
      "First name length: 5\n",
      "Last name: Shinde\n",
      "Last name length: 6\n",
      "Country: india\n",
      "City: pune\n",
      "Age: 20\n",
      "Is married: False\n",
      "Skills: ['HTML', 'CSS', 'Java', 'Python']\n",
      "Personal Information: {'firstname': 'sneha', 'lastname': 'shinde', 'country': 'india', 'city': 'pune'}\n"
     ]
    }
   ],
   "source": [
    "print('First name:',first_name)\n",
    "print('First name length:',len(first_name))\n",
    "print('Last name:',last_name)\n",
    "print('Last name length:',len(last_name))\n",
    "print('Country:',country)\n",
    "print('City:',city)\n",
    "print('Age:',age)\n",
    "print('Is married:',is_married)\n",
    "print('Skills:',skills)\n",
    "print('Personal Information:',personal_info)"
   ]
  },
  {
   "cell_type": "code",
   "execution_count": 7,
   "id": "9ca8e05f-13a4-4ab8-821e-240cfb2a4770",
   "metadata": {},
   "outputs": [
    {
     "data": {
      "text/plain": [
       "('Sneha', 'Shinde', 'india', 20, False)"
      ]
     },
     "execution_count": 7,
     "metadata": {},
     "output_type": "execute_result"
    }
   ],
   "source": [
    "first_name,last_name,country,age,is_married"
   ]
  },
  {
   "cell_type": "code",
   "execution_count": null,
   "id": "4918e77d-a4b6-4062-b459-5d75656b1b7d",
   "metadata": {},
   "outputs": [],
   "source": []
  }
 ],
 "metadata": {
  "kernelspec": {
   "display_name": "Python 3 (ipykernel)",
   "language": "python",
   "name": "python3"
  },
  "language_info": {
   "codemirror_mode": {
    "name": "ipython",
    "version": 3
   },
   "file_extension": ".py",
   "mimetype": "text/x-python",
   "name": "python",
   "nbconvert_exporter": "python",
   "pygments_lexer": "ipython3",
   "version": "3.12.4"
  }
 },
 "nbformat": 4,
 "nbformat_minor": 5
}
