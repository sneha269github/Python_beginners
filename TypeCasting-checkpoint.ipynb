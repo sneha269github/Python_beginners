{
 "cells": [
  {
   "cell_type": "code",
   "execution_count": 1,
   "id": "aa6bdc6b-e0ea-458a-984e-85dd4400adfe",
   "metadata": {},
   "outputs": [
    {
     "data": {
      "text/plain": [
       "2"
      ]
     },
     "execution_count": 1,
     "metadata": {},
     "output_type": "execute_result"
    }
   ],
   "source": [
    "int(2.3)  #converting float to int"
   ]
  },
  {
   "cell_type": "code",
   "execution_count": 3,
   "id": "ddb5dd40-202a-4927-a15b-195651085323",
   "metadata": {},
   "outputs": [
    {
     "data": {
      "text/plain": [
       "1"
      ]
     },
     "execution_count": 3,
     "metadata": {},
     "output_type": "execute_result"
    }
   ],
   "source": [
    "int(True)   #converting bool to int"
   ]
  },
  {
   "cell_type": "code",
   "execution_count": 5,
   "id": "bf4fde24-0ce4-48ab-b676-e9ae0233f8b1",
   "metadata": {},
   "outputs": [],
   "source": [
    "#int(1+2j)     #complex to int cannot cast"
   ]
  },
  {
   "cell_type": "code",
   "execution_count": 7,
   "id": "27b5037e-4cd0-4050-a86e-f4866a93045b",
   "metadata": {},
   "outputs": [
    {
     "data": {
      "text/plain": [
       "10"
      ]
     },
     "execution_count": 7,
     "metadata": {},
     "output_type": "execute_result"
    }
   ],
   "source": [
    "int('10')     #str to int"
   ]
  },
  {
   "cell_type": "code",
   "execution_count": 11,
   "id": "99ab0e36-0989-403e-8e09-ecae7dd9ae7f",
   "metadata": {},
   "outputs": [],
   "source": [
    "#int('ten')  #when string is text we cannot cast it to int"
   ]
  },
  {
   "cell_type": "code",
   "execution_count": 13,
   "id": "01afed20-4acc-4bf4-90cc-1123a473b960",
   "metadata": {},
   "outputs": [
    {
     "data": {
      "text/plain": [
       "100.0"
      ]
     },
     "execution_count": 13,
     "metadata": {},
     "output_type": "execute_result"
    }
   ],
   "source": [
    "float(100)   #int to float"
   ]
  },
  {
   "cell_type": "code",
   "execution_count": 15,
   "id": "528070c8-1fcb-4466-80b8-70396e7d99de",
   "metadata": {},
   "outputs": [
    {
     "data": {
      "text/plain": [
       "0.0"
      ]
     },
     "execution_count": 15,
     "metadata": {},
     "output_type": "execute_result"
    }
   ],
   "source": [
    "float(False)  #bool to float"
   ]
  },
  {
   "cell_type": "code",
   "execution_count": 19,
   "id": "1f6d2962-1705-4ade-9b6b-ae771abfa447",
   "metadata": {},
   "outputs": [],
   "source": [
    "#float(1+2j)  #complex to float cannot cast"
   ]
  },
  {
   "cell_type": "code",
   "execution_count": 21,
   "id": "71789d8c-4e3d-4088-9300-4facb61f96ee",
   "metadata": {},
   "outputs": [
    {
     "data": {
      "text/plain": [
       "10.0"
      ]
     },
     "execution_count": 21,
     "metadata": {},
     "output_type": "execute_result"
    }
   ],
   "source": [
    "float('10')  #str to float"
   ]
  },
  {
   "cell_type": "code",
   "execution_count": 23,
   "id": "2747f037-abd0-4aff-8709-c6659e13e726",
   "metadata": {},
   "outputs": [],
   "source": [
    "#float('ten')  #str to float cannot cast"
   ]
  },
  {
   "cell_type": "code",
   "execution_count": 25,
   "id": "d32c821c-10af-4316-9d88-adc11621536b",
   "metadata": {},
   "outputs": [],
   "source": [
    "#int(10.2,10,9)   #pass only 1 argument while type casting"
   ]
  },
  {
   "cell_type": "code",
   "execution_count": 27,
   "id": "22eb6b6a-9bc1-4095-85f9-a96b208072f2",
   "metadata": {},
   "outputs": [
    {
     "data": {
      "text/plain": [
       "10"
      ]
     },
     "execution_count": 27,
     "metadata": {},
     "output_type": "execute_result"
    }
   ],
   "source": [
    "int(10.2)    #float to int"
   ]
  },
  {
   "cell_type": "code",
   "execution_count": 29,
   "id": "e2b5eae6-cb7d-44bc-937e-43f20fc24ac0",
   "metadata": {},
   "outputs": [
    {
     "data": {
      "text/plain": [
       "(1+0j)"
      ]
     },
     "execution_count": 29,
     "metadata": {},
     "output_type": "execute_result"
    }
   ],
   "source": [
    "complex(1)  #int to complex  a+bj format"
   ]
  },
  {
   "cell_type": "code",
   "execution_count": 31,
   "id": "0b9953f3-00ee-4a6f-be0a-914bc3d141b5",
   "metadata": {},
   "outputs": [
    {
     "data": {
      "text/plain": [
       "(1+2j)"
      ]
     },
     "execution_count": 31,
     "metadata": {},
     "output_type": "execute_result"
    }
   ],
   "source": [
    "complex(1,2)    #1 as a & b as 2."
   ]
  },
  {
   "cell_type": "code",
   "execution_count": 33,
   "id": "89d65070-0a7b-473f-8743-bf3d23778d5a",
   "metadata": {},
   "outputs": [],
   "source": [
    "#complex(1,2,3) #complex cannot take more than 2 arguments"
   ]
  },
  {
   "cell_type": "code",
   "execution_count": 435,
   "id": "23d457cb-a8f7-4e4f-ae65-395e88f9bf00",
   "metadata": {},
   "outputs": [
    {
     "data": {
      "text/plain": [
       "(10.2+23j)"
      ]
     },
     "execution_count": 435,
     "metadata": {},
     "output_type": "execute_result"
    }
   ],
   "source": [
    "complex(10.2,23)"
   ]
  },
  {
   "cell_type": "code",
   "execution_count": 437,
   "id": "40fc1ffd-fc30-4ca0-b346-fcb697683ede",
   "metadata": {},
   "outputs": [
    {
     "data": {
      "text/plain": [
       "(10.2+23.453j)"
      ]
     },
     "execution_count": 437,
     "metadata": {},
     "output_type": "execute_result"
    }
   ],
   "source": [
    "complex(10.2,23.453)"
   ]
  },
  {
   "cell_type": "code",
   "execution_count": 439,
   "id": "7cce3666-6a9c-4375-b920-be47e8d69cc6",
   "metadata": {},
   "outputs": [
    {
     "data": {
      "text/plain": [
       "(1+0j)"
      ]
     },
     "execution_count": 439,
     "metadata": {},
     "output_type": "execute_result"
    }
   ],
   "source": [
    "complex(True,False)"
   ]
  },
  {
   "cell_type": "code",
   "execution_count": 441,
   "id": "b0cbf982-0fab-4cc0-9cc5-57fc21585caa",
   "metadata": {},
   "outputs": [
    {
     "data": {
      "text/plain": [
       "1j"
      ]
     },
     "execution_count": 441,
     "metadata": {},
     "output_type": "execute_result"
    }
   ],
   "source": [
    "complex(False,True)"
   ]
  },
  {
   "cell_type": "code",
   "execution_count": 37,
   "id": "9660805c-7f3d-4f11-981b-067b1c20b211",
   "metadata": {},
   "outputs": [],
   "source": [
    "#complex('10','20')  #pass only 1 string while casting to complex"
   ]
  },
  {
   "cell_type": "code",
   "execution_count": 39,
   "id": "72be0a21-be11-4324-9adf-f670e8f885af",
   "metadata": {},
   "outputs": [
    {
     "data": {
      "text/plain": [
       "(20+0j)"
      ]
     },
     "execution_count": 39,
     "metadata": {},
     "output_type": "execute_result"
    }
   ],
   "source": [
    "complex('20')"
   ]
  },
  {
   "cell_type": "code",
   "execution_count": 5,
   "id": "36d6912e-b9da-4136-a59e-745c2fcefa88",
   "metadata": {},
   "outputs": [
    {
     "data": {
      "text/plain": [
       "'10'"
      ]
     },
     "execution_count": 5,
     "metadata": {},
     "output_type": "execute_result"
    }
   ],
   "source": [
    "str(10)    #int to str"
   ]
  },
  {
   "cell_type": "code",
   "execution_count": 41,
   "id": "05ed2119-d2c9-4837-a489-d4e4d85597e4",
   "metadata": {},
   "outputs": [
    {
     "data": {
      "text/plain": [
       "'101.1'"
      ]
     },
     "execution_count": 41,
     "metadata": {},
     "output_type": "execute_result"
    }
   ],
   "source": [
    "str(101.10)   #float to str"
   ]
  },
  {
   "cell_type": "code",
   "execution_count": 43,
   "id": "93257b4f-7e29-4cd6-9d9d-9c7b818da0b8",
   "metadata": {},
   "outputs": [
    {
     "data": {
      "text/plain": [
       "'True'"
      ]
     },
     "execution_count": 43,
     "metadata": {},
     "output_type": "execute_result"
    }
   ],
   "source": [
    "str(True)      #bool to str"
   ]
  },
  {
   "cell_type": "code",
   "execution_count": 45,
   "id": "e43a771e-5beb-453a-8cc0-3f90969cab47",
   "metadata": {},
   "outputs": [
    {
     "data": {
      "text/plain": [
       "'(1+2j)'"
      ]
     },
     "execution_count": 45,
     "metadata": {},
     "output_type": "execute_result"
    }
   ],
   "source": [
    "str(1+2j)      #complex to str"
   ]
  },
  {
   "cell_type": "code",
   "execution_count": 47,
   "id": "2750806b-2ff6-462e-952d-d0237d478300",
   "metadata": {},
   "outputs": [
    {
     "data": {
      "text/plain": [
       "True"
      ]
     },
     "execution_count": 47,
     "metadata": {},
     "output_type": "execute_result"
    }
   ],
   "source": [
    "bool(10)       #non-zero no. will be True here."
   ]
  },
  {
   "cell_type": "code",
   "execution_count": 49,
   "id": "10016ed7-54d5-4384-a498-720b7100805b",
   "metadata": {},
   "outputs": [
    {
     "data": {
      "text/plain": [
       "False"
      ]
     },
     "execution_count": 49,
     "metadata": {},
     "output_type": "execute_result"
    }
   ],
   "source": [
    "bool(0)      #0 will be False. "
   ]
  },
  {
   "cell_type": "code",
   "execution_count": 17,
   "id": "596b0c12-18b8-499c-b4f7-b76e8c30bd25",
   "metadata": {},
   "outputs": [
    {
     "data": {
      "text/plain": [
       "False"
      ]
     },
     "execution_count": 17,
     "metadata": {},
     "output_type": "execute_result"
    }
   ],
   "source": [
    "bool()    #empty space will be False."
   ]
  },
  {
   "cell_type": "code",
   "execution_count": 19,
   "id": "eeaebb3d-5b47-4271-ae9c-46056987550b",
   "metadata": {},
   "outputs": [
    {
     "data": {
      "text/plain": [
       "True"
      ]
     },
     "execution_count": 19,
     "metadata": {},
     "output_type": "execute_result"
    }
   ],
   "source": [
    "bool(2.3)"
   ]
  },
  {
   "cell_type": "code",
   "execution_count": 21,
   "id": "131563b0-8d6c-4781-86cc-055bdf772ba9",
   "metadata": {},
   "outputs": [
    {
     "data": {
      "text/plain": [
       "True"
      ]
     },
     "execution_count": 21,
     "metadata": {},
     "output_type": "execute_result"
    }
   ],
   "source": [
    "bool(1+2j)"
   ]
  },
  {
   "cell_type": "code",
   "execution_count": 23,
   "id": "3fdafa00-8460-4447-aa3b-190a23b6115c",
   "metadata": {},
   "outputs": [
    {
     "data": {
      "text/plain": [
       "True"
      ]
     },
     "execution_count": 23,
     "metadata": {},
     "output_type": "execute_result"
    }
   ],
   "source": [
    "bool('nit')"
   ]
  },
  {
   "cell_type": "code",
   "execution_count": null,
   "id": "95e823cd-ed13-4cd9-a9d8-1af4ba658133",
   "metadata": {},
   "outputs": [],
   "source": []
  }
 ],
 "metadata": {
  "kernelspec": {
   "display_name": "Python 3 (ipykernel)",
   "language": "python",
   "name": "python3"
  },
  "language_info": {
   "codemirror_mode": {
    "name": "ipython",
    "version": 3
   },
   "file_extension": ".py",
   "mimetype": "text/x-python",
   "name": "python",
   "nbconvert_exporter": "python",
   "pygments_lexer": "ipython3",
   "version": "3.12.4"
  }
 },
 "nbformat": 4,
 "nbformat_minor": 5
}
