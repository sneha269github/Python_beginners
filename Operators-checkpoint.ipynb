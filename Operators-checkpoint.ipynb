{
 "cells": [
  {
   "cell_type": "code",
   "execution_count": 294,
   "id": "fe91227c-b288-4728-aea5-460894ac77d1",
   "metadata": {},
   "outputs": [
    {
     "name": "stdout",
     "output_type": "stream",
     "text": [
      "Addition: 3\n"
     ]
    }
   ],
   "source": [
    "add=1+2\n",
    "print('Addition:',add)"
   ]
  },
  {
   "cell_type": "code",
   "execution_count": 296,
   "id": "df37a318-cacf-41d9-a000-11b774ea1a34",
   "metadata": {},
   "outputs": [
    {
     "name": "stdout",
     "output_type": "stream",
     "text": [
      "Subtraction: 2\n"
     ]
    }
   ],
   "source": [
    "sub=3-1\n",
    "print('Subtraction:',sub)"
   ]
  },
  {
   "cell_type": "code",
   "execution_count": 298,
   "id": "b7e38758-571b-496f-9f3b-8d00166fa757",
   "metadata": {},
   "outputs": [
    {
     "name": "stdout",
     "output_type": "stream",
     "text": [
      "Multiplication: 6\n"
     ]
    }
   ],
   "source": [
    "mul=3*2\n",
    "print('Multiplication:',mul)"
   ]
  },
  {
   "cell_type": "code",
   "execution_count": 302,
   "id": "d6cdb0ec-897d-43e3-b434-3c5d93d83f5d",
   "metadata": {},
   "outputs": [
    {
     "name": "stdout",
     "output_type": "stream",
     "text": [
      "Division: 2.0\n"
     ]
    }
   ],
   "source": [
    "div=4/2\n",
    "print('Division:',div)    #division gives a floating no"
   ]
  },
  {
   "cell_type": "code",
   "execution_count": 304,
   "id": "eea6c07f-6e3d-4398-be99-d5b65ddbb18a",
   "metadata": {},
   "outputs": [
    {
     "name": "stdout",
     "output_type": "stream",
     "text": [
      "Division: 3.5\n"
     ]
    }
   ],
   "source": [
    "div=7/2\n",
    "print('Division:',div)"
   ]
  },
  {
   "cell_type": "code",
   "execution_count": 306,
   "id": "74ff8ece-4a5c-402d-a598-9846236c95e1",
   "metadata": {},
   "outputs": [
    {
     "name": "stdout",
     "output_type": "stream",
     "text": [
      "Floor div: 3\n"
     ]
    }
   ],
   "source": [
    "floor=7//2\n",
    "print('Floor div:',floor)"
   ]
  },
  {
   "cell_type": "code",
   "execution_count": 310,
   "id": "8e164700-fa24-42a6-8378-db2a31959921",
   "metadata": {},
   "outputs": [
    {
     "name": "stdout",
     "output_type": "stream",
     "text": [
      "Modulus: 1\n"
     ]
    }
   ],
   "source": [
    "mod=3%2\n",
    "print('Modulus:',mod)"
   ]
  },
  {
   "cell_type": "code",
   "execution_count": 314,
   "id": "d331129c-cc8d-425c-b206-5e938b27cf99",
   "metadata": {},
   "outputs": [
    {
     "name": "stdout",
     "output_type": "stream",
     "text": [
      "Exponential: 9\n"
     ]
    }
   ],
   "source": [
    "exp=3**2\n",
    "print('Exponential:',exp)  #3*3"
   ]
  },
  {
   "cell_type": "code",
   "execution_count": 316,
   "id": "430e6869-fff3-47ed-b469-001775319d1b",
   "metadata": {},
   "outputs": [
    {
     "name": "stdout",
     "output_type": "stream",
     "text": [
      "Floating number,PI 3.14\n",
      "Floating number,gravity 9.81\n"
     ]
    }
   ],
   "source": [
    "print('Floating number,PI',3.14)\n",
    "print('Floating number,gravity',9.81)"
   ]
  },
  {
   "cell_type": "code",
   "execution_count": 318,
   "id": "bbeb2477-8911-4887-bb15-a6ca4b53a49d",
   "metadata": {},
   "outputs": [
    {
     "name": "stdout",
     "output_type": "stream",
     "text": [
      "Complex number:  (1+1j)\n",
      "Multiplying complex number:  (2+0j)\n"
     ]
    }
   ],
   "source": [
    "print('Complex number: ',1+1j)\n",
    "print('Multiplying complex number: ',(1+1j)*(1-1j))"
   ]
  },
  {
   "cell_type": "code",
   "execution_count": 320,
   "id": "d0f05b60-1c26-435f-80b7-2928864a3597",
   "metadata": {},
   "outputs": [],
   "source": [
    "a=3\n",
    "b=2"
   ]
  },
  {
   "cell_type": "markdown",
   "id": "3413f439-bd1e-42c6-b71f-3fce84a9ca62",
   "metadata": {},
   "source": [
    "# Arithmetic Operators \n",
    "- Addition +\n",
    "- Subtraction -\n",
    "- Multiplication *\n",
    "- Division /\n",
    "- Floor division //\n",
    "- Modulus %\n",
    "- Exponential **"
   ]
  },
  {
   "cell_type": "code",
   "execution_count": 322,
   "id": "403a05c8-9981-498d-becb-597c4b3d1dce",
   "metadata": {},
   "outputs": [
    {
     "name": "stdout",
     "output_type": "stream",
     "text": [
      "a + b =  5\n"
     ]
    }
   ],
   "source": [
    "total=a+b\n",
    "print('a + b = ',total)"
   ]
  },
  {
   "cell_type": "code",
   "execution_count": 326,
   "id": "7d227849-7021-4c08-936e-1f34acf6efc9",
   "metadata": {},
   "outputs": [
    {
     "name": "stdout",
     "output_type": "stream",
     "text": [
      "a - b =  1\n"
     ]
    }
   ],
   "source": [
    "print('a - b = ',a-b)"
   ]
  },
  {
   "cell_type": "code",
   "execution_count": 328,
   "id": "11366ba0-aeaa-429d-9b34-419ecf092777",
   "metadata": {},
   "outputs": [
    {
     "name": "stdout",
     "output_type": "stream",
     "text": [
      "a * b =  6\n"
     ]
    }
   ],
   "source": [
    "print('a * b = ',a*b)"
   ]
  },
  {
   "cell_type": "code",
   "execution_count": 330,
   "id": "ab66a88f-7af7-4a59-aaed-5975efc6e585",
   "metadata": {},
   "outputs": [
    {
     "name": "stdout",
     "output_type": "stream",
     "text": [
      "a / b =  1.5\n"
     ]
    }
   ],
   "source": [
    "print('a / b = ',a/b)"
   ]
  },
  {
   "cell_type": "code",
   "execution_count": 332,
   "id": "7ee7258f-6ec4-45e0-813e-17b8789d09bf",
   "metadata": {},
   "outputs": [
    {
     "name": "stdout",
     "output_type": "stream",
     "text": [
      "a % b =  1\n"
     ]
    }
   ],
   "source": [
    "print('a % b = ',a%b)"
   ]
  },
  {
   "cell_type": "code",
   "execution_count": 334,
   "id": "8de57541-ebc7-41ea-9d2f-a3e57ad5cb5d",
   "metadata": {},
   "outputs": [
    {
     "name": "stdout",
     "output_type": "stream",
     "text": [
      "a // b =  1\n"
     ]
    }
   ],
   "source": [
    "print('a // b = ',a//b)"
   ]
  },
  {
   "cell_type": "code",
   "execution_count": 336,
   "id": "7dbc92f3-1412-4e8d-b410-9f641129c4c7",
   "metadata": {},
   "outputs": [
    {
     "name": "stdout",
     "output_type": "stream",
     "text": [
      "a ** b =  9\n"
     ]
    }
   ],
   "source": [
    "print('a ** b = ',a**b)"
   ]
  },
  {
   "cell_type": "code",
   "execution_count": 341,
   "id": "43a6076f-42eb-43af-aa92-b696a2fb73f4",
   "metadata": {},
   "outputs": [
    {
     "name": "stdout",
     "output_type": "stream",
     "text": [
      "Area of circle:  314.0\n"
     ]
    }
   ],
   "source": [
    "radius=10\n",
    "area=3.14 * radius ** 2\n",
    "print('Area of circle: ',area)"
   ]
  },
  {
   "cell_type": "code",
   "execution_count": 343,
   "id": "0084b962-557b-421d-87aa-e72912180f69",
   "metadata": {},
   "outputs": [
    {
     "name": "stdout",
     "output_type": "stream",
     "text": [
      "Area of rectangle:  200\n"
     ]
    }
   ],
   "source": [
    "len=10\n",
    "wid=20\n",
    "area=len*wid\n",
    "print('Area of rectangle: ',area)"
   ]
  },
  {
   "cell_type": "markdown",
   "id": "0592a594-ab2a-467f-95ed-7f860917eca5",
   "metadata": {},
   "source": [
    "# Boolean Comparison"
   ]
  },
  {
   "cell_type": "code",
   "execution_count": 365,
   "id": "f82913cf-8b30-4bb0-96ae-3907ed5a7c93",
   "metadata": {},
   "outputs": [
    {
     "name": "stdout",
     "output_type": "stream",
     "text": [
      "True ==  True:  True\n"
     ]
    }
   ],
   "source": [
    "print('True ==  True: ', True==True)"
   ]
  },
  {
   "cell_type": "code",
   "execution_count": 367,
   "id": "096ca3d3-e549-41d7-ae30-4033dcffb92c",
   "metadata": {},
   "outputs": [
    {
     "name": "stdout",
     "output_type": "stream",
     "text": [
      "False\n"
     ]
    }
   ],
   "source": [
    "print(True==False)"
   ]
  },
  {
   "cell_type": "code",
   "execution_count": 369,
   "id": "7b6dbf7b-9522-4f68-a8d7-e76b8bdececd",
   "metadata": {},
   "outputs": [
    {
     "name": "stdout",
     "output_type": "stream",
     "text": [
      "True\n"
     ]
    }
   ],
   "source": [
    "print(False==False)"
   ]
  },
  {
   "cell_type": "code",
   "execution_count": 371,
   "id": "440296e6-05c7-4cf2-8b39-0f83230ee970",
   "metadata": {},
   "outputs": [
    {
     "name": "stdout",
     "output_type": "stream",
     "text": [
      "True\n"
     ]
    }
   ],
   "source": [
    "print(True and True)"
   ]
  },
  {
   "cell_type": "code",
   "execution_count": 373,
   "id": "a17f9a91-f7c1-4855-b76d-47a9a06706df",
   "metadata": {},
   "outputs": [
    {
     "name": "stdout",
     "output_type": "stream",
     "text": [
      "True\n"
     ]
    }
   ],
   "source": [
    "print(True or False)"
   ]
  },
  {
   "cell_type": "code",
   "execution_count": 383,
   "id": "60e8984f-afc3-46cd-8388-7fbd3e8e207a",
   "metadata": {},
   "outputs": [],
   "source": [
    "#print( 1 is not 2)"
   ]
  },
  {
   "cell_type": "code",
   "execution_count": 385,
   "id": "2ef7cb19-c574-4728-8478-840f13e92ffc",
   "metadata": {},
   "outputs": [
    {
     "name": "stdout",
     "output_type": "stream",
     "text": [
      "True\n"
     ]
    }
   ],
   "source": [
    "print(3>2 and 4>3)"
   ]
  },
  {
   "cell_type": "code",
   "execution_count": 387,
   "id": "27593cf7-4868-4151-a0e2-0b7eaef616d2",
   "metadata": {},
   "outputs": [
    {
     "name": "stdout",
     "output_type": "stream",
     "text": [
      "True\n"
     ]
    }
   ],
   "source": [
    "print(3>2 or 4>3)"
   ]
  },
  {
   "cell_type": "code",
   "execution_count": 389,
   "id": "343ac832-7610-43f1-aa92-0f1e9dab1415",
   "metadata": {},
   "outputs": [
    {
     "name": "stdout",
     "output_type": "stream",
     "text": [
      "True\n"
     ]
    }
   ],
   "source": [
    "print(3>2 or 4<3)"
   ]
  },
  {
   "cell_type": "code",
   "execution_count": 391,
   "id": "1603a65c-b3c4-4224-850b-bf4df5a6e47e",
   "metadata": {},
   "outputs": [
    {
     "name": "stdout",
     "output_type": "stream",
     "text": [
      "False\n"
     ]
    }
   ],
   "source": [
    "print(not 3>2)"
   ]
  },
  {
   "cell_type": "code",
   "execution_count": 393,
   "id": "70e3594b-de3b-48d5-81e0-848df5b12141",
   "metadata": {},
   "outputs": [
    {
     "name": "stdout",
     "output_type": "stream",
     "text": [
      "False\n"
     ]
    }
   ],
   "source": [
    "print(not True)"
   ]
  },
  {
   "cell_type": "code",
   "execution_count": 395,
   "id": "1b482ec8-0b59-41f6-b889-60a80a07b967",
   "metadata": {},
   "outputs": [
    {
     "name": "stdout",
     "output_type": "stream",
     "text": [
      "True\n"
     ]
    }
   ],
   "source": [
    "print(not not True)"
   ]
  },
  {
   "cell_type": "code",
   "execution_count": 397,
   "id": "3755c829-6c9a-4169-a563-2c4f6fe0121d",
   "metadata": {},
   "outputs": [
    {
     "name": "stdout",
     "output_type": "stream",
     "text": [
      "False\n"
     ]
    }
   ],
   "source": [
    "print(not not False)"
   ]
  },
  {
   "cell_type": "markdown",
   "id": "75f7d784-6220-4a59-a7a5-a48382f7effe",
   "metadata": {},
   "source": [
    "# Assignment Operators\n",
    "- += : Add & assign\n",
    "- -= : Subtract & assign\n",
    "- *= : Multiply & assign\n",
    "- /= : Divide & assign\n",
    "- //= : floor division & assign\n",
    "- %= : Modulus & assign\n",
    "- **= : Exponent & assign"
   ]
  },
  {
   "cell_type": "code",
   "execution_count": 1,
   "id": "82e6424b-8c05-49db-8285-685801a4865e",
   "metadata": {},
   "outputs": [],
   "source": [
    "x=2"
   ]
  },
  {
   "cell_type": "code",
   "execution_count": 3,
   "id": "f3bd13cd-96a5-4223-a2a6-11c7de240ddc",
   "metadata": {},
   "outputs": [
    {
     "data": {
      "text/plain": [
       "4"
      ]
     },
     "execution_count": 3,
     "metadata": {},
     "output_type": "execute_result"
    }
   ],
   "source": [
    "x=x+2\n",
    "x"
   ]
  },
  {
   "cell_type": "code",
   "execution_count": 4,
   "id": "01a2c678-d6d5-4b58-958e-b7f077078019",
   "metadata": {},
   "outputs": [
    {
     "data": {
      "text/plain": [
       "6"
      ]
     },
     "execution_count": 4,
     "metadata": {},
     "output_type": "execute_result"
    }
   ],
   "source": [
    "x+=2\n",
    "x"
   ]
  },
  {
   "cell_type": "code",
   "execution_count": 7,
   "id": "9ab8d6b7-5e98-4f8b-9d74-083010a20325",
   "metadata": {},
   "outputs": [
    {
     "data": {
      "text/plain": [
       "8"
      ]
     },
     "execution_count": 7,
     "metadata": {},
     "output_type": "execute_result"
    }
   ],
   "source": [
    "x+=2\n",
    "x"
   ]
  },
  {
   "cell_type": "code",
   "execution_count": 9,
   "id": "91339aeb-587c-41a3-b3a7-eac58659d693",
   "metadata": {},
   "outputs": [
    {
     "data": {
      "text/plain": [
       "16"
      ]
     },
     "execution_count": 9,
     "metadata": {},
     "output_type": "execute_result"
    }
   ],
   "source": [
    "x*=2\n",
    "x"
   ]
  },
  {
   "cell_type": "code",
   "execution_count": 11,
   "id": "11a94dbc-bc98-4142-bb38-bb170fec6180",
   "metadata": {},
   "outputs": [
    {
     "data": {
      "text/plain": [
       "14"
      ]
     },
     "execution_count": 11,
     "metadata": {},
     "output_type": "execute_result"
    }
   ],
   "source": [
    "x-=2\n",
    "x"
   ]
  },
  {
   "cell_type": "code",
   "execution_count": 19,
   "id": "4f34dd51-81fc-4568-9697-8b52655f81c1",
   "metadata": {},
   "outputs": [
    {
     "data": {
      "text/plain": [
       "11.0"
      ]
     },
     "execution_count": 19,
     "metadata": {},
     "output_type": "execute_result"
    }
   ],
   "source": [
    "x/=2\n",
    "x"
   ]
  },
  {
   "cell_type": "code",
   "execution_count": 21,
   "id": "8d53b13b-04b1-428c-b32f-47eb9e778822",
   "metadata": {},
   "outputs": [
    {
     "data": {
      "text/plain": [
       "5.0"
      ]
     },
     "execution_count": 21,
     "metadata": {},
     "output_type": "execute_result"
    }
   ],
   "source": [
    "x//=2\n",
    "x"
   ]
  },
  {
   "cell_type": "code",
   "execution_count": 23,
   "id": "6035ead6-2baf-427f-b7d4-29ec37e6b13c",
   "metadata": {},
   "outputs": [],
   "source": [
    "a,b=5,6"
   ]
  },
  {
   "cell_type": "code",
   "execution_count": 25,
   "id": "22e14126-2411-402d-8e5d-d1ad006be172",
   "metadata": {},
   "outputs": [
    {
     "data": {
      "text/plain": [
       "5"
      ]
     },
     "execution_count": 25,
     "metadata": {},
     "output_type": "execute_result"
    }
   ],
   "source": [
    "a"
   ]
  },
  {
   "cell_type": "code",
   "execution_count": 27,
   "id": "c6b15015-4a11-4e71-8483-23cc22ff09af",
   "metadata": {},
   "outputs": [
    {
     "data": {
      "text/plain": [
       "6"
      ]
     },
     "execution_count": 27,
     "metadata": {},
     "output_type": "execute_result"
    }
   ],
   "source": [
    "b"
   ]
  },
  {
   "cell_type": "markdown",
   "id": "327e11aa-cf60-485e-b49e-d4e43470d10b",
   "metadata": {},
   "source": [
    "# Unary Operator\n",
    "- operators that operate on only one operand.\n",
    "- Unary means 1 || binary means 2\n",
    "- Here we are applying unary minus operator(-) on operand n;\n",
    "- the value of m becomes -7,which indicates as a negative value."
   ]
  },
  {
   "cell_type": "code",
   "execution_count": 14,
   "id": "f3d01774-96ec-4b59-83c7-031ec0977987",
   "metadata": {},
   "outputs": [
    {
     "data": {
      "text/plain": [
       "7"
      ]
     },
     "execution_count": 14,
     "metadata": {},
     "output_type": "execute_result"
    }
   ],
   "source": [
    "n=7  #negation\n",
    "n"
   ]
  },
  {
   "cell_type": "code",
   "execution_count": 35,
   "id": "332cc9fc-bc81-46ed-9e15-c73ef550bd9b",
   "metadata": {},
   "outputs": [
    {
     "data": {
      "text/plain": [
       "-7"
      ]
     },
     "execution_count": 35,
     "metadata": {},
     "output_type": "execute_result"
    }
   ],
   "source": [
    "m=-(n)\n",
    "m"
   ]
  },
  {
   "cell_type": "code",
   "execution_count": 37,
   "id": "afe9046b-01d3-4a6c-b338-541fdd6796c2",
   "metadata": {},
   "outputs": [
    {
     "data": {
      "text/plain": [
       "7"
      ]
     },
     "execution_count": 37,
     "metadata": {},
     "output_type": "execute_result"
    }
   ],
   "source": [
    "n"
   ]
  },
  {
   "cell_type": "code",
   "execution_count": 39,
   "id": "0e1fb948-b9bd-4513-83e4-06a581938a51",
   "metadata": {},
   "outputs": [
    {
     "data": {
      "text/plain": [
       "-7"
      ]
     },
     "execution_count": 39,
     "metadata": {},
     "output_type": "execute_result"
    }
   ],
   "source": [
    "-n"
   ]
  },
  {
   "cell_type": "markdown",
   "id": "8b4ae6a4-e4f6-47f7-a1ec-79b2ad7d7e41",
   "metadata": {},
   "source": [
    "# Relational Operator : for comparing\n",
    "- > : Greater than\n",
    "- < : Less than\n",
    "- >= : Greater than or Equal to\n",
    "- <= : Less than or Equal to\n",
    "- == : Equal to\n",
    "- != : Not Equal to"
   ]
  },
  {
   "cell_type": "code",
   "execution_count": 42,
   "id": "366fcd4c-8f8a-4a19-a498-bc5b52a39566",
   "metadata": {},
   "outputs": [],
   "source": [
    "a=5\n",
    "b=6"
   ]
  },
  {
   "cell_type": "code",
   "execution_count": 44,
   "id": "39b4d86e-6e90-44c6-b13e-b81f7fcb2000",
   "metadata": {},
   "outputs": [
    {
     "data": {
      "text/plain": [
       "True"
      ]
     },
     "execution_count": 44,
     "metadata": {},
     "output_type": "execute_result"
    }
   ],
   "source": [
    "a<b"
   ]
  },
  {
   "cell_type": "code",
   "execution_count": 46,
   "id": "fb1b7cad-794d-4bdc-a523-672ce732f08c",
   "metadata": {},
   "outputs": [
    {
     "data": {
      "text/plain": [
       "False"
      ]
     },
     "execution_count": 46,
     "metadata": {},
     "output_type": "execute_result"
    }
   ],
   "source": [
    "a>b"
   ]
  },
  {
   "cell_type": "code",
   "execution_count": 48,
   "id": "3c288850-8fd1-4d1e-a2fb-aff17a4792b6",
   "metadata": {},
   "outputs": [
    {
     "data": {
      "text/plain": [
       "False"
      ]
     },
     "execution_count": 48,
     "metadata": {},
     "output_type": "execute_result"
    }
   ],
   "source": [
    "a==b"
   ]
  },
  {
   "cell_type": "code",
   "execution_count": 50,
   "id": "3fb24c62-618e-4cc7-abcd-8419bdc53516",
   "metadata": {},
   "outputs": [
    {
     "data": {
      "text/plain": [
       "True"
      ]
     },
     "execution_count": 50,
     "metadata": {},
     "output_type": "execute_result"
    }
   ],
   "source": [
    "a!=b"
   ]
  },
  {
   "cell_type": "code",
   "execution_count": 52,
   "id": "7b48799a-0790-43b1-9fe5-9b2bb4197903",
   "metadata": {},
   "outputs": [],
   "source": [
    "b=5"
   ]
  },
  {
   "cell_type": "code",
   "execution_count": 54,
   "id": "2be5e25c-1835-4e37-9742-e888c9bf32e2",
   "metadata": {},
   "outputs": [
    {
     "data": {
      "text/plain": [
       "True"
      ]
     },
     "execution_count": 54,
     "metadata": {},
     "output_type": "execute_result"
    }
   ],
   "source": [
    "a==b"
   ]
  },
  {
   "cell_type": "code",
   "execution_count": 56,
   "id": "16a4551b-1ef4-4bb2-8f61-103c70d6399d",
   "metadata": {},
   "outputs": [
    {
     "data": {
      "text/plain": [
       "True"
      ]
     },
     "execution_count": 56,
     "metadata": {},
     "output_type": "execute_result"
    }
   ],
   "source": [
    "a>=b"
   ]
  },
  {
   "cell_type": "code",
   "execution_count": 58,
   "id": "2eb537c5-8fac-4352-bc36-b72dedea14ae",
   "metadata": {},
   "outputs": [
    {
     "data": {
      "text/plain": [
       "True"
      ]
     },
     "execution_count": 58,
     "metadata": {},
     "output_type": "execute_result"
    }
   ],
   "source": [
    "a<=b"
   ]
  },
  {
   "cell_type": "code",
   "execution_count": 60,
   "id": "a24f746e-d148-47e9-a1b8-e3ffcecbc325",
   "metadata": {},
   "outputs": [
    {
     "data": {
      "text/plain": [
       "False"
      ]
     },
     "execution_count": 60,
     "metadata": {},
     "output_type": "execute_result"
    }
   ],
   "source": [
    "a<b"
   ]
  },
  {
   "cell_type": "code",
   "execution_count": 62,
   "id": "eff3bedf-cc97-4a99-b34a-3759cb4cfe39",
   "metadata": {},
   "outputs": [
    {
     "data": {
      "text/plain": [
       "False"
      ]
     },
     "execution_count": 62,
     "metadata": {},
     "output_type": "execute_result"
    }
   ],
   "source": [
    "a>b"
   ]
  },
  {
   "cell_type": "code",
   "execution_count": 64,
   "id": "edea11d9-f74e-40a0-8493-1e644bccc5cf",
   "metadata": {},
   "outputs": [],
   "source": [
    "b=7"
   ]
  },
  {
   "cell_type": "code",
   "execution_count": 66,
   "id": "b8c4b4c3-feb4-44d7-80ef-051a1fd7abed",
   "metadata": {},
   "outputs": [
    {
     "data": {
      "text/plain": [
       "True"
      ]
     },
     "execution_count": 66,
     "metadata": {},
     "output_type": "execute_result"
    }
   ],
   "source": [
    "a!=b"
   ]
  },
  {
   "cell_type": "markdown",
   "id": "7418df48-0aad-431f-ab54-722aea606e7e",
   "metadata": {},
   "source": [
    "# Logical Operators\n",
    "- And : True and True → True otherwise False\n",
    "- Or : False or False → False otherwise True\n",
    "- Not : not True → False"
   ]
  },
  {
   "cell_type": "code",
   "execution_count": 70,
   "id": "723ee2e9-263f-4f29-b20c-e119dd280602",
   "metadata": {},
   "outputs": [],
   "source": [
    "a=5\n",
    "b=4"
   ]
  },
  {
   "cell_type": "code",
   "execution_count": 72,
   "id": "33fb4c89-6a74-4cad-925a-3d599eed3468",
   "metadata": {},
   "outputs": [
    {
     "data": {
      "text/plain": [
       "True"
      ]
     },
     "execution_count": 72,
     "metadata": {},
     "output_type": "execute_result"
    }
   ],
   "source": [
    "a<8 and b<5"
   ]
  },
  {
   "cell_type": "code",
   "execution_count": 74,
   "id": "623216da-d6d0-4f7b-81cd-9d60cdb166c6",
   "metadata": {},
   "outputs": [
    {
     "data": {
      "text/plain": [
       "False"
      ]
     },
     "execution_count": 74,
     "metadata": {},
     "output_type": "execute_result"
    }
   ],
   "source": [
    "a<8 and b<2"
   ]
  },
  {
   "cell_type": "code",
   "execution_count": 76,
   "id": "cff30615-e71e-468d-85c5-dc9fa53312b0",
   "metadata": {},
   "outputs": [
    {
     "data": {
      "text/plain": [
       "True"
      ]
     },
     "execution_count": 76,
     "metadata": {},
     "output_type": "execute_result"
    }
   ],
   "source": [
    "a<8 or b<2"
   ]
  },
  {
   "cell_type": "code",
   "execution_count": 78,
   "id": "cf29ca4b-e4be-4044-9824-08a1836c5c32",
   "metadata": {},
   "outputs": [
    {
     "data": {
      "text/plain": [
       "False"
      ]
     },
     "execution_count": 78,
     "metadata": {},
     "output_type": "execute_result"
    }
   ],
   "source": [
    "a>8 or b<2"
   ]
  },
  {
   "cell_type": "code",
   "execution_count": 82,
   "id": "6c21a1f7-b15e-45e3-b035-690665363d7d",
   "metadata": {},
   "outputs": [
    {
     "data": {
      "text/plain": [
       "False"
      ]
     },
     "execution_count": 82,
     "metadata": {},
     "output_type": "execute_result"
    }
   ],
   "source": [
    "x=False\n",
    "x"
   ]
  },
  {
   "cell_type": "code",
   "execution_count": 84,
   "id": "849db16d-d443-4f25-b5c5-658bd739c4f8",
   "metadata": {},
   "outputs": [
    {
     "data": {
      "text/plain": [
       "True"
      ]
     },
     "execution_count": 84,
     "metadata": {},
     "output_type": "execute_result"
    }
   ],
   "source": [
    "not x"
   ]
  },
  {
   "cell_type": "code",
   "execution_count": null,
   "id": "44326e66-e7b3-455d-87fa-54ef3813ee2c",
   "metadata": {},
   "outputs": [],
   "source": []
  }
 ],
 "metadata": {
  "kernelspec": {
   "display_name": "Python 3 (ipykernel)",
   "language": "python",
   "name": "python3"
  },
  "language_info": {
   "codemirror_mode": {
    "name": "ipython",
    "version": 3
   },
   "file_extension": ".py",
   "mimetype": "text/x-python",
   "name": "python",
   "nbconvert_exporter": "python",
   "pygments_lexer": "ipython3",
   "version": "3.12.4"
  }
 },
 "nbformat": 4,
 "nbformat_minor": 5
}
