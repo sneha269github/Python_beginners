{
 "cells": [
  {
   "cell_type": "code",
   "execution_count": null,
   "id": "5c657add-b814-47c2-8af8-4ee0c2fa11dd",
   "metadata": {},
   "outputs": [],
   "source": [
    "Python datastructures -1.Built-in data structures\n",
    "                       2.User-defined data structures"
   ]
  },
  {
   "cell_type": "code",
   "execution_count": null,
   "id": "fcdef178-ecdc-4f83-b279-78c7b07c928d",
   "metadata": {},
   "outputs": [],
   "source": [
    "Data Type--> Need to define only 1 value\n",
    "Data structures--> Declare more than 1 value\n",
    "\n",
    "Data Structures : Collection of data types\n",
    "Matrix : Collection of data structures"
   ]
  },
  {
   "cell_type": "code",
   "execution_count": null,
   "id": "af3875cf-7c02-4e61-8bb4-12cbb4aa1c4e",
   "metadata": {},
   "outputs": [],
   "source": [
    "Python built-in data structures :\n",
    "1.list\n",
    "2.tuple\n",
    "3.set\n",
    "4.dict"
   ]
  },
  {
   "cell_type": "code",
   "execution_count": null,
   "id": "43e2a5f0-1472-4211-8cba-158557d0a43f",
   "metadata": {},
   "outputs": [],
   "source": [
    "list inside list is known as nested list.\n",
    "for inside for is loop is nown as nested for loop."
   ]
  },
  {
   "cell_type": "code",
   "execution_count": null,
   "id": "f238f763-d16d-4517-adaa-33282316cd9a",
   "metadata": {},
   "outputs": [],
   "source": [
    "slicing :\n",
    "1. forward slicing : \n",
    "            [2:7] - left index-2nd index : 7th right indexing\n",
    "            2nd index : (n-1) formula : right index (7-1)\n",
    "            output : 2nd-6th\n",
    "\n",
    "2.backward slicing :\n",
    "            [-7:-1] - left index - 7 : -1-1\n",
    "            output : -7,-6,-5,-4,-3,-2\n",
    "\n",
    "3.step slicing :\n",
    "            [1:10:3] - print element from 1st index to 10th (n-1)\n",
    "            3 should be step count(gap of 3)\n",
    "\n",
    "n=n-1 : This formula should be apply to right index.\n",
    "empty slice : prints all element."
   ]
  },
  {
   "cell_type": "code",
   "execution_count": null,
   "id": "6ed217f3-6ee8-4eab-81ff-8b67155cbb13",
   "metadata": {},
   "outputs": [],
   "source": [
    "String indexing :\n",
    "1.forward indexing : left to right\n",
    "2.backward indexing : right to left"
   ]
  },
  {
   "cell_type": "code",
   "execution_count": null,
   "id": "b8217fab-9123-4fd3-beeb-5e5f44b12e60",
   "metadata": {},
   "outputs": [],
   "source": [
    "list functions-->\n",
    "1.append() : add the element at last\n",
    "            only 1 value user can pass.\n",
    "            multiple data types allowed.\n",
    "2.copy() : copies elements from 1 list to another list.\n",
    "3.remove() : removes 1st element from list\n",
    "4.reverse() : reverse the list"
   ]
  },
  {
   "cell_type": "markdown",
   "id": "e21a4916-935b-4662-959a-40a4686ff0fd",
   "metadata": {},
   "source": [
    "# list"
   ]
  },
  {
   "cell_type": "code",
   "execution_count": null,
   "id": "0eb1fcb6-54bf-4193-8b7f-38c7ef759482",
   "metadata": {},
   "outputs": [],
   "source": [
    "Elements in list are enclosed in square bracket [] and are seprated by comma."
   ]
  },
  {
   "cell_type": "code",
   "execution_count": 42,
   "id": "570dba61-f17a-4d82-9f31-48ae099fe536",
   "metadata": {},
   "outputs": [
    {
     "data": {
      "text/plain": [
       "[]"
      ]
     },
     "execution_count": 42,
     "metadata": {},
     "output_type": "execute_result"
    }
   ],
   "source": [
    "l = []\n",
    "l"
   ]
  },
  {
   "cell_type": "code",
   "execution_count": 44,
   "id": "007d9edd-ab78-420c-824d-a83b968fecce",
   "metadata": {},
   "outputs": [
    {
     "data": {
      "text/plain": [
       "list"
      ]
     },
     "execution_count": 44,
     "metadata": {},
     "output_type": "execute_result"
    }
   ],
   "source": [
    "type(l)"
   ]
  },
  {
   "cell_type": "code",
   "execution_count": 46,
   "id": "d3e4c08c-1d6d-45af-8b91-57c6af536301",
   "metadata": {},
   "outputs": [
    {
     "data": {
      "text/plain": [
       "0"
      ]
     },
     "execution_count": 46,
     "metadata": {},
     "output_type": "execute_result"
    }
   ],
   "source": [
    "len(l)"
   ]
  },
  {
   "cell_type": "code",
   "execution_count": 48,
   "id": "93b2230c-85d5-43e2-b77a-2f5c4130bc0f",
   "metadata": {},
   "outputs": [],
   "source": [
    "l.append(10)"
   ]
  },
  {
   "cell_type": "code",
   "execution_count": 50,
   "id": "82807ff8-c1b5-48bd-bf57-db192a7c7405",
   "metadata": {},
   "outputs": [
    {
     "data": {
      "text/plain": [
       "[10]"
      ]
     },
     "execution_count": 50,
     "metadata": {},
     "output_type": "execute_result"
    }
   ],
   "source": [
    "l"
   ]
  },
  {
   "cell_type": "code",
   "execution_count": 52,
   "id": "02ef5935-2574-42a2-b246-c8d33b770fef",
   "metadata": {},
   "outputs": [
    {
     "data": {
      "text/plain": [
       "1"
      ]
     },
     "execution_count": 52,
     "metadata": {},
     "output_type": "execute_result"
    }
   ],
   "source": [
    "len(l)"
   ]
  },
  {
   "cell_type": "code",
   "execution_count": 54,
   "id": "0f505086-ba0c-4685-a97c-243a29209f66",
   "metadata": {},
   "outputs": [],
   "source": [
    "#l.append(10,20,30,40) #only 1 value we can pass"
   ]
  },
  {
   "cell_type": "code",
   "execution_count": 56,
   "id": "31139ba6-10d9-44c3-9ed0-e70af806bd30",
   "metadata": {},
   "outputs": [],
   "source": [
    "l.append(10)\n",
    "l.append(20)\n",
    "l.append(30)\n",
    "l.append(40)"
   ]
  },
  {
   "cell_type": "code",
   "execution_count": 58,
   "id": "1db193d7-984c-44db-b657-d1d2b0370eb7",
   "metadata": {},
   "outputs": [
    {
     "data": {
      "text/plain": [
       "[10, 10, 20, 30, 40]"
      ]
     },
     "execution_count": 58,
     "metadata": {},
     "output_type": "execute_result"
    }
   ],
   "source": [
    "l"
   ]
  },
  {
   "cell_type": "code",
   "execution_count": 60,
   "id": "b6542998-38c3-48fc-8ec9-22c3f5e38710",
   "metadata": {},
   "outputs": [],
   "source": [
    "l1=[]"
   ]
  },
  {
   "cell_type": "code",
   "execution_count": 62,
   "id": "4891c607-a8e3-4474-95e9-e4fb2198e6ff",
   "metadata": {},
   "outputs": [],
   "source": [
    "l1.append(70)\n",
    "l1.append(2.3)\n",
    "l1.append(True)\n",
    "l1.append('1+2j')\n",
    "l1.append([1,2,3])   # multiple data types are allowed"
   ]
  },
  {
   "cell_type": "code",
   "execution_count": 64,
   "id": "db8dc018-46c4-4861-8363-121e4fca2112",
   "metadata": {},
   "outputs": [
    {
     "data": {
      "text/plain": [
       "[70, 2.3, True, '1+2j', [1, 2, 3]]"
      ]
     },
     "execution_count": 64,
     "metadata": {},
     "output_type": "execute_result"
    }
   ],
   "source": [
    "l1"
   ]
  },
  {
   "cell_type": "code",
   "execution_count": 66,
   "id": "ec8f0610-31d0-4469-be5f-55d1af3df765",
   "metadata": {},
   "outputs": [
    {
     "name": "stdout",
     "output_type": "stream",
     "text": [
      "[10, 10, 20, 30, 40]\n",
      "[70, 2.3, True, '1+2j', [1, 2, 3]]\n"
     ]
    }
   ],
   "source": [
    "print(l)\n",
    "print(l1)"
   ]
  },
  {
   "cell_type": "code",
   "execution_count": 68,
   "id": "39917378-6a4f-4d21-b7dd-0669ec9a43c1",
   "metadata": {},
   "outputs": [
    {
     "name": "stdout",
     "output_type": "stream",
     "text": [
      "2552531793856\n",
      "2552531762048\n"
     ]
    }
   ],
   "source": [
    "print(id(l))\n",
    "print(id(l1))"
   ]
  },
  {
   "cell_type": "code",
   "execution_count": 70,
   "id": "c187cd46-6702-4720-bc87-4ce176f8e4ed",
   "metadata": {},
   "outputs": [
    {
     "name": "stdout",
     "output_type": "stream",
     "text": [
      "5\n",
      "5\n"
     ]
    }
   ],
   "source": [
    "print(len(l))\n",
    "print(len(l1))"
   ]
  },
  {
   "cell_type": "code",
   "execution_count": 72,
   "id": "681b6c37-19f2-468b-8562-14e8c746c6ec",
   "metadata": {},
   "outputs": [
    {
     "data": {
      "text/plain": [
       "[70, 2.3, True, '1+2j', [1, 2, 3]]"
      ]
     },
     "execution_count": 72,
     "metadata": {},
     "output_type": "execute_result"
    }
   ],
   "source": [
    "l1"
   ]
  },
  {
   "cell_type": "code",
   "execution_count": 74,
   "id": "ceae8c18-75c2-4677-b612-5d84a9acdecc",
   "metadata": {},
   "outputs": [],
   "source": [
    "l2=l1.copy()"
   ]
  },
  {
   "cell_type": "code",
   "execution_count": 76,
   "id": "bb9105ba-dfe3-4a05-a6ae-3ddc935312f1",
   "metadata": {},
   "outputs": [
    {
     "data": {
      "text/plain": [
       "[70, 2.3, True, '1+2j', [1, 2, 3]]"
      ]
     },
     "execution_count": 76,
     "metadata": {},
     "output_type": "execute_result"
    }
   ],
   "source": [
    "l2"
   ]
  },
  {
   "cell_type": "code",
   "execution_count": 78,
   "id": "52c1937e-7f89-461a-89d9-22b0bb2fd1f8",
   "metadata": {},
   "outputs": [
    {
     "data": {
      "text/plain": [
       "True"
      ]
     },
     "execution_count": 78,
     "metadata": {},
     "output_type": "execute_result"
    }
   ],
   "source": [
    "l1==l2"
   ]
  },
  {
   "cell_type": "code",
   "execution_count": 80,
   "id": "78a82039-ee98-4e6d-ad2b-ebc8621899a8",
   "metadata": {},
   "outputs": [
    {
     "data": {
      "text/plain": [
       "[10, 10, 20, 30, 40]"
      ]
     },
     "execution_count": 80,
     "metadata": {},
     "output_type": "execute_result"
    }
   ],
   "source": [
    "l"
   ]
  },
  {
   "cell_type": "code",
   "execution_count": 82,
   "id": "851a6d60-79f0-493d-87d3-7e4f0159bd0e",
   "metadata": {},
   "outputs": [
    {
     "data": {
      "text/plain": [
       "False"
      ]
     },
     "execution_count": 82,
     "metadata": {},
     "output_type": "execute_result"
    }
   ],
   "source": [
    "l==l2"
   ]
  },
  {
   "cell_type": "code",
   "execution_count": 84,
   "id": "ccafd6ef-83de-4c41-aba8-b02334d8933b",
   "metadata": {},
   "outputs": [
    {
     "data": {
      "text/plain": [
       "True"
      ]
     },
     "execution_count": 84,
     "metadata": {},
     "output_type": "execute_result"
    }
   ],
   "source": [
    "l!=l2"
   ]
  },
  {
   "cell_type": "code",
   "execution_count": 86,
   "id": "4c7a9ab6-0fdd-4182-a2cb-6bd87ebb843a",
   "metadata": {},
   "outputs": [
    {
     "data": {
      "text/plain": [
       "[10, 10, 20, 30, 40]"
      ]
     },
     "execution_count": 86,
     "metadata": {},
     "output_type": "execute_result"
    }
   ],
   "source": [
    "l"
   ]
  },
  {
   "cell_type": "code",
   "execution_count": 88,
   "id": "28d4d55c-d2f5-46dc-9a10-27b779dc9ae2",
   "metadata": {},
   "outputs": [
    {
     "data": {
      "text/plain": [
       "True"
      ]
     },
     "execution_count": 88,
     "metadata": {},
     "output_type": "execute_result"
    }
   ],
   "source": [
    "l1==l2"
   ]
  },
  {
   "cell_type": "code",
   "execution_count": 90,
   "id": "f8d74c31-fa81-4675-afb5-da80601012e2",
   "metadata": {},
   "outputs": [
    {
     "name": "stdout",
     "output_type": "stream",
     "text": [
      "[70, 2.3, True, '1+2j', [1, 2, 3]]\n",
      "[70, 2.3, True, '1+2j', [1, 2, 3]]\n"
     ]
    }
   ],
   "source": [
    "print(l1)\n",
    "print(l2)"
   ]
  },
  {
   "cell_type": "code",
   "execution_count": 92,
   "id": "1ea72031-c825-48c7-9b63-310aea1ef1e9",
   "metadata": {},
   "outputs": [
    {
     "name": "stdout",
     "output_type": "stream",
     "text": [
      "2552531762048\n",
      "2552476693440\n"
     ]
    },
    {
     "data": {
      "text/plain": [
       "True"
      ]
     },
     "execution_count": 92,
     "metadata": {},
     "output_type": "execute_result"
    }
   ],
   "source": [
    "print(id(l1))==print(id(l2))"
   ]
  },
  {
   "cell_type": "code",
   "execution_count": 94,
   "id": "c33038e4-1f3f-4d5f-8a74-f54ddb6b85a8",
   "metadata": {},
   "outputs": [
    {
     "data": {
      "text/plain": [
       "[10, 10, 20, 30, 40]"
      ]
     },
     "execution_count": 94,
     "metadata": {},
     "output_type": "execute_result"
    }
   ],
   "source": [
    "l"
   ]
  },
  {
   "cell_type": "code",
   "execution_count": 96,
   "id": "9ab2ca8f-4f39-4379-a094-41ff25e28d32",
   "metadata": {},
   "outputs": [],
   "source": [
    "l.remove(10)"
   ]
  },
  {
   "cell_type": "code",
   "execution_count": 98,
   "id": "64fe3e65-f05d-4a59-9784-2ba04a923490",
   "metadata": {},
   "outputs": [
    {
     "data": {
      "text/plain": [
       "[10, 20, 30, 40]"
      ]
     },
     "execution_count": 98,
     "metadata": {},
     "output_type": "execute_result"
    }
   ],
   "source": [
    "l"
   ]
  },
  {
   "cell_type": "code",
   "execution_count": 100,
   "id": "2fcc0c55-160d-480a-81dd-98f5775df2d0",
   "metadata": {},
   "outputs": [],
   "source": [
    "l.remove(10)"
   ]
  },
  {
   "cell_type": "code",
   "execution_count": 102,
   "id": "2b7ac232-844e-4e5f-8b82-7d1607a6cfbe",
   "metadata": {},
   "outputs": [
    {
     "data": {
      "text/plain": [
       "[20, 30, 40]"
      ]
     },
     "execution_count": 102,
     "metadata": {},
     "output_type": "execute_result"
    }
   ],
   "source": [
    "l"
   ]
  },
  {
   "cell_type": "markdown",
   "id": "b5554ce6-9f80-4c5b-b5be-59f549153f51",
   "metadata": {},
   "source": [
    "# String indexing"
   ]
  },
  {
   "cell_type": "code",
   "execution_count": 105,
   "id": "689b6537-9221-4604-aed5-a30484c6a6f9",
   "metadata": {},
   "outputs": [
    {
     "data": {
      "text/plain": [
       "'nareshit'"
      ]
     },
     "execution_count": 105,
     "metadata": {},
     "output_type": "execute_result"
    }
   ],
   "source": [
    "s7='nareshit'\n",
    "s7"
   ]
  },
  {
   "cell_type": "code",
   "execution_count": 107,
   "id": "7d9415bb-aa1a-4a4f-bcfc-4192c44fe437",
   "metadata": {},
   "outputs": [
    {
     "data": {
      "text/plain": [
       "'n'"
      ]
     },
     "execution_count": 107,
     "metadata": {},
     "output_type": "execute_result"
    }
   ],
   "source": [
    "s7[0]  # forward indexing"
   ]
  },
  {
   "cell_type": "code",
   "execution_count": 109,
   "id": "af2a8cca-6444-4f3c-a8a5-63c489f00da3",
   "metadata": {},
   "outputs": [
    {
     "data": {
      "text/plain": [
       "'a'"
      ]
     },
     "execution_count": 109,
     "metadata": {},
     "output_type": "execute_result"
    }
   ],
   "source": [
    "s7[1]"
   ]
  },
  {
   "cell_type": "code",
   "execution_count": 111,
   "id": "4d261c8c-9770-49a3-b554-adc47a5cbfa0",
   "metadata": {},
   "outputs": [
    {
     "data": {
      "text/plain": [
       "'nareshit'"
      ]
     },
     "execution_count": 111,
     "metadata": {},
     "output_type": "execute_result"
    }
   ],
   "source": [
    "s7"
   ]
  },
  {
   "cell_type": "code",
   "execution_count": 113,
   "id": "91498fd5-025c-41d8-85d0-e96ac44b4fec",
   "metadata": {},
   "outputs": [
    {
     "data": {
      "text/plain": [
       "'h'"
      ]
     },
     "execution_count": 113,
     "metadata": {},
     "output_type": "execute_result"
    }
   ],
   "source": [
    "s7[-3]  # backward indexing"
   ]
  },
  {
   "cell_type": "code",
   "execution_count": 115,
   "id": "3e0f353a-546a-4d6a-b69e-aeb7dcd3cfe9",
   "metadata": {},
   "outputs": [
    {
     "data": {
      "text/plain": [
       "'n'"
      ]
     },
     "execution_count": 115,
     "metadata": {},
     "output_type": "execute_result"
    }
   ],
   "source": [
    "s7[-8]"
   ]
  },
  {
   "cell_type": "code",
   "execution_count": 121,
   "id": "6836a7e0-82a9-4f27-8b8b-b4497bc2324a",
   "metadata": {},
   "outputs": [
    {
     "name": "stdout",
     "output_type": "stream",
     "text": [
      "n\n",
      "a\n",
      "r\n",
      "e\n",
      "s\n",
      "h\n",
      "i\n",
      "t\n"
     ]
    }
   ],
   "source": [
    "for i in s7:      # prints all elements from s7\n",
    "    print(i)"
   ]
  },
  {
   "cell_type": "markdown",
   "id": "93e17c6a-1592-4491-b3b7-329f9503fd5a",
   "metadata": {},
   "source": [
    "# slicing"
   ]
  },
  {
   "cell_type": "code",
   "execution_count": 124,
   "id": "85c3e6d3-fb7e-4e2a-a1c5-bc33ebbf424b",
   "metadata": {},
   "outputs": [
    {
     "data": {
      "text/plain": [
       "'nareshit'"
      ]
     },
     "execution_count": 124,
     "metadata": {},
     "output_type": "execute_result"
    }
   ],
   "source": [
    "s7"
   ]
  },
  {
   "cell_type": "code",
   "execution_count": 126,
   "id": "36fae0cf-5ae5-45b4-b148-3b00f141b237",
   "metadata": {},
   "outputs": [
    {
     "data": {
      "text/plain": [
       "'abcdefghi'"
      ]
     },
     "execution_count": 126,
     "metadata": {},
     "output_type": "execute_result"
    }
   ],
   "source": [
    "s8='abcdefghi'\n",
    "s8"
   ]
  },
  {
   "cell_type": "code",
   "execution_count": 128,
   "id": "762aac2a-a8b9-4d65-b884-b8c6c854801f",
   "metadata": {},
   "outputs": [
    {
     "data": {
      "text/plain": [
       "'abcdefghi'"
      ]
     },
     "execution_count": 128,
     "metadata": {},
     "output_type": "execute_result"
    }
   ],
   "source": [
    "s8[0:9]"
   ]
  },
  {
   "cell_type": "code",
   "execution_count": 130,
   "id": "87de0138-96f0-40bf-b38e-321c462a35b5",
   "metadata": {},
   "outputs": [
    {
     "data": {
      "text/plain": [
       "'bcdefgh'"
      ]
     },
     "execution_count": 130,
     "metadata": {},
     "output_type": "execute_result"
    }
   ],
   "source": [
    "s8[1:8]"
   ]
  },
  {
   "cell_type": "code",
   "execution_count": 132,
   "id": "1d356a63-025a-4dd5-9735-7749cfcbc47c",
   "metadata": {},
   "outputs": [
    {
     "data": {
      "text/plain": [
       "'abcdefghi'"
      ]
     },
     "execution_count": 132,
     "metadata": {},
     "output_type": "execute_result"
    }
   ],
   "source": [
    "s8"
   ]
  },
  {
   "cell_type": "code",
   "execution_count": 134,
   "id": "ec228153-d9cb-4dbf-b82d-eba1b96d02f8",
   "metadata": {},
   "outputs": [
    {
     "data": {
      "text/plain": [
       "'bcdef'"
      ]
     },
     "execution_count": 134,
     "metadata": {},
     "output_type": "execute_result"
    }
   ],
   "source": [
    "s8[1:-3]"
   ]
  },
  {
   "cell_type": "code",
   "execution_count": 136,
   "id": "8d5297d1-ace9-4ecd-b094-593ebe9835b7",
   "metadata": {},
   "outputs": [
    {
     "data": {
      "text/plain": [
       "'bcde'"
      ]
     },
     "execution_count": 136,
     "metadata": {},
     "output_type": "execute_result"
    }
   ],
   "source": [
    "s8[1:-4]"
   ]
  },
  {
   "cell_type": "code",
   "execution_count": 138,
   "id": "4bc7b445-d848-46ac-bdbf-6f818f90dee1",
   "metadata": {},
   "outputs": [
    {
     "data": {
      "text/plain": [
       "[1, 2, 3, 4, 5, 6, 7, 8, 9, 10]"
      ]
     },
     "execution_count": 138,
     "metadata": {},
     "output_type": "execute_result"
    }
   ],
   "source": [
    "step=[1,2,3,4,5,6,7,8,9,10]\n",
    "step"
   ]
  },
  {
   "cell_type": "code",
   "execution_count": 142,
   "id": "8e0e77c6-1586-4e0e-9694-2e42f99f5b70",
   "metadata": {},
   "outputs": [
    {
     "data": {
      "text/plain": [
       "[1, 5, 9]"
      ]
     },
     "execution_count": 142,
     "metadata": {},
     "output_type": "execute_result"
    }
   ],
   "source": [
    "step[0:10:4]  #start index-0 end-10 gap-4"
   ]
  },
  {
   "cell_type": "code",
   "execution_count": 144,
   "id": "a2ea019a-19b2-4a3b-982b-ab721015b7a0",
   "metadata": {},
   "outputs": [
    {
     "data": {
      "text/plain": [
       "[1, 6]"
      ]
     },
     "execution_count": 144,
     "metadata": {},
     "output_type": "execute_result"
    }
   ],
   "source": [
    "step[0:10:5]"
   ]
  },
  {
   "cell_type": "code",
   "execution_count": 146,
   "id": "03fb9161-89c7-49a4-bac5-8032f21389c1",
   "metadata": {},
   "outputs": [
    {
     "data": {
      "text/plain": [
       "[1, 2, 3, 4, 5, 6, 7, 8, 9, 10]"
      ]
     },
     "execution_count": 146,
     "metadata": {},
     "output_type": "execute_result"
    }
   ],
   "source": [
    "step[:]"
   ]
  },
  {
   "cell_type": "code",
   "execution_count": 148,
   "id": "00b21bf1-0bf9-4e7a-bf73-1ccfbe3ec8bd",
   "metadata": {},
   "outputs": [
    {
     "data": {
      "text/plain": [
       "[20, 30, 40]"
      ]
     },
     "execution_count": 148,
     "metadata": {},
     "output_type": "execute_result"
    }
   ],
   "source": [
    "l"
   ]
  },
  {
   "cell_type": "code",
   "execution_count": 150,
   "id": "c02c2d68-9a62-4051-a680-6809b9084a46",
   "metadata": {},
   "outputs": [],
   "source": [
    "l5=l.reverse()"
   ]
  },
  {
   "cell_type": "code",
   "execution_count": 152,
   "id": "ace3e112-ff14-4557-9014-d08e0f7d04b3",
   "metadata": {},
   "outputs": [
    {
     "data": {
      "text/plain": [
       "[40, 30, 20]"
      ]
     },
     "execution_count": 152,
     "metadata": {},
     "output_type": "execute_result"
    }
   ],
   "source": [
    "l"
   ]
  },
  {
   "cell_type": "code",
   "execution_count": null,
   "id": "d76f6489-7a45-42ca-a259-a18a28aab8a6",
   "metadata": {},
   "outputs": [],
   "source": []
  }
 ],
 "metadata": {
  "kernelspec": {
   "display_name": "Python 3 (ipykernel)",
   "language": "python",
   "name": "python3"
  },
  "language_info": {
   "codemirror_mode": {
    "name": "ipython",
    "version": 3
   },
   "file_extension": ".py",
   "mimetype": "text/x-python",
   "name": "python",
   "nbconvert_exporter": "python",
   "pygments_lexer": "ipython3",
   "version": "3.12.4"
  }
 },
 "nbformat": 4,
 "nbformat_minor": 5
}
