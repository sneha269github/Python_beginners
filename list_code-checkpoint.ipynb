{
 "cells": [
  {
   "cell_type": "code",
   "execution_count": 6,
   "id": "e6f777db-5b11-4151-9bb8-7356b01cc5d6",
   "metadata": {},
   "outputs": [
    {
     "data": {
      "text/plain": [
       "'abc def ghi   '"
      ]
     },
     "execution_count": 6,
     "metadata": {},
     "output_type": "execute_result"
    }
   ],
   "source": [
    "txt = \"   abc def ghi   \"   #removes space from left side\n",
    "txt.lstrip()"
   ]
  },
  {
   "cell_type": "code",
   "execution_count": 7,
   "id": "ef00f368-9f80-490b-8192-d800ce3a7f44",
   "metadata": {},
   "outputs": [
    {
     "data": {
      "text/plain": [
       "'   abc def ghi'"
      ]
     },
     "execution_count": 7,
     "metadata": {},
     "output_type": "execute_result"
    }
   ],
   "source": [
    "txt.rstrip()                  #removes space from right side"
   ]
  },
  {
   "cell_type": "code",
   "execution_count": 8,
   "id": "21e557f0-cca0-494a-9398-4a5f701f88ee",
   "metadata": {},
   "outputs": [
    {
     "data": {
      "text/plain": [
       "'abc def ghi'"
      ]
     },
     "execution_count": 8,
     "metadata": {},
     "output_type": "execute_result"
    }
   ],
   "source": [
    "txt.strip()                 #removes blank space from left & right"
   ]
  },
  {
   "cell_type": "markdown",
   "id": "1efb91f8-b4ed-45ea-aa12-c9492e52542f",
   "metadata": {},
   "source": [
    "# Using Escape Character"
   ]
  },
  {
   "cell_type": "code",
   "execution_count": 10,
   "id": "c0912f95-594b-4272-bcaf-eaaa2fee7dde",
   "metadata": {},
   "outputs": [
    {
     "ename": "SyntaxError",
     "evalue": "invalid syntax (1475490665.py, line 1)",
     "output_type": "error",
     "traceback": [
      "\u001b[1;36m  Cell \u001b[1;32mIn[10], line 1\u001b[1;36m\u001b[0m\n\u001b[1;33m    mystr=\" My favourite TV Series is \" Game of Thrones \"\"\u001b[0m\n\u001b[1;37m                                        ^\u001b[0m\n\u001b[1;31mSyntaxError\u001b[0m\u001b[1;31m:\u001b[0m invalid syntax\n"
     ]
    }
   ],
   "source": [
    "mystr=\" My favourite TV Series is \" Game of Thrones \"\"\n",
    "# double quotes in string is noot allowed"
   ]
  },
  {
   "cell_type": "code",
   "execution_count": null,
   "id": "0eeccaf9-d3e7-4d4a-b476-11f309023686",
   "metadata": {},
   "outputs": [],
   "source": [
    "mystr=\"My favourite TV Series is \\\"Game Of Thrones\\\"\"\n",
    "print(mystr)\n",
    "\n",
    "#escape character is used to allow illegal characters"
   ]
  },
  {
   "cell_type": "markdown",
   "id": "a1625363-d601-4b1c-bddf-0aa71b21048c",
   "metadata": {},
   "source": [
    "# List\n",
    "- List is ordered sequence of items.\n",
    "- We can have different data types under a list.\n",
    "- ex. we can have integer,float & string items in same list."
   ]
  },
  {
   "cell_type": "markdown",
   "id": "38f255ae-120a-4a93-a833-edab2c2d7a41",
   "metadata": {},
   "source": [
    "# List Creation"
   ]
  },
  {
   "cell_type": "code",
   "execution_count": 72,
   "id": "40640377-ecf5-468c-957b-98746af58c7b",
   "metadata": {},
   "outputs": [],
   "source": [
    "list1=[]   #Empty list"
   ]
  },
  {
   "cell_type": "code",
   "execution_count": 74,
   "id": "534c8f63-490f-4238-bbca-a2aa01c27755",
   "metadata": {},
   "outputs": [
    {
     "name": "stdout",
     "output_type": "stream",
     "text": [
      "<class 'list'>\n"
     ]
    }
   ],
   "source": [
    "print(type(list1))"
   ]
  },
  {
   "cell_type": "code",
   "execution_count": 76,
   "id": "31743ebc-af1b-4f11-8724-b94b739b8b77",
   "metadata": {},
   "outputs": [],
   "source": [
    "list2=[10,30,60]   # list of integer nos."
   ]
  },
  {
   "cell_type": "code",
   "execution_count": 78,
   "id": "6e309ab6-099a-4a95-8cdd-2ceff99ef950",
   "metadata": {},
   "outputs": [],
   "source": [
    "list3=[10.77,30.66,60.89]   #List of float nos."
   ]
  },
  {
   "cell_type": "code",
   "execution_count": 80,
   "id": "7f13fc8f-91bd-4911-8660-bf4b54263764",
   "metadata": {},
   "outputs": [],
   "source": [
    "list4=['one','two',\"three\"]    #List of strings"
   ]
  },
  {
   "cell_type": "code",
   "execution_count": 82,
   "id": "77b8a15d-cbbb-4f0d-8a03-41cf7ff18096",
   "metadata": {},
   "outputs": [],
   "source": [
    "list5=['Asif',25,[50,100],[150,90]]  #Nested list"
   ]
  },
  {
   "cell_type": "code",
   "execution_count": 84,
   "id": "68295047-ecf7-4f3a-8d4d-4c0541f50870",
   "metadata": {},
   "outputs": [],
   "source": [
    "list6=[100,'Asif',17.675]   #List of mixed data types"
   ]
  },
  {
   "cell_type": "code",
   "execution_count": 86,
   "id": "2d177688-59a1-43b3-9023-de1eb9f2b6b2",
   "metadata": {},
   "outputs": [],
   "source": [
    "list7=['Asif',25,[50,100],[150,90],{'John','David'}]"
   ]
  },
  {
   "cell_type": "code",
   "execution_count": 88,
   "id": "44fbf4e2-980c-4240-887a-0e87306f2f24",
   "metadata": {},
   "outputs": [
    {
     "data": {
      "text/plain": [
       "5"
      ]
     },
     "execution_count": 88,
     "metadata": {},
     "output_type": "execute_result"
    }
   ],
   "source": [
    "len(list7)"
   ]
  },
  {
   "cell_type": "code",
   "execution_count": 90,
   "id": "31e7965e-657b-4f0d-bbe7-4ae5468ffedc",
   "metadata": {},
   "outputs": [
    {
     "data": {
      "text/plain": [
       "3"
      ]
     },
     "execution_count": 90,
     "metadata": {},
     "output_type": "execute_result"
    }
   ],
   "source": [
    "len(list6)"
   ]
  },
  {
   "cell_type": "markdown",
   "id": "24a99929-782a-4d47-a2b7-13a78adb277b",
   "metadata": {},
   "source": [
    "# List Indexing\n",
    "- forward indexing\n",
    "- backward indexing"
   ]
  },
  {
   "cell_type": "code",
   "execution_count": 93,
   "id": "4fea4970-b3ee-4c57-9c4b-75ed5260c8c6",
   "metadata": {},
   "outputs": [
    {
     "data": {
      "text/plain": [
       "10"
      ]
     },
     "execution_count": 93,
     "metadata": {},
     "output_type": "execute_result"
    }
   ],
   "source": [
    "list2[0]  #1st element of list"
   ]
  },
  {
   "cell_type": "code",
   "execution_count": 95,
   "id": "0020d8fc-635a-4a69-8787-8be6a1bbdf47",
   "metadata": {},
   "outputs": [
    {
     "data": {
      "text/plain": [
       "'three'"
      ]
     },
     "execution_count": 95,
     "metadata": {},
     "output_type": "execute_result"
    }
   ],
   "source": [
    "list4[2]"
   ]
  },
  {
   "cell_type": "code",
   "execution_count": 97,
   "id": "6f70e813-da3b-4291-9e58-a7a701b5715b",
   "metadata": {},
   "outputs": [
    {
     "data": {
      "text/plain": [
       "'o'"
      ]
     },
     "execution_count": 97,
     "metadata": {},
     "output_type": "execute_result"
    }
   ],
   "source": [
    "list4[0][0]  # 1st character of 1st list element (one : o)"
   ]
  },
  {
   "cell_type": "code",
   "execution_count": 99,
   "id": "24b32b9f-aea8-42fd-86b5-b7c589158896",
   "metadata": {},
   "outputs": [
    {
     "data": {
      "text/plain": [
       "'three'"
      ]
     },
     "execution_count": 99,
     "metadata": {},
     "output_type": "execute_result"
    }
   ],
   "source": [
    "list4[-1]#Last item of list"
   ]
  },
  {
   "cell_type": "code",
   "execution_count": 101,
   "id": "bab5779c-7d0e-4c62-9222-246c8c6a1d5c",
   "metadata": {},
   "outputs": [
    {
     "data": {
      "text/plain": [
       "[150, 90]"
      ]
     },
     "execution_count": 101,
     "metadata": {},
     "output_type": "execute_result"
    }
   ],
   "source": [
    "list5[-1]"
   ]
  },
  {
   "cell_type": "markdown",
   "id": "8461d321-2d76-4b0d-97ce-41542a41c706",
   "metadata": {},
   "source": [
    "# List Slicing"
   ]
  },
  {
   "cell_type": "code",
   "execution_count": 104,
   "id": "9e5b000f-294f-4d68-a4b6-befd00626afb",
   "metadata": {},
   "outputs": [],
   "source": [
    "mylist=['one','two','three','four','five','six','seven','eight']"
   ]
  },
  {
   "cell_type": "code",
   "execution_count": 106,
   "id": "91c1a80e-993e-4711-aff8-eb1848e5d42d",
   "metadata": {},
   "outputs": [
    {
     "data": {
      "text/plain": [
       "['one', 'two', 'three']"
      ]
     },
     "execution_count": 106,
     "metadata": {},
     "output_type": "execute_result"
    }
   ],
   "source": [
    "mylist[0:3] #returns all items from 0 to 3rd index "
   ]
  },
  {
   "cell_type": "code",
   "execution_count": 108,
   "id": "6881269f-5136-467c-a035-26214787b177",
   "metadata": {},
   "outputs": [
    {
     "data": {
      "text/plain": [
       "['three', 'four', 'five']"
      ]
     },
     "execution_count": 108,
     "metadata": {},
     "output_type": "execute_result"
    }
   ],
   "source": [
    "mylist[2:5]"
   ]
  },
  {
   "cell_type": "code",
   "execution_count": 110,
   "id": "fdaf9be1-4c85-49ce-b92d-5e716156c8d9",
   "metadata": {},
   "outputs": [
    {
     "data": {
      "text/plain": [
       "['one', 'two', 'three']"
      ]
     },
     "execution_count": 110,
     "metadata": {},
     "output_type": "execute_result"
    }
   ],
   "source": [
    "mylist[:3]  #Return 1st 3 elements"
   ]
  },
  {
   "cell_type": "code",
   "execution_count": 112,
   "id": "88ecd771-e3cb-4d0c-a5bd-4423ed394848",
   "metadata": {},
   "outputs": [
    {
     "data": {
      "text/plain": [
       "['one', 'two']"
      ]
     },
     "execution_count": 112,
     "metadata": {},
     "output_type": "execute_result"
    }
   ],
   "source": [
    "mylist[:2]"
   ]
  },
  {
   "cell_type": "code",
   "execution_count": 114,
   "id": "72c3709f-6eb7-4887-a97a-770f52a900e9",
   "metadata": {},
   "outputs": [
    {
     "data": {
      "text/plain": [
       "['seven', 'eight']"
      ]
     },
     "execution_count": 114,
     "metadata": {},
     "output_type": "execute_result"
    }
   ],
   "source": [
    "mylist[-2:]  #Returns last 2 items"
   ]
  },
  {
   "cell_type": "code",
   "execution_count": 116,
   "id": "b494b077-dc20-48ab-878d-7ea48d36e9ea",
   "metadata": {},
   "outputs": [
    {
     "data": {
      "text/plain": [
       "'eight'"
      ]
     },
     "execution_count": 116,
     "metadata": {},
     "output_type": "execute_result"
    }
   ],
   "source": [
    "mylist[-1]  #Returns last item of list"
   ]
  },
  {
   "cell_type": "markdown",
   "id": "e434f32b-2f3b-41cd-9687-b76fc38d3f8f",
   "metadata": {},
   "source": [
    "# Add,Remove & Change Items"
   ]
  },
  {
   "cell_type": "code",
   "execution_count": 119,
   "id": "cca41bc7-ff99-4c06-8f9b-6260942c6185",
   "metadata": {},
   "outputs": [
    {
     "data": {
      "text/plain": [
       "['one', 'two', 'three', 'four', 'five', 'six', 'seven', 'eight']"
      ]
     },
     "execution_count": 119,
     "metadata": {},
     "output_type": "execute_result"
    }
   ],
   "source": [
    "mylist"
   ]
  },
  {
   "cell_type": "code",
   "execution_count": 121,
   "id": "a1320072-0210-4701-bb2a-716971b76169",
   "metadata": {},
   "outputs": [
    {
     "data": {
      "text/plain": [
       "['one', 'two', 'three', 'four', 'five', 'six', 'seven', 'eight', 'nine']"
      ]
     },
     "execution_count": 121,
     "metadata": {},
     "output_type": "execute_result"
    }
   ],
   "source": [
    "mylist.append('nine')  #Add item to end of list\n",
    "mylist"
   ]
  },
  {
   "cell_type": "code",
   "execution_count": 123,
   "id": "141afc43-1b7b-4f59-adc6-d49365bbc47c",
   "metadata": {},
   "outputs": [
    {
     "data": {
      "text/plain": [
       "['one', 'two', 'three', 'four', 'five', 'six', 'seven', 'eight', 'nine', 'ten']"
      ]
     },
     "execution_count": 123,
     "metadata": {},
     "output_type": "execute_result"
    }
   ],
   "source": [
    "mylist.insert(9,'ten')  #Add item at index 9\n",
    "mylist"
   ]
  },
  {
   "cell_type": "code",
   "execution_count": 125,
   "id": "06565941-c9d9-445f-b935-5676d0048994",
   "metadata": {},
   "outputs": [
    {
     "data": {
      "text/plain": [
       "['one',\n",
       " 'ONE',\n",
       " 'two',\n",
       " 'three',\n",
       " 'four',\n",
       " 'five',\n",
       " 'six',\n",
       " 'seven',\n",
       " 'eight',\n",
       " 'nine',\n",
       " 'ten']"
      ]
     },
     "execution_count": 125,
     "metadata": {},
     "output_type": "execute_result"
    }
   ],
   "source": [
    "mylist.insert(1,'ONE')\n",
    "mylist"
   ]
  },
  {
   "cell_type": "code",
   "execution_count": 127,
   "id": "3f12e1b3-4b5e-458c-aec2-9f448659bfe0",
   "metadata": {},
   "outputs": [],
   "source": [
    "mylist.remove('ONE')   #Remove item 'ONE' from list"
   ]
  },
  {
   "cell_type": "code",
   "execution_count": 129,
   "id": "271e2397-8888-4a62-ba55-8b87c369ccb3",
   "metadata": {},
   "outputs": [
    {
     "data": {
      "text/plain": [
       "['one', 'two', 'three', 'four', 'five', 'six', 'seven', 'eight', 'nine', 'ten']"
      ]
     },
     "execution_count": 129,
     "metadata": {},
     "output_type": "execute_result"
    }
   ],
   "source": [
    "mylist"
   ]
  },
  {
   "cell_type": "code",
   "execution_count": 131,
   "id": "d0ba0ec9-4e5d-4f6f-9f8d-8727c2eac69d",
   "metadata": {},
   "outputs": [
    {
     "data": {
      "text/plain": [
       "['one', 'two', 'three', 'four', 'five', 'six', 'seven', 'eight', 'nine']"
      ]
     },
     "execution_count": 131,
     "metadata": {},
     "output_type": "execute_result"
    }
   ],
   "source": [
    "mylist.pop()    #Remove last item of list \n",
    "mylist"
   ]
  },
  {
   "cell_type": "code",
   "execution_count": 133,
   "id": "8c36affc-9e77-4ea5-8516-03dcfea55543",
   "metadata": {},
   "outputs": [
    {
     "data": {
      "text/plain": [
       "['one', 'two', 'three', 'four', 'five', 'six', 'seven', 'eight']"
      ]
     },
     "execution_count": 133,
     "metadata": {},
     "output_type": "execute_result"
    }
   ],
   "source": [
    "mylist.pop(8) #Remove item at index 8\n",
    "mylist"
   ]
  },
  {
   "cell_type": "code",
   "execution_count": 135,
   "id": "55dc9c2e-3f14-4066-9e13-1c0fc52fe597",
   "metadata": {},
   "outputs": [
    {
     "data": {
      "text/plain": [
       "['one', 'two', 'three', 'four', 'five', 'six', 'seven']"
      ]
     },
     "execution_count": 135,
     "metadata": {},
     "output_type": "execute_result"
    }
   ],
   "source": [
    "del mylist[7]   #Remove item at index 7\n",
    "mylist"
   ]
  },
  {
   "cell_type": "code",
   "execution_count": 137,
   "id": "327b311a-c11f-40cd-abad-e1fbc2ea07b0",
   "metadata": {},
   "outputs": [
    {
     "data": {
      "text/plain": [
       "[1, 2, 3, 'four', 'five', 'six', 'seven']"
      ]
     },
     "execution_count": 137,
     "metadata": {},
     "output_type": "execute_result"
    }
   ],
   "source": [
    "# Change value of string\n",
    "mylist[0]=1\n",
    "mylist[1]=2\n",
    "mylist[2]=3\n",
    "mylist"
   ]
  },
  {
   "cell_type": "code",
   "execution_count": 139,
   "id": "8e2f8837-80ee-4ab0-918b-971b288afc0d",
   "metadata": {},
   "outputs": [
    {
     "data": {
      "text/plain": [
       "[]"
      ]
     },
     "execution_count": 139,
     "metadata": {},
     "output_type": "execute_result"
    }
   ],
   "source": [
    "mylist.clear() #delete all items from list\n",
    "mylist"
   ]
  },
  {
   "cell_type": "code",
   "execution_count": 141,
   "id": "a2aa0f82-4e63-42ae-8acf-08dca81b8691",
   "metadata": {},
   "outputs": [
    {
     "ename": "NameError",
     "evalue": "name 'mylist' is not defined",
     "output_type": "error",
     "traceback": [
      "\u001b[1;31m---------------------------------------------------------------------------\u001b[0m",
      "\u001b[1;31mNameError\u001b[0m                                 Traceback (most recent call last)",
      "Cell \u001b[1;32mIn[141], line 2\u001b[0m\n\u001b[0;32m      1\u001b[0m \u001b[38;5;28;01mdel\u001b[39;00m mylist \u001b[38;5;66;03m#Delete whole list\u001b[39;00m\n\u001b[1;32m----> 2\u001b[0m mylist\n",
      "\u001b[1;31mNameError\u001b[0m: name 'mylist' is not defined"
     ]
    }
   ],
   "source": [
    "del mylist #Delete whole list\n",
    "mylist"
   ]
  },
  {
   "cell_type": "markdown",
   "id": "f7de6cd9-d543-4faf-9b30-d57afe8da30b",
   "metadata": {},
   "source": [
    "# Copy List"
   ]
  },
  {
   "cell_type": "code",
   "execution_count": 144,
   "id": "3694e170-ccac-4ba4-b69b-9daaa5c0909c",
   "metadata": {},
   "outputs": [],
   "source": [
    "mylist=['one','two','three', 'four', 'five', 'six', 'seven', 'eight', 'nine']"
   ]
  },
  {
   "cell_type": "code",
   "execution_count": 146,
   "id": "b86f0332-5f3c-403f-b707-30752cd79b7a",
   "metadata": {},
   "outputs": [],
   "source": [
    "mylist1=mylist #Create a new reference \"mylist1\""
   ]
  },
  {
   "cell_type": "code",
   "execution_count": 148,
   "id": "28292d01-3968-44cd-88a5-a18dd7f75dc7",
   "metadata": {},
   "outputs": [
    {
     "data": {
      "text/plain": [
       "(2355365283008, 2355365283008)"
      ]
     },
     "execution_count": 148,
     "metadata": {},
     "output_type": "execute_result"
    }
   ],
   "source": [
    "id(mylist),id(mylist1)    #both have same address"
   ]
  },
  {
   "cell_type": "code",
   "execution_count": 150,
   "id": "bee34bab-438e-4ea1-8f3b-0ab97a61195f",
   "metadata": {},
   "outputs": [
    {
     "data": {
      "text/plain": [
       "['one', 'two', 'three', 'four', 'five', 'six', 'seven', 'eight', 'nine']"
      ]
     },
     "execution_count": 150,
     "metadata": {},
     "output_type": "execute_result"
    }
   ],
   "source": [
    "mylist2=mylist.copy()  #copy elements of mylist to mylist2\n",
    "mylist2"
   ]
  },
  {
   "cell_type": "code",
   "execution_count": 152,
   "id": "8c299764-55a6-4724-a1ff-7afe099a44f2",
   "metadata": {},
   "outputs": [
    {
     "data": {
      "text/plain": [
       "2355350868736"
      ]
     },
     "execution_count": 152,
     "metadata": {},
     "output_type": "execute_result"
    }
   ],
   "source": [
    "id(mylist2)  #different id than mylist"
   ]
  },
  {
   "cell_type": "code",
   "execution_count": 154,
   "id": "86ffca17-6687-48f3-b8f7-e2b49131440b",
   "metadata": {},
   "outputs": [
    {
     "data": {
      "text/plain": [
       "[1, 'two', 'three', 'four', 'five', 'six', 'seven', 'eight', 'nine']"
      ]
     },
     "execution_count": 154,
     "metadata": {},
     "output_type": "execute_result"
    }
   ],
   "source": [
    "mylist[0]=1\n",
    "mylist"
   ]
  },
  {
   "cell_type": "code",
   "execution_count": 156,
   "id": "b75e7f4c-fe59-418e-b5e5-76d1f96c4943",
   "metadata": {},
   "outputs": [
    {
     "data": {
      "text/plain": [
       "[1, 'two', 'three', 'four', 'five', 'six', 'seven', 'eight', 'nine']"
      ]
     },
     "execution_count": 156,
     "metadata": {},
     "output_type": "execute_result"
    }
   ],
   "source": [
    "mylist1     #same as mylist bcz it is reference of mylist"
   ]
  },
  {
   "cell_type": "code",
   "execution_count": 158,
   "id": "8b025fbf-5513-4898-af56-0ef6fc6f4c83",
   "metadata": {},
   "outputs": [
    {
     "data": {
      "text/plain": [
       "['one', 'two', 'three', 'four', 'five', 'six', 'seven', 'eight', 'nine']"
      ]
     },
     "execution_count": 158,
     "metadata": {},
     "output_type": "execute_result"
    }
   ],
   "source": [
    "mylist2   #changes on original list won't be impacted on this list"
   ]
  },
  {
   "cell_type": "markdown",
   "id": "7f535d74-42d7-46ac-b167-88dfb869b1ba",
   "metadata": {},
   "source": [
    "# Join Lists"
   ]
  },
  {
   "cell_type": "code",
   "execution_count": 161,
   "id": "f26fcd33-ea3e-4652-9c72-d2f5f1778cc2",
   "metadata": {},
   "outputs": [],
   "source": [
    "list1=['one','two','three','four']\n",
    "list2=['five','six','seven','eight']"
   ]
  },
  {
   "cell_type": "code",
   "execution_count": 163,
   "id": "c46708f1-46b9-4e78-abfc-d687f9f2cfad",
   "metadata": {},
   "outputs": [
    {
     "data": {
      "text/plain": [
       "['one', 'two', 'three', 'four', 'five', 'six', 'seven', 'eight']"
      ]
     },
     "execution_count": 163,
     "metadata": {},
     "output_type": "execute_result"
    }
   ],
   "source": [
    "list3=list1+list2  #joins 2 lists by + operator\n",
    "list3"
   ]
  },
  {
   "cell_type": "code",
   "execution_count": 165,
   "id": "299229e9-f518-4f4b-8ecf-92ca587c77dd",
   "metadata": {},
   "outputs": [
    {
     "data": {
      "text/plain": [
       "['one', 'two', 'three', 'four', 'five', 'six', 'seven', 'eight']"
      ]
     },
     "execution_count": 165,
     "metadata": {},
     "output_type": "execute_result"
    }
   ],
   "source": [
    "list1.extend(list2)   #append list2 with list1\n",
    "list1"
   ]
  },
  {
   "cell_type": "markdown",
   "id": "cc439a66-2d17-472e-8b78-bfcabe68c24b",
   "metadata": {},
   "source": [
    "# List Membership"
   ]
  },
  {
   "cell_type": "code",
   "execution_count": 168,
   "id": "a0b128fc-33f3-48d1-bf21-c38a69560e84",
   "metadata": {},
   "outputs": [
    {
     "data": {
      "text/plain": [
       "['one', 'two', 'three', 'four', 'five', 'six', 'seven', 'eight']"
      ]
     },
     "execution_count": 168,
     "metadata": {},
     "output_type": "execute_result"
    }
   ],
   "source": [
    "list1"
   ]
  },
  {
   "cell_type": "code",
   "execution_count": 170,
   "id": "b0ac535f-c003-4f32-8801-7be7b39599c6",
   "metadata": {},
   "outputs": [
    {
     "data": {
      "text/plain": [
       "True"
      ]
     },
     "execution_count": 170,
     "metadata": {},
     "output_type": "execute_result"
    }
   ],
   "source": [
    "'one' in list1  #check if 'one' exist in list"
   ]
  },
  {
   "cell_type": "code",
   "execution_count": 172,
   "id": "ff29aa81-2127-4e3c-adae-5163db4c5088",
   "metadata": {},
   "outputs": [
    {
     "data": {
      "text/plain": [
       "False"
      ]
     },
     "execution_count": 172,
     "metadata": {},
     "output_type": "execute_result"
    }
   ],
   "source": [
    "'ten' in list1"
   ]
  },
  {
   "cell_type": "code",
   "execution_count": 174,
   "id": "f8a3f42f-49b0-4c19-b919-481b7b6bd105",
   "metadata": {},
   "outputs": [
    {
     "name": "stdout",
     "output_type": "stream",
     "text": [
      "three is present in list\n"
     ]
    }
   ],
   "source": [
    "if 'three' in list1:\n",
    "    print(\"three is present in list\")\n",
    "else:\n",
    "    print(\"three is not present in list\")"
   ]
  },
  {
   "cell_type": "code",
   "execution_count": 176,
   "id": "da8fca59-1b90-4901-ba07-b0969358e8b9",
   "metadata": {},
   "outputs": [
    {
     "name": "stdout",
     "output_type": "stream",
     "text": [
      "eleven is not present in list\n"
     ]
    }
   ],
   "source": [
    "if 'eleven' in list1:\n",
    "    print(\"eleven is present in list\")\n",
    "else:\n",
    "    print(\"eleven is not present in list\")"
   ]
  },
  {
   "cell_type": "markdown",
   "id": "fc0e6403-aa83-48d9-beaa-f1ed34b32465",
   "metadata": {},
   "source": [
    "# Reverse & Sort List"
   ]
  },
  {
   "cell_type": "code",
   "execution_count": 179,
   "id": "8972cf1f-522f-4f30-bcba-c520a4885540",
   "metadata": {},
   "outputs": [
    {
     "data": {
      "text/plain": [
       "['one', 'two', 'three', 'four', 'five', 'six', 'seven', 'eight']"
      ]
     },
     "execution_count": 179,
     "metadata": {},
     "output_type": "execute_result"
    }
   ],
   "source": [
    "list1"
   ]
  },
  {
   "cell_type": "code",
   "execution_count": 181,
   "id": "dc014dfa-f087-4711-b64d-bc30819c8ece",
   "metadata": {},
   "outputs": [
    {
     "data": {
      "text/plain": [
       "['eight', 'seven', 'six', 'five', 'four', 'three', 'two', 'one']"
      ]
     },
     "execution_count": 181,
     "metadata": {},
     "output_type": "execute_result"
    }
   ],
   "source": [
    "list1.reverse()  #Reverse the list\n",
    "list1"
   ]
  },
  {
   "cell_type": "code",
   "execution_count": 189,
   "id": "ebf954b8-0a8b-49bc-ba46-550f681b3412",
   "metadata": {},
   "outputs": [
    {
     "data": {
      "text/plain": [
       "['one', 'two', 'three', 'four', 'five', 'six', 'seven', 'eight']"
      ]
     },
     "execution_count": 189,
     "metadata": {},
     "output_type": "execute_result"
    }
   ],
   "source": [
    "list1=list1[::-1] \n",
    "list1               #Reverse the list"
   ]
  },
  {
   "cell_type": "code",
   "execution_count": 191,
   "id": "d0eed6fe-7efb-408b-9143-b821c054accd",
   "metadata": {},
   "outputs": [
    {
     "data": {
      "text/plain": [
       "[2, 5, 9, 12, 34, 88, 99]"
      ]
     },
     "execution_count": 191,
     "metadata": {},
     "output_type": "execute_result"
    }
   ],
   "source": [
    "mylist3=[9,5,2,99,12,88,34]\n",
    "mylist3.sort()  #sort list in ascending order\n",
    "mylist3"
   ]
  },
  {
   "cell_type": "code",
   "execution_count": 193,
   "id": "b807c1dd-88fa-42fa-87cb-8906410ccbcb",
   "metadata": {},
   "outputs": [
    {
     "data": {
      "text/plain": [
       "[99, 88, 34, 12, 9, 5, 2]"
      ]
     },
     "execution_count": 193,
     "metadata": {},
     "output_type": "execute_result"
    }
   ],
   "source": [
    "mylist3=[9,5,2,99,12,88,34]\n",
    "mylist3.sort(reverse=True)\n",
    "mylist3          #sort in descending order"
   ]
  },
  {
   "cell_type": "code",
   "execution_count": 195,
   "id": "5342d0b7-bd8e-474e-977e-7211aa9e72ac",
   "metadata": {},
   "outputs": [
    {
     "data": {
      "text/plain": [
       "[11, 21, 33, 65, 88, 98]"
      ]
     },
     "execution_count": 195,
     "metadata": {},
     "output_type": "execute_result"
    }
   ],
   "source": [
    "mylist4=[88,65,33,21,11,98] \n",
    "sorted(mylist4)           #Returns a sorted list & doesn't change original list"
   ]
  },
  {
   "cell_type": "code",
   "execution_count": 197,
   "id": "b75b87f5-7da9-41f2-b471-fa6c9859233c",
   "metadata": {},
   "outputs": [
    {
     "data": {
      "text/plain": [
       "[88, 65, 33, 21, 11, 98]"
      ]
     },
     "execution_count": 197,
     "metadata": {},
     "output_type": "execute_result"
    }
   ],
   "source": [
    "mylist4"
   ]
  },
  {
   "cell_type": "markdown",
   "id": "c96cf3a4-8dbf-4499-be1d-b24d96d5af6e",
   "metadata": {},
   "source": [
    "# Loop through a list"
   ]
  },
  {
   "cell_type": "code",
   "execution_count": 200,
   "id": "d835fd35-d2a8-4ee4-a092-17a597f7c5ff",
   "metadata": {},
   "outputs": [
    {
     "data": {
      "text/plain": [
       "['one', 'two', 'three', 'four', 'five', 'six', 'seven', 'eight']"
      ]
     },
     "execution_count": 200,
     "metadata": {},
     "output_type": "execute_result"
    }
   ],
   "source": [
    "list1"
   ]
  },
  {
   "cell_type": "code",
   "execution_count": 204,
   "id": "9f175ab7-eb1d-4e69-8ad0-512db4bade3a",
   "metadata": {},
   "outputs": [
    {
     "name": "stdout",
     "output_type": "stream",
     "text": [
      "one\n",
      "two\n",
      "three\n",
      "four\n",
      "five\n",
      "six\n",
      "seven\n",
      "eight\n"
     ]
    }
   ],
   "source": [
    "for i in list1:\n",
    "    print (i)"
   ]
  },
  {
   "cell_type": "code",
   "execution_count": 206,
   "id": "a3b94220-6d92-469a-a26a-d7d49993a636",
   "metadata": {},
   "outputs": [
    {
     "name": "stdout",
     "output_type": "stream",
     "text": [
      "(0, 'one')\n",
      "(1, 'two')\n",
      "(2, 'three')\n",
      "(3, 'four')\n",
      "(4, 'five')\n",
      "(5, 'six')\n",
      "(6, 'seven')\n",
      "(7, 'eight')\n"
     ]
    }
   ],
   "source": [
    "for i in enumerate(list1):\n",
    "    print(i)"
   ]
  },
  {
   "cell_type": "markdown",
   "id": "33c66045-5f77-4e11-9296-0f7efc868eac",
   "metadata": {},
   "source": [
    "#  Count"
   ]
  },
  {
   "cell_type": "code",
   "execution_count": 209,
   "id": "c59c0b41-95d1-48d4-ac72-9b7ddbefaf0f",
   "metadata": {},
   "outputs": [],
   "source": [
    "list10=['one','two','three','four','one','one','two','three']"
   ]
  },
  {
   "cell_type": "code",
   "execution_count": 211,
   "id": "39b01d1b-97d3-44e0-bafc-38ba46d0ce0e",
   "metadata": {},
   "outputs": [
    {
     "data": {
      "text/plain": [
       "3"
      ]
     },
     "execution_count": 211,
     "metadata": {},
     "output_type": "execute_result"
    }
   ],
   "source": [
    "list10.count('one')  #count of 'one' in list"
   ]
  },
  {
   "cell_type": "code",
   "execution_count": 213,
   "id": "8c89fab0-6774-4128-b0a7-79a5d778d6df",
   "metadata": {},
   "outputs": [
    {
     "data": {
      "text/plain": [
       "2"
      ]
     },
     "execution_count": 213,
     "metadata": {},
     "output_type": "execute_result"
    }
   ],
   "source": [
    "list10.count('two') "
   ]
  },
  {
   "cell_type": "code",
   "execution_count": 217,
   "id": "19ce7f38-bdaf-44c6-b206-b87e0f4f0bc9",
   "metadata": {},
   "outputs": [
    {
     "data": {
      "text/plain": [
       "1"
      ]
     },
     "execution_count": 217,
     "metadata": {},
     "output_type": "execute_result"
    }
   ],
   "source": [
    "list10.count('four') "
   ]
  },
  {
   "cell_type": "markdown",
   "id": "2550762b-2bca-43ac-9cce-075ab7db08a2",
   "metadata": {},
   "source": [
    "# All/Any\n",
    "- all() \n",
    "- - True : if all elements in a list are true\n",
    "- - False : if any element in a list is false\n",
    "- any()\n",
    "- - True : if any element in list is true\n",
    "- - False : if not any returns false\n",
    "    "
   ]
  },
  {
   "cell_type": "code",
   "execution_count": 221,
   "id": "3eb4c458-4863-4700-bf10-d59fe4c151ce",
   "metadata": {},
   "outputs": [],
   "source": [
    "l1=[1,2,3,4,0]"
   ]
  },
  {
   "cell_type": "code",
   "execution_count": 223,
   "id": "7fcd2563-b8a9-4232-96da-36ae26c0a951",
   "metadata": {},
   "outputs": [
    {
     "data": {
      "text/plain": [
       "False"
      ]
     },
     "execution_count": 223,
     "metadata": {},
     "output_type": "execute_result"
    }
   ],
   "source": [
    "all(l1)  #return false bcz one value is 0 i.e. false"
   ]
  },
  {
   "cell_type": "code",
   "execution_count": 225,
   "id": "72f9c6ba-10b2-4db5-b930-2d0c047111ed",
   "metadata": {},
   "outputs": [
    {
     "data": {
      "text/plain": [
       "True"
      ]
     },
     "execution_count": 225,
     "metadata": {},
     "output_type": "execute_result"
    }
   ],
   "source": [
    "any(l1)  #return true bcz we have elements in list with true values"
   ]
  },
  {
   "cell_type": "code",
   "execution_count": 227,
   "id": "8d2cd0dc-f0dd-4e01-92d7-3e1a3fbcc512",
   "metadata": {},
   "outputs": [],
   "source": [
    "l2=[1,2,3,4,True,False]  "
   ]
  },
  {
   "cell_type": "code",
   "execution_count": 229,
   "id": "208e9ed8-c1b8-42f9-8852-c098f6fc9ebe",
   "metadata": {},
   "outputs": [
    {
     "data": {
      "text/plain": [
       "False"
      ]
     },
     "execution_count": 229,
     "metadata": {},
     "output_type": "execute_result"
    }
   ],
   "source": [
    "all(l2)"
   ]
  },
  {
   "cell_type": "code",
   "execution_count": 231,
   "id": "6cfbff1b-9b9d-489c-8b33-05264ad1f5c9",
   "metadata": {},
   "outputs": [
    {
     "data": {
      "text/plain": [
       "True"
      ]
     },
     "execution_count": 231,
     "metadata": {},
     "output_type": "execute_result"
    }
   ],
   "source": [
    "any(l2)"
   ]
  },
  {
   "cell_type": "code",
   "execution_count": 233,
   "id": "4e20ac45-41a3-4fff-b006-74a00ddd2d95",
   "metadata": {},
   "outputs": [],
   "source": [
    "l3=[1,2,3,True]"
   ]
  },
  {
   "cell_type": "code",
   "execution_count": 235,
   "id": "add0f233-d7bf-41ee-8bb5-d32feca8f902",
   "metadata": {},
   "outputs": [
    {
     "data": {
      "text/plain": [
       "True"
      ]
     },
     "execution_count": 235,
     "metadata": {},
     "output_type": "execute_result"
    }
   ],
   "source": [
    "all(l3)"
   ]
  },
  {
   "cell_type": "code",
   "execution_count": null,
   "id": "ecc75123-0de1-4ecd-8bee-7ee1ef986052",
   "metadata": {},
   "outputs": [],
   "source": []
  }
 ],
 "metadata": {
  "kernelspec": {
   "display_name": "Python 3 (ipykernel)",
   "language": "python",
   "name": "python3"
  },
  "language_info": {
   "codemirror_mode": {
    "name": "ipython",
    "version": 3
   },
   "file_extension": ".py",
   "mimetype": "text/x-python",
   "name": "python",
   "nbconvert_exporter": "python",
   "pygments_lexer": "ipython3",
   "version": "3.12.4"
  }
 },
 "nbformat": 4,
 "nbformat_minor": 5
}
