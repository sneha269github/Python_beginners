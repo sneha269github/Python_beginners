{
 "cells": [
  {
   "cell_type": "markdown",
   "id": "f6351e85-940f-431f-9767-8ebd9d230e26",
   "metadata": {},
   "source": [
    "# defined in () round brackets seprated by comma.\n",
    "# tuple is immutable\n",
    "- multiple data types allowed\n",
    "- duplicates are allowed\n",
    "- indexing is allowed\n",
    "- slicing is allowed\n",
    "\n"
   ]
  },
  {
   "cell_type": "code",
   "execution_count": 240,
   "id": "0bb96c84-8dd8-4b6a-a12c-ea794012b1bd",
   "metadata": {},
   "outputs": [
    {
     "data": {
      "text/plain": [
       "()"
      ]
     },
     "execution_count": 240,
     "metadata": {},
     "output_type": "execute_result"
    }
   ],
   "source": [
    "t=()\n",
    "t"
   ]
  },
  {
   "cell_type": "code",
   "execution_count": 242,
   "id": "1b2051be-f92a-4a79-9776-bebfae885c77",
   "metadata": {},
   "outputs": [
    {
     "data": {
      "text/plain": [
       "tuple"
      ]
     },
     "execution_count": 242,
     "metadata": {},
     "output_type": "execute_result"
    }
   ],
   "source": [
    "type(t)"
   ]
  },
  {
   "cell_type": "code",
   "execution_count": 244,
   "id": "710c0ac6-d4b2-42c6-be9a-e414c4884fcc",
   "metadata": {},
   "outputs": [
    {
     "data": {
      "text/plain": [
       "int"
      ]
     },
     "execution_count": 244,
     "metadata": {},
     "output_type": "execute_result"
    }
   ],
   "source": [
    "a10=7\n",
    "type(a10)"
   ]
  },
  {
   "cell_type": "code",
   "execution_count": 246,
   "id": "324704f7-4e88-4346-b179-a95b9c3f1cef",
   "metadata": {},
   "outputs": [
    {
     "data": {
      "text/plain": [
       "(3, 4, 5, 6, 7)"
      ]
     },
     "execution_count": 246,
     "metadata": {},
     "output_type": "execute_result"
    }
   ],
   "source": [
    "t1=3,4,5,6,7\n",
    "t1"
   ]
  },
  {
   "cell_type": "code",
   "execution_count": 248,
   "id": "18d9fad5-b625-4f1b-aecc-73a2976eb4dd",
   "metadata": {},
   "outputs": [
    {
     "data": {
      "text/plain": [
       "tuple"
      ]
     },
     "execution_count": 248,
     "metadata": {},
     "output_type": "execute_result"
    }
   ],
   "source": [
    "type(t1)"
   ]
  },
  {
   "cell_type": "code",
   "execution_count": 250,
   "id": "03d67c33-d6e4-4879-a6e2-a00be4dc07b8",
   "metadata": {},
   "outputs": [
    {
     "data": {
      "text/plain": [
       "(10, 20, 30)"
      ]
     },
     "execution_count": 250,
     "metadata": {},
     "output_type": "execute_result"
    }
   ],
   "source": [
    "t2=(10,20,30)\n",
    "t2"
   ]
  },
  {
   "cell_type": "code",
   "execution_count": 252,
   "id": "b6e00793-5844-4576-8e22-e80cc52d9bf0",
   "metadata": {},
   "outputs": [
    {
     "data": {
      "text/plain": [
       "tuple"
      ]
     },
     "execution_count": 252,
     "metadata": {},
     "output_type": "execute_result"
    }
   ],
   "source": [
    "type(t2)"
   ]
  },
  {
   "cell_type": "code",
   "execution_count": 318,
   "id": "ef0ef99d-b8ab-4c52-a015-e8d60c44b257",
   "metadata": {},
   "outputs": [
    {
     "data": {
      "text/plain": [
       "1"
      ]
     },
     "execution_count": 318,
     "metadata": {},
     "output_type": "execute_result"
    }
   ],
   "source": [
    "t1.count(5)    #counts occurrences of 5 in t1"
   ]
  },
  {
   "cell_type": "code",
   "execution_count": 256,
   "id": "bc2cb227-e9e9-4df3-b19d-f7c5857f2699",
   "metadata": {},
   "outputs": [
    {
     "data": {
      "text/plain": [
       "(3, 4, 5, 6, 7)"
      ]
     },
     "execution_count": 256,
     "metadata": {},
     "output_type": "execute_result"
    }
   ],
   "source": [
    "t1"
   ]
  },
  {
   "cell_type": "code",
   "execution_count": 258,
   "id": "337fe7dc-d8a8-45a1-9a17-8f2cddc631d7",
   "metadata": {},
   "outputs": [
    {
     "data": {
      "text/plain": [
       "3"
      ]
     },
     "execution_count": 258,
     "metadata": {},
     "output_type": "execute_result"
    }
   ],
   "source": [
    "t1[0]"
   ]
  },
  {
   "cell_type": "code",
   "execution_count": 320,
   "id": "80865cc0-0dc7-4fff-8dd5-454c1bfa6eec",
   "metadata": {},
   "outputs": [
    {
     "data": {
      "text/plain": [
       "[400, 300, 20]"
      ]
     },
     "execution_count": 320,
     "metadata": {},
     "output_type": "execute_result"
    }
   ],
   "source": [
    "l=[400,300,20]   #list is mutable\n",
    "l"
   ]
  },
  {
   "cell_type": "code",
   "execution_count": 266,
   "id": "5a2c8451-5888-4c60-9e1d-45fcaa923042",
   "metadata": {},
   "outputs": [],
   "source": [
    "l[0]=10"
   ]
  },
  {
   "cell_type": "code",
   "execution_count": 268,
   "id": "f7f2bef8-9035-454c-9ee4-5af6f9307762",
   "metadata": {},
   "outputs": [
    {
     "data": {
      "text/plain": [
       "[10, 300, 20]"
      ]
     },
     "execution_count": 268,
     "metadata": {},
     "output_type": "execute_result"
    }
   ],
   "source": [
    "l"
   ]
  },
  {
   "cell_type": "code",
   "execution_count": 270,
   "id": "b31e54b2-041f-4242-b0fc-ad449c0d0af9",
   "metadata": {},
   "outputs": [
    {
     "data": {
      "text/plain": [
       "(234, 'cizp456', 4567)"
      ]
     },
     "execution_count": 270,
     "metadata": {},
     "output_type": "execute_result"
    }
   ],
   "source": [
    "icici=(234,'cizp456',4567)\n",
    "icici"
   ]
  },
  {
   "cell_type": "code",
   "execution_count": 322,
   "id": "9c790a85-d32f-4497-9782-c32a6d5d6f1b",
   "metadata": {},
   "outputs": [
    {
     "ename": "TypeError",
     "evalue": "'tuple' object does not support item assignment",
     "output_type": "error",
     "traceback": [
      "\u001b[1;31m---------------------------------------------------------------------------\u001b[0m",
      "\u001b[1;31mTypeError\u001b[0m                                 Traceback (most recent call last)",
      "Cell \u001b[1;32mIn[322], line 1\u001b[0m\n\u001b[1;32m----> 1\u001b[0m icici[\u001b[38;5;241m0\u001b[39m]\u001b[38;5;241m=\u001b[39m\u001b[38;5;241m456\u001b[39m     \u001b[38;5;66;03m#tuple is immutable\u001b[39;00m\n\u001b[0;32m      2\u001b[0m icici\n",
      "\u001b[1;31mTypeError\u001b[0m: 'tuple' object does not support item assignment"
     ]
    }
   ],
   "source": [
    "icici[0]=456     #tuple is immutable\n",
    "icici"
   ]
  },
  {
   "cell_type": "code",
   "execution_count": 276,
   "id": "2ec4a521-3491-4be2-a3c1-a271442a1f12",
   "metadata": {},
   "outputs": [
    {
     "data": {
      "text/plain": [
       "(3, 4, 5, 6, 7)"
      ]
     },
     "execution_count": 276,
     "metadata": {},
     "output_type": "execute_result"
    }
   ],
   "source": [
    "t1"
   ]
  },
  {
   "cell_type": "code",
   "execution_count": 324,
   "id": "b526da8f-4fcc-4bfa-8a22-d13655c2e901",
   "metadata": {},
   "outputs": [
    {
     "data": {
      "text/plain": [
       "(3, 4, 5, 6, 7, 3, 4, 5, 6, 7, 3, 4, 5, 6, 7)"
      ]
     },
     "execution_count": 324,
     "metadata": {},
     "output_type": "execute_result"
    }
   ],
   "source": [
    "t1*3        #prints for 3 times, no multiplication coz tuple is immutable"
   ]
  },
  {
   "cell_type": "code",
   "execution_count": 280,
   "id": "d488892a-c54b-43b7-8e9a-fd304e64c259",
   "metadata": {},
   "outputs": [
    {
     "data": {
      "text/plain": [
       "1"
      ]
     },
     "execution_count": 280,
     "metadata": {},
     "output_type": "execute_result"
    }
   ],
   "source": [
    "t1.index(4)    #Returns index of 4"
   ]
  },
  {
   "cell_type": "code",
   "execution_count": 326,
   "id": "f87314b0-f1f1-43ab-b198-84d986aa0bc5",
   "metadata": {},
   "outputs": [
    {
     "data": {
      "text/plain": [
       "(3, 4, 5, 6, 7)"
      ]
     },
     "execution_count": 326,
     "metadata": {},
     "output_type": "execute_result"
    }
   ],
   "source": [
    "t1[:]    #empty slicing prints all elements"
   ]
  },
  {
   "cell_type": "code",
   "execution_count": 284,
   "id": "70ed068d-6e37-4e81-b997-a0ae038ced44",
   "metadata": {},
   "outputs": [
    {
     "data": {
      "text/plain": [
       "(3, 4, 5, 6, 7)"
      ]
     },
     "execution_count": 284,
     "metadata": {},
     "output_type": "execute_result"
    }
   ],
   "source": [
    "t1"
   ]
  },
  {
   "cell_type": "code",
   "execution_count": 286,
   "id": "a745d626-6b99-4689-802d-b29fda4be42c",
   "metadata": {},
   "outputs": [
    {
     "data": {
      "text/plain": [
       "(5, 6, 7)"
      ]
     },
     "execution_count": 286,
     "metadata": {},
     "output_type": "execute_result"
    }
   ],
   "source": [
    "t1[2:]     #prints elements from 2nd  index"
   ]
  },
  {
   "cell_type": "code",
   "execution_count": 288,
   "id": "6fbb0fbe-2449-41db-a312-44b84062589b",
   "metadata": {},
   "outputs": [
    {
     "data": {
      "text/plain": [
       "(3, 4, 5, 6, 7)"
      ]
     },
     "execution_count": 288,
     "metadata": {},
     "output_type": "execute_result"
    }
   ],
   "source": [
    "t1"
   ]
  },
  {
   "cell_type": "code",
   "execution_count": 328,
   "id": "4335fcf6-8703-4882-8c8b-7be279781dc3",
   "metadata": {},
   "outputs": [
    {
     "data": {
      "text/plain": [
       "(3, 4, 5, 6, 7)"
      ]
     },
     "execution_count": 328,
     "metadata": {},
     "output_type": "execute_result"
    }
   ],
   "source": [
    "t1[:10]    #prints elements till 10th index"
   ]
  },
  {
   "cell_type": "code",
   "execution_count": 292,
   "id": "54875c9e-01ee-49d0-81bf-e79ef67245c1",
   "metadata": {},
   "outputs": [
    {
     "data": {
      "text/plain": [
       "(3, 4, 5, 6, 7)"
      ]
     },
     "execution_count": 292,
     "metadata": {},
     "output_type": "execute_result"
    }
   ],
   "source": [
    "t1"
   ]
  },
  {
   "cell_type": "code",
   "execution_count": 294,
   "id": "e64bd290-94e5-4b84-b481-3c9037266f9c",
   "metadata": {},
   "outputs": [
    {
     "name": "stdout",
     "output_type": "stream",
     "text": [
      "3\n",
      "4\n",
      "5\n",
      "6\n",
      "7\n"
     ]
    }
   ],
   "source": [
    "for i in t1:\n",
    "    print(i)"
   ]
  },
  {
   "cell_type": "code",
   "execution_count": 296,
   "id": "64aa6d12-17c7-4694-920b-51cf0c63d345",
   "metadata": {},
   "outputs": [
    {
     "name": "stdout",
     "output_type": "stream",
     "text": [
      "(0, 3)\n",
      "(1, 4)\n",
      "(2, 5)\n",
      "(3, 6)\n",
      "(4, 7)\n"
     ]
    }
   ],
   "source": [
    "for i in enumerate(t1):\n",
    "    print(i)"
   ]
  },
  {
   "cell_type": "code",
   "execution_count": 298,
   "id": "0536a84b-68cc-4a91-b9bf-05cb26ad5438",
   "metadata": {},
   "outputs": [
    {
     "data": {
      "text/plain": [
       "(10, 10)"
      ]
     },
     "execution_count": 298,
     "metadata": {},
     "output_type": "execute_result"
    }
   ],
   "source": [
    "t2=(10,10)\n",
    "t2"
   ]
  },
  {
   "cell_type": "code",
   "execution_count": 300,
   "id": "07e46641-9032-43db-bad6-a38ca3925a0b",
   "metadata": {},
   "outputs": [],
   "source": [
    "t5=('nit',45)"
   ]
  },
  {
   "cell_type": "code",
   "execution_count": 302,
   "id": "6adec6c1-22b4-4b60-a7d3-f06553fb191e",
   "metadata": {},
   "outputs": [
    {
     "data": {
      "text/plain": [
       "tuple"
      ]
     },
     "execution_count": 302,
     "metadata": {},
     "output_type": "execute_result"
    }
   ],
   "source": [
    "type(t5)"
   ]
  },
  {
   "cell_type": "code",
   "execution_count": 304,
   "id": "decf7fa3-3882-47d9-90d4-6ae70f70c6ee",
   "metadata": {},
   "outputs": [
    {
     "data": {
      "text/plain": [
       "'nit'"
      ]
     },
     "execution_count": 304,
     "metadata": {},
     "output_type": "execute_result"
    }
   ],
   "source": [
    "t5[0]"
   ]
  },
  {
   "cell_type": "code",
   "execution_count": 308,
   "id": "960114a1-3f32-424e-905c-f55d3eaec68d",
   "metadata": {},
   "outputs": [
    {
     "name": "stdout",
     "output_type": "stream",
     "text": [
      "n\n",
      "i\n",
      "t\n"
     ]
    }
   ],
   "source": [
    "print(t5[0][0])\n",
    "print(t5[0][1])\n",
    "print(t5[0][2])\n"
   ]
  },
  {
   "cell_type": "code",
   "execution_count": 310,
   "id": "2fcb104f-d567-4de3-b4b8-59fe31c6831d",
   "metadata": {},
   "outputs": [
    {
     "ename": "IndexError",
     "evalue": "string index out of range",
     "output_type": "error",
     "traceback": [
      "\u001b[1;31m---------------------------------------------------------------------------\u001b[0m",
      "\u001b[1;31mIndexError\u001b[0m                                Traceback (most recent call last)",
      "Cell \u001b[1;32mIn[310], line 1\u001b[0m\n\u001b[1;32m----> 1\u001b[0m \u001b[38;5;28mprint\u001b[39m(t5[\u001b[38;5;241m0\u001b[39m][\u001b[38;5;241m3\u001b[39m])\n\u001b[0;32m      2\u001b[0m \u001b[38;5;28mprint\u001b[39m(t5[\u001b[38;5;241m0\u001b[39m][\u001b[38;5;241m0\u001b[39m])\n\u001b[0;32m      3\u001b[0m \u001b[38;5;28mprint\u001b[39m(t5[\u001b[38;5;241m0\u001b[39m][\u001b[38;5;241m1\u001b[39m])\n",
      "\u001b[1;31mIndexError\u001b[0m: string index out of range"
     ]
    }
   ],
   "source": [
    "print(t5[0][3])\n",
    "print(t5[0][0])\n",
    "print(t5[0][1])\n",
    "print(t5[0][2])"
   ]
  },
  {
   "cell_type": "markdown",
   "id": "32d4fc73-f199-4220-8a42-e7c3cf2d1542",
   "metadata": {},
   "source": [
    "# Tuple Creation"
   ]
  },
  {
   "cell_type": "code",
   "execution_count": 331,
   "id": "d8670842-737c-49eb-9b91-a4bc38a2beee",
   "metadata": {},
   "outputs": [],
   "source": [
    "tup1=() #Empty tuple"
   ]
  },
  {
   "cell_type": "code",
   "execution_count": 333,
   "id": "5b6dc7d3-a755-4384-b711-1e930091cc49",
   "metadata": {},
   "outputs": [],
   "source": [
    "tup2=(10,30,60) #tuple of integer numbers"
   ]
  },
  {
   "cell_type": "code",
   "execution_count": 335,
   "id": "08b01cd7-aaa8-4cad-8dc4-9e492141972d",
   "metadata": {},
   "outputs": [],
   "source": [
    "tup3=(10.77,30.66,60.89) #tuple of float numbers"
   ]
  },
  {
   "cell_type": "code",
   "execution_count": 337,
   "id": "767c9b56-6550-455a-8cac-7cbb15a27ca4",
   "metadata": {},
   "outputs": [],
   "source": [
    "tup4=('one','two','three') #tuple of strings"
   ]
  },
  {
   "cell_type": "code",
   "execution_count": 339,
   "id": "9b058716-c6fe-4ade-9dd9-b4f284b88631",
   "metadata": {},
   "outputs": [],
   "source": [
    "tup5=('Asif',25,(50,100),(150,90)) #nested tuples"
   ]
  },
  {
   "cell_type": "code",
   "execution_count": 341,
   "id": "bd41ec1b-cecb-40f9-8bd9-98c57099d59b",
   "metadata": {},
   "outputs": [],
   "source": [
    "tup6=(100,'Asif',17.765)  #Tuple of mixed data types"
   ]
  },
  {
   "cell_type": "code",
   "execution_count": 343,
   "id": "92de9a93-a6eb-4d7f-9b7c-310f73011a71",
   "metadata": {},
   "outputs": [],
   "source": [
    "tup7=('Asif',25,[50,100],[150,90],{'John','David'},(99,22,33))"
   ]
  },
  {
   "cell_type": "code",
   "execution_count": 345,
   "id": "d3be219b-1872-4e58-b1df-ebeee4592509",
   "metadata": {},
   "outputs": [
    {
     "data": {
      "text/plain": [
       "6"
      ]
     },
     "execution_count": 345,
     "metadata": {},
     "output_type": "execute_result"
    }
   ],
   "source": [
    "len(tup7)  #length of list"
   ]
  },
  {
   "cell_type": "markdown",
   "id": "8339f6db-2897-4f31-bda2-07eba30c66fd",
   "metadata": {},
   "source": [
    "# Tuple Indexing"
   ]
  },
  {
   "cell_type": "code",
   "execution_count": 348,
   "id": "574df904-625d-470b-aa44-e6b2cebbf6e4",
   "metadata": {},
   "outputs": [
    {
     "data": {
      "text/plain": [
       "10"
      ]
     },
     "execution_count": 348,
     "metadata": {},
     "output_type": "execute_result"
    }
   ],
   "source": [
    "tup2[0]  #prints 1st element of tuple"
   ]
  },
  {
   "cell_type": "code",
   "execution_count": 350,
   "id": "49418e08-b974-40fd-ab3e-3e3ff658b301",
   "metadata": {},
   "outputs": [
    {
     "data": {
      "text/plain": [
       "'one'"
      ]
     },
     "execution_count": 350,
     "metadata": {},
     "output_type": "execute_result"
    }
   ],
   "source": [
    "tup4[0]"
   ]
  },
  {
   "cell_type": "code",
   "execution_count": 352,
   "id": "de142b20-44b7-4a61-8610-67ff91da952a",
   "metadata": {},
   "outputs": [
    {
     "data": {
      "text/plain": [
       "'o'"
      ]
     },
     "execution_count": 352,
     "metadata": {},
     "output_type": "execute_result"
    }
   ],
   "source": [
    "tup4[0][0]  #nested indexing -access 1st character of first element of tuple - one : o"
   ]
  },
  {
   "cell_type": "code",
   "execution_count": 354,
   "id": "8f123e51-4bb3-4799-99b5-cada7dd04056",
   "metadata": {},
   "outputs": [
    {
     "data": {
      "text/plain": [
       "'three'"
      ]
     },
     "execution_count": 354,
     "metadata": {},
     "output_type": "execute_result"
    }
   ],
   "source": [
    "tup4[-1]  #Last item of tuple"
   ]
  },
  {
   "cell_type": "code",
   "execution_count": 357,
   "id": "ed336c47-1e1b-4154-8b98-77a569aed8a1",
   "metadata": {},
   "outputs": [
    {
     "data": {
      "text/plain": [
       "(150, 90)"
      ]
     },
     "execution_count": 357,
     "metadata": {},
     "output_type": "execute_result"
    }
   ],
   "source": [
    "tup5[-1]"
   ]
  },
  {
   "cell_type": "markdown",
   "id": "1337e4a4-1c33-4ca0-aa4c-ff43facaf32d",
   "metadata": {},
   "source": [
    "# Tuple Slicing"
   ]
  },
  {
   "cell_type": "code",
   "execution_count": 404,
   "id": "7e5c0228-fe0f-4bf3-8e07-5acdce3cdba7",
   "metadata": {},
   "outputs": [],
   "source": [
    "mytuple=('one','two','three','four','five','six','seven','eight')"
   ]
  },
  {
   "cell_type": "code",
   "execution_count": 406,
   "id": "d72c9713-ec87-4bf6-aeb3-08884318ca9d",
   "metadata": {},
   "outputs": [
    {
     "data": {
      "text/plain": [
       "('one', 'two', 'three')"
      ]
     },
     "execution_count": 406,
     "metadata": {},
     "output_type": "execute_result"
    }
   ],
   "source": [
    "mytuple[0:3]  # returns elements from 0 to 3rd index"
   ]
  },
  {
   "cell_type": "code",
   "execution_count": 408,
   "id": "aba1fa46-8b90-4a75-a669-361cd08087e9",
   "metadata": {},
   "outputs": [
    {
     "data": {
      "text/plain": [
       "('three', 'four', 'five')"
      ]
     },
     "execution_count": 408,
     "metadata": {},
     "output_type": "execute_result"
    }
   ],
   "source": [
    "mytuple[2:5]"
   ]
  },
  {
   "cell_type": "code",
   "execution_count": 410,
   "id": "0daac36c-147a-4be5-bc5d-c9293325899f",
   "metadata": {},
   "outputs": [
    {
     "data": {
      "text/plain": [
       "('one', 'two', 'three')"
      ]
     },
     "execution_count": 410,
     "metadata": {},
     "output_type": "execute_result"
    }
   ],
   "source": [
    "mytuple[:3]  #Returns first three items"
   ]
  },
  {
   "cell_type": "code",
   "execution_count": 412,
   "id": "3dccfee5-dc71-445a-bc05-56d903df4d3f",
   "metadata": {},
   "outputs": [
    {
     "data": {
      "text/plain": [
       "('one', 'two')"
      ]
     },
     "execution_count": 412,
     "metadata": {},
     "output_type": "execute_result"
    }
   ],
   "source": [
    "mytuple[:2]"
   ]
  },
  {
   "cell_type": "code",
   "execution_count": 414,
   "id": "efbb0178-edc4-4189-b2ae-5170dcd1322e",
   "metadata": {},
   "outputs": [
    {
     "data": {
      "text/plain": [
       "('six', 'seven', 'eight')"
      ]
     },
     "execution_count": 414,
     "metadata": {},
     "output_type": "execute_result"
    }
   ],
   "source": [
    "mytuple[-3:] #prints last 3 items"
   ]
  },
  {
   "cell_type": "code",
   "execution_count": 416,
   "id": "429a66dc-c746-4167-bf14-93c90ec0f2ae",
   "metadata": {},
   "outputs": [
    {
     "data": {
      "text/plain": [
       "('seven', 'eight')"
      ]
     },
     "execution_count": 416,
     "metadata": {},
     "output_type": "execute_result"
    }
   ],
   "source": [
    "mytuple[-2:]"
   ]
  },
  {
   "cell_type": "code",
   "execution_count": 418,
   "id": "e17920d1-8c9e-40a6-8603-13c95a620f1c",
   "metadata": {},
   "outputs": [
    {
     "data": {
      "text/plain": [
       "'eight'"
      ]
     },
     "execution_count": 418,
     "metadata": {},
     "output_type": "execute_result"
    }
   ],
   "source": [
    "mytuple[-1]  #returns last item"
   ]
  },
  {
   "cell_type": "code",
   "execution_count": 420,
   "id": "73c27c1c-5753-4966-81af-6a5c8fe09d29",
   "metadata": {},
   "outputs": [
    {
     "data": {
      "text/plain": [
       "('one', 'two', 'three', 'four', 'five', 'six', 'seven', 'eight')"
      ]
     },
     "execution_count": 420,
     "metadata": {},
     "output_type": "execute_result"
    }
   ],
   "source": [
    "mytuple[:]  #returns whole tuple"
   ]
  },
  {
   "cell_type": "markdown",
   "id": "83663dfc-283b-4686-b338-f57785193bf6",
   "metadata": {},
   "source": [
    "# Remove & Change items"
   ]
  },
  {
   "cell_type": "code",
   "execution_count": 423,
   "id": "d1d51109-de46-4db9-b07e-8677cc65163f",
   "metadata": {},
   "outputs": [
    {
     "data": {
      "text/plain": [
       "('one', 'two', 'three', 'four', 'five', 'six', 'seven', 'eight')"
      ]
     },
     "execution_count": 423,
     "metadata": {},
     "output_type": "execute_result"
    }
   ],
   "source": [
    "mytuple"
   ]
  },
  {
   "cell_type": "code",
   "execution_count": 425,
   "id": "07e6269b-b4b6-4a62-8df6-ce5a28c98a02",
   "metadata": {},
   "outputs": [
    {
     "ename": "TypeError",
     "evalue": "'tuple' object doesn't support item deletion",
     "output_type": "error",
     "traceback": [
      "\u001b[1;31m---------------------------------------------------------------------------\u001b[0m",
      "\u001b[1;31mTypeError\u001b[0m                                 Traceback (most recent call last)",
      "Cell \u001b[1;32mIn[425], line 1\u001b[0m\n\u001b[1;32m----> 1\u001b[0m \u001b[38;5;28;01mdel\u001b[39;00m mytuple[\u001b[38;5;241m0\u001b[39m]\n",
      "\u001b[1;31mTypeError\u001b[0m: 'tuple' object doesn't support item deletion"
     ]
    }
   ],
   "source": [
    "del mytuple[0]  #Tuples are immutable means we can't delete tuple items"
   ]
  },
  {
   "cell_type": "code",
   "execution_count": 427,
   "id": "5337d9b8-db4b-41d1-9566-28b1f13bb975",
   "metadata": {},
   "outputs": [
    {
     "ename": "TypeError",
     "evalue": "'tuple' object does not support item assignment",
     "output_type": "error",
     "traceback": [
      "\u001b[1;31m---------------------------------------------------------------------------\u001b[0m",
      "\u001b[1;31mTypeError\u001b[0m                                 Traceback (most recent call last)",
      "Cell \u001b[1;32mIn[427], line 1\u001b[0m\n\u001b[1;32m----> 1\u001b[0m mytuple[\u001b[38;5;241m0\u001b[39m]\u001b[38;5;241m=\u001b[39m\u001b[38;5;241m1\u001b[39m\n",
      "\u001b[1;31mTypeError\u001b[0m: 'tuple' object does not support item assignment"
     ]
    }
   ],
   "source": [
    "mytuple[0]=1  #tuples are immutable means we can't change tuple items"
   ]
  },
  {
   "cell_type": "code",
   "execution_count": 429,
   "id": "d7a4ef99-7787-4732-abc7-b1923e5a69de",
   "metadata": {},
   "outputs": [],
   "source": [
    "del mytuple # deleting entire tuple object is possible"
   ]
  },
  {
   "cell_type": "markdown",
   "id": "a0840dd4-8b17-4bba-8fa5-6513c46e7483",
   "metadata": {},
   "source": [
    "# Loop through a tuple"
   ]
  },
  {
   "cell_type": "code",
   "execution_count": 435,
   "id": "2d5fd741-59c9-4261-824a-688c64061f01",
   "metadata": {},
   "outputs": [],
   "source": [
    "mytuple=('one','two','three','four','five','six','seven','eight')"
   ]
  },
  {
   "cell_type": "code",
   "execution_count": 437,
   "id": "72b0f38e-5122-49cb-8bc4-20475105bba3",
   "metadata": {},
   "outputs": [
    {
     "name": "stdout",
     "output_type": "stream",
     "text": [
      "one\n",
      "two\n",
      "three\n",
      "four\n",
      "five\n",
      "six\n",
      "seven\n",
      "eight\n"
     ]
    }
   ],
   "source": [
    "for i in mytuple:\n",
    "    print(i)"
   ]
  },
  {
   "cell_type": "code",
   "execution_count": 441,
   "id": "51243499-207d-4a07-a2a0-7a58467f20f3",
   "metadata": {},
   "outputs": [
    {
     "name": "stdout",
     "output_type": "stream",
     "text": [
      "(0, 'one')\n",
      "(1, 'two')\n",
      "(2, 'three')\n",
      "(3, 'four')\n",
      "(4, 'five')\n",
      "(5, 'six')\n",
      "(6, 'seven')\n",
      "(7, 'eight')\n"
     ]
    }
   ],
   "source": [
    "for i in enumerate(mytuple):\n",
    "    print(i)"
   ]
  },
  {
   "cell_type": "markdown",
   "id": "d3e86140-76eb-40ef-9955-1a3d3dd2f799",
   "metadata": {},
   "source": [
    "# Tuple Membership"
   ]
  },
  {
   "cell_type": "code",
   "execution_count": 444,
   "id": "c39ea1ee-ddb3-4ce4-acc4-2543f6007b02",
   "metadata": {},
   "outputs": [
    {
     "data": {
      "text/plain": [
       "('one', 'two', 'three', 'four', 'five', 'six', 'seven', 'eight')"
      ]
     },
     "execution_count": 444,
     "metadata": {},
     "output_type": "execute_result"
    }
   ],
   "source": [
    "mytuple"
   ]
  },
  {
   "cell_type": "code",
   "execution_count": 448,
   "id": "fdf1469d-c75d-4e0f-9b68-f8476ba9bba7",
   "metadata": {},
   "outputs": [
    {
     "data": {
      "text/plain": [
       "True"
      ]
     },
     "execution_count": 448,
     "metadata": {},
     "output_type": "execute_result"
    }
   ],
   "source": [
    "'one' in mytuple  #checks if 'one' exist in list"
   ]
  },
  {
   "cell_type": "code",
   "execution_count": 450,
   "id": "b2b4f2a3-4ab8-402d-969c-d970831c38c3",
   "metadata": {},
   "outputs": [
    {
     "data": {
      "text/plain": [
       "False"
      ]
     },
     "execution_count": 450,
     "metadata": {},
     "output_type": "execute_result"
    }
   ],
   "source": [
    "'ten' in mytuple "
   ]
  },
  {
   "cell_type": "code",
   "execution_count": 454,
   "id": "5fd9c35e-83cc-4ecc-960d-6af73cb04963",
   "metadata": {},
   "outputs": [
    {
     "name": "stdout",
     "output_type": "stream",
     "text": [
      "Three is present in the tuple\n"
     ]
    }
   ],
   "source": [
    "if 'three' in mytuple:             #checks if 'three' exist in list\n",
    "    print('Three is present in the tuple')\n",
    "else:\n",
    "    print('Three is not present in the tuple')"
   ]
  },
  {
   "cell_type": "code",
   "execution_count": 458,
   "id": "7555760b-f8ea-40f9-a42f-97d0381a8cf1",
   "metadata": {},
   "outputs": [
    {
     "name": "stdout",
     "output_type": "stream",
     "text": [
      "eleven is not present in the tuple\n"
     ]
    }
   ],
   "source": [
    "if 'eleven' in mytuple:            \n",
    "    print('eleven is present in the tuple')\n",
    "else:\n",
    "    print('eleven is not present in the tuple')"
   ]
  },
  {
   "cell_type": "markdown",
   "id": "942548ca-ccdc-47f3-917c-669c2027decd",
   "metadata": {},
   "source": [
    "# Index Position"
   ]
  },
  {
   "cell_type": "code",
   "execution_count": 461,
   "id": "a65de33d-7f38-4d22-9068-1ba199d0a2d2",
   "metadata": {},
   "outputs": [
    {
     "data": {
      "text/plain": [
       "('one', 'two', 'three', 'four', 'five', 'six', 'seven', 'eight')"
      ]
     },
     "execution_count": 461,
     "metadata": {},
     "output_type": "execute_result"
    }
   ],
   "source": [
    "mytuple"
   ]
  },
  {
   "cell_type": "code",
   "execution_count": 463,
   "id": "4ea42c9f-e7e2-4a47-aeca-9a4ca0f6cd29",
   "metadata": {},
   "outputs": [
    {
     "data": {
      "text/plain": [
       "0"
      ]
     },
     "execution_count": 463,
     "metadata": {},
     "output_type": "execute_result"
    }
   ],
   "source": [
    "mytuple.index('one') #index of 'one'"
   ]
  },
  {
   "cell_type": "code",
   "execution_count": 465,
   "id": "c4789f19-6c5c-49fb-adf0-0f509c970dab",
   "metadata": {},
   "outputs": [
    {
     "data": {
      "text/plain": [
       "4"
      ]
     },
     "execution_count": 465,
     "metadata": {},
     "output_type": "execute_result"
    }
   ],
   "source": [
    "mytuple.index('five')"
   ]
  },
  {
   "cell_type": "code",
   "execution_count": 469,
   "id": "9edf100c-c242-4002-b4e4-12784d3294db",
   "metadata": {},
   "outputs": [],
   "source": [
    "mytuple1=('one','two','three','four','one','one','two','three')"
   ]
  },
  {
   "cell_type": "code",
   "execution_count": 471,
   "id": "78d39ed5-664b-47ce-a995-c145c8ea800a",
   "metadata": {},
   "outputs": [
    {
     "data": {
      "text/plain": [
       "0"
      ]
     },
     "execution_count": 471,
     "metadata": {},
     "output_type": "execute_result"
    }
   ],
   "source": [
    "mytuple.index('one')"
   ]
  },
  {
   "cell_type": "markdown",
   "id": "38e8aeff-5156-4f2c-9731-9faed17f1ffd",
   "metadata": {},
   "source": [
    "# Sorting"
   ]
  },
  {
   "cell_type": "code",
   "execution_count": 476,
   "id": "78685586-a34a-486e-a17b-5429a4201abd",
   "metadata": {},
   "outputs": [],
   "source": [
    "mytuple2=(43,67,99,12,6,90,67)"
   ]
  },
  {
   "cell_type": "code",
   "execution_count": 478,
   "id": "b1ee0cf7-a61b-43fe-b60d-4b2bc48c8260",
   "metadata": {},
   "outputs": [
    {
     "data": {
      "text/plain": [
       "[6, 12, 43, 67, 67, 90, 99]"
      ]
     },
     "execution_count": 478,
     "metadata": {},
     "output_type": "execute_result"
    }
   ],
   "source": [
    "sorted(mytuple2)  #returns a new sorted list & doesn't change original tuple"
   ]
  },
  {
   "cell_type": "code",
   "execution_count": 480,
   "id": "57df449b-339e-4f5f-927e-e126b1ab8542",
   "metadata": {},
   "outputs": [
    {
     "data": {
      "text/plain": [
       "[99, 90, 67, 67, 43, 12, 6]"
      ]
     },
     "execution_count": 480,
     "metadata": {},
     "output_type": "execute_result"
    }
   ],
   "source": [
    "sorted(mytuple2,reverse=True) #Sort in descending order"
   ]
  },
  {
   "cell_type": "code",
   "execution_count": null,
   "id": "e356adf6-fa03-44c2-be0c-d57df78fcea7",
   "metadata": {},
   "outputs": [],
   "source": []
  }
 ],
 "metadata": {
  "kernelspec": {
   "display_name": "Python 3 (ipykernel)",
   "language": "python",
   "name": "python3"
  },
  "language_info": {
   "codemirror_mode": {
    "name": "ipython",
    "version": 3
   },
   "file_extension": ".py",
   "mimetype": "text/x-python",
   "name": "python",
   "nbconvert_exporter": "python",
   "pygments_lexer": "ipython3",
   "version": "3.12.4"
  }
 },
 "nbformat": 4,
 "nbformat_minor": 5
}
