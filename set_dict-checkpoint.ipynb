{
 "cells": [
  {
   "cell_type": "code",
   "execution_count": null,
   "id": "91829d01-188c-452e-928e-a9fd1f9961e6",
   "metadata": {},
   "outputs": [],
   "source": [
    "Set is ordered for same data type but for mixed data type it is unordered."
   ]
  },
  {
   "cell_type": "code",
   "execution_count": null,
   "id": "dc3455d5-360f-43f8-86fe-362c10a3e4ce",
   "metadata": {},
   "outputs": [],
   "source": [
    "sets are enclosed in {} and seprated by comma."
   ]
  },
  {
   "cell_type": "code",
   "execution_count": null,
   "id": "efbc2a3a-63d2-4908-a9ab-220828b4d2e1",
   "metadata": {},
   "outputs": [],
   "source": [
    "duplicates are not allowed"
   ]
  },
  {
   "cell_type": "code",
   "execution_count": null,
   "id": "16efe71d-d8a3-4bf6-8bc6-6d4d357ed936",
   "metadata": {},
   "outputs": [],
   "source": [
    "sets are mutable"
   ]
  },
  {
   "cell_type": "code",
   "execution_count": null,
   "id": "30f06724-d329-4417-834e-ffaf74a26274",
   "metadata": {},
   "outputs": [],
   "source": [
    "indexing,slicing,append,sorting,reversing are not allowed"
   ]
  },
  {
   "cell_type": "markdown",
   "id": "1cd4050a-03f6-40a8-a9da-234a4261f67a",
   "metadata": {},
   "source": [
    "# Set"
   ]
  },
  {
   "cell_type": "code",
   "execution_count": 2,
   "id": "84240a90-86eb-4b0b-8ea4-7a61fd02ff52",
   "metadata": {},
   "outputs": [],
   "source": [
    "s={}"
   ]
  },
  {
   "cell_type": "code",
   "execution_count": 6,
   "id": "9c501b45-dff1-4abb-a0f8-becc1fe3858a",
   "metadata": {},
   "outputs": [
    {
     "data": {
      "text/plain": [
       "{5, 6, 21, 34, 58}"
      ]
     },
     "execution_count": 6,
     "metadata": {},
     "output_type": "execute_result"
    }
   ],
   "source": [
    "s1={21,6,34,58,5}\n",
    "s1"
   ]
  },
  {
   "cell_type": "code",
   "execution_count": 8,
   "id": "cb4aea19-ebd4-4144-a5b7-ffbefa87a040",
   "metadata": {},
   "outputs": [
    {
     "data": {
      "text/plain": [
       "{35, 50, 53, 'nit'}"
      ]
     },
     "execution_count": 8,
     "metadata": {},
     "output_type": "execute_result"
    }
   ],
   "source": [
    "s3={50,35,53,'nit',53}\n",
    "s3"
   ]
  },
  {
   "cell_type": "code",
   "execution_count": 10,
   "id": "d4802a49-f35c-41d2-b33e-56b9ccb2128b",
   "metadata": {},
   "outputs": [
    {
     "ename": "TypeError",
     "evalue": "'set' object is not subscriptable",
     "output_type": "error",
     "traceback": [
      "\u001b[1;31m---------------------------------------------------------------------------\u001b[0m",
      "\u001b[1;31mTypeError\u001b[0m                                 Traceback (most recent call last)",
      "Cell \u001b[1;32mIn[10], line 1\u001b[0m\n\u001b[1;32m----> 1\u001b[0m s1[\u001b[38;5;241m1\u001b[39m]\n",
      "\u001b[1;31mTypeError\u001b[0m: 'set' object is not subscriptable"
     ]
    }
   ],
   "source": [
    "s1[1] #indeing is not allowed in set"
   ]
  },
  {
   "cell_type": "code",
   "execution_count": 3,
   "id": "69b28578-01bb-4109-8ecf-b5e59a374a53",
   "metadata": {},
   "outputs": [],
   "source": [
    "s5={2,3,'nit',1+2j,True}\n"
   ]
  },
  {
   "cell_type": "code",
   "execution_count": 5,
   "id": "e3b16b6b-540f-4b3d-9a3d-ef4009197e70",
   "metadata": {},
   "outputs": [
    {
     "data": {
      "text/plain": [
       "set"
      ]
     },
     "execution_count": 5,
     "metadata": {},
     "output_type": "execute_result"
    }
   ],
   "source": [
    "type(s5)"
   ]
  },
  {
   "cell_type": "code",
   "execution_count": 7,
   "id": "de3a55c5-e8d7-4bf4-ad50-73d87852d301",
   "metadata": {},
   "outputs": [
    {
     "data": {
      "text/plain": [
       "True"
      ]
     },
     "execution_count": 7,
     "metadata": {},
     "output_type": "execute_result"
    }
   ],
   "source": [
    "2 in s5"
   ]
  },
  {
   "cell_type": "code",
   "execution_count": 9,
   "id": "28c27d36-2e61-41b1-90e3-b7e3abc951a9",
   "metadata": {},
   "outputs": [
    {
     "data": {
      "text/plain": [
       "False"
      ]
     },
     "execution_count": 9,
     "metadata": {},
     "output_type": "execute_result"
    }
   ],
   "source": [
    "200 in s5"
   ]
  },
  {
   "cell_type": "code",
   "execution_count": null,
   "id": "1ad95602-fe54-4f6c-8e69-d05c2d814404",
   "metadata": {},
   "outputs": [],
   "source": [
    "discard() never gives u bug"
   ]
  },
  {
   "cell_type": "code",
   "execution_count": 11,
   "id": "7a961754-5fdd-4a82-a303-c9ba3c0a502b",
   "metadata": {},
   "outputs": [
    {
     "name": "stdout",
     "output_type": "stream",
     "text": [
      "True\n",
      "2\n",
      "3\n",
      "(1+2j)\n",
      "nit\n"
     ]
    }
   ],
   "source": [
    "for i in s5:\n",
    "    print(i)"
   ]
  },
  {
   "cell_type": "code",
   "execution_count": 135,
   "id": "b05e6844-f6e4-4cbf-9b11-43dd87c487bc",
   "metadata": {},
   "outputs": [
    {
     "ename": "TypeError",
     "evalue": "'str' object is not callable",
     "output_type": "error",
     "traceback": [
      "\u001b[1;31m---------------------------------------------------------------------------\u001b[0m",
      "\u001b[1;31mTypeError\u001b[0m                                 Traceback (most recent call last)",
      "Cell \u001b[1;32mIn[135], line 1\u001b[0m\n\u001b[1;32m----> 1\u001b[0m \u001b[38;5;28;01mfor\u001b[39;00m i \u001b[38;5;129;01min\u001b[39;00m \u001b[38;5;28menumerate\u001b[39m (s5):\n\u001b[0;32m      2\u001b[0m     \u001b[38;5;28mprint\u001b[39m(i)\n",
      "\u001b[1;31mTypeError\u001b[0m: 'str' object is not callable"
     ]
    }
   ],
   "source": [
    "for i in enumerate (s5):\n",
    "    print(i)"
   ]
  },
  {
   "cell_type": "code",
   "execution_count": 21,
   "id": "45c52669-df46-4445-a608-d099a4b509f0",
   "metadata": {},
   "outputs": [],
   "source": [
    "s5.update([100,200,300])"
   ]
  },
  {
   "cell_type": "code",
   "execution_count": 23,
   "id": "0f419389-56f8-43e2-be8c-a1ca6e49c34c",
   "metadata": {},
   "outputs": [
    {
     "data": {
      "text/plain": [
       "{(1+2j), 100, 2, 200, 3, 300, True, 'nit'}"
      ]
     },
     "execution_count": 23,
     "metadata": {},
     "output_type": "execute_result"
    }
   ],
   "source": [
    "s5"
   ]
  },
  {
   "cell_type": "code",
   "execution_count": 25,
   "id": "8c6744e5-672d-4501-8675-88c4268951cf",
   "metadata": {},
   "outputs": [
    {
     "data": {
      "text/plain": [
       "{(1+2j), 100, 2, 200, 3, 300, True, 'nit'}"
      ]
     },
     "execution_count": 25,
     "metadata": {},
     "output_type": "execute_result"
    }
   ],
   "source": [
    "s6=s5.copy()\n",
    "s6"
   ]
  },
  {
   "cell_type": "markdown",
   "id": "7b73e9b5-f224-42a0-8a88-925bf71b8ded",
   "metadata": {},
   "source": [
    "# set operation"
   ]
  },
  {
   "cell_type": "code",
   "execution_count": 45,
   "id": "874748a2-7a09-48c5-80ec-2b0420ad1561",
   "metadata": {},
   "outputs": [],
   "source": [
    "#union"
   ]
  },
  {
   "cell_type": "code",
   "execution_count": 47,
   "id": "55f6a973-c30f-4406-916a-7e2d2c10207c",
   "metadata": {},
   "outputs": [],
   "source": [
    "A={1,2,3,4,5}\n",
    "B={4,5,6,7,8}\n",
    "C={8,9,10}\n"
   ]
  },
  {
   "cell_type": "code",
   "execution_count": 49,
   "id": "5423528a-ac25-4146-afab-286970baab8b",
   "metadata": {},
   "outputs": [
    {
     "data": {
      "text/plain": [
       "{1, 2, 3, 4, 5, 6, 7, 8}"
      ]
     },
     "execution_count": 49,
     "metadata": {},
     "output_type": "execute_result"
    }
   ],
   "source": [
    "A.union(B)"
   ]
  },
  {
   "cell_type": "code",
   "execution_count": 51,
   "id": "4ab67af0-780a-434e-b3de-179e1ad0b5fc",
   "metadata": {},
   "outputs": [
    {
     "data": {
      "text/plain": [
       "{1, 2, 3, 4, 5, 6, 7, 8, 9, 10}"
      ]
     },
     "execution_count": 51,
     "metadata": {},
     "output_type": "execute_result"
    }
   ],
   "source": [
    "A.union(B,C)"
   ]
  },
  {
   "cell_type": "code",
   "execution_count": 53,
   "id": "24e9f4dc-c5ef-497a-b9ef-1082822e39aa",
   "metadata": {},
   "outputs": [
    {
     "ename": "TypeError",
     "evalue": "'int' object is not iterable",
     "output_type": "error",
     "traceback": [
      "\u001b[1;31m---------------------------------------------------------------------------\u001b[0m",
      "\u001b[1;31mTypeError\u001b[0m                                 Traceback (most recent call last)",
      "Cell \u001b[1;32mIn[53], line 1\u001b[0m\n\u001b[1;32m----> 1\u001b[0m A\u001b[38;5;241m.\u001b[39munion(B,C,\u001b[38;5;241m56\u001b[39m)\n",
      "\u001b[1;31mTypeError\u001b[0m: 'int' object is not iterable"
     ]
    }
   ],
   "source": [
    "A.union(B,C,56)"
   ]
  },
  {
   "cell_type": "code",
   "execution_count": 55,
   "id": "c3bf5cda-08e0-4575-94aa-eb78716cb2c0",
   "metadata": {},
   "outputs": [
    {
     "name": "stdout",
     "output_type": "stream",
     "text": [
      "{1, 2, 3, 4, 5}\n",
      "{4, 5, 6, 7, 8}\n",
      "{8, 9, 10}\n"
     ]
    }
   ],
   "source": [
    "print(A)\n",
    "print(B)\n",
    "print(C)"
   ]
  },
  {
   "cell_type": "code",
   "execution_count": 57,
   "id": "b31ebbf7-59ff-42e9-9bfd-500d88ee8890",
   "metadata": {},
   "outputs": [
    {
     "data": {
      "text/plain": [
       "{1, 2, 3, 4, 5, 6, 7, 8}"
      ]
     },
     "execution_count": 57,
     "metadata": {},
     "output_type": "execute_result"
    }
   ],
   "source": [
    "A|B"
   ]
  },
  {
   "cell_type": "code",
   "execution_count": 59,
   "id": "5df1b779-a3d1-40c0-9e60-674803eca9ff",
   "metadata": {},
   "outputs": [
    {
     "data": {
      "text/plain": [
       "{1, 2, 3, 4, 5, 6, 7, 8, 9, 10}"
      ]
     },
     "execution_count": 59,
     "metadata": {},
     "output_type": "execute_result"
    }
   ],
   "source": [
    "A|B|C"
   ]
  },
  {
   "cell_type": "code",
   "execution_count": 63,
   "id": "4e78b848-89e4-4462-8e0a-e49c3095d315",
   "metadata": {},
   "outputs": [
    {
     "ename": "NameError",
     "evalue": "name 'D' is not defined",
     "output_type": "error",
     "traceback": [
      "\u001b[1;31m---------------------------------------------------------------------------\u001b[0m",
      "\u001b[1;31mNameError\u001b[0m                                 Traceback (most recent call last)",
      "Cell \u001b[1;32mIn[63], line 1\u001b[0m\n\u001b[1;32m----> 1\u001b[0m A\u001b[38;5;241m|\u001b[39mB\u001b[38;5;241m|\u001b[39mC\u001b[38;5;241m|\u001b[39mD\n",
      "\u001b[1;31mNameError\u001b[0m: name 'D' is not defined"
     ]
    }
   ],
   "source": [
    "A|B|C|D"
   ]
  },
  {
   "cell_type": "code",
   "execution_count": 65,
   "id": "f04e654f-0be3-4911-b457-1829b138e687",
   "metadata": {},
   "outputs": [],
   "source": [
    "#intersection"
   ]
  },
  {
   "cell_type": "code",
   "execution_count": 67,
   "id": "e7c9730c-cb60-4ff1-9321-7af53d01db52",
   "metadata": {},
   "outputs": [
    {
     "data": {
      "text/plain": [
       "{4, 5}"
      ]
     },
     "execution_count": 67,
     "metadata": {},
     "output_type": "execute_result"
    }
   ],
   "source": [
    "A & B"
   ]
  },
  {
   "cell_type": "code",
   "execution_count": 69,
   "id": "00be4cb2-20fd-4b69-88e7-11071938d9ef",
   "metadata": {},
   "outputs": [
    {
     "data": {
      "text/plain": [
       "{4, 5}"
      ]
     },
     "execution_count": 69,
     "metadata": {},
     "output_type": "execute_result"
    }
   ],
   "source": [
    "A.intersection(B)"
   ]
  },
  {
   "cell_type": "code",
   "execution_count": 73,
   "id": "d48ecc05-109e-430e-96cb-337d7f8eb509",
   "metadata": {},
   "outputs": [
    {
     "data": {
      "text/plain": [
       "set()"
      ]
     },
     "execution_count": 73,
     "metadata": {},
     "output_type": "execute_result"
    }
   ],
   "source": [
    "A.intersection(C)"
   ]
  },
  {
   "cell_type": "code",
   "execution_count": 75,
   "id": "410164cb-e3b0-46dd-b11c-a8db7573b62c",
   "metadata": {},
   "outputs": [
    {
     "data": {
      "text/plain": [
       "{8}"
      ]
     },
     "execution_count": 75,
     "metadata": {},
     "output_type": "execute_result"
    }
   ],
   "source": [
    "B.intersection(C)"
   ]
  },
  {
   "cell_type": "code",
   "execution_count": 79,
   "id": "7b351a0d-5aa9-4ff2-bed5-5f60d0fd6a9c",
   "metadata": {},
   "outputs": [
    {
     "data": {
      "text/plain": [
       "set()"
      ]
     },
     "execution_count": 79,
     "metadata": {},
     "output_type": "execute_result"
    }
   ],
   "source": [
    "A.intersection(B,C) #in intersection pass only 1 argument"
   ]
  },
  {
   "cell_type": "code",
   "execution_count": null,
   "id": "359597d7-9b43-438c-a3ba-626aef4324fd",
   "metadata": {},
   "outputs": [],
   "source": [
    "#difference"
   ]
  },
  {
   "cell_type": "code",
   "execution_count": 81,
   "id": "68d54d73-4261-4d07-9d31-707a79f19d86",
   "metadata": {},
   "outputs": [
    {
     "data": {
      "text/plain": [
       "{1, 2, 3}"
      ]
     },
     "execution_count": 81,
     "metadata": {},
     "output_type": "execute_result"
    }
   ],
   "source": [
    "A - B"
   ]
  },
  {
   "cell_type": "code",
   "execution_count": 83,
   "id": "e2af9794-5bbe-4787-a541-6730da8ef658",
   "metadata": {},
   "outputs": [
    {
     "data": {
      "text/plain": [
       "{1, 2, 3, 4, 5}"
      ]
     },
     "execution_count": 83,
     "metadata": {},
     "output_type": "execute_result"
    }
   ],
   "source": [
    "A -C"
   ]
  },
  {
   "cell_type": "code",
   "execution_count": 85,
   "id": "e8511d02-cb00-44a3-900e-5a1fd0e21ca9",
   "metadata": {},
   "outputs": [
    {
     "data": {
      "text/plain": [
       "{1, 2, 3}"
      ]
     },
     "execution_count": 85,
     "metadata": {},
     "output_type": "execute_result"
    }
   ],
   "source": [
    "A.difference(B)"
   ]
  },
  {
   "cell_type": "code",
   "execution_count": 87,
   "id": "1315072b-72bf-45a9-a34a-9aaed4071e6a",
   "metadata": {},
   "outputs": [
    {
     "data": {
      "text/plain": [
       "{1, 2, 3}"
      ]
     },
     "execution_count": 87,
     "metadata": {},
     "output_type": "execute_result"
    }
   ],
   "source": [
    "A.difference(B,C)"
   ]
  },
  {
   "cell_type": "code",
   "execution_count": 89,
   "id": "335350da-0f41-43ce-84f2-42b84907e24f",
   "metadata": {},
   "outputs": [
    {
     "data": {
      "text/plain": [
       "{1, 2, 3, 4, 5}"
      ]
     },
     "execution_count": 89,
     "metadata": {},
     "output_type": "execute_result"
    }
   ],
   "source": [
    "A -C"
   ]
  },
  {
   "cell_type": "code",
   "execution_count": 91,
   "id": "f93d38c4-7806-4ff3-bfbd-89f1c7ab3fe0",
   "metadata": {},
   "outputs": [
    {
     "data": {
      "text/plain": [
       "{8, 9, 10}"
      ]
     },
     "execution_count": 91,
     "metadata": {},
     "output_type": "execute_result"
    }
   ],
   "source": [
    "C-A"
   ]
  },
  {
   "cell_type": "code",
   "execution_count": 95,
   "id": "ecef38d7-01ce-4a23-a836-11dd004591db",
   "metadata": {},
   "outputs": [],
   "source": [
    "#symmetric difference- "
   ]
  },
  {
   "cell_type": "code",
   "execution_count": 97,
   "id": "53b10864-6167-4692-bc48-63c1f6d1260f",
   "metadata": {},
   "outputs": [
    {
     "data": {
      "text/plain": [
       "{1, 2, 3, 4, 5, 8, 9, 10}"
      ]
     },
     "execution_count": 97,
     "metadata": {},
     "output_type": "execute_result"
    }
   ],
   "source": [
    "A.symmetric_difference(C)"
   ]
  },
  {
   "cell_type": "code",
   "execution_count": 99,
   "id": "9743cf77-51fb-479e-ae76-db6d41345b68",
   "metadata": {},
   "outputs": [
    {
     "data": {
      "text/plain": [
       "{4, 5, 6, 7, 9, 10}"
      ]
     },
     "execution_count": 99,
     "metadata": {},
     "output_type": "execute_result"
    }
   ],
   "source": [
    "B.symmetric_difference(C)"
   ]
  },
  {
   "cell_type": "code",
   "execution_count": 101,
   "id": "a5ea90a3-fbfb-4c67-878a-1cef4f2ca8dc",
   "metadata": {},
   "outputs": [
    {
     "data": {
      "text/plain": [
       "{1, 2, 3, 6, 7, 8}"
      ]
     },
     "execution_count": 101,
     "metadata": {},
     "output_type": "execute_result"
    }
   ],
   "source": [
    "A.symmetric_difference(B)"
   ]
  },
  {
   "cell_type": "code",
   "execution_count": 103,
   "id": "aacd2268-0815-4d92-b566-cbd3b0b7f9e1",
   "metadata": {},
   "outputs": [
    {
     "data": {
      "text/plain": [
       "{1, 2, 3, 6, 7, 8}"
      ]
     },
     "execution_count": 103,
     "metadata": {},
     "output_type": "execute_result"
    }
   ],
   "source": [
    "A^B"
   ]
  },
  {
   "cell_type": "code",
   "execution_count": 105,
   "id": "f6eb2276-d90a-496c-9b6f-8fc467e9851d",
   "metadata": {},
   "outputs": [
    {
     "data": {
      "text/plain": [
       "{1, 2, 3, 4, 5, 8, 9, 10}"
      ]
     },
     "execution_count": 105,
     "metadata": {},
     "output_type": "execute_result"
    }
   ],
   "source": [
    "A^C"
   ]
  },
  {
   "cell_type": "code",
   "execution_count": 107,
   "id": "7b7f70b4-12df-43b9-b0bb-37e5398ee29e",
   "metadata": {},
   "outputs": [
    {
     "data": {
      "text/plain": [
       "{4, 5, 6, 7, 9, 10}"
      ]
     },
     "execution_count": 107,
     "metadata": {},
     "output_type": "execute_result"
    }
   ],
   "source": [
    "B^C"
   ]
  },
  {
   "cell_type": "code",
   "execution_count": 109,
   "id": "1d392505-858e-4d75-9ca1-3c7b943e91cf",
   "metadata": {},
   "outputs": [],
   "source": [
    "#superset,subset,disjoint"
   ]
  },
  {
   "cell_type": "code",
   "execution_count": 111,
   "id": "36ab6a83-332a-4751-9257-b1136faa58e4",
   "metadata": {},
   "outputs": [],
   "source": [
    "A1={1,2,3,4,5,6,7,8,9}\n",
    "B1={3,4,5,6,7,8}\n",
    "C1={10,20,30,40}"
   ]
  },
  {
   "cell_type": "code",
   "execution_count": 113,
   "id": "e556b7d2-c312-4146-b2fe-42d119a9d111",
   "metadata": {},
   "outputs": [
    {
     "data": {
      "text/plain": [
       "True"
      ]
     },
     "execution_count": 113,
     "metadata": {},
     "output_type": "execute_result"
    }
   ],
   "source": [
    "B1.issubset(A1)"
   ]
  },
  {
   "cell_type": "code",
   "execution_count": 115,
   "id": "128c7141-bd90-4bef-b254-d1b0db385017",
   "metadata": {},
   "outputs": [
    {
     "data": {
      "text/plain": [
       "False"
      ]
     },
     "execution_count": 115,
     "metadata": {},
     "output_type": "execute_result"
    }
   ],
   "source": [
    "A1.issubset(B1)"
   ]
  },
  {
   "cell_type": "code",
   "execution_count": 117,
   "id": "422525d3-8701-4b58-948f-3115675090c0",
   "metadata": {},
   "outputs": [
    {
     "data": {
      "text/plain": [
       "True"
      ]
     },
     "execution_count": 117,
     "metadata": {},
     "output_type": "execute_result"
    }
   ],
   "source": [
    "A1.issuperset(B1)"
   ]
  },
  {
   "cell_type": "code",
   "execution_count": 119,
   "id": "135b6037-afc3-472a-9fc8-11216d2cdb24",
   "metadata": {},
   "outputs": [
    {
     "data": {
      "text/plain": [
       "False"
      ]
     },
     "execution_count": 119,
     "metadata": {},
     "output_type": "execute_result"
    }
   ],
   "source": [
    "C1.issubset(A1)"
   ]
  },
  {
   "cell_type": "code",
   "execution_count": 121,
   "id": "0af0c3cb-337f-4008-8c96-1b30f25a659d",
   "metadata": {},
   "outputs": [
    {
     "data": {
      "text/plain": [
       "True"
      ]
     },
     "execution_count": 121,
     "metadata": {},
     "output_type": "execute_result"
    }
   ],
   "source": [
    "B1.issubset(A1)"
   ]
  },
  {
   "cell_type": "code",
   "execution_count": 123,
   "id": "39a2965e-ddfc-4425-b139-913728cecfa2",
   "metadata": {},
   "outputs": [
    {
     "data": {
      "text/plain": [
       "True"
      ]
     },
     "execution_count": 123,
     "metadata": {},
     "output_type": "execute_result"
    }
   ],
   "source": [
    "C1.isdisjoint(A1)"
   ]
  },
  {
   "cell_type": "code",
   "execution_count": 125,
   "id": "71bc350a-86ed-4106-a515-f76afbafa898",
   "metadata": {},
   "outputs": [
    {
     "data": {
      "text/plain": [
       "True"
      ]
     },
     "execution_count": 125,
     "metadata": {},
     "output_type": "execute_result"
    }
   ],
   "source": [
    "C1.isdisjoint(B1)"
   ]
  },
  {
   "cell_type": "code",
   "execution_count": 127,
   "id": "77bf927e-4b66-41b0-a98b-eb9ab2677fe8",
   "metadata": {},
   "outputs": [],
   "source": [
    "A2={1,2,3,4,5,6,7,8,9}\n",
    "B2={13,14,15,16,17,18}\n",
    "C2={10,20,30,40}"
   ]
  },
  {
   "cell_type": "code",
   "execution_count": 129,
   "id": "eb705792-22f3-4264-960e-8aecf841d6b4",
   "metadata": {},
   "outputs": [
    {
     "data": {
      "text/plain": [
       "False"
      ]
     },
     "execution_count": 129,
     "metadata": {},
     "output_type": "execute_result"
    }
   ],
   "source": [
    "B2.issubset(A2)"
   ]
  },
  {
   "cell_type": "code",
   "execution_count": 131,
   "id": "5a2203d4-787e-44b2-bb09-ce9bdea44a01",
   "metadata": {},
   "outputs": [
    {
     "data": {
      "text/plain": [
       "False"
      ]
     },
     "execution_count": 131,
     "metadata": {},
     "output_type": "execute_result"
    }
   ],
   "source": [
    "A2.issuperset(B2)"
   ]
  },
  {
   "cell_type": "code",
   "execution_count": 133,
   "id": "081585cc-7d0a-467a-abfb-ef01f2376321",
   "metadata": {},
   "outputs": [
    {
     "data": {
      "text/plain": [
       "True"
      ]
     },
     "execution_count": 133,
     "metadata": {},
     "output_type": "execute_result"
    }
   ],
   "source": [
    "B2.isdisjoint(A2)"
   ]
  },
  {
   "cell_type": "markdown",
   "id": "dc8431e0-f7a2-42d2-8498-557ba671944a",
   "metadata": {},
   "source": [
    "# DICTIONARY\n",
    "- Mutable\n",
    "- collection of key & value pairs seprated by : & enclosed in {}.\n",
    "- keys must be unique in dictionary & duplicate values are not allowed."
   ]
  },
  {
   "cell_type": "code",
   "execution_count": 3,
   "id": "df036f8a-20b9-4418-8099-5f59d4c366cb",
   "metadata": {},
   "outputs": [
    {
     "data": {
      "text/plain": [
       "{}"
      ]
     },
     "execution_count": 3,
     "metadata": {},
     "output_type": "execute_result"
    }
   ],
   "source": [
    "mydict=dict()  #empty dictionary\n",
    "mydict"
   ]
  },
  {
   "cell_type": "code",
   "execution_count": 6,
   "id": "7154f4c2-61df-4409-9d89-d719cfe9539e",
   "metadata": {},
   "outputs": [
    {
     "data": {
      "text/plain": [
       "{}"
      ]
     },
     "execution_count": 6,
     "metadata": {},
     "output_type": "execute_result"
    }
   ],
   "source": [
    "mydict ={}\n",
    "mydict"
   ]
  },
  {
   "cell_type": "code",
   "execution_count": 10,
   "id": "3fee325b-ca2d-4032-84d2-a905b18cfe07",
   "metadata": {},
   "outputs": [
    {
     "data": {
      "text/plain": [
       "{1: 'one', 2: 'two', 3: 'three'}"
      ]
     },
     "execution_count": 10,
     "metadata": {},
     "output_type": "execute_result"
    }
   ],
   "source": [
    "mydict={1:'one',2:'two',3:'three'}   # dictionary with integer keys\n",
    "mydict"
   ]
  },
  {
   "cell_type": "code",
   "execution_count": 12,
   "id": "9e29dd58-aff2-4cbb-9d44-bdab723f7f8b",
   "metadata": {},
   "outputs": [
    {
     "data": {
      "text/plain": [
       "{1: 'one', 2: 'two', 3: 'three'}"
      ]
     },
     "execution_count": 12,
     "metadata": {},
     "output_type": "execute_result"
    }
   ],
   "source": [
    "mydict=dict({1:'one',2:'two',3:'three'})  #create dictionary using dict\n",
    "mydict"
   ]
  },
  {
   "cell_type": "code",
   "execution_count": 14,
   "id": "715c01ae-ea49-4bcf-a4f1-85f28f333762",
   "metadata": {},
   "outputs": [
    {
     "data": {
      "text/plain": [
       "{'A': 'one', 'B': 'two', 'C': 'three'}"
      ]
     },
     "execution_count": 14,
     "metadata": {},
     "output_type": "execute_result"
    }
   ],
   "source": [
    "mydict={'A':'one','B':'two','C':'three'}  #dict with character keys\n",
    "mydict"
   ]
  },
  {
   "cell_type": "code",
   "execution_count": 16,
   "id": "d15260ba-c029-4f2e-a2e3-aabd3f9b5072",
   "metadata": {},
   "outputs": [
    {
     "data": {
      "text/plain": [
       "{1: 'one', 'A': 'two', 3: 'three'}"
      ]
     },
     "execution_count": 16,
     "metadata": {},
     "output_type": "execute_result"
    }
   ],
   "source": [
    "mydict = {1:'one' , 'A':'two' , 3:'three'}  #mixed keys\n",
    "mydict"
   ]
  },
  {
   "cell_type": "code",
   "execution_count": 18,
   "id": "9a7b20b5-7f1c-4e61-9cc3-90482d76b989",
   "metadata": {},
   "outputs": [
    {
     "data": {
      "text/plain": [
       "dict_keys([1, 'A', 3])"
      ]
     },
     "execution_count": 18,
     "metadata": {},
     "output_type": "execute_result"
    }
   ],
   "source": [
    "mydict.keys()  #return dictionary keys\n"
   ]
  },
  {
   "cell_type": "code",
   "execution_count": 20,
   "id": "15ef59b3-248d-4d4a-a6bb-c95786e88ecd",
   "metadata": {},
   "outputs": [
    {
     "data": {
      "text/plain": [
       "dict_values(['one', 'two', 'three'])"
      ]
     },
     "execution_count": 20,
     "metadata": {},
     "output_type": "execute_result"
    }
   ],
   "source": [
    "mydict.values()  #return dictionary values"
   ]
  },
  {
   "cell_type": "code",
   "execution_count": 22,
   "id": "194ae8f6-ff89-49b1-82b1-1a7748c63162",
   "metadata": {},
   "outputs": [
    {
     "data": {
      "text/plain": [
       "dict_items([(1, 'one'), ('A', 'two'), (3, 'three')])"
      ]
     },
     "execution_count": 22,
     "metadata": {},
     "output_type": "execute_result"
    }
   ],
   "source": [
    "mydict.items()  #access each key-value pair"
   ]
  },
  {
   "cell_type": "code",
   "execution_count": 24,
   "id": "b2e33ffc-21c9-42df-8873-09196e4c900a",
   "metadata": {},
   "outputs": [
    {
     "data": {
      "text/plain": [
       "{1: 'one', 2: 'two', 'A': ['asif', 'john', 'Maria']}"
      ]
     },
     "execution_count": 24,
     "metadata": {},
     "output_type": "execute_result"
    }
   ],
   "source": [
    "mydict = {1:'one' , 2:'two' , 'A':['asif' , 'john' , 'Maria']}\n",
    "mydict"
   ]
  },
  {
   "cell_type": "code",
   "execution_count": 30,
   "id": "386cb55e-ac04-48a1-ade3-7b410f35d8fa",
   "metadata": {},
   "outputs": [
    {
     "data": {
      "text/plain": [
       "{'a': None, 'd': None, 'c': None, 'b': None}"
      ]
     },
     "execution_count": 30,
     "metadata": {},
     "output_type": "execute_result"
    }
   ],
   "source": [
    "keys = {'a' , 'b' , 'c' , 'd'}\n",
    "mydict3 = dict.fromkeys(keys)  # Create a dictionary from a sequence of keys\n",
    "mydict3"
   ]
  },
  {
   "cell_type": "code",
   "execution_count": 34,
   "id": "7447f822-df18-4571-97fb-0eebf9c22add",
   "metadata": {},
   "outputs": [
    {
     "data": {
      "text/plain": [
       "{'a': 10, 'd': 10, 'c': 10, 'b': 10}"
      ]
     },
     "execution_count": 34,
     "metadata": {},
     "output_type": "execute_result"
    }
   ],
   "source": [
    "keys = {'a' , 'b' , 'c' , 'd'} \n",
    "value = 10\n",
    "mydict3 = dict.fromkeys(keys , value)\n",
    "mydict3"
   ]
  },
  {
   "cell_type": "code",
   "execution_count": 42,
   "id": "c314e426-f3c9-4ecb-9887-42f9da2b7e98",
   "metadata": {},
   "outputs": [
    {
     "data": {
      "text/plain": [
       "{'a': [10, 20, 30], 'd': [10, 20, 30], 'c': [10, 20, 30], 'b': [10, 20, 30]}"
      ]
     },
     "execution_count": 42,
     "metadata": {},
     "output_type": "execute_result"
    }
   ],
   "source": [
    "keys = {'a' , 'b' , 'c' , 'd'} \n",
    "value = [10,20,30]\n",
    "mydict3 = dict.fromkeys(keys , value)\n",
    "mydict3"
   ]
  },
  {
   "cell_type": "code",
   "execution_count": 38,
   "id": "ab1aac0d-e6a2-4a70-820f-db8728334ddd",
   "metadata": {},
   "outputs": [
    {
     "data": {
      "text/plain": [
       "{'a': [10, 20, 30, 40],\n",
       " 'd': [10, 20, 30, 40],\n",
       " 'c': [10, 20, 30, 40],\n",
       " 'b': [10, 20, 30, 40]}"
      ]
     },
     "execution_count": 38,
     "metadata": {},
     "output_type": "execute_result"
    }
   ],
   "source": [
    "value.append(40) \n",
    "mydict3"
   ]
  },
  {
   "cell_type": "markdown",
   "id": "204fea72-aa21-4e87-9e5f-5a46429b4735",
   "metadata": {},
   "source": [
    "# accessing items\n"
   ]
  },
  {
   "cell_type": "code",
   "execution_count": 45,
   "id": "6365cb60-6a3d-4c6b-b71f-22aafd912a72",
   "metadata": {},
   "outputs": [
    {
     "data": {
      "text/plain": [
       "{1: 'one', 2: 'two', 3: 'three', 4: 'four'}"
      ]
     },
     "execution_count": 45,
     "metadata": {},
     "output_type": "execute_result"
    }
   ],
   "source": [
    "mydict = {1:'one' , 2:'two' , 3:'three' , 4:'four'}\n",
    "mydict"
   ]
  },
  {
   "cell_type": "code",
   "execution_count": 47,
   "id": "2cc83b50-58f4-4dec-95c6-776a1f56dc42",
   "metadata": {},
   "outputs": [
    {
     "data": {
      "text/plain": [
       "'one'"
      ]
     },
     "execution_count": 47,
     "metadata": {},
     "output_type": "execute_result"
    }
   ],
   "source": [
    "mydict[1]"
   ]
  },
  {
   "cell_type": "code",
   "execution_count": 49,
   "id": "4633bd80-d8a3-4d27-b617-139070ac6b50",
   "metadata": {},
   "outputs": [
    {
     "data": {
      "text/plain": [
       "'one'"
      ]
     },
     "execution_count": 49,
     "metadata": {},
     "output_type": "execute_result"
    }
   ],
   "source": [
    "mydict.get(1)  #Access item using get() method"
   ]
  },
  {
   "cell_type": "code",
   "execution_count": 51,
   "id": "41139974-126e-4e65-a271-7ab0d0a16ae2",
   "metadata": {},
   "outputs": [
    {
     "data": {
      "text/plain": [
       "{'Name': 'Asif', 'ID': 74123, 'DOB': 1991, 'job': 'Analyst'}"
      ]
     },
     "execution_count": 51,
     "metadata": {},
     "output_type": "execute_result"
    }
   ],
   "source": [
    "mydict1 = {'Name':'Asif' , 'ID': 74123 , 'DOB': 1991 , 'job' :'Analyst'} \n",
    "mydict1"
   ]
  },
  {
   "cell_type": "code",
   "execution_count": 53,
   "id": "246d4c85-46ae-4b8b-ac27-5f848ee83ac1",
   "metadata": {},
   "outputs": [
    {
     "data": {
      "text/plain": [
       "'Asif'"
      ]
     },
     "execution_count": 53,
     "metadata": {},
     "output_type": "execute_result"
    }
   ],
   "source": [
    "mydict1['Name']"
   ]
  },
  {
   "cell_type": "code",
   "execution_count": 59,
   "id": "b1bc5b62-a9ec-4eb6-8fdc-9900b621f876",
   "metadata": {},
   "outputs": [
    {
     "data": {
      "text/plain": [
       "'Analyst'"
      ]
     },
     "execution_count": 59,
     "metadata": {},
     "output_type": "execute_result"
    }
   ],
   "source": [
    "mydict1.get('job')"
   ]
  },
  {
   "cell_type": "markdown",
   "id": "8606b407-eb01-4566-83a6-36a13ebed647",
   "metadata": {},
   "source": [
    "# Add,remove & change items"
   ]
  },
  {
   "cell_type": "code",
   "execution_count": 62,
   "id": "f04e79de-17f0-4b94-85c2-8e86790972a3",
   "metadata": {},
   "outputs": [
    {
     "data": {
      "text/plain": [
       "{'Name': 'Asif', 'ID': 12345, 'DOB': 1991, 'Address': 'Hilsinki'}"
      ]
     },
     "execution_count": 62,
     "metadata": {},
     "output_type": "execute_result"
    }
   ],
   "source": [
    "mydict={'Name':'Asif','ID':12345,'DOB':1991,'Address':'Hilsinki'}\n",
    "mydict"
   ]
  },
  {
   "cell_type": "code",
   "execution_count": 64,
   "id": "835f9f7c-c082-4d6c-8d41-600314a1bd6d",
   "metadata": {},
   "outputs": [
    {
     "data": {
      "text/plain": [
       "{'Name': 'Asif', 'ID': 12345, 'DOB': 1992, 'Address': 'Delhi'}"
      ]
     },
     "execution_count": 64,
     "metadata": {},
     "output_type": "execute_result"
    }
   ],
   "source": [
    "mydict['DOB']=1992 #changing dictionary items\n",
    "mydict['Address']='Delhi'\n",
    "mydict"
   ]
  },
  {
   "cell_type": "code",
   "execution_count": 70,
   "id": "dc256375-61a0-4141-b825-e64783254e40",
   "metadata": {},
   "outputs": [
    {
     "data": {
      "text/plain": [
       "{'Name': 'Asif', 'ID': 12345, 'DOB': 1995, 'Address': 'Delhi'}"
      ]
     },
     "execution_count": 70,
     "metadata": {},
     "output_type": "execute_result"
    }
   ],
   "source": [
    "dict={'DOB':1995} #update\n",
    "mydict.update(dict)\n",
    "mydict"
   ]
  },
  {
   "cell_type": "code",
   "execution_count": 72,
   "id": "9fd40f5f-578e-4bf3-a794-420d6532c2c7",
   "metadata": {},
   "outputs": [
    {
     "data": {
      "text/plain": [
       "{'Name': 'Asif',\n",
       " 'ID': 12345,\n",
       " 'DOB': 1995,\n",
       " 'Address': 'Delhi',\n",
       " 'Job': 'Analyst'}"
      ]
     },
     "execution_count": 72,
     "metadata": {},
     "output_type": "execute_result"
    }
   ],
   "source": [
    "mydict['Job']='Analyst'  #Adding items in dictionary\n",
    "mydict"
   ]
  },
  {
   "cell_type": "code",
   "execution_count": 76,
   "id": "946e7e40-5434-4fe4-bd0f-5c9163bbab2d",
   "metadata": {},
   "outputs": [
    {
     "data": {
      "text/plain": [
       "{'Name': 'Asif', 'ID': 12345, 'DOB': 1995, 'Address': 'Delhi'}"
      ]
     },
     "execution_count": 76,
     "metadata": {},
     "output_type": "execute_result"
    }
   ],
   "source": [
    "mydict.pop('Job')  #removing item using pop()\n",
    "mydict"
   ]
  },
  {
   "cell_type": "code",
   "execution_count": 78,
   "id": "3c1b3a42-94a3-43d2-abf6-d36156ccf3ed",
   "metadata": {},
   "outputs": [
    {
     "data": {
      "text/plain": [
       "('Address', 'Delhi')"
      ]
     },
     "execution_count": 78,
     "metadata": {},
     "output_type": "execute_result"
    }
   ],
   "source": [
    "mydict.popitem()  #random item is removed"
   ]
  },
  {
   "cell_type": "code",
   "execution_count": 88,
   "id": "97d370b5-20e7-4ba0-b913-d167297921af",
   "metadata": {},
   "outputs": [
    {
     "data": {
      "text/plain": [
       "{'Name': 'Asif', 'DOB': 1995}"
      ]
     },
     "execution_count": 88,
     "metadata": {},
     "output_type": "execute_result"
    }
   ],
   "source": [
    "mydict"
   ]
  },
  {
   "cell_type": "code",
   "execution_count": 96,
   "id": "7a918a45-a4a4-4c65-a706-f6b22ed92300",
   "metadata": {},
   "outputs": [
    {
     "ename": "KeyError",
     "evalue": "'ID'",
     "output_type": "error",
     "traceback": [
      "\u001b[1;31m---------------------------------------------------------------------------\u001b[0m",
      "\u001b[1;31mKeyError\u001b[0m                                  Traceback (most recent call last)",
      "Cell \u001b[1;32mIn[96], line 1\u001b[0m\n\u001b[1;32m----> 1\u001b[0m \u001b[38;5;28;01mdel\u001b[39;00m[mydict[\u001b[38;5;124m'\u001b[39m\u001b[38;5;124mID\u001b[39m\u001b[38;5;124m'\u001b[39m]] \u001b[38;5;66;03m# Removing item using del method\u001b[39;00m\n\u001b[0;32m      2\u001b[0m mydict\n",
      "\u001b[1;31mKeyError\u001b[0m: 'ID'"
     ]
    }
   ],
   "source": [
    "del[mydict['ID']] # Removing item using del method\n",
    "mydict"
   ]
  },
  {
   "cell_type": "code",
   "execution_count": 98,
   "id": "c952ea76-206e-4203-91cc-7a0805bb9da1",
   "metadata": {},
   "outputs": [
    {
     "data": {
      "text/plain": [
       "{'Name': 'Asif', 'DOB': 1995}"
      ]
     },
     "execution_count": 98,
     "metadata": {},
     "output_type": "execute_result"
    }
   ],
   "source": [
    "mydict"
   ]
  },
  {
   "cell_type": "code",
   "execution_count": 100,
   "id": "b5287002-8bf1-4e53-868d-2f55cb2b5c4d",
   "metadata": {},
   "outputs": [
    {
     "data": {
      "text/plain": [
       "{}"
      ]
     },
     "execution_count": 100,
     "metadata": {},
     "output_type": "execute_result"
    }
   ],
   "source": [
    "mydict.clear()  #delete all items using clear()\n",
    "mydict"
   ]
  },
  {
   "cell_type": "code",
   "execution_count": 102,
   "id": "2c7a1e94-dbb4-4024-8951-9bd88947ce06",
   "metadata": {},
   "outputs": [],
   "source": [
    "del mydict  # delete dictionary"
   ]
  },
  {
   "cell_type": "code",
   "execution_count": 104,
   "id": "65c55d42-000d-4093-af3c-a40697f0dbe0",
   "metadata": {},
   "outputs": [
    {
     "ename": "NameError",
     "evalue": "name 'mydict' is not defined",
     "output_type": "error",
     "traceback": [
      "\u001b[1;31m---------------------------------------------------------------------------\u001b[0m",
      "\u001b[1;31mNameError\u001b[0m                                 Traceback (most recent call last)",
      "Cell \u001b[1;32mIn[104], line 1\u001b[0m\n\u001b[1;32m----> 1\u001b[0m mydict\n",
      "\u001b[1;31mNameError\u001b[0m: name 'mydict' is not defined"
     ]
    }
   ],
   "source": [
    "mydict"
   ]
  },
  {
   "cell_type": "markdown",
   "id": "17010942-e456-4896-b0ec-c3751ae93ac6",
   "metadata": {},
   "source": [
    "# Copy dict"
   ]
  },
  {
   "cell_type": "code",
   "execution_count": 109,
   "id": "ed8f8fb2-72fa-4c71-a5bf-c4dfd631d02e",
   "metadata": {},
   "outputs": [
    {
     "data": {
      "text/plain": [
       "{'Name': 'Asif', 'ID': 12345, 'DOB': 1991, 'Address': 'Hilsinki'}"
      ]
     },
     "execution_count": 109,
     "metadata": {},
     "output_type": "execute_result"
    }
   ],
   "source": [
    "mydict = {'Name':'Asif' , 'ID': 12345 , 'DOB': 1991 , 'Address' : 'Hilsinki'} \n",
    "mydict"
   ]
  },
  {
   "cell_type": "code",
   "execution_count": 111,
   "id": "93725634-0a4c-4c85-a50f-bc85ce887016",
   "metadata": {},
   "outputs": [],
   "source": [
    "mydict1=mydict  #create new reference of mydict1"
   ]
  },
  {
   "cell_type": "code",
   "execution_count": 113,
   "id": "dd93a049-d778-43eb-9715-2bd0526e0714",
   "metadata": {},
   "outputs": [
    {
     "name": "stdout",
     "output_type": "stream",
     "text": [
      "{'Name': 'Asif', 'ID': 12345, 'DOB': 1991, 'Address': 'Hilsinki'}\n",
      "{'Name': 'Asif', 'ID': 12345, 'DOB': 1991, 'Address': 'Hilsinki'}\n"
     ]
    }
   ],
   "source": [
    "print(mydict)\n",
    "print(mydict1)"
   ]
  },
  {
   "cell_type": "code",
   "execution_count": 115,
   "id": "a5bb6be6-b7f1-48a1-8579-c21922e5284b",
   "metadata": {},
   "outputs": [],
   "source": [
    "mydict2=mydict.copy()  #creates copy of dict"
   ]
  },
  {
   "cell_type": "code",
   "execution_count": 119,
   "id": "9ec812c6-444a-42af-9260-8f7733e6b9ad",
   "metadata": {},
   "outputs": [
    {
     "name": "stdout",
     "output_type": "stream",
     "text": [
      "2775676711040\n",
      "2775676711040\n",
      "2775676885376\n"
     ]
    }
   ],
   "source": [
    "print(id(mydict))   #same id\n",
    "print(id(mydict1))   #same id\n",
    "print(id(mydict2))   #different"
   ]
  },
  {
   "cell_type": "code",
   "execution_count": 121,
   "id": "0f2c8a36-b13d-4ca3-bb33-503044ef64eb",
   "metadata": {},
   "outputs": [
    {
     "data": {
      "text/plain": [
       "{'Name': 'Asif', 'ID': 12345, 'DOB': 1991, 'Address': 'Hilsinki'}"
      ]
     },
     "execution_count": 121,
     "metadata": {},
     "output_type": "execute_result"
    }
   ],
   "source": [
    "mydict"
   ]
  },
  {
   "cell_type": "code",
   "execution_count": 123,
   "id": "61100af2-be6f-4a56-ac06-c1b0736bfad8",
   "metadata": {},
   "outputs": [
    {
     "data": {
      "text/plain": [
       "{'Name': 'Asif', 'ID': 12345, 'DOB': 1991, 'Address': 'Hilsinki'}"
      ]
     },
     "execution_count": 123,
     "metadata": {},
     "output_type": "execute_result"
    }
   ],
   "source": [
    "mydict1"
   ]
  },
  {
   "cell_type": "code",
   "execution_count": 125,
   "id": "aceb8c93-7b5b-4265-b6c2-a15c79b60f89",
   "metadata": {},
   "outputs": [
    {
     "data": {
      "text/plain": [
       "{'Name': 'Asif', 'ID': 12345, 'DOB': 1991, 'Address': 'Hilsinki'}"
      ]
     },
     "execution_count": 125,
     "metadata": {},
     "output_type": "execute_result"
    }
   ],
   "source": [
    "mydict2"
   ]
  },
  {
   "cell_type": "markdown",
   "id": "61ab8527-22c8-48b2-a002-7aff8c75fe04",
   "metadata": {},
   "source": [
    "# Loop through a dictionary"
   ]
  },
  {
   "cell_type": "code",
   "execution_count": 128,
   "id": "5a98891e-4414-4435-9606-f57bb972dcfd",
   "metadata": {},
   "outputs": [
    {
     "data": {
      "text/plain": [
       "{'Name': 'Asif',\n",
       " 'ID': 12345,\n",
       " 'DOB': 1991,\n",
       " 'Address': 'Hilsinki',\n",
       " 'Job': 'Analyst'}"
      ]
     },
     "execution_count": 128,
     "metadata": {},
     "output_type": "execute_result"
    }
   ],
   "source": [
    "mydict1 = {'Name':'Asif' , 'ID': 12345 , 'DOB': 1991 , 'Address' : 'Hilsinki' ,'Job':'Analyst'}\n",
    "mydict1"
   ]
  },
  {
   "cell_type": "code",
   "execution_count": 130,
   "id": "7e6716f6-8c4e-4c27-b379-9bbb6c863357",
   "metadata": {},
   "outputs": [
    {
     "name": "stdout",
     "output_type": "stream",
     "text": [
      "Name : Asif\n",
      "ID : 12345\n",
      "DOB : 1991\n",
      "Address : Hilsinki\n",
      "Job : Analyst\n"
     ]
    }
   ],
   "source": [
    "for i in mydict1:\n",
    "    print(i,':',mydict1[i]) #key and value pair"
   ]
  },
  {
   "cell_type": "code",
   "execution_count": 134,
   "id": "f3df64c4-3295-4da6-805f-51a5ba8b653b",
   "metadata": {},
   "outputs": [
    {
     "name": "stdout",
     "output_type": "stream",
     "text": [
      "Asif\n",
      "12345\n",
      "1991\n",
      "Hilsinki\n",
      "Analyst\n"
     ]
    }
   ],
   "source": [
    "for i in mydict1:\n",
    "    print(mydict1[i]) #dictionary items"
   ]
  },
  {
   "cell_type": "markdown",
   "id": "046dc932-df32-47cd-8703-f79d271d4701",
   "metadata": {},
   "source": [
    "# Dictionary Membership"
   ]
  },
  {
   "cell_type": "code",
   "execution_count": 139,
   "id": "02b08955-94f0-4104-ba84-d4d30e919c59",
   "metadata": {},
   "outputs": [
    {
     "data": {
      "text/plain": [
       "{'Name': 'Asif', 'ID': 12345, 'DOB': 1991, 'Job': 'Analyst'}"
      ]
     },
     "execution_count": 139,
     "metadata": {},
     "output_type": "execute_result"
    }
   ],
   "source": [
    "mydict1 = {'Name':'Asif' , 'ID': 12345 , 'DOB': 1991 , 'Job': 'Analyst'} \n",
    "mydict1"
   ]
  },
  {
   "cell_type": "code",
   "execution_count": 141,
   "id": "fdd01e28-6266-4a3c-ba76-f4f26e34e3e5",
   "metadata": {},
   "outputs": [
    {
     "data": {
      "text/plain": [
       "True"
      ]
     },
     "execution_count": 141,
     "metadata": {},
     "output_type": "execute_result"
    }
   ],
   "source": [
    "'Name' in mydict1 #Test if a key is in dictionary or not"
   ]
  },
  {
   "cell_type": "code",
   "execution_count": 143,
   "id": "62ad1943-a003-4318-94af-bd5188b741c6",
   "metadata": {},
   "outputs": [
    {
     "data": {
      "text/plain": [
       "False"
      ]
     },
     "execution_count": 143,
     "metadata": {},
     "output_type": "execute_result"
    }
   ],
   "source": [
    "'Asif' in mydict1"
   ]
  },
  {
   "cell_type": "code",
   "execution_count": 145,
   "id": "70ff3241-d00b-45cf-9f56-7f52567cf25d",
   "metadata": {},
   "outputs": [
    {
     "data": {
      "text/plain": [
       "True"
      ]
     },
     "execution_count": 145,
     "metadata": {},
     "output_type": "execute_result"
    }
   ],
   "source": [
    "'ID' in mydict1"
   ]
  },
  {
   "cell_type": "code",
   "execution_count": 147,
   "id": "216c615e-fd37-4413-a77d-48bb6fc3ab0c",
   "metadata": {},
   "outputs": [
    {
     "data": {
      "text/plain": [
       "False"
      ]
     },
     "execution_count": 147,
     "metadata": {},
     "output_type": "execute_result"
    }
   ],
   "source": [
    "'Address' in mydict1"
   ]
  },
  {
   "cell_type": "markdown",
   "id": "e6c65a94-bbb3-4368-aa9f-3a307d5b7c0b",
   "metadata": {},
   "source": [
    "# All/Any"
   ]
  },
  {
   "cell_type": "raw",
   "id": "0a8304b3-3004-40fb-81ce-14af5771cc84",
   "metadata": {},
   "source": [
    "All():\n",
    "- True : if all keys of dict are true\n",
    "- False : if any key of dict is false\n",
    "Any():\n",
    "- True : if any key of dict is true\n",
    "- False : if not any returns false"
   ]
  },
  {
   "cell_type": "code",
   "execution_count": 150,
   "id": "f7b946b6-8e43-46f9-9420-ed7429b83933",
   "metadata": {},
   "outputs": [
    {
     "data": {
      "text/plain": [
       "{'Name': 'Asif', 'ID': 12345, 'DOB': 1991, 'Job': 'Analyst'}"
      ]
     },
     "execution_count": 150,
     "metadata": {},
     "output_type": "execute_result"
    }
   ],
   "source": [
    "mydict1 = {'Name':'Asif' , 'ID': 12345 , 'DOB': 1991 , 'Job': 'Analyst'} \n",
    "mydict1"
   ]
  },
  {
   "cell_type": "code",
   "execution_count": 152,
   "id": "aabf026a-1b9d-49bc-b2dd-5a0dc87455ea",
   "metadata": {},
   "outputs": [
    {
     "data": {
      "text/plain": [
       "True"
      ]
     },
     "execution_count": 152,
     "metadata": {},
     "output_type": "execute_result"
    }
   ],
   "source": [
    "all(mydict1)  #will return false as one value is false"
   ]
  },
  {
   "cell_type": "code",
   "execution_count": null,
   "id": "aeb38574-5b8c-4e9b-939d-a7afd2ffa384",
   "metadata": {},
   "outputs": [],
   "source": []
  }
 ],
 "metadata": {
  "kernelspec": {
   "display_name": "Python 3 (ipykernel)",
   "language": "python",
   "name": "python3"
  },
  "language_info": {
   "codemirror_mode": {
    "name": "ipython",
    "version": 3
   },
   "file_extension": ".py",
   "mimetype": "text/x-python",
   "name": "python",
   "nbconvert_exporter": "python",
   "pygments_lexer": "ipython3",
   "version": "3.12.4"
  }
 },
 "nbformat": 4,
 "nbformat_minor": 5
}
