{
 "cells": [
  {
   "cell_type": "markdown",
   "id": "9d02d0e5-b310-4ace-a821-2f7ab7181762",
   "metadata": {},
   "source": [
    "# NUMPY"
   ]
  },
  {
   "cell_type": "raw",
   "id": "24ba8ecb-ce2f-4ff5-adc6-340a62c03d9f",
   "metadata": {},
   "source": [
    "array divided in 4 types:\n",
    "1d array- 1 row 1 column\n",
    "2d array - 2 rows, 2 columns\n",
    "3d array - 3 rows, 3 columns\n",
    "nd array - n no of rows and columns/multi dimensions"
   ]
  },
  {
   "cell_type": "code",
   "execution_count": null,
   "id": "5b53eb23-70f7-451b-9f6a-cfdc5236151a",
   "metadata": {},
   "outputs": [],
   "source": [
    "Array contains elements of same data type.\n",
    "list has different data types.\n"
   ]
  },
  {
   "cell_type": "code",
   "execution_count": null,
   "id": "004ed735-bc27-465a-b7c9-4fa21ad99dee",
   "metadata": {},
   "outputs": [],
   "source": [
    "NUMPY is very powerful library.\n",
    "it is NUMPY PACKAGE|LIBRARY|TOOLS|FRAMEWORK\n",
    "NUMPY : mathematics+data structure+statistical function+linear algebra\n",
    "    NUMPY is library which handles array."
   ]
  },
  {
   "cell_type": "code",
   "execution_count": 152,
   "id": "8e204952-60d4-4bfe-9d75-2163e2ef6968",
   "metadata": {},
   "outputs": [],
   "source": [
    "import numpy as np"
   ]
  },
  {
   "cell_type": "code",
   "execution_count": 154,
   "id": "f2641ba0-88d6-41d8-9ea4-5ffd9d1ca0c7",
   "metadata": {},
   "outputs": [
    {
     "data": {
      "text/plain": [
       "'1.26.4'"
      ]
     },
     "execution_count": 154,
     "metadata": {},
     "output_type": "execute_result"
    }
   ],
   "source": [
    "np.__version__   #check version of numpy "
   ]
  },
  {
   "cell_type": "code",
   "execution_count": 156,
   "id": "0de8dc02-c186-47c1-9514-baa0ea2471bc",
   "metadata": {},
   "outputs": [
    {
     "data": {
      "text/plain": [
       "'3.12.4 | packaged by Anaconda, Inc. | (main, Jun 18 2024, 15:03:56) [MSC v.1929 64 bit (AMD64)]'"
      ]
     },
     "execution_count": 156,
     "metadata": {},
     "output_type": "execute_result"
    }
   ],
   "source": [
    "import sys\n",
    "sys.version"
   ]
  },
  {
   "cell_type": "markdown",
   "id": "eeae41f2-efda-44ec-8eaa-9126a98094d0",
   "metadata": {},
   "source": [
    "# Creating array"
   ]
  },
  {
   "cell_type": "code",
   "execution_count": 159,
   "id": "198c9b9a-518b-4d97-a08b-3770c694b56c",
   "metadata": {},
   "outputs": [
    {
     "data": {
      "text/plain": [
       "[0, 1, 2, 3, 4, 5]"
      ]
     },
     "execution_count": 159,
     "metadata": {},
     "output_type": "execute_result"
    }
   ],
   "source": [
    "my_list=[0,1,2,3,4,5]\n",
    "my_list"
   ]
  },
  {
   "cell_type": "code",
   "execution_count": 161,
   "id": "78c01fe5-746f-4228-b2c6-bce310125336",
   "metadata": {},
   "outputs": [
    {
     "data": {
      "text/plain": [
       "list"
      ]
     },
     "execution_count": 161,
     "metadata": {},
     "output_type": "execute_result"
    }
   ],
   "source": [
    "type(my_list)"
   ]
  },
  {
   "cell_type": "markdown",
   "id": "de38fe5a-cff8-4582-ab43-78868aca1093",
   "metadata": {},
   "source": [
    "# Converting list to array"
   ]
  },
  {
   "cell_type": "code",
   "execution_count": 164,
   "id": "1e2301cf-5b53-4ae4-84cf-3f370d73fd6b",
   "metadata": {},
   "outputs": [
    {
     "name": "stdout",
     "output_type": "stream",
     "text": [
      "Requirement already satisfied: np in c:\\users\\hp\\anaconda3\\lib\\site-packages (1.0.2)\n"
     ]
    }
   ],
   "source": [
    "!pip install np"
   ]
  },
  {
   "cell_type": "code",
   "execution_count": 454,
   "id": "9881218a-690b-467c-a382-3d2e27356995",
   "metadata": {},
   "outputs": [
    {
     "data": {
      "text/plain": [
       "array([0, 1, 2, 3, 4, 5])"
      ]
     },
     "execution_count": 454,
     "metadata": {},
     "output_type": "execute_result"
    }
   ],
   "source": [
    "arr=np.array(my_list)    #converting list into array\n",
    "arr"
   ]
  },
  {
   "cell_type": "code",
   "execution_count": 459,
   "id": "e5f8ef48-a1b2-478e-8430-708346628364",
   "metadata": {},
   "outputs": [
    {
     "data": {
      "text/plain": [
       "numpy.ndarray"
      ]
     },
     "execution_count": 459,
     "metadata": {},
     "output_type": "execute_result"
    }
   ],
   "source": [
    "type(arr)"
   ]
  },
  {
   "cell_type": "code",
   "execution_count": 410,
   "id": "c5cca67f-51eb-44f7-be4e-c1a8cea0517a",
   "metadata": {},
   "outputs": [
    {
     "data": {
      "text/plain": [
       "array([ 0,  1,  2,  3,  4,  5,  6,  7,  8,  9, 10, 11, 12, 13, 14])"
      ]
     },
     "execution_count": 410,
     "metadata": {},
     "output_type": "execute_result"
    }
   ],
   "source": [
    "np.arange(15)"
   ]
  },
  {
   "cell_type": "code",
   "execution_count": 412,
   "id": "3a7f5d8a-9061-4d24-9e37-43ccdd37b0f5",
   "metadata": {},
   "outputs": [
    {
     "data": {
      "text/plain": [
       "array([0., 1., 2.])"
      ]
     },
     "execution_count": 412,
     "metadata": {},
     "output_type": "execute_result"
    }
   ],
   "source": [
    "np.arange(3.0)"
   ]
  },
  {
   "cell_type": "code",
   "execution_count": 414,
   "id": "ebb220f3-2459-4c58-b397-10a0a188aadb",
   "metadata": {},
   "outputs": [
    {
     "data": {
      "text/plain": [
       "array([0, 1, 2, 3, 4, 5, 6, 7, 8, 9])"
      ]
     },
     "execution_count": 414,
     "metadata": {},
     "output_type": "execute_result"
    }
   ],
   "source": [
    "np.arange(10)"
   ]
  },
  {
   "cell_type": "code",
   "execution_count": 416,
   "id": "9f5e0b83-fbfc-4fe3-a883-65397174a75a",
   "metadata": {},
   "outputs": [
    {
     "data": {
      "text/plain": [
       "array([0, 1, 2, 3, 4])"
      ]
     },
     "execution_count": 416,
     "metadata": {},
     "output_type": "execute_result"
    }
   ],
   "source": [
    "np.arange(0,5)"
   ]
  },
  {
   "cell_type": "code",
   "execution_count": 418,
   "id": "d98e74e3-711a-440b-8986-afa51d32d1a5",
   "metadata": {},
   "outputs": [
    {
     "data": {
      "text/plain": [
       "array([10, 11, 12, 13, 14, 15, 16, 17, 18, 19])"
      ]
     },
     "execution_count": 418,
     "metadata": {},
     "output_type": "execute_result"
    }
   ],
   "source": [
    "np.arange(10,20)"
   ]
  },
  {
   "cell_type": "code",
   "execution_count": 420,
   "id": "5bc9976c-bf97-4b0e-8a34-5eb66ad2316e",
   "metadata": {},
   "outputs": [
    {
     "data": {
      "text/plain": [
       "array([], dtype=int32)"
      ]
     },
     "execution_count": 420,
     "metadata": {},
     "output_type": "execute_result"
    }
   ],
   "source": [
    "np.arange(20,10)  #1st arg < 2nd arg"
   ]
  },
  {
   "cell_type": "code",
   "execution_count": 422,
   "id": "36640050-65f4-4e82-bdd5-ac3e8322e860",
   "metadata": {},
   "outputs": [
    {
     "data": {
      "text/plain": [
       "array([-20, -19, -18, -17, -16, -15, -14, -13, -12, -11, -10,  -9,  -8,\n",
       "        -7,  -6,  -5,  -4,  -3,  -2,  -1,   0,   1,   2,   3,   4,   5,\n",
       "         6,   7,   8,   9])"
      ]
     },
     "execution_count": 422,
     "metadata": {},
     "output_type": "execute_result"
    }
   ],
   "source": [
    "np.arange(-20,10)"
   ]
  },
  {
   "cell_type": "code",
   "execution_count": 461,
   "id": "32f26c3b-8f41-4670-859f-91715d41432a",
   "metadata": {},
   "outputs": [
    {
     "data": {
      "text/plain": [
       "30"
      ]
     },
     "execution_count": 461,
     "metadata": {},
     "output_type": "execute_result"
    }
   ],
   "source": [
    "len(np.arange(-20,10))   #to find length "
   ]
  },
  {
   "cell_type": "code",
   "execution_count": 463,
   "id": "8d002f5a-1a35-4769-b105-75599c0576c2",
   "metadata": {},
   "outputs": [
    {
     "data": {
      "text/plain": [
       "array([-20, -19, -18, -17, -16, -15, -14, -13, -12, -11])"
      ]
     },
     "execution_count": 463,
     "metadata": {},
     "output_type": "execute_result"
    }
   ],
   "source": [
    "np.arange(-20,-10)"
   ]
  },
  {
   "cell_type": "code",
   "execution_count": 426,
   "id": "6d74e54a-c552-47f2-9c6f-a2cb1d464292",
   "metadata": {},
   "outputs": [
    {
     "data": {
      "text/plain": [
       "array([], dtype=int32)"
      ]
     },
     "execution_count": 426,
     "metadata": {},
     "output_type": "execute_result"
    }
   ],
   "source": [
    "np.arange(30,20)  #1st arg always be < than 2nd one"
   ]
  },
  {
   "cell_type": "code",
   "execution_count": 428,
   "id": "13a76c0b-7165-4271-b3cf-2c495cc882c3",
   "metadata": {},
   "outputs": [
    {
     "data": {
      "text/plain": [
       "array([-30, -29, -28, -27, -26, -25, -24, -23, -22, -21, -20, -19, -18,\n",
       "       -17, -16, -15, -14, -13, -12, -11, -10,  -9,  -8,  -7,  -6,  -5,\n",
       "        -4,  -3,  -2,  -1,   0,   1,   2,   3,   4,   5,   6,   7,   8,\n",
       "         9,  10,  11,  12,  13,  14,  15,  16,  17,  18,  19])"
      ]
     },
     "execution_count": 428,
     "metadata": {},
     "output_type": "execute_result"
    }
   ],
   "source": [
    "\n",
    "ar=np.arange(-30,20)\n",
    "ar"
   ]
  },
  {
   "cell_type": "code",
   "execution_count": 465,
   "id": "6190f9e5-0121-4d01-9584-dce9075d96bb",
   "metadata": {},
   "outputs": [
    {
     "data": {
      "text/plain": [
       "50"
      ]
     },
     "execution_count": 465,
     "metadata": {},
     "output_type": "execute_result"
    }
   ],
   "source": [
    "len(ar)"
   ]
  },
  {
   "cell_type": "code",
   "execution_count": 430,
   "id": "2ab7c430-98bc-413f-b540-b5deb5c37b49",
   "metadata": {},
   "outputs": [
    {
     "data": {
      "text/plain": [
       "array([], dtype=int32)"
      ]
     },
     "execution_count": 430,
     "metadata": {},
     "output_type": "execute_result"
    }
   ],
   "source": [
    "np.arange(10,10)"
   ]
  },
  {
   "cell_type": "code",
   "execution_count": 434,
   "id": "2e4f2b9d-333b-4cdd-9d85-1ed06e5f93ef",
   "metadata": {},
   "outputs": [
    {
     "data": {
      "text/plain": [
       "array([10, 15, 20, 25])"
      ]
     },
     "execution_count": 434,
     "metadata": {},
     "output_type": "execute_result"
    }
   ],
   "source": [
    "np.arange(10,30,5)  #10 starting, 30 ending and 5 step"
   ]
  },
  {
   "cell_type": "code",
   "execution_count": 436,
   "id": "4354aa9a-fd09-434b-bcc7-0e3eab6fb779",
   "metadata": {},
   "outputs": [
    {
     "data": {
      "text/plain": [
       "array([0, 3, 6, 9])"
      ]
     },
     "execution_count": 436,
     "metadata": {},
     "output_type": "execute_result"
    }
   ],
   "source": [
    "np.arange(0,10,3)"
   ]
  },
  {
   "cell_type": "code",
   "execution_count": 438,
   "id": "013c7606-dc0f-4dc0-b011-9921597545ed",
   "metadata": {},
   "outputs": [
    {
     "data": {
      "text/plain": [
       "array([0., 0., 0.])"
      ]
     },
     "execution_count": 438,
     "metadata": {},
     "output_type": "execute_result"
    }
   ],
   "source": [
    "np.zeros(3)  #1d array   parameter tunning"
   ]
  },
  {
   "cell_type": "code",
   "execution_count": 440,
   "id": "2691e2bb-768a-44b8-b0d5-645142cc00cf",
   "metadata": {},
   "outputs": [
    {
     "data": {
      "text/plain": [
       "array([0, 0, 0, 0, 0])"
      ]
     },
     "execution_count": 440,
     "metadata": {},
     "output_type": "execute_result"
    }
   ],
   "source": [
    "np.zeros(5, dtype=int)    #hyperparameter tunning"
   ]
  },
  {
   "cell_type": "code",
   "execution_count": 442,
   "id": "f785e95f-6c0b-44ec-903d-af5ccbe5694c",
   "metadata": {},
   "outputs": [
    {
     "data": {
      "text/plain": [
       "array([[0, 0],\n",
       "       [0, 0]])"
      ]
     },
     "execution_count": 442,
     "metadata": {},
     "output_type": "execute_result"
    }
   ],
   "source": [
    "np.zeros((2,2),dtype=int)"
   ]
  },
  {
   "cell_type": "code",
   "execution_count": 444,
   "id": "649222b7-61ec-4ad0-a1e2-0bcb674e7ff1",
   "metadata": {},
   "outputs": [
    {
     "data": {
      "text/plain": [
       "array([[0., 0., 0., 0., 0., 0., 0., 0., 0., 0.],\n",
       "       [0., 0., 0., 0., 0., 0., 0., 0., 0., 0.]])"
      ]
     },
     "execution_count": 444,
     "metadata": {},
     "output_type": "execute_result"
    }
   ],
   "source": [
    "np.zeros((2,10))"
   ]
  },
  {
   "cell_type": "code",
   "execution_count": 400,
   "id": "dce694fe-9cdb-4504-ac2e-dffaf0980f44",
   "metadata": {},
   "outputs": [
    {
     "data": {
      "text/plain": [
       "array([[0., 0., 0.],\n",
       "       [0., 0., 0.],\n",
       "       [0., 0., 0.]])"
      ]
     },
     "execution_count": 400,
     "metadata": {},
     "output_type": "execute_result"
    }
   ],
   "source": [
    "np.zeros((3,3))"
   ]
  },
  {
   "cell_type": "code",
   "execution_count": 402,
   "id": "48e04a96-17b9-420c-843f-311fad6018d7",
   "metadata": {},
   "outputs": [
    {
     "name": "stdout",
     "output_type": "stream",
     "text": [
      "[[0. 0.]\n",
      " [0. 0.]]\n"
     ]
    }
   ],
   "source": [
    "zero=np.zeros([2,2])\n",
    "print(zero)"
   ]
  },
  {
   "cell_type": "code",
   "execution_count": 404,
   "id": "a59d2b52-5671-468c-bef6-1d9a4147b640",
   "metadata": {},
   "outputs": [
    {
     "data": {
      "text/plain": [
       "array([[0., 0., 0., 0., 0., 0., 0., 0., 0., 0., 0., 0., 0., 0., 0., 0.,\n",
       "        0., 0., 0., 0., 0., 0., 0., 0., 0., 0., 0., 0., 0., 0.],\n",
       "       [0., 0., 0., 0., 0., 0., 0., 0., 0., 0., 0., 0., 0., 0., 0., 0.,\n",
       "        0., 0., 0., 0., 0., 0., 0., 0., 0., 0., 0., 0., 0., 0.],\n",
       "       [0., 0., 0., 0., 0., 0., 0., 0., 0., 0., 0., 0., 0., 0., 0., 0.,\n",
       "        0., 0., 0., 0., 0., 0., 0., 0., 0., 0., 0., 0., 0., 0.],\n",
       "       [0., 0., 0., 0., 0., 0., 0., 0., 0., 0., 0., 0., 0., 0., 0., 0.,\n",
       "        0., 0., 0., 0., 0., 0., 0., 0., 0., 0., 0., 0., 0., 0.],\n",
       "       [0., 0., 0., 0., 0., 0., 0., 0., 0., 0., 0., 0., 0., 0., 0., 0.,\n",
       "        0., 0., 0., 0., 0., 0., 0., 0., 0., 0., 0., 0., 0., 0.],\n",
       "       [0., 0., 0., 0., 0., 0., 0., 0., 0., 0., 0., 0., 0., 0., 0., 0.,\n",
       "        0., 0., 0., 0., 0., 0., 0., 0., 0., 0., 0., 0., 0., 0.],\n",
       "       [0., 0., 0., 0., 0., 0., 0., 0., 0., 0., 0., 0., 0., 0., 0., 0.,\n",
       "        0., 0., 0., 0., 0., 0., 0., 0., 0., 0., 0., 0., 0., 0.],\n",
       "       [0., 0., 0., 0., 0., 0., 0., 0., 0., 0., 0., 0., 0., 0., 0., 0.,\n",
       "        0., 0., 0., 0., 0., 0., 0., 0., 0., 0., 0., 0., 0., 0.],\n",
       "       [0., 0., 0., 0., 0., 0., 0., 0., 0., 0., 0., 0., 0., 0., 0., 0.,\n",
       "        0., 0., 0., 0., 0., 0., 0., 0., 0., 0., 0., 0., 0., 0.],\n",
       "       [0., 0., 0., 0., 0., 0., 0., 0., 0., 0., 0., 0., 0., 0., 0., 0.,\n",
       "        0., 0., 0., 0., 0., 0., 0., 0., 0., 0., 0., 0., 0., 0.]])"
      ]
     },
     "execution_count": 404,
     "metadata": {},
     "output_type": "execute_result"
    }
   ],
   "source": [
    "np.zeros((10,30))"
   ]
  },
  {
   "cell_type": "code",
   "execution_count": 406,
   "id": "b21dd6e1-a128-4b8f-a343-ecfa965b6443",
   "metadata": {},
   "outputs": [
    {
     "data": {
      "text/plain": [
       "array([[0., 0., 0., 0., 0., 0., 0., 0., 0., 0.],\n",
       "       [0., 0., 0., 0., 0., 0., 0., 0., 0., 0.],\n",
       "       [0., 0., 0., 0., 0., 0., 0., 0., 0., 0.],\n",
       "       [0., 0., 0., 0., 0., 0., 0., 0., 0., 0.],\n",
       "       [0., 0., 0., 0., 0., 0., 0., 0., 0., 0.]])"
      ]
     },
     "execution_count": 406,
     "metadata": {},
     "output_type": "execute_result"
    }
   ],
   "source": [
    "np.zeros((5,10))"
   ]
  },
  {
   "cell_type": "code",
   "execution_count": 408,
   "id": "b3ad4599-c7d4-41f7-9951-c1031314a139",
   "metadata": {},
   "outputs": [
    {
     "data": {
      "text/plain": [
       "array([1., 1., 1.])"
      ]
     },
     "execution_count": 408,
     "metadata": {},
     "output_type": "execute_result"
    }
   ],
   "source": [
    "np.ones(3)"
   ]
  },
  {
   "cell_type": "code",
   "execution_count": 392,
   "id": "4e946626-30e5-49ea-8201-80c103bb8448",
   "metadata": {},
   "outputs": [
    {
     "data": {
      "text/plain": [
       "array([1., 1., 1., 1.])"
      ]
     },
     "execution_count": 392,
     "metadata": {},
     "output_type": "execute_result"
    }
   ],
   "source": [
    "np.ones(4)"
   ]
  },
  {
   "cell_type": "code",
   "execution_count": 394,
   "id": "ccd795d5-f914-467e-9826-9ff0db12ae35",
   "metadata": {},
   "outputs": [
    {
     "data": {
      "text/plain": [
       "array([1, 1, 1, 1])"
      ]
     },
     "execution_count": 394,
     "metadata": {},
     "output_type": "execute_result"
    }
   ],
   "source": [
    "np.ones(4,dtype=int)"
   ]
  },
  {
   "cell_type": "code",
   "execution_count": 467,
   "id": "e06843cf-2328-4b2d-98d3-f285561acc22",
   "metadata": {},
   "outputs": [
    {
     "data": {
      "text/plain": [
       "array([1, 1, 1, 1, 1, 1, 1, 1, 1, 1, 1, 1, 1, 1, 1, 1, 1, 1, 1, 1])"
      ]
     },
     "execution_count": 467,
     "metadata": {},
     "output_type": "execute_result"
    }
   ],
   "source": [
    "np.ones(20,dtype=int)"
   ]
  },
  {
   "cell_type": "code",
   "execution_count": 195,
   "id": "d605effb-e116-4c3c-b6d1-0cb424f265b2",
   "metadata": {},
   "outputs": [
    {
     "ename": "AttributeError",
     "evalue": "module 'numpy' has no attribute 'twos'",
     "output_type": "error",
     "traceback": [
      "\u001b[1;31m---------------------------------------------------------------------------\u001b[0m",
      "\u001b[1;31mAttributeError\u001b[0m                            Traceback (most recent call last)",
      "Cell \u001b[1;32mIn[195], line 1\u001b[0m\n\u001b[1;32m----> 1\u001b[0m np\u001b[38;5;241m.\u001b[39mtwos((\u001b[38;5;241m2\u001b[39m,\u001b[38;5;241m3\u001b[39m))\n",
      "File \u001b[1;32m~\\anaconda3\\Lib\\site-packages\\numpy\\__init__.py:333\u001b[0m, in \u001b[0;36m__getattr__\u001b[1;34m(attr)\u001b[0m\n\u001b[0;32m    330\u001b[0m     \u001b[38;5;124m\"\u001b[39m\u001b[38;5;124mRemoved in NumPy 1.25.0\u001b[39m\u001b[38;5;124m\"\u001b[39m\n\u001b[0;32m    331\u001b[0m     \u001b[38;5;28;01mraise\u001b[39;00m \u001b[38;5;167;01mRuntimeError\u001b[39;00m(\u001b[38;5;124m\"\u001b[39m\u001b[38;5;124mTester was removed in NumPy 1.25.\u001b[39m\u001b[38;5;124m\"\u001b[39m)\n\u001b[1;32m--> 333\u001b[0m \u001b[38;5;28;01mraise\u001b[39;00m \u001b[38;5;167;01mAttributeError\u001b[39;00m(\u001b[38;5;124m\"\u001b[39m\u001b[38;5;124mmodule \u001b[39m\u001b[38;5;132;01m{!r}\u001b[39;00m\u001b[38;5;124m has no attribute \u001b[39m\u001b[38;5;124m\"\u001b[39m\n\u001b[0;32m    334\u001b[0m                      \u001b[38;5;124m\"\u001b[39m\u001b[38;5;132;01m{!r}\u001b[39;00m\u001b[38;5;124m\"\u001b[39m\u001b[38;5;241m.\u001b[39mformat(\u001b[38;5;18m__name__\u001b[39m, attr))\n",
      "\u001b[1;31mAttributeError\u001b[0m: module 'numpy' has no attribute 'twos'"
     ]
    }
   ],
   "source": [
    "np.twos((2,3))"
   ]
  },
  {
   "cell_type": "code",
   "execution_count": 388,
   "id": "edffee5b-ee4b-4e54-b8ee-46ee957688d0",
   "metadata": {},
   "outputs": [
    {
     "ename": "NameError",
     "evalue": "name 'rand' is not defined",
     "output_type": "error",
     "traceback": [
      "\u001b[1;31m---------------------------------------------------------------------------\u001b[0m",
      "\u001b[1;31mNameError\u001b[0m                                 Traceback (most recent call last)",
      "Cell \u001b[1;32mIn[388], line 1\u001b[0m\n\u001b[1;32m----> 1\u001b[0m rand(\u001b[38;5;241m3\u001b[39m,\u001b[38;5;241m2\u001b[39m)\n\u001b[0;32m      2\u001b[0m random\u001b[38;5;241m.\u001b[39mrand(\u001b[38;5;241m3\u001b[39m,\u001b[38;5;241m2\u001b[39m)\n",
      "\u001b[1;31mNameError\u001b[0m: name 'rand' is not defined"
     ]
    }
   ],
   "source": [
    "rand(3,2)\n",
    "random.rand(3,2)"
   ]
  },
  {
   "cell_type": "code",
   "execution_count": 199,
   "id": "3fcf4974-46f2-4971-8e08-0867b1704c03",
   "metadata": {},
   "outputs": [
    {
     "data": {
      "text/plain": [
       "array([0.93575136, 0.05146303, 0.31708608, 0.55267847, 0.40510985])"
      ]
     },
     "execution_count": 199,
     "metadata": {},
     "output_type": "execute_result"
    }
   ],
   "source": [
    "np.random.rand(5)  #rand gives float no"
   ]
  },
  {
   "cell_type": "code",
   "execution_count": 469,
   "id": "dd0020c7-2664-4e56-ba15-bc85258a1bfd",
   "metadata": {},
   "outputs": [
    {
     "data": {
      "text/plain": [
       "array([0.6188745 , 0.21452567, 0.78818618, 0.47014652])"
      ]
     },
     "execution_count": 469,
     "metadata": {},
     "output_type": "execute_result"
    }
   ],
   "source": [
    "np.random.rand(4)"
   ]
  },
  {
   "cell_type": "code",
   "execution_count": 203,
   "id": "06ead2d3-0634-4bcc-8102-f3b06940e4fd",
   "metadata": {},
   "outputs": [
    {
     "data": {
      "text/plain": [
       "array([[0.21609793, 0.77823058, 0.94538571, 0.83487871],\n",
       "       [0.63760456, 0.37119203, 0.62716475, 0.06929612]])"
      ]
     },
     "execution_count": 203,
     "metadata": {},
     "output_type": "execute_result"
    }
   ],
   "source": [
    "np.random.rand(2,4)"
   ]
  },
  {
   "cell_type": "code",
   "execution_count": 205,
   "id": "8f53fe2f-5316-40da-89b6-98a1981f5445",
   "metadata": {},
   "outputs": [
    {
     "data": {
      "text/plain": [
       "array([[0.63520278, 0.47700778, 0.55054817, 0.83386481, 0.94045999],\n",
       "       [0.4625625 , 0.16685012, 0.22866413, 0.09542197, 0.28577666],\n",
       "       [0.29425839, 0.05934123, 0.50069423, 0.85254316, 0.18348513]])"
      ]
     },
     "execution_count": 205,
     "metadata": {},
     "output_type": "execute_result"
    }
   ],
   "source": [
    "np.random.rand(3,5)  #3 rows and 5 columns"
   ]
  },
  {
   "cell_type": "code",
   "execution_count": 479,
   "id": "b3734cec-4d8c-4298-8870-ec60e493e783",
   "metadata": {},
   "outputs": [
    {
     "data": {
      "text/plain": [
       "4"
      ]
     },
     "execution_count": 479,
     "metadata": {},
     "output_type": "execute_result"
    }
   ],
   "source": [
    "np.random.randint(3,5)   #random integer no between 3 & 5"
   ]
  },
  {
   "cell_type": "code",
   "execution_count": 493,
   "id": "cd536fda-5aae-491e-8dc2-e1243dcbfa87",
   "metadata": {},
   "outputs": [
    {
     "data": {
      "text/plain": [
       "13"
      ]
     },
     "execution_count": 493,
     "metadata": {},
     "output_type": "execute_result"
    }
   ],
   "source": [
    "np.random.randint(2,20)  #2nd arg is exclusive"
   ]
  },
  {
   "cell_type": "code",
   "execution_count": 495,
   "id": "896a0887-f684-4303-98e7-a5e3a220cad5",
   "metadata": {},
   "outputs": [
    {
     "data": {
      "text/plain": [
       "0"
      ]
     },
     "execution_count": 495,
     "metadata": {},
     "output_type": "execute_result"
    }
   ],
   "source": [
    "np.random.randint(0,1)"
   ]
  },
  {
   "cell_type": "code",
   "execution_count": 497,
   "id": "0bdf73b5-be05-4c5c-84d0-d79b05bb1318",
   "metadata": {},
   "outputs": [
    {
     "data": {
      "text/plain": [
       "array([16, 11, 13, 13, 19])"
      ]
     },
     "execution_count": 497,
     "metadata": {},
     "output_type": "execute_result"
    }
   ],
   "source": [
    "np.random.randint(10,20,5)  #5 random nos between 10 to 20"
   ]
  },
  {
   "cell_type": "code",
   "execution_count": 499,
   "id": "7a86881b-7678-48cf-b10d-ade3a64ecab0",
   "metadata": {},
   "outputs": [
    {
     "data": {
      "text/plain": [
       "array([5, 2, 1, 2])"
      ]
     },
     "execution_count": 499,
     "metadata": {},
     "output_type": "execute_result"
    }
   ],
   "source": [
    "np.random.randint(1,6,4)"
   ]
  },
  {
   "cell_type": "code",
   "execution_count": 501,
   "id": "c21787bf-c937-42e8-9100-5dcab70d3a80",
   "metadata": {},
   "outputs": [
    {
     "data": {
      "text/plain": [
       "array([0.4543597 , 0.02122431, 0.8182738 ])"
      ]
     },
     "execution_count": 501,
     "metadata": {},
     "output_type": "execute_result"
    }
   ],
   "source": [
    "np.random.rand(3)"
   ]
  },
  {
   "cell_type": "code",
   "execution_count": 503,
   "id": "35bebb0b-f573-43a9-a7be-584f677aaeb4",
   "metadata": {},
   "outputs": [
    {
     "data": {
      "text/plain": [
       "0"
      ]
     },
     "execution_count": 503,
     "metadata": {},
     "output_type": "execute_result"
    }
   ],
   "source": [
    "np.random.randint(1)"
   ]
  },
  {
   "cell_type": "code",
   "execution_count": 505,
   "id": "ea124766-ed50-45fe-bcd9-ffb85597e2fe",
   "metadata": {},
   "outputs": [
    {
     "data": {
      "text/plain": [
       "array([-26,  18, -12, -16, -14,  -4, -29,   6,  16, -11])"
      ]
     },
     "execution_count": 505,
     "metadata": {},
     "output_type": "execute_result"
    }
   ],
   "source": [
    "np.random.randint(-30,20,10)"
   ]
  },
  {
   "cell_type": "code",
   "execution_count": 507,
   "id": "15ed83eb-71bf-4461-ad4f-346377b528ba",
   "metadata": {},
   "outputs": [
    {
     "data": {
      "text/plain": [
       "array([22, 22, 21, 26, 22, 24, 25, 27, 20, 29])"
      ]
     },
     "execution_count": 507,
     "metadata": {},
     "output_type": "execute_result"
    }
   ],
   "source": [
    "np.random.randint(20,30,10)"
   ]
  },
  {
   "cell_type": "code",
   "execution_count": 509,
   "id": "cf16b518-6dae-4438-b477-1abfd12837f2",
   "metadata": {},
   "outputs": [
    {
     "data": {
      "text/plain": [
       "5"
      ]
     },
     "execution_count": 509,
     "metadata": {},
     "output_type": "execute_result"
    }
   ],
   "source": [
    "np.random.randint(5,9)"
   ]
  },
  {
   "cell_type": "code",
   "execution_count": 227,
   "id": "34c5807e-a22f-46f8-87d7-8af2c45e9ad8",
   "metadata": {},
   "outputs": [
    {
     "data": {
      "text/plain": [
       "array([[38, 22, 37, 34, 32, 21, 24, 19, 37, 19],\n",
       "       [20, 38, 20, 14, 15, 25, 34, 31, 13, 30],\n",
       "       [23, 29, 29, 18, 30, 33, 13, 10, 14, 37],\n",
       "       [20, 12, 14, 32, 13, 32, 15, 16, 25, 39],\n",
       "       [36, 32, 28, 38, 26, 37, 29, 32, 22, 34],\n",
       "       [19, 39, 15, 11, 11, 28, 28, 17, 21, 10],\n",
       "       [29, 37, 11, 19, 38, 23, 27, 30, 27, 35],\n",
       "       [10, 20, 38, 22, 37, 36, 37, 13, 18, 24],\n",
       "       [39, 37, 21, 28, 28, 22, 36, 30, 34, 23],\n",
       "       [30, 23, 39, 23, 28, 15, 38, 19, 10, 17]])"
      ]
     },
     "execution_count": 227,
     "metadata": {},
     "output_type": "execute_result"
    }
   ],
   "source": [
    "np.random.randint(10,40,(10,10))   #10*10 matrix nos between 10 to 40"
   ]
  },
  {
   "cell_type": "code",
   "execution_count": 229,
   "id": "9c671e10-20fe-49be-a29f-d47ea29ab35c",
   "metadata": {},
   "outputs": [
    {
     "data": {
      "text/plain": [
       "array([[51, 95, 30, 12, 30, 73, 99, 85, 98, 73, 98, 22],\n",
       "       [19, 70, 78, 53, 99, 73, 65, 29, 53, 89, 72, 65],\n",
       "       [ 8, 96, 25, 85, 11, 72, 69, 94, 22, 25, 73, 76],\n",
       "       [56, 43, 67, 53, 26,  8, 72, 82, 25, 51, 83, 17],\n",
       "       [53, 77,  9, 66, 25, 24, 17, 99, 75, 51, 79, 57],\n",
       "       [35, 21, 30, 21, 39, 94, 61,  5, 54, 56, 82, 51],\n",
       "       [55, 28, 81, 64, 86, 61,  6, 39, 70,  7, 30, 52],\n",
       "       [64, 35, 25, 85, 31, 52,  7,  7, 10,  3, 87, 93],\n",
       "       [60, 51,  1, 41, 15, 19,  1, 29, 60, 11, 95, 47],\n",
       "       [97, 45, 26, 74, 38, 96, 55, 58, 27, 64, 79, 82],\n",
       "       [75, 65, 76, 43, 21, 83, 55, 46, 43, 18, 76, 82],\n",
       "       [98, 67, 24, 18, 79, 97, 51, 60,  8, 36, 22, 46]])"
      ]
     },
     "execution_count": 229,
     "metadata": {},
     "output_type": "execute_result"
    }
   ],
   "source": [
    "np.random.randint(1,100,(12,12))"
   ]
  },
  {
   "cell_type": "code",
   "execution_count": 231,
   "id": "4c7f7f82-1752-42b1-a8af-937390cfe697",
   "metadata": {},
   "outputs": [
    {
     "data": {
      "text/plain": [
       "array([[ 1,  2,  3,  4],\n",
       "       [ 5,  6,  7,  8],\n",
       "       [ 9, 10, 11, 12]])"
      ]
     },
     "execution_count": 231,
     "metadata": {},
     "output_type": "execute_result"
    }
   ],
   "source": [
    "np.arange(1,13).reshape(3,4)  #3*4 matrix "
   ]
  },
  {
   "cell_type": "code",
   "execution_count": 233,
   "id": "0c905a0d-57d1-4add-8bef-ca97740785ce",
   "metadata": {},
   "outputs": [
    {
     "ename": "ValueError",
     "evalue": "cannot reshape array of size 12 into shape (5,4)",
     "output_type": "error",
     "traceback": [
      "\u001b[1;31m---------------------------------------------------------------------------\u001b[0m",
      "\u001b[1;31mValueError\u001b[0m                                Traceback (most recent call last)",
      "Cell \u001b[1;32mIn[233], line 1\u001b[0m\n\u001b[1;32m----> 1\u001b[0m np\u001b[38;5;241m.\u001b[39marange(\u001b[38;5;241m1\u001b[39m,\u001b[38;5;241m13\u001b[39m)\u001b[38;5;241m.\u001b[39mreshape(\u001b[38;5;241m5\u001b[39m,\u001b[38;5;241m4\u001b[39m)\n",
      "\u001b[1;31mValueError\u001b[0m: cannot reshape array of size 12 into shape (5,4)"
     ]
    }
   ],
   "source": [
    "np.arange(1,13).reshape(5,4) "
   ]
  },
  {
   "cell_type": "code",
   "execution_count": 235,
   "id": "20556795-ee8c-4a06-9aba-cdfced1a462e",
   "metadata": {},
   "outputs": [
    {
     "data": {
      "text/plain": [
       "array([[ 1,  2],\n",
       "       [ 3,  4],\n",
       "       [ 5,  6],\n",
       "       [ 7,  8],\n",
       "       [ 9, 10],\n",
       "       [11, 12]])"
      ]
     },
     "execution_count": 235,
     "metadata": {},
     "output_type": "execute_result"
    }
   ],
   "source": [
    "np.arange(1,13).reshape(6,2) "
   ]
  },
  {
   "cell_type": "code",
   "execution_count": 237,
   "id": "e0d829c0-e822-4170-9ac3-b59ba2667cf8",
   "metadata": {},
   "outputs": [
    {
     "data": {
      "text/plain": [
       "array([[ 1],\n",
       "       [ 2],\n",
       "       [ 3],\n",
       "       [ 4],\n",
       "       [ 5],\n",
       "       [ 6],\n",
       "       [ 7],\n",
       "       [ 8],\n",
       "       [ 9],\n",
       "       [10],\n",
       "       [11],\n",
       "       [12]])"
      ]
     },
     "execution_count": 237,
     "metadata": {},
     "output_type": "execute_result"
    }
   ],
   "source": [
    "np.arange(1,13).reshape(12,1) "
   ]
  },
  {
   "cell_type": "code",
   "execution_count": 239,
   "id": "a2ec731d-7dfb-4987-9880-9a84bcf3db4d",
   "metadata": {},
   "outputs": [
    {
     "data": {
      "text/plain": [
       "array([[ 1,  2,  3,  4,  5,  6,  7,  8,  9, 10, 11, 12]])"
      ]
     },
     "execution_count": 239,
     "metadata": {},
     "output_type": "execute_result"
    }
   ],
   "source": [
    "np.arange(1,13).reshape(1,12) "
   ]
  },
  {
   "cell_type": "code",
   "execution_count": 241,
   "id": "ca594859-9039-4b03-a270-c674de76c731",
   "metadata": {},
   "outputs": [
    {
     "data": {
      "text/plain": [
       "array([[16, 18, 12, 15],\n",
       "       [11, 19, 16, 14],\n",
       "       [14, 19, 10, 11],\n",
       "       [18, 14, 17, 10],\n",
       "       [12, 12, 18, 19]])"
      ]
     },
     "execution_count": 241,
     "metadata": {},
     "output_type": "execute_result"
    }
   ],
   "source": [
    "b=np.random.randint(10,20,(5,4))   #5*4 matrix\n",
    "b"
   ]
  },
  {
   "cell_type": "code",
   "execution_count": 243,
   "id": "be1df558-75ff-43ee-841b-a0242c38b94d",
   "metadata": {},
   "outputs": [
    {
     "data": {
      "text/plain": [
       "numpy.ndarray"
      ]
     },
     "execution_count": 243,
     "metadata": {},
     "output_type": "execute_result"
    }
   ],
   "source": [
    "type(b)"
   ]
  },
  {
   "cell_type": "code",
   "execution_count": 245,
   "id": "7250474f-6e71-41de-8eb8-4bc686e12394",
   "metadata": {},
   "outputs": [
    {
     "data": {
      "text/plain": [
       "array([[16, 18, 12, 15],\n",
       "       [11, 19, 16, 14],\n",
       "       [14, 19, 10, 11],\n",
       "       [18, 14, 17, 10],\n",
       "       [12, 12, 18, 19]])"
      ]
     },
     "execution_count": 245,
     "metadata": {},
     "output_type": "execute_result"
    }
   ],
   "source": [
    "b"
   ]
  },
  {
   "cell_type": "code",
   "execution_count": 247,
   "id": "248983b5-1001-42b4-b096-fa5503fa7a18",
   "metadata": {},
   "outputs": [
    {
     "data": {
      "text/plain": [
       "array([[16, 18, 12, 15],\n",
       "       [11, 19, 16, 14],\n",
       "       [14, 19, 10, 11],\n",
       "       [18, 14, 17, 10],\n",
       "       [12, 12, 18, 19]])"
      ]
     },
     "execution_count": 247,
     "metadata": {},
     "output_type": "execute_result"
    }
   ],
   "source": [
    "b[:]"
   ]
  },
  {
   "cell_type": "code",
   "execution_count": 249,
   "id": "ab389e6d-ec59-43d2-8811-10d9733d790f",
   "metadata": {},
   "outputs": [
    {
     "data": {
      "text/plain": [
       "array([[11, 19, 16, 14],\n",
       "       [14, 19, 10, 11]])"
      ]
     },
     "execution_count": 249,
     "metadata": {},
     "output_type": "execute_result"
    }
   ],
   "source": [
    "b[1:3]  #slice  it will display entire row items (n-1) "
   ]
  },
  {
   "cell_type": "code",
   "execution_count": 251,
   "id": "c6afd4b4-d418-4408-9326-a5f7a69e7be9",
   "metadata": {},
   "outputs": [
    {
     "data": {
      "text/plain": [
       "array([[16, 18, 12, 15],\n",
       "       [11, 19, 16, 14],\n",
       "       [14, 19, 10, 11],\n",
       "       [18, 14, 17, 10],\n",
       "       [12, 12, 18, 19]])"
      ]
     },
     "execution_count": 251,
     "metadata": {},
     "output_type": "execute_result"
    }
   ],
   "source": [
    "b"
   ]
  },
  {
   "cell_type": "code",
   "execution_count": 511,
   "id": "8ad65a2b-e145-49bf-a649-5debe0ec5508",
   "metadata": {},
   "outputs": [
    {
     "data": {
      "text/plain": [
       "16"
      ]
     },
     "execution_count": 511,
     "metadata": {},
     "output_type": "execute_result"
    }
   ],
   "source": [
    "b[1,2]   #comma displays specific element or item"
   ]
  },
  {
   "cell_type": "code",
   "execution_count": 513,
   "id": "ebe0cf56-5d7e-4455-b11c-e68e1ddeab22",
   "metadata": {},
   "outputs": [
    {
     "data": {
      "text/plain": [
       "14"
      ]
     },
     "execution_count": 513,
     "metadata": {},
     "output_type": "execute_result"
    }
   ],
   "source": [
    "b[1,-1]"
   ]
  },
  {
   "cell_type": "code",
   "execution_count": 257,
   "id": "39cb1257-0d7d-4d09-bb82-3f80b448fc8e",
   "metadata": {},
   "outputs": [
    {
     "data": {
      "text/plain": [
       "array([[14, 19, 10, 11]])"
      ]
     },
     "execution_count": 257,
     "metadata": {},
     "output_type": "execute_result"
    }
   ],
   "source": [
    "b[2:3]"
   ]
  },
  {
   "cell_type": "code",
   "execution_count": 259,
   "id": "50fba89f-14c5-499d-ab16-d52d55a68f04",
   "metadata": {},
   "outputs": [
    {
     "data": {
      "text/plain": [
       "array([[16, 18, 12, 15],\n",
       "       [11, 19, 16, 14],\n",
       "       [14, 19, 10, 11]])"
      ]
     },
     "execution_count": 259,
     "metadata": {},
     "output_type": "execute_result"
    }
   ],
   "source": [
    "b[0:-2]"
   ]
  },
  {
   "cell_type": "code",
   "execution_count": 261,
   "id": "bb709898-2510-4832-af5a-b220e8a6c942",
   "metadata": {},
   "outputs": [
    {
     "data": {
      "text/plain": [
       "12"
      ]
     },
     "execution_count": 261,
     "metadata": {},
     "output_type": "execute_result"
    }
   ],
   "source": [
    "b[0,2]"
   ]
  },
  {
   "cell_type": "code",
   "execution_count": 263,
   "id": "ce9ff318-131b-4782-baed-338e0b201e99",
   "metadata": {},
   "outputs": [
    {
     "data": {
      "text/plain": [
       "18"
      ]
     },
     "execution_count": 263,
     "metadata": {},
     "output_type": "execute_result"
    }
   ],
   "source": [
    "b[-5,-3]"
   ]
  },
  {
   "cell_type": "code",
   "execution_count": 265,
   "id": "340e3edf-8d34-42ea-8fae-749d6757e8a9",
   "metadata": {},
   "outputs": [
    {
     "data": {
      "text/plain": [
       "array([[16, 18, 12, 15],\n",
       "       [11, 19, 16, 14],\n",
       "       [14, 19, 10, 11],\n",
       "       [18, 14, 17, 10],\n",
       "       [12, 12, 18, 19]])"
      ]
     },
     "execution_count": 265,
     "metadata": {},
     "output_type": "execute_result"
    }
   ],
   "source": [
    "b"
   ]
  },
  {
   "cell_type": "code",
   "execution_count": 267,
   "id": "d90d553b-f68f-4115-ae28-321d5f5e7f01",
   "metadata": {},
   "outputs": [
    {
     "data": {
      "text/plain": [
       "16"
      ]
     },
     "execution_count": 267,
     "metadata": {},
     "output_type": "execute_result"
    }
   ],
   "source": [
    "b[-4,2]"
   ]
  },
  {
   "cell_type": "code",
   "execution_count": 269,
   "id": "698d8432-d04d-4544-a5f5-f856f986c33d",
   "metadata": {},
   "outputs": [
    {
     "data": {
      "text/plain": [
       "array([[16, 18, 12, 15],\n",
       "       [11, 19, 16, 14],\n",
       "       [14, 19, 10, 11],\n",
       "       [18, 14, 17, 10],\n",
       "       [12, 12, 18, 19]])"
      ]
     },
     "execution_count": 269,
     "metadata": {},
     "output_type": "execute_result"
    }
   ],
   "source": [
    "b[:]"
   ]
  },
  {
   "cell_type": "markdown",
   "id": "16189240-7d22-4166-935e-106f5bd1565c",
   "metadata": {},
   "source": [
    "# Operations"
   ]
  },
  {
   "cell_type": "code",
   "execution_count": 272,
   "id": "55a60dac-fcda-4436-a6b0-1c7af00be043",
   "metadata": {},
   "outputs": [
    {
     "data": {
      "text/plain": [
       "array([19, 13, 10, 13, 16, 16, 18, 15, 15, 15])"
      ]
     },
     "execution_count": 272,
     "metadata": {},
     "output_type": "execute_result"
    }
   ],
   "source": [
    "a=np.random.randint(10,20,10)\n",
    "a"
   ]
  },
  {
   "cell_type": "code",
   "execution_count": 274,
   "id": "432dd435-382e-4b93-a5ce-4b3bf91a806e",
   "metadata": {},
   "outputs": [
    {
     "data": {
      "text/plain": [
       "2338071548272"
      ]
     },
     "execution_count": 274,
     "metadata": {},
     "output_type": "execute_result"
    }
   ],
   "source": [
    "id(a)"
   ]
  },
  {
   "cell_type": "code",
   "execution_count": 276,
   "id": "ed236029-1d22-4a74-af32-d1c18cce8dd1",
   "metadata": {},
   "outputs": [
    {
     "data": {
      "text/plain": [
       "array([0, 1, 2, 3, 4, 5])"
      ]
     },
     "execution_count": 276,
     "metadata": {},
     "output_type": "execute_result"
    }
   ],
   "source": [
    "arr"
   ]
  },
  {
   "cell_type": "code",
   "execution_count": 278,
   "id": "d646c1d7-b821-4fe0-b3a7-0898f518bc41",
   "metadata": {},
   "outputs": [
    {
     "data": {
      "text/plain": [
       "array([[97, 84, 98, 30, 68, 69, 85, 50, 37, 82],\n",
       "       [52, 67, 25,  9, 81, 89, 93, 79, 11, 86],\n",
       "       [78, 76, 92, 20, 17, 91, 25, 50, 12, 79],\n",
       "       [55, 72, 39,  8, 87, 64, 64, 18,  3, 66],\n",
       "       [37, 14,  2, 21, 28, 61, 12, 39, 56, 29],\n",
       "       [14, 45, 59, 43, 52, 63, 44, 89, 83, 77],\n",
       "       [73, 37, 32,  2,  3, 17, 55, 74,  0, 33],\n",
       "       [30, 52,  3, 94, 28, 46,  4,  5, 61, 57],\n",
       "       [21,  5, 10, 81, 35, 74, 28, 71, 34, 80],\n",
       "       [39, 94, 52, 69, 44, 60, 70, 59, 86, 19]])"
      ]
     },
     "execution_count": 278,
     "metadata": {},
     "output_type": "execute_result"
    }
   ],
   "source": [
    "arr2=np.random.randint(0,100,(10,10))\n",
    "arr2"
   ]
  },
  {
   "cell_type": "code",
   "execution_count": 280,
   "id": "c287500f-fb7c-464a-b4a8-b7382ed9c46b",
   "metadata": {},
   "outputs": [
    {
     "data": {
      "text/plain": [
       "array([0, 1, 2, 3, 4, 5])"
      ]
     },
     "execution_count": 280,
     "metadata": {},
     "output_type": "execute_result"
    }
   ],
   "source": [
    "arr"
   ]
  },
  {
   "cell_type": "code",
   "execution_count": 282,
   "id": "4accd17f-2fd6-4fdf-b5fb-d2caaa960a7b",
   "metadata": {},
   "outputs": [
    {
     "data": {
      "text/plain": [
       "array([0, 1, 2, 3])"
      ]
     },
     "execution_count": 282,
     "metadata": {},
     "output_type": "execute_result"
    }
   ],
   "source": [
    "arr[:4]"
   ]
  },
  {
   "cell_type": "code",
   "execution_count": 284,
   "id": "774e65b2-b9f8-449a-96a5-9d3c75c89bba",
   "metadata": {},
   "outputs": [
    {
     "data": {
      "text/plain": [
       "array([[97, 84, 98, 30, 68, 69, 85, 50, 37, 82],\n",
       "       [52, 67, 25,  9, 81, 89, 93, 79, 11, 86],\n",
       "       [78, 76, 92, 20, 17, 91, 25, 50, 12, 79],\n",
       "       [55, 72, 39,  8, 87, 64, 64, 18,  3, 66],\n",
       "       [37, 14,  2, 21, 28, 61, 12, 39, 56, 29]])"
      ]
     },
     "execution_count": 284,
     "metadata": {},
     "output_type": "execute_result"
    }
   ],
   "source": [
    "arr2[0:5]   #0 to 4th row"
   ]
  },
  {
   "cell_type": "code",
   "execution_count": 286,
   "id": "daca9d47-268b-4c49-9d5e-9c0da33de25c",
   "metadata": {},
   "outputs": [
    {
     "data": {
      "text/plain": [
       "array([[78, 76, 92, 20, 17, 91, 25, 50, 12, 79],\n",
       "       [55, 72, 39,  8, 87, 64, 64, 18,  3, 66],\n",
       "       [37, 14,  2, 21, 28, 61, 12, 39, 56, 29],\n",
       "       [14, 45, 59, 43, 52, 63, 44, 89, 83, 77],\n",
       "       [73, 37, 32,  2,  3, 17, 55, 74,  0, 33],\n",
       "       [30, 52,  3, 94, 28, 46,  4,  5, 61, 57],\n",
       "       [21,  5, 10, 81, 35, 74, 28, 71, 34, 80]])"
      ]
     },
     "execution_count": 286,
     "metadata": {},
     "output_type": "execute_result"
    }
   ],
   "source": [
    "arr2[2:-1]"
   ]
  },
  {
   "cell_type": "code",
   "execution_count": 288,
   "id": "14261270-fe74-473d-8f7c-f1f65537479d",
   "metadata": {},
   "outputs": [
    {
     "data": {
      "text/plain": [
       "array([[39, 94, 52, 69, 44, 60, 70, 59, 86, 19],\n",
       "       [21,  5, 10, 81, 35, 74, 28, 71, 34, 80],\n",
       "       [30, 52,  3, 94, 28, 46,  4,  5, 61, 57],\n",
       "       [73, 37, 32,  2,  3, 17, 55, 74,  0, 33],\n",
       "       [14, 45, 59, 43, 52, 63, 44, 89, 83, 77],\n",
       "       [37, 14,  2, 21, 28, 61, 12, 39, 56, 29],\n",
       "       [55, 72, 39,  8, 87, 64, 64, 18,  3, 66],\n",
       "       [78, 76, 92, 20, 17, 91, 25, 50, 12, 79],\n",
       "       [52, 67, 25,  9, 81, 89, 93, 79, 11, 86],\n",
       "       [97, 84, 98, 30, 68, 69, 85, 50, 37, 82]])"
      ]
     },
     "execution_count": 288,
     "metadata": {},
     "output_type": "execute_result"
    }
   ],
   "source": [
    "arr2[::-1]   #reverse matrix"
   ]
  },
  {
   "cell_type": "code",
   "execution_count": 290,
   "id": "26ca3dbd-93b4-45a0-8869-a10c0329b71c",
   "metadata": {},
   "outputs": [
    {
     "data": {
      "text/plain": [
       "array([[39, 94, 52, 69, 44, 60, 70, 59, 86, 19],\n",
       "       [30, 52,  3, 94, 28, 46,  4,  5, 61, 57],\n",
       "       [14, 45, 59, 43, 52, 63, 44, 89, 83, 77],\n",
       "       [55, 72, 39,  8, 87, 64, 64, 18,  3, 66],\n",
       "       [52, 67, 25,  9, 81, 89, 93, 79, 11, 86]])"
      ]
     },
     "execution_count": 290,
     "metadata": {},
     "output_type": "execute_result"
    }
   ],
   "source": [
    "arr2[::-2]  #skip odd rows"
   ]
  },
  {
   "cell_type": "code",
   "execution_count": 292,
   "id": "913bd95b-f6c2-414e-9f82-f230fd959ab6",
   "metadata": {},
   "outputs": [
    {
     "data": {
      "text/plain": [
       "array([[39, 94, 52, 69, 44, 60, 70, 59, 86, 19],\n",
       "       [73, 37, 32,  2,  3, 17, 55, 74,  0, 33],\n",
       "       [55, 72, 39,  8, 87, 64, 64, 18,  3, 66],\n",
       "       [97, 84, 98, 30, 68, 69, 85, 50, 37, 82]])"
      ]
     },
     "execution_count": 292,
     "metadata": {},
     "output_type": "execute_result"
    }
   ],
   "source": [
    "arr2[::-3]"
   ]
  },
  {
   "cell_type": "code",
   "execution_count": 519,
   "id": "5898663f-6120-4910-9504-01cab83f8cd7",
   "metadata": {},
   "outputs": [
    {
     "data": {
      "text/plain": [
       "array([[97, 84, 98, 30, 68, 69, 85, 50, 37, 82],\n",
       "       [52, 67, 25,  9, 81, 89, 93, 79, 11, 86],\n",
       "       [78, 76, 92, 20, 17, 91, 25, 50, 12, 79],\n",
       "       [55, 72, 39,  8, 87, 64, 64, 18,  3, 66],\n",
       "       [37, 14,  2, 21, 28, 61, 12, 39, 56, 29],\n",
       "       [14, 45, 59, 43, 52, 63, 44, 89, 83, 77],\n",
       "       [73, 37, 32,  2,  3, 17, 55, 74,  0, 33],\n",
       "       [30, 52,  3, 94, 28, 46,  4,  5, 61, 57],\n",
       "       [21,  5, 10, 81, 35, 74, 28, 71, 34, 80],\n",
       "       [39, 94, 52, 69, 44, 60, 70, 59, 86, 19]])"
      ]
     },
     "execution_count": 519,
     "metadata": {},
     "output_type": "execute_result"
    }
   ],
   "source": [
    "arr2[:]"
   ]
  },
  {
   "cell_type": "code",
   "execution_count": 294,
   "id": "a1ca4a7f-2050-4296-a648-f9d070712e08",
   "metadata": {},
   "outputs": [
    {
     "data": {
      "text/plain": [
       "array([[97, 84, 98, 30, 68, 69, 85, 50, 37, 82],\n",
       "       [52, 67, 25,  9, 81, 89, 93, 79, 11, 86],\n",
       "       [78, 76, 92, 20, 17, 91, 25, 50, 12, 79],\n",
       "       [55, 72, 39,  8, 87, 64, 64, 18,  3, 66],\n",
       "       [37, 14,  2, 21, 28, 61, 12, 39, 56, 29],\n",
       "       [14, 45, 59, 43, 52, 63, 44, 89, 83, 77],\n",
       "       [73, 37, 32,  2,  3, 17, 55, 74,  0, 33]])"
      ]
     },
     "execution_count": 294,
     "metadata": {},
     "output_type": "execute_result"
    }
   ],
   "source": [
    "arr2[:-3]"
   ]
  },
  {
   "cell_type": "code",
   "execution_count": 296,
   "id": "a0c08446-d90c-4049-8db7-e87ec52b0f06",
   "metadata": {},
   "outputs": [
    {
     "data": {
      "text/plain": [
       "array([[55, 72, 39,  8, 87, 64, 64, 18,  3, 66],\n",
       "       [37, 14,  2, 21, 28, 61, 12, 39, 56, 29],\n",
       "       [14, 45, 59, 43, 52, 63, 44, 89, 83, 77],\n",
       "       [73, 37, 32,  2,  3, 17, 55, 74,  0, 33],\n",
       "       [30, 52,  3, 94, 28, 46,  4,  5, 61, 57],\n",
       "       [21,  5, 10, 81, 35, 74, 28, 71, 34, 80],\n",
       "       [39, 94, 52, 69, 44, 60, 70, 59, 86, 19]])"
      ]
     },
     "execution_count": 296,
     "metadata": {},
     "output_type": "execute_result"
    }
   ],
   "source": [
    "arr2[3:]  #from 3rd row"
   ]
  },
  {
   "cell_type": "code",
   "execution_count": 298,
   "id": "00adff00-54ee-4c54-b27a-561faf300ec8",
   "metadata": {},
   "outputs": [
    {
     "data": {
      "text/plain": [
       "array([0, 1, 2, 3, 4, 5])"
      ]
     },
     "execution_count": 298,
     "metadata": {},
     "output_type": "execute_result"
    }
   ],
   "source": [
    "arr"
   ]
  },
  {
   "cell_type": "code",
   "execution_count": 300,
   "id": "f48f708a-0c4d-45f1-9c1f-51334f74e7e3",
   "metadata": {},
   "outputs": [
    {
     "data": {
      "text/plain": [
       "5"
      ]
     },
     "execution_count": 300,
     "metadata": {},
     "output_type": "execute_result"
    }
   ],
   "source": [
    "arr.max()\n"
   ]
  },
  {
   "cell_type": "code",
   "execution_count": 302,
   "id": "da2d6789-8f8f-40f9-90e5-51f51ac39a87",
   "metadata": {},
   "outputs": [
    {
     "data": {
      "text/plain": [
       "0"
      ]
     },
     "execution_count": 302,
     "metadata": {},
     "output_type": "execute_result"
    }
   ],
   "source": [
    "arr.min()"
   ]
  },
  {
   "cell_type": "code",
   "execution_count": 304,
   "id": "06889fd0-ce7c-45ae-8f7a-0488cda2762f",
   "metadata": {},
   "outputs": [
    {
     "data": {
      "text/plain": [
       "2.5"
      ]
     },
     "execution_count": 304,
     "metadata": {},
     "output_type": "execute_result"
    }
   ],
   "source": [
    "arr.mean()"
   ]
  },
  {
   "cell_type": "code",
   "execution_count": 306,
   "id": "782b128e-e651-43fb-87b0-33347518bf5c",
   "metadata": {},
   "outputs": [
    {
     "ename": "AttributeError",
     "evalue": "'numpy.ndarray' object has no attribute 'median'",
     "output_type": "error",
     "traceback": [
      "\u001b[1;31m---------------------------------------------------------------------------\u001b[0m",
      "\u001b[1;31mAttributeError\u001b[0m                            Traceback (most recent call last)",
      "Cell \u001b[1;32mIn[306], line 1\u001b[0m\n\u001b[1;32m----> 1\u001b[0m arr\u001b[38;5;241m.\u001b[39mmedian()\n",
      "\u001b[1;31mAttributeError\u001b[0m: 'numpy.ndarray' object has no attribute 'median'"
     ]
    }
   ],
   "source": [
    "arr.median()"
   ]
  },
  {
   "cell_type": "raw",
   "id": "8195c4f6-dc82-4b5b-af07-59f9081a3c91",
   "metadata": {},
   "source": [
    "NUMPY has 217 inbuild functions"
   ]
  },
  {
   "cell_type": "code",
   "execution_count": 308,
   "id": "11574369-8aa6-4a85-beac-c73e3463bf8c",
   "metadata": {},
   "outputs": [
    {
     "data": {
      "text/plain": [
       "3.0"
      ]
     },
     "execution_count": 308,
     "metadata": {},
     "output_type": "execute_result"
    }
   ],
   "source": [
    "from numpy import *\n",
    "a=array([1,2,3,4,9])\n",
    "median(a)"
   ]
  },
  {
   "cell_type": "code",
   "execution_count": 310,
   "id": "c32ebaea-a0e0-4294-99b7-cd5a628cae34",
   "metadata": {},
   "outputs": [
    {
     "data": {
      "text/plain": [
       "array([0, 1, 2, 3, 4, 5])"
      ]
     },
     "execution_count": 310,
     "metadata": {},
     "output_type": "execute_result"
    }
   ],
   "source": [
    "arr"
   ]
  },
  {
   "cell_type": "code",
   "execution_count": 312,
   "id": "f445ff90-7a95-4475-8404-ca665c9cd482",
   "metadata": {},
   "outputs": [
    {
     "data": {
      "text/plain": [
       "array([[0, 1],\n",
       "       [2, 3],\n",
       "       [4, 5]])"
      ]
     },
     "execution_count": 312,
     "metadata": {},
     "output_type": "execute_result"
    }
   ],
   "source": [
    "arr.reshape(3,2)"
   ]
  },
  {
   "cell_type": "code",
   "execution_count": 314,
   "id": "33cb8421-5ae9-47b8-9bf7-2dda922c5ada",
   "metadata": {},
   "outputs": [
    {
     "data": {
      "text/plain": [
       "array([[0, 1, 2],\n",
       "       [3, 4, 5]])"
      ]
     },
     "execution_count": 314,
     "metadata": {},
     "output_type": "execute_result"
    }
   ],
   "source": [
    "arr.reshape(2,3,order='C')  #print element using c-type indexing"
   ]
  },
  {
   "cell_type": "code",
   "execution_count": 316,
   "id": "821d841b-b4f1-4a25-af62-afbab5cfa997",
   "metadata": {},
   "outputs": [
    {
     "data": {
      "text/plain": [
       "array([[0, 1],\n",
       "       [2, 3],\n",
       "       [4, 5]])"
      ]
     },
     "execution_count": 316,
     "metadata": {},
     "output_type": "execute_result"
    }
   ],
   "source": [
    "arr.reshape(3,2,order='C')  "
   ]
  },
  {
   "cell_type": "code",
   "execution_count": 318,
   "id": "c1f2c4c8-148a-40ca-b5f4-f4b63c3b7bd2",
   "metadata": {},
   "outputs": [
    {
     "data": {
      "text/plain": [
       "array([[0, 2, 4],\n",
       "       [1, 3, 5]])"
      ]
     },
     "execution_count": 318,
     "metadata": {},
     "output_type": "execute_result"
    }
   ],
   "source": [
    "arr.reshape(2,3,order='F')  #rows becomes column"
   ]
  },
  {
   "cell_type": "code",
   "execution_count": 320,
   "id": "c3cff529-c20d-4c5a-ac80-669902f9c3c9",
   "metadata": {},
   "outputs": [
    {
     "data": {
      "text/plain": [
       "array([[0, 1, 2],\n",
       "       [3, 4, 5]])"
      ]
     },
     "execution_count": 320,
     "metadata": {},
     "output_type": "execute_result"
    }
   ],
   "source": [
    "arr.reshape(2,3,order='A')  #A almost gives u c type output,  arbitary  "
   ]
  },
  {
   "cell_type": "code",
   "execution_count": 322,
   "id": "8d4f1831-b5d2-43ab-a764-306449f5f6f8",
   "metadata": {},
   "outputs": [],
   "source": [
    "mat=np.arange(0,100).reshape(10,10)"
   ]
  },
  {
   "cell_type": "code",
   "execution_count": 324,
   "id": "a089b45a-6228-4188-a92c-5a504344cd2a",
   "metadata": {},
   "outputs": [
    {
     "data": {
      "text/plain": [
       "array([[ 0,  1,  2,  3,  4,  5,  6,  7,  8,  9],\n",
       "       [10, 11, 12, 13, 14, 15, 16, 17, 18, 19],\n",
       "       [20, 21, 22, 23, 24, 25, 26, 27, 28, 29],\n",
       "       [30, 31, 32, 33, 34, 35, 36, 37, 38, 39],\n",
       "       [40, 41, 42, 43, 44, 45, 46, 47, 48, 49],\n",
       "       [50, 51, 52, 53, 54, 55, 56, 57, 58, 59],\n",
       "       [60, 61, 62, 63, 64, 65, 66, 67, 68, 69],\n",
       "       [70, 71, 72, 73, 74, 75, 76, 77, 78, 79],\n",
       "       [80, 81, 82, 83, 84, 85, 86, 87, 88, 89],\n",
       "       [90, 91, 92, 93, 94, 95, 96, 97, 98, 99]])"
      ]
     },
     "execution_count": 324,
     "metadata": {},
     "output_type": "execute_result"
    }
   ],
   "source": [
    "mat"
   ]
  },
  {
   "cell_type": "code",
   "execution_count": 326,
   "id": "d861dd20-e652-4d28-b8bb-1d8d6e1c6d43",
   "metadata": {},
   "outputs": [],
   "source": [
    "row=4\n",
    "col=5"
   ]
  },
  {
   "cell_type": "code",
   "execution_count": 328,
   "id": "f4015547-d149-400a-9aef-0ae0f17305f1",
   "metadata": {},
   "outputs": [
    {
     "data": {
      "text/plain": [
       "5"
      ]
     },
     "execution_count": 328,
     "metadata": {},
     "output_type": "execute_result"
    }
   ],
   "source": [
    "col"
   ]
  },
  {
   "cell_type": "code",
   "execution_count": 330,
   "id": "36b721b1-d276-4e1b-a353-13d2fb7bc347",
   "metadata": {},
   "outputs": [
    {
     "data": {
      "text/plain": [
       "4"
      ]
     },
     "execution_count": 330,
     "metadata": {},
     "output_type": "execute_result"
    }
   ],
   "source": [
    "row"
   ]
  },
  {
   "cell_type": "code",
   "execution_count": 332,
   "id": "7732874a-23cf-4334-8045-4e9719289730",
   "metadata": {},
   "outputs": [
    {
     "data": {
      "text/plain": [
       "array([[ 0,  1,  2,  3,  4,  5,  6,  7,  8,  9],\n",
       "       [10, 11, 12, 13, 14, 15, 16, 17, 18, 19],\n",
       "       [20, 21, 22, 23, 24, 25, 26, 27, 28, 29],\n",
       "       [30, 31, 32, 33, 34, 35, 36, 37, 38, 39],\n",
       "       [40, 41, 42, 43, 44, 45, 46, 47, 48, 49],\n",
       "       [50, 51, 52, 53, 54, 55, 56, 57, 58, 59],\n",
       "       [60, 61, 62, 63, 64, 65, 66, 67, 68, 69],\n",
       "       [70, 71, 72, 73, 74, 75, 76, 77, 78, 79],\n",
       "       [80, 81, 82, 83, 84, 85, 86, 87, 88, 89],\n",
       "       [90, 91, 92, 93, 94, 95, 96, 97, 98, 99]])"
      ]
     },
     "execution_count": 332,
     "metadata": {},
     "output_type": "execute_result"
    }
   ],
   "source": [
    "mat"
   ]
  },
  {
   "cell_type": "code",
   "execution_count": 521,
   "id": "af991b89-d863-4dd3-91d0-0e2c49d5ebac",
   "metadata": {},
   "outputs": [
    {
     "data": {
      "text/plain": [
       "45"
      ]
     },
     "execution_count": 521,
     "metadata": {},
     "output_type": "execute_result"
    }
   ],
   "source": [
    "mat[row,col]"
   ]
  },
  {
   "cell_type": "code",
   "execution_count": 336,
   "id": "899614e6-95ff-4f79-9eac-531f16b572fe",
   "metadata": {},
   "outputs": [
    {
     "data": {
      "text/plain": [
       "array([60, 61, 62, 63, 64, 65, 66, 67, 68, 69])"
      ]
     },
     "execution_count": 336,
     "metadata": {},
     "output_type": "execute_result"
    }
   ],
   "source": [
    "mat[6]  #represent row "
   ]
  },
  {
   "cell_type": "code",
   "execution_count": 338,
   "id": "a94ecb17-6ae3-43b2-924a-f5b2990c0913",
   "metadata": {},
   "outputs": [
    {
     "data": {
      "text/plain": [
       "array([ 5, 15, 25, 35, 45, 55, 65, 75, 85, 95])"
      ]
     },
     "execution_count": 338,
     "metadata": {},
     "output_type": "execute_result"
    }
   ],
   "source": [
    "mat[:,col]"
   ]
  },
  {
   "cell_type": "code",
   "execution_count": 340,
   "id": "f74b2dd5-b8c1-458c-bf2a-1d2c3921a850",
   "metadata": {},
   "outputs": [
    {
     "data": {
      "text/plain": [
       "array([ 5, 15, 25, 35, 45, 55, 65, 75, 85, 95])"
      ]
     },
     "execution_count": 340,
     "metadata": {},
     "output_type": "execute_result"
    }
   ],
   "source": [
    "mat[:,5]"
   ]
  },
  {
   "cell_type": "code",
   "execution_count": 342,
   "id": "ec7f81f6-1e16-454b-8d67-29fd66b6e987",
   "metadata": {},
   "outputs": [
    {
     "data": {
      "text/plain": [
       "array([40, 41, 42, 43, 44, 45, 46, 47, 48, 49])"
      ]
     },
     "execution_count": 342,
     "metadata": {},
     "output_type": "execute_result"
    }
   ],
   "source": [
    "mat[row,:]"
   ]
  },
  {
   "cell_type": "code",
   "execution_count": 344,
   "id": "6b29c19d-55fc-4a8c-a314-026d5c4dd4a3",
   "metadata": {},
   "outputs": [
    {
     "data": {
      "text/plain": [
       "array([40, 41, 42, 43, 44, 45, 46, 47, 48, 49])"
      ]
     },
     "execution_count": 344,
     "metadata": {},
     "output_type": "execute_result"
    }
   ],
   "source": [
    "mat[4,:]"
   ]
  },
  {
   "cell_type": "code",
   "execution_count": 346,
   "id": "d4d861a9-62ef-4b28-87f2-f305fae78acb",
   "metadata": {},
   "outputs": [
    {
     "data": {
      "text/plain": [
       "array([[ 0,  1,  2,  3,  4,  5,  6,  7,  8,  9],\n",
       "       [10, 11, 12, 13, 14, 15, 16, 17, 18, 19],\n",
       "       [20, 21, 22, 23, 24, 25, 26, 27, 28, 29],\n",
       "       [30, 31, 32, 33, 34, 35, 36, 37, 38, 39],\n",
       "       [40, 41, 42, 43, 44, 45, 46, 47, 48, 49],\n",
       "       [50, 51, 52, 53, 54, 55, 56, 57, 58, 59],\n",
       "       [60, 61, 62, 63, 64, 65, 66, 67, 68, 69],\n",
       "       [70, 71, 72, 73, 74, 75, 76, 77, 78, 79],\n",
       "       [80, 81, 82, 83, 84, 85, 86, 87, 88, 89],\n",
       "       [90, 91, 92, 93, 94, 95, 96, 97, 98, 99]])"
      ]
     },
     "execution_count": 346,
     "metadata": {},
     "output_type": "execute_result"
    }
   ],
   "source": [
    "mat"
   ]
  },
  {
   "cell_type": "code",
   "execution_count": 348,
   "id": "c77fef74-5885-413c-ace0-6cb26f738a09",
   "metadata": {},
   "outputs": [
    {
     "data": {
      "text/plain": [
       "array([[22, 23],\n",
       "       [32, 33],\n",
       "       [42, 43],\n",
       "       [52, 53]])"
      ]
     },
     "execution_count": 348,
     "metadata": {},
     "output_type": "execute_result"
    }
   ],
   "source": [
    "mat[2:6,2:4]   #2:6: row and 2:4 column :take common from this (n-1)"
   ]
  },
  {
   "cell_type": "code",
   "execution_count": 350,
   "id": "4d045ccc-09e6-4503-a006-560a972c9f0a",
   "metadata": {},
   "outputs": [
    {
     "data": {
      "text/plain": [
       "array([[12, 13]])"
      ]
     },
     "execution_count": 350,
     "metadata": {},
     "output_type": "execute_result"
    }
   ],
   "source": [
    "mat[1:2,2:4]"
   ]
  },
  {
   "cell_type": "code",
   "execution_count": 352,
   "id": "d8c0c239-d166-4208-a368-adabaf69f75d",
   "metadata": {},
   "outputs": [
    {
     "data": {
      "text/plain": [
       "array([[22]])"
      ]
     },
     "execution_count": 352,
     "metadata": {},
     "output_type": "execute_result"
    }
   ],
   "source": [
    "mat[2:3,2:3]"
   ]
  },
  {
   "cell_type": "code",
   "execution_count": 354,
   "id": "1df7cc1c-4986-4330-ab33-66a6dccb69a2",
   "metadata": {},
   "outputs": [
    {
     "data": {
      "text/plain": [
       "array([[ 0,  1,  2,  3,  4,  5,  6,  7,  8,  9],\n",
       "       [10, 11, 12, 13, 14, 15, 16, 17, 18, 19],\n",
       "       [20, 21, 22, 23, 24, 25, 26, 27, 28, 29],\n",
       "       [30, 31, 32, 33, 34, 35, 36, 37, 38, 39],\n",
       "       [40, 41, 42, 43, 44, 45, 46, 47, 48, 49],\n",
       "       [50, 51, 52, 53, 54, 55, 56, 57, 58, 59],\n",
       "       [60, 61, 62, 63, 64, 65, 66, 67, 68, 69],\n",
       "       [70, 71, 72, 73, 74, 75, 76, 77, 78, 79],\n",
       "       [80, 81, 82, 83, 84, 85, 86, 87, 88, 89],\n",
       "       [90, 91, 92, 93, 94, 95, 96, 97, 98, 99]])"
      ]
     },
     "execution_count": 354,
     "metadata": {},
     "output_type": "execute_result"
    }
   ],
   "source": [
    "mat"
   ]
  },
  {
   "cell_type": "code",
   "execution_count": 356,
   "id": "3e076fdc-8fd5-4b65-af5e-37e291d8f2dd",
   "metadata": {},
   "outputs": [
    {
     "data": {
      "text/plain": [
       "array([[23, 24],\n",
       "       [33, 34]])"
      ]
     },
     "execution_count": 356,
     "metadata": {},
     "output_type": "execute_result"
    }
   ],
   "source": [
    "mat[2:4,3:5]  "
   ]
  },
  {
   "cell_type": "code",
   "execution_count": 358,
   "id": "a7edea74-158a-4b93-a32a-d57684cc62cd",
   "metadata": {},
   "outputs": [
    {
     "data": {
      "text/plain": [
       "array([[32, 33],\n",
       "       [42, 43]])"
      ]
     },
     "execution_count": 358,
     "metadata": {},
     "output_type": "execute_result"
    }
   ],
   "source": [
    "mat[3:5,2:4]"
   ]
  },
  {
   "cell_type": "markdown",
   "id": "4076c739-9e5b-4ab0-b43a-cee30375342b",
   "metadata": {},
   "source": [
    "# Masking"
   ]
  },
  {
   "cell_type": "raw",
   "id": "f32b2eb2-f91c-476f-9441-111239264e91",
   "metadata": {},
   "source": [
    "masking also called as filter"
   ]
  },
  {
   "cell_type": "code",
   "execution_count": 363,
   "id": "b15f010f-7c95-4ec7-9772-bbad6c76ee62",
   "metadata": {},
   "outputs": [
    {
     "data": {
      "text/plain": [
       "array([[ 0,  1,  2,  3,  4,  5,  6,  7,  8,  9],\n",
       "       [10, 11, 12, 13, 14, 15, 16, 17, 18, 19],\n",
       "       [20, 21, 22, 23, 24, 25, 26, 27, 28, 29],\n",
       "       [30, 31, 32, 33, 34, 35, 36, 37, 38, 39],\n",
       "       [40, 41, 42, 43, 44, 45, 46, 47, 48, 49],\n",
       "       [50, 51, 52, 53, 54, 55, 56, 57, 58, 59],\n",
       "       [60, 61, 62, 63, 64, 65, 66, 67, 68, 69],\n",
       "       [70, 71, 72, 73, 74, 75, 76, 77, 78, 79],\n",
       "       [80, 81, 82, 83, 84, 85, 86, 87, 88, 89],\n",
       "       [90, 91, 92, 93, 94, 95, 96, 97, 98, 99]])"
      ]
     },
     "execution_count": 363,
     "metadata": {},
     "output_type": "execute_result"
    }
   ],
   "source": [
    "mat"
   ]
  },
  {
   "cell_type": "code",
   "execution_count": 365,
   "id": "cb72d8b1-7e0e-4140-8943-f6a632ba2e45",
   "metadata": {},
   "outputs": [
    {
     "data": {
      "text/plain": [
       "2338071811664"
      ]
     },
     "execution_count": 365,
     "metadata": {},
     "output_type": "execute_result"
    }
   ],
   "source": [
    "id(mat)"
   ]
  },
  {
   "cell_type": "code",
   "execution_count": 367,
   "id": "20dedb1a-a4d7-4e6d-9750-4a3a1eec824e",
   "metadata": {},
   "outputs": [
    {
     "data": {
      "text/plain": [
       "array([[ True,  True,  True,  True,  True,  True,  True,  True,  True,\n",
       "         True],\n",
       "       [ True,  True,  True,  True,  True,  True,  True,  True,  True,\n",
       "         True],\n",
       "       [ True,  True,  True,  True,  True,  True,  True,  True,  True,\n",
       "         True],\n",
       "       [ True,  True,  True,  True,  True,  True,  True,  True,  True,\n",
       "         True],\n",
       "       [ True,  True,  True,  True,  True,  True,  True,  True,  True,\n",
       "         True],\n",
       "       [False, False, False, False, False, False, False, False, False,\n",
       "        False],\n",
       "       [False, False, False, False, False, False, False, False, False,\n",
       "        False],\n",
       "       [False, False, False, False, False, False, False, False, False,\n",
       "        False],\n",
       "       [False, False, False, False, False, False, False, False, False,\n",
       "        False],\n",
       "       [False, False, False, False, False, False, False, False, False,\n",
       "        False]])"
      ]
     },
     "execution_count": 367,
     "metadata": {},
     "output_type": "execute_result"
    }
   ],
   "source": [
    "mat<50  #gives bool"
   ]
  },
  {
   "cell_type": "code",
   "execution_count": 369,
   "id": "31bddfc5-5f7c-4eae-adbf-8728a65bf0ad",
   "metadata": {},
   "outputs": [
    {
     "data": {
      "text/plain": [
       "array([ 0,  1,  2,  3,  4,  5,  6,  7,  8,  9, 10, 11, 12, 13, 14, 15, 16,\n",
       "       17, 18, 19, 20, 21, 22, 23, 24, 25, 26, 27, 28, 29, 30, 31, 32, 33,\n",
       "       34, 35, 36, 37, 38, 39, 40, 41, 42, 43, 44, 45, 46, 47, 48, 49, 50])"
      ]
     },
     "execution_count": 369,
     "metadata": {},
     "output_type": "execute_result"
    }
   ],
   "source": [
    "mat[mat<=50]  #nos less than & equal to 50"
   ]
  },
  {
   "cell_type": "code",
   "execution_count": 371,
   "id": "b1cafac5-0350-492a-b47f-f320e65e5daf",
   "metadata": {},
   "outputs": [
    {
     "data": {
      "text/plain": [
       "array([51, 52, 53, 54, 55, 56, 57, 58, 59, 60, 61, 62, 63, 64, 65, 66, 67,\n",
       "       68, 69, 70, 71, 72, 73, 74, 75, 76, 77, 78, 79, 80, 81, 82, 83, 84,\n",
       "       85, 86, 87, 88, 89, 90, 91, 92, 93, 94, 95, 96, 97, 98, 99])"
      ]
     },
     "execution_count": 371,
     "metadata": {},
     "output_type": "execute_result"
    }
   ],
   "source": [
    "mat[mat>50]"
   ]
  },
  {
   "cell_type": "code",
   "execution_count": 373,
   "id": "7b225d51-38d0-4847-b099-1141104f4ba6",
   "metadata": {},
   "outputs": [
    {
     "data": {
      "text/plain": [
       "array([ 0,  1,  2,  3,  4,  5,  6,  7,  8,  9, 10, 11, 12, 13, 14, 15, 16,\n",
       "       17, 18, 19, 20, 21, 22, 23, 24, 25, 26, 27, 28, 29, 30, 31, 32, 33,\n",
       "       34, 35, 36, 37, 38, 39, 40, 41, 42, 43, 44, 45, 46, 47, 48, 49, 51,\n",
       "       52, 53, 54, 55, 56, 57, 58, 59, 60, 61, 62, 63, 64, 65, 66, 67, 68,\n",
       "       69, 70, 71, 72, 73, 74, 75, 76, 77, 78, 79, 80, 81, 82, 83, 84, 85,\n",
       "       86, 87, 88, 89, 90, 91, 92, 93, 94, 95, 96, 97, 98, 99])"
      ]
     },
     "execution_count": 373,
     "metadata": {},
     "output_type": "execute_result"
    }
   ],
   "source": [
    "mat[mat!=50]"
   ]
  },
  {
   "cell_type": "code",
   "execution_count": 375,
   "id": "3cc6a81d-f3fc-4cc1-bb93-6276af8e865a",
   "metadata": {},
   "outputs": [
    {
     "data": {
      "text/plain": [
       "9353157658"
      ]
     },
     "execution_count": 375,
     "metadata": {},
     "output_type": "execute_result"
    }
   ],
   "source": [
    "9353157658  #sir phn no"
   ]
  },
  {
   "cell_type": "code",
   "execution_count": 377,
   "id": "9798f643-0f1f-4d8f-bb88-b2aa18059a2e",
   "metadata": {},
   "outputs": [],
   "source": [
    "from numpy import *\n",
    "mat=np.arange(0,100).reshape(10,10)"
   ]
  },
  {
   "cell_type": "code",
   "execution_count": 379,
   "id": "35920761-8cb7-4efb-bea2-3b6da850bf03",
   "metadata": {},
   "outputs": [
    {
     "data": {
      "text/plain": [
       "array([[ 0,  1,  2,  3,  4,  5,  6,  7,  8,  9],\n",
       "       [10, 11, 12, 13, 14, 15, 16, 17, 18, 19],\n",
       "       [20, 21, 22, 23, 24, 25, 26, 27, 28, 29],\n",
       "       [30, 31, 32, 33, 34, 35, 36, 37, 38, 39],\n",
       "       [40, 41, 42, 43, 44, 45, 46, 47, 48, 49],\n",
       "       [50, 51, 52, 53, 54, 55, 56, 57, 58, 59],\n",
       "       [60, 61, 62, 63, 64, 65, 66, 67, 68, 69],\n",
       "       [70, 71, 72, 73, 74, 75, 76, 77, 78, 79],\n",
       "       [80, 81, 82, 83, 84, 85, 86, 87, 88, 89],\n",
       "       [90, 91, 92, 93, 94, 95, 96, 97, 98, 99]])"
      ]
     },
     "execution_count": 379,
     "metadata": {},
     "output_type": "execute_result"
    }
   ],
   "source": [
    "mat"
   ]
  },
  {
   "cell_type": "code",
   "execution_count": 381,
   "id": "85a05c9a-d840-4345-a8a3-39d33b0bf693",
   "metadata": {},
   "outputs": [
    {
     "data": {
      "text/plain": [
       "array([[ 0,  1,  2,  3,  4],\n",
       "       [ 5,  6,  7,  8,  9],\n",
       "       [10, 11, 12, 13, 14],\n",
       "       [15, 16, 17, 18, 19],\n",
       "       [20, 21, 22, 23, 24],\n",
       "       [25, 26, 27, 28, 29],\n",
       "       [30, 31, 32, 33, 34],\n",
       "       [35, 36, 37, 38, 39],\n",
       "       [40, 41, 42, 43, 44],\n",
       "       [45, 46, 47, 48, 49],\n",
       "       [50, 51, 52, 53, 54],\n",
       "       [55, 56, 57, 58, 59],\n",
       "       [60, 61, 62, 63, 64],\n",
       "       [65, 66, 67, 68, 69],\n",
       "       [70, 71, 72, 73, 74],\n",
       "       [75, 76, 77, 78, 79],\n",
       "       [80, 81, 82, 83, 84],\n",
       "       [85, 86, 87, 88, 89],\n",
       "       [90, 91, 92, 93, 94],\n",
       "       [95, 96, 97, 98, 99]])"
      ]
     },
     "execution_count": 381,
     "metadata": {},
     "output_type": "execute_result"
    }
   ],
   "source": [
    "mat.reshape(20,5,order='C')"
   ]
  },
  {
   "cell_type": "code",
   "execution_count": 383,
   "id": "978af472-cd1c-483c-b12c-07ff066e0278",
   "metadata": {},
   "outputs": [
    {
     "data": {
      "text/plain": [
       "array([[ 0,  2,  4,  6,  8],\n",
       "       [10, 12, 14, 16, 18],\n",
       "       [20, 22, 24, 26, 28],\n",
       "       [30, 32, 34, 36, 38],\n",
       "       [40, 42, 44, 46, 48],\n",
       "       [50, 52, 54, 56, 58],\n",
       "       [60, 62, 64, 66, 68],\n",
       "       [70, 72, 74, 76, 78],\n",
       "       [80, 82, 84, 86, 88],\n",
       "       [90, 92, 94, 96, 98],\n",
       "       [ 1,  3,  5,  7,  9],\n",
       "       [11, 13, 15, 17, 19],\n",
       "       [21, 23, 25, 27, 29],\n",
       "       [31, 33, 35, 37, 39],\n",
       "       [41, 43, 45, 47, 49],\n",
       "       [51, 53, 55, 57, 59],\n",
       "       [61, 63, 65, 67, 69],\n",
       "       [71, 73, 75, 77, 79],\n",
       "       [81, 83, 85, 87, 89],\n",
       "       [91, 93, 95, 97, 99]])"
      ]
     },
     "execution_count": 383,
     "metadata": {},
     "output_type": "execute_result"
    }
   ],
   "source": [
    "mat.reshape(20,5,order='F')"
   ]
  },
  {
   "cell_type": "code",
   "execution_count": null,
   "id": "6e9cfe83-64c0-4e2c-81be-de2eafc570bb",
   "metadata": {},
   "outputs": [],
   "source": []
  },
  {
   "cell_type": "code",
   "execution_count": null,
   "id": "aa8862e9-2219-4cd0-8f69-3f2339c4e66a",
   "metadata": {},
   "outputs": [],
   "source": []
  },
  {
   "cell_type": "code",
   "execution_count": null,
   "id": "81a2f8c8-dde9-4a5b-85e6-081e7ab5ffe8",
   "metadata": {},
   "outputs": [],
   "source": []
  },
  {
   "cell_type": "code",
   "execution_count": null,
   "id": "a536ed05-8a33-4ae0-83f0-a7f59da933ba",
   "metadata": {},
   "outputs": [],
   "source": []
  }
 ],
 "metadata": {
  "kernelspec": {
   "display_name": "Python 3 (ipykernel)",
   "language": "python",
   "name": "python3"
  },
  "language_info": {
   "codemirror_mode": {
    "name": "ipython",
    "version": 3
   },
   "file_extension": ".py",
   "mimetype": "text/x-python",
   "name": "python",
   "nbconvert_exporter": "python",
   "pygments_lexer": "ipython3",
   "version": "3.12.4"
  }
 },
 "nbformat": 4,
 "nbformat_minor": 5
}
